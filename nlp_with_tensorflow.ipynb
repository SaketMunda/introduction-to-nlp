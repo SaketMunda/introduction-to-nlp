{
  "nbformat": 4,
  "nbformat_minor": 0,
  "metadata": {
    "colab": {
      "provenance": [],
      "toc_visible": true,
      "authorship_tag": "ABX9TyPeXeX/Zuao+7MSxxT0tcMN",
      "include_colab_link": true
    },
    "kernelspec": {
      "name": "python3",
      "display_name": "Python 3"
    },
    "language_info": {
      "name": "python"
    },
    "accelerator": "GPU",
    "gpuClass": "standard"
  },
  "cells": [
    {
      "cell_type": "markdown",
      "metadata": {
        "id": "view-in-github",
        "colab_type": "text"
      },
      "source": [
        "<a href=\"https://colab.research.google.com/github/SaketMunda/introduction-to-nlp/blob/master/nlp_with_tensorflow.ipynb\" target=\"_parent\"><img src=\"https://colab.research.google.com/assets/colab-badge.svg\" alt=\"Open In Colab\"/></a>"
      ]
    },
    {
      "cell_type": "markdown",
      "source": [
        "# Natural Language Processing with TensorFlow\n",
        "\n",
        "NLP has the goal of deriving information out of natural language (could be sequences text or speech).\n",
        "\n",
        "Another common term for NLP problems is sequence to sequence problems (seq2seq)."
      ],
      "metadata": {
        "id": "Ep05V4vWV7mW"
      }
    },
    {
      "cell_type": "code",
      "source": [
        "# Since we're going to experiment deep-learning models so we need to enable GPUs\n",
        "!nvidia-smi -L"
      ],
      "metadata": {
        "colab": {
          "base_uri": "https://localhost:8080/"
        },
        "id": "ubzX8Z9hWWcu",
        "outputId": "84157467-c9be-496b-8886-08f42a193c52"
      },
      "execution_count": 1,
      "outputs": [
        {
          "output_type": "stream",
          "name": "stdout",
          "text": [
            "GPU 0: Tesla T4 (UUID: GPU-2c2e3fe3-ff59-0e8c-d3e9-d5763645af49)\n"
          ]
        }
      ]
    },
    {
      "cell_type": "markdown",
      "source": [
        "## Get Helper functions"
      ],
      "metadata": {
        "id": "Tyusp2doWbLo"
      }
    },
    {
      "cell_type": "code",
      "source": [
        "# Get helper_functions.py script from Github\n",
        "!wget https://raw.githubusercontent.com/SaketMunda/ml-helpers/master/helper_functions.py\n",
        "\n",
        "from helper_functions import unzip_data, create_tensorboard_callback"
      ],
      "metadata": {
        "colab": {
          "base_uri": "https://localhost:8080/"
        },
        "id": "FlTigivCWskW",
        "outputId": "c17e7102-199a-4869-8024-dfb2969f4d4d"
      },
      "execution_count": 2,
      "outputs": [
        {
          "output_type": "stream",
          "name": "stdout",
          "text": [
            "--2023-02-04 03:51:56--  https://raw.githubusercontent.com/SaketMunda/ml-helpers/master/helper_functions.py\n",
            "Resolving raw.githubusercontent.com (raw.githubusercontent.com)... 185.199.108.133, 185.199.109.133, 185.199.110.133, ...\n",
            "Connecting to raw.githubusercontent.com (raw.githubusercontent.com)|185.199.108.133|:443... connected.\n",
            "HTTP request sent, awaiting response... 200 OK\n",
            "Length: 2904 (2.8K) [text/plain]\n",
            "Saving to: ‘helper_functions.py’\n",
            "\n",
            "helper_functions.py 100%[===================>]   2.84K  --.-KB/s    in 0s      \n",
            "\n",
            "2023-02-04 03:51:57 (49.6 MB/s) - ‘helper_functions.py’ saved [2904/2904]\n",
            "\n"
          ]
        }
      ]
    },
    {
      "cell_type": "markdown",
      "source": [
        "## Get a Text Dataset\n",
        "The dataset that we're going to be using is Kaggle's introduction to NLP dataset (text samples of Tweets labelled as disaster or not disaster)\n",
        "\n",
        "See the original source here: https://www.kaggle.com/c/nlp-getting-started"
      ],
      "metadata": {
        "id": "CZ_5BTF-W7K8"
      }
    },
    {
      "cell_type": "code",
      "source": [
        "!wget https://storage.googleapis.com/ztm_tf_course/nlp_getting_started.zip\n",
        "\n",
        "# unzip the data\n",
        "unzip_data('nlp_getting_started.zip')"
      ],
      "metadata": {
        "colab": {
          "base_uri": "https://localhost:8080/"
        },
        "id": "F88ynPezXO3A",
        "outputId": "c807dd22-fc5d-40ad-879f-41c7dd5e649f"
      },
      "execution_count": 3,
      "outputs": [
        {
          "output_type": "stream",
          "name": "stdout",
          "text": [
            "--2023-02-04 03:51:59--  https://storage.googleapis.com/ztm_tf_course/nlp_getting_started.zip\n",
            "Resolving storage.googleapis.com (storage.googleapis.com)... 142.250.4.128, 142.251.10.128, 142.251.12.128, ...\n",
            "Connecting to storage.googleapis.com (storage.googleapis.com)|142.250.4.128|:443... connected.\n",
            "HTTP request sent, awaiting response... 200 OK\n",
            "Length: 607343 (593K) [application/zip]\n",
            "Saving to: ‘nlp_getting_started.zip’\n",
            "\n",
            "\rnlp_getting_started   0%[                    ]       0  --.-KB/s               \rnlp_getting_started 100%[===================>] 593.11K  --.-KB/s    in 0.006s  \n",
            "\n",
            "2023-02-04 03:51:59 (100 MB/s) - ‘nlp_getting_started.zip’ saved [607343/607343]\n",
            "\n"
          ]
        }
      ]
    },
    {
      "cell_type": "markdown",
      "source": [
        "## Visualizing Text Dataset\n",
        "\n",
        "To visualize our text samples, we first have to read them in, so we can do it through pandas."
      ],
      "metadata": {
        "id": "WyMBzit1XakQ"
      }
    },
    {
      "cell_type": "code",
      "source": [
        "import pandas as pd\n",
        "train_df = pd.read_csv('train.csv')\n",
        "test_df = pd.read_csv('test.csv')\n",
        "\n",
        "# check the shapes\n",
        "train_df.shape, test_df.shape"
      ],
      "metadata": {
        "colab": {
          "base_uri": "https://localhost:8080/"
        },
        "id": "pwqhQM8yXl7f",
        "outputId": "712205a4-598c-426a-e49e-15f861b4392f"
      },
      "execution_count": 4,
      "outputs": [
        {
          "output_type": "execute_result",
          "data": {
            "text/plain": [
              "((7613, 5), (3263, 4))"
            ]
          },
          "metadata": {},
          "execution_count": 4
        }
      ]
    },
    {
      "cell_type": "code",
      "source": [
        "# view some samples\n",
        "train_df.head()"
      ],
      "metadata": {
        "colab": {
          "base_uri": "https://localhost:8080/",
          "height": 206
        },
        "id": "HnvCJoJRXvcI",
        "outputId": "bbbca1f5-90c2-4f3a-ec60-7739cde3e73d"
      },
      "execution_count": 5,
      "outputs": [
        {
          "output_type": "execute_result",
          "data": {
            "text/plain": [
              "   id keyword location                                               text  \\\n",
              "0   1     NaN      NaN  Our Deeds are the Reason of this #earthquake M...   \n",
              "1   4     NaN      NaN             Forest fire near La Ronge Sask. Canada   \n",
              "2   5     NaN      NaN  All residents asked to 'shelter in place' are ...   \n",
              "3   6     NaN      NaN  13,000 people receive #wildfires evacuation or...   \n",
              "4   7     NaN      NaN  Just got sent this photo from Ruby #Alaska as ...   \n",
              "\n",
              "   target  \n",
              "0       1  \n",
              "1       1  \n",
              "2       1  \n",
              "3       1  \n",
              "4       1  "
            ],
            "text/html": [
              "\n",
              "  <div id=\"df-59059ff4-e3ea-4013-afed-82c831f2866d\">\n",
              "    <div class=\"colab-df-container\">\n",
              "      <div>\n",
              "<style scoped>\n",
              "    .dataframe tbody tr th:only-of-type {\n",
              "        vertical-align: middle;\n",
              "    }\n",
              "\n",
              "    .dataframe tbody tr th {\n",
              "        vertical-align: top;\n",
              "    }\n",
              "\n",
              "    .dataframe thead th {\n",
              "        text-align: right;\n",
              "    }\n",
              "</style>\n",
              "<table border=\"1\" class=\"dataframe\">\n",
              "  <thead>\n",
              "    <tr style=\"text-align: right;\">\n",
              "      <th></th>\n",
              "      <th>id</th>\n",
              "      <th>keyword</th>\n",
              "      <th>location</th>\n",
              "      <th>text</th>\n",
              "      <th>target</th>\n",
              "    </tr>\n",
              "  </thead>\n",
              "  <tbody>\n",
              "    <tr>\n",
              "      <th>0</th>\n",
              "      <td>1</td>\n",
              "      <td>NaN</td>\n",
              "      <td>NaN</td>\n",
              "      <td>Our Deeds are the Reason of this #earthquake M...</td>\n",
              "      <td>1</td>\n",
              "    </tr>\n",
              "    <tr>\n",
              "      <th>1</th>\n",
              "      <td>4</td>\n",
              "      <td>NaN</td>\n",
              "      <td>NaN</td>\n",
              "      <td>Forest fire near La Ronge Sask. Canada</td>\n",
              "      <td>1</td>\n",
              "    </tr>\n",
              "    <tr>\n",
              "      <th>2</th>\n",
              "      <td>5</td>\n",
              "      <td>NaN</td>\n",
              "      <td>NaN</td>\n",
              "      <td>All residents asked to 'shelter in place' are ...</td>\n",
              "      <td>1</td>\n",
              "    </tr>\n",
              "    <tr>\n",
              "      <th>3</th>\n",
              "      <td>6</td>\n",
              "      <td>NaN</td>\n",
              "      <td>NaN</td>\n",
              "      <td>13,000 people receive #wildfires evacuation or...</td>\n",
              "      <td>1</td>\n",
              "    </tr>\n",
              "    <tr>\n",
              "      <th>4</th>\n",
              "      <td>7</td>\n",
              "      <td>NaN</td>\n",
              "      <td>NaN</td>\n",
              "      <td>Just got sent this photo from Ruby #Alaska as ...</td>\n",
              "      <td>1</td>\n",
              "    </tr>\n",
              "  </tbody>\n",
              "</table>\n",
              "</div>\n",
              "      <button class=\"colab-df-convert\" onclick=\"convertToInteractive('df-59059ff4-e3ea-4013-afed-82c831f2866d')\"\n",
              "              title=\"Convert this dataframe to an interactive table.\"\n",
              "              style=\"display:none;\">\n",
              "        \n",
              "  <svg xmlns=\"http://www.w3.org/2000/svg\" height=\"24px\"viewBox=\"0 0 24 24\"\n",
              "       width=\"24px\">\n",
              "    <path d=\"M0 0h24v24H0V0z\" fill=\"none\"/>\n",
              "    <path d=\"M18.56 5.44l.94 2.06.94-2.06 2.06-.94-2.06-.94-.94-2.06-.94 2.06-2.06.94zm-11 1L8.5 8.5l.94-2.06 2.06-.94-2.06-.94L8.5 2.5l-.94 2.06-2.06.94zm10 10l.94 2.06.94-2.06 2.06-.94-2.06-.94-.94-2.06-.94 2.06-2.06.94z\"/><path d=\"M17.41 7.96l-1.37-1.37c-.4-.4-.92-.59-1.43-.59-.52 0-1.04.2-1.43.59L10.3 9.45l-7.72 7.72c-.78.78-.78 2.05 0 2.83L4 21.41c.39.39.9.59 1.41.59.51 0 1.02-.2 1.41-.59l7.78-7.78 2.81-2.81c.8-.78.8-2.07 0-2.86zM5.41 20L4 18.59l7.72-7.72 1.47 1.35L5.41 20z\"/>\n",
              "  </svg>\n",
              "      </button>\n",
              "      \n",
              "  <style>\n",
              "    .colab-df-container {\n",
              "      display:flex;\n",
              "      flex-wrap:wrap;\n",
              "      gap: 12px;\n",
              "    }\n",
              "\n",
              "    .colab-df-convert {\n",
              "      background-color: #E8F0FE;\n",
              "      border: none;\n",
              "      border-radius: 50%;\n",
              "      cursor: pointer;\n",
              "      display: none;\n",
              "      fill: #1967D2;\n",
              "      height: 32px;\n",
              "      padding: 0 0 0 0;\n",
              "      width: 32px;\n",
              "    }\n",
              "\n",
              "    .colab-df-convert:hover {\n",
              "      background-color: #E2EBFA;\n",
              "      box-shadow: 0px 1px 2px rgba(60, 64, 67, 0.3), 0px 1px 3px 1px rgba(60, 64, 67, 0.15);\n",
              "      fill: #174EA6;\n",
              "    }\n",
              "\n",
              "    [theme=dark] .colab-df-convert {\n",
              "      background-color: #3B4455;\n",
              "      fill: #D2E3FC;\n",
              "    }\n",
              "\n",
              "    [theme=dark] .colab-df-convert:hover {\n",
              "      background-color: #434B5C;\n",
              "      box-shadow: 0px 1px 3px 1px rgba(0, 0, 0, 0.15);\n",
              "      filter: drop-shadow(0px 1px 2px rgba(0, 0, 0, 0.3));\n",
              "      fill: #FFFFFF;\n",
              "    }\n",
              "  </style>\n",
              "\n",
              "      <script>\n",
              "        const buttonEl =\n",
              "          document.querySelector('#df-59059ff4-e3ea-4013-afed-82c831f2866d button.colab-df-convert');\n",
              "        buttonEl.style.display =\n",
              "          google.colab.kernel.accessAllowed ? 'block' : 'none';\n",
              "\n",
              "        async function convertToInteractive(key) {\n",
              "          const element = document.querySelector('#df-59059ff4-e3ea-4013-afed-82c831f2866d');\n",
              "          const dataTable =\n",
              "            await google.colab.kernel.invokeFunction('convertToInteractive',\n",
              "                                                     [key], {});\n",
              "          if (!dataTable) return;\n",
              "\n",
              "          const docLinkHtml = 'Like what you see? Visit the ' +\n",
              "            '<a target=\"_blank\" href=https://colab.research.google.com/notebooks/data_table.ipynb>data table notebook</a>'\n",
              "            + ' to learn more about interactive tables.';\n",
              "          element.innerHTML = '';\n",
              "          dataTable['output_type'] = 'display_data';\n",
              "          await google.colab.output.renderOutput(dataTable, element);\n",
              "          const docLink = document.createElement('div');\n",
              "          docLink.innerHTML = docLinkHtml;\n",
              "          element.appendChild(docLink);\n",
              "        }\n",
              "      </script>\n",
              "    </div>\n",
              "  </div>\n",
              "  "
            ]
          },
          "metadata": {},
          "execution_count": 5
        }
      ]
    },
    {
      "cell_type": "markdown",
      "source": [
        "So here, `text` is the tweet and `target` variable is to identify whether the tweet is a disaster or not, so if `1` then it's a disaster else not a disaster.\n",
        "\n",
        "Let's visualize some random `training` samples, but before that this is a good practice to shuffle the training samples first,"
      ],
      "metadata": {
        "id": "A1v_p_ElXytS"
      }
    },
    {
      "cell_type": "code",
      "source": [
        "train_df_shuffled = train_df.sample(frac=1, random_state=17)\n",
        "# frac=1 means 100% of samples will be shuffled\n",
        "train_df_shuffled"
      ],
      "metadata": {
        "colab": {
          "base_uri": "https://localhost:8080/",
          "height": 424
        },
        "id": "p17uRynCYEDW",
        "outputId": "d99462b4-7273-4152-bffb-5522896c673c"
      },
      "execution_count": 6,
      "outputs": [
        {
          "output_type": "execute_result",
          "data": {
            "text/plain": [
              "         id            keyword                    location  \\\n",
              "7027  10072            typhoon                         NaN   \n",
              "318     463         armageddon                         NaN   \n",
              "1681   2425            collide  www.youtube.com?Malkavius2   \n",
              "5131   7318  nuclear%20reactor          New York, New York   \n",
              "2967   4262           drowning          Hendersonville, NC   \n",
              "...     ...                ...                         ...   \n",
              "406     584              arson           Jerusalem, Israel   \n",
              "5510   7863        quarantined                 Livonia, MI   \n",
              "2191   3139             debris                         NaN   \n",
              "7409  10600            wounded               santo domingo   \n",
              "2671   3833           detonate    back in japan ??????????   \n",
              "\n",
              "                                                   text  target  \n",
              "7027  Typhoon Soudelor: When will it hit Taiwan ÛÒ ...       1  \n",
              "318   RT @RTRRTcoach: #Love #TrueLove #romance lith ...       0  \n",
              "1681  I liked a @YouTube video from @gassymexican ht...       0  \n",
              "5131  Japan's Restart of Nuclear Reactor Fleet Fast ...       1  \n",
              "2967  #ICYMI #Annoucement from Al Jackson... http://...       0  \n",
              "...                                                 ...     ...  \n",
              "406   Mourning notices for stabbing arson victims st...       1  \n",
              "5510  Reddit's new content policy goes into effect m...       0  \n",
              "2191  Plane debris discovered on Reunion Island belo...       1  \n",
              "7409  Police Officer Wounded Suspect Dead After Exch...       1  \n",
              "2671  Detonate (feat. M?.?O?.?P?.?)\\nfrom Grandeur b...       0  \n",
              "\n",
              "[7613 rows x 5 columns]"
            ],
            "text/html": [
              "\n",
              "  <div id=\"df-631bc619-c8ce-4fc6-bd56-fc4c16d196b7\">\n",
              "    <div class=\"colab-df-container\">\n",
              "      <div>\n",
              "<style scoped>\n",
              "    .dataframe tbody tr th:only-of-type {\n",
              "        vertical-align: middle;\n",
              "    }\n",
              "\n",
              "    .dataframe tbody tr th {\n",
              "        vertical-align: top;\n",
              "    }\n",
              "\n",
              "    .dataframe thead th {\n",
              "        text-align: right;\n",
              "    }\n",
              "</style>\n",
              "<table border=\"1\" class=\"dataframe\">\n",
              "  <thead>\n",
              "    <tr style=\"text-align: right;\">\n",
              "      <th></th>\n",
              "      <th>id</th>\n",
              "      <th>keyword</th>\n",
              "      <th>location</th>\n",
              "      <th>text</th>\n",
              "      <th>target</th>\n",
              "    </tr>\n",
              "  </thead>\n",
              "  <tbody>\n",
              "    <tr>\n",
              "      <th>7027</th>\n",
              "      <td>10072</td>\n",
              "      <td>typhoon</td>\n",
              "      <td>NaN</td>\n",
              "      <td>Typhoon Soudelor: When will it hit Taiwan ÛÒ ...</td>\n",
              "      <td>1</td>\n",
              "    </tr>\n",
              "    <tr>\n",
              "      <th>318</th>\n",
              "      <td>463</td>\n",
              "      <td>armageddon</td>\n",
              "      <td>NaN</td>\n",
              "      <td>RT @RTRRTcoach: #Love #TrueLove #romance lith ...</td>\n",
              "      <td>0</td>\n",
              "    </tr>\n",
              "    <tr>\n",
              "      <th>1681</th>\n",
              "      <td>2425</td>\n",
              "      <td>collide</td>\n",
              "      <td>www.youtube.com?Malkavius2</td>\n",
              "      <td>I liked a @YouTube video from @gassymexican ht...</td>\n",
              "      <td>0</td>\n",
              "    </tr>\n",
              "    <tr>\n",
              "      <th>5131</th>\n",
              "      <td>7318</td>\n",
              "      <td>nuclear%20reactor</td>\n",
              "      <td>New York, New York</td>\n",
              "      <td>Japan's Restart of Nuclear Reactor Fleet Fast ...</td>\n",
              "      <td>1</td>\n",
              "    </tr>\n",
              "    <tr>\n",
              "      <th>2967</th>\n",
              "      <td>4262</td>\n",
              "      <td>drowning</td>\n",
              "      <td>Hendersonville, NC</td>\n",
              "      <td>#ICYMI #Annoucement from Al Jackson... http://...</td>\n",
              "      <td>0</td>\n",
              "    </tr>\n",
              "    <tr>\n",
              "      <th>...</th>\n",
              "      <td>...</td>\n",
              "      <td>...</td>\n",
              "      <td>...</td>\n",
              "      <td>...</td>\n",
              "      <td>...</td>\n",
              "    </tr>\n",
              "    <tr>\n",
              "      <th>406</th>\n",
              "      <td>584</td>\n",
              "      <td>arson</td>\n",
              "      <td>Jerusalem, Israel</td>\n",
              "      <td>Mourning notices for stabbing arson victims st...</td>\n",
              "      <td>1</td>\n",
              "    </tr>\n",
              "    <tr>\n",
              "      <th>5510</th>\n",
              "      <td>7863</td>\n",
              "      <td>quarantined</td>\n",
              "      <td>Livonia, MI</td>\n",
              "      <td>Reddit's new content policy goes into effect m...</td>\n",
              "      <td>0</td>\n",
              "    </tr>\n",
              "    <tr>\n",
              "      <th>2191</th>\n",
              "      <td>3139</td>\n",
              "      <td>debris</td>\n",
              "      <td>NaN</td>\n",
              "      <td>Plane debris discovered on Reunion Island belo...</td>\n",
              "      <td>1</td>\n",
              "    </tr>\n",
              "    <tr>\n",
              "      <th>7409</th>\n",
              "      <td>10600</td>\n",
              "      <td>wounded</td>\n",
              "      <td>santo domingo</td>\n",
              "      <td>Police Officer Wounded Suspect Dead After Exch...</td>\n",
              "      <td>1</td>\n",
              "    </tr>\n",
              "    <tr>\n",
              "      <th>2671</th>\n",
              "      <td>3833</td>\n",
              "      <td>detonate</td>\n",
              "      <td>back in japan ??????????</td>\n",
              "      <td>Detonate (feat. M?.?O?.?P?.?)\\nfrom Grandeur b...</td>\n",
              "      <td>0</td>\n",
              "    </tr>\n",
              "  </tbody>\n",
              "</table>\n",
              "<p>7613 rows × 5 columns</p>\n",
              "</div>\n",
              "      <button class=\"colab-df-convert\" onclick=\"convertToInteractive('df-631bc619-c8ce-4fc6-bd56-fc4c16d196b7')\"\n",
              "              title=\"Convert this dataframe to an interactive table.\"\n",
              "              style=\"display:none;\">\n",
              "        \n",
              "  <svg xmlns=\"http://www.w3.org/2000/svg\" height=\"24px\"viewBox=\"0 0 24 24\"\n",
              "       width=\"24px\">\n",
              "    <path d=\"M0 0h24v24H0V0z\" fill=\"none\"/>\n",
              "    <path d=\"M18.56 5.44l.94 2.06.94-2.06 2.06-.94-2.06-.94-.94-2.06-.94 2.06-2.06.94zm-11 1L8.5 8.5l.94-2.06 2.06-.94-2.06-.94L8.5 2.5l-.94 2.06-2.06.94zm10 10l.94 2.06.94-2.06 2.06-.94-2.06-.94-.94-2.06-.94 2.06-2.06.94z\"/><path d=\"M17.41 7.96l-1.37-1.37c-.4-.4-.92-.59-1.43-.59-.52 0-1.04.2-1.43.59L10.3 9.45l-7.72 7.72c-.78.78-.78 2.05 0 2.83L4 21.41c.39.39.9.59 1.41.59.51 0 1.02-.2 1.41-.59l7.78-7.78 2.81-2.81c.8-.78.8-2.07 0-2.86zM5.41 20L4 18.59l7.72-7.72 1.47 1.35L5.41 20z\"/>\n",
              "  </svg>\n",
              "      </button>\n",
              "      \n",
              "  <style>\n",
              "    .colab-df-container {\n",
              "      display:flex;\n",
              "      flex-wrap:wrap;\n",
              "      gap: 12px;\n",
              "    }\n",
              "\n",
              "    .colab-df-convert {\n",
              "      background-color: #E8F0FE;\n",
              "      border: none;\n",
              "      border-radius: 50%;\n",
              "      cursor: pointer;\n",
              "      display: none;\n",
              "      fill: #1967D2;\n",
              "      height: 32px;\n",
              "      padding: 0 0 0 0;\n",
              "      width: 32px;\n",
              "    }\n",
              "\n",
              "    .colab-df-convert:hover {\n",
              "      background-color: #E2EBFA;\n",
              "      box-shadow: 0px 1px 2px rgba(60, 64, 67, 0.3), 0px 1px 3px 1px rgba(60, 64, 67, 0.15);\n",
              "      fill: #174EA6;\n",
              "    }\n",
              "\n",
              "    [theme=dark] .colab-df-convert {\n",
              "      background-color: #3B4455;\n",
              "      fill: #D2E3FC;\n",
              "    }\n",
              "\n",
              "    [theme=dark] .colab-df-convert:hover {\n",
              "      background-color: #434B5C;\n",
              "      box-shadow: 0px 1px 3px 1px rgba(0, 0, 0, 0.15);\n",
              "      filter: drop-shadow(0px 1px 2px rgba(0, 0, 0, 0.3));\n",
              "      fill: #FFFFFF;\n",
              "    }\n",
              "  </style>\n",
              "\n",
              "      <script>\n",
              "        const buttonEl =\n",
              "          document.querySelector('#df-631bc619-c8ce-4fc6-bd56-fc4c16d196b7 button.colab-df-convert');\n",
              "        buttonEl.style.display =\n",
              "          google.colab.kernel.accessAllowed ? 'block' : 'none';\n",
              "\n",
              "        async function convertToInteractive(key) {\n",
              "          const element = document.querySelector('#df-631bc619-c8ce-4fc6-bd56-fc4c16d196b7');\n",
              "          const dataTable =\n",
              "            await google.colab.kernel.invokeFunction('convertToInteractive',\n",
              "                                                     [key], {});\n",
              "          if (!dataTable) return;\n",
              "\n",
              "          const docLinkHtml = 'Like what you see? Visit the ' +\n",
              "            '<a target=\"_blank\" href=https://colab.research.google.com/notebooks/data_table.ipynb>data table notebook</a>'\n",
              "            + ' to learn more about interactive tables.';\n",
              "          element.innerHTML = '';\n",
              "          dataTable['output_type'] = 'display_data';\n",
              "          await google.colab.output.renderOutput(dataTable, element);\n",
              "          const docLink = document.createElement('div');\n",
              "          docLink.innerHTML = docLinkHtml;\n",
              "          element.appendChild(docLink);\n",
              "        }\n",
              "      </script>\n",
              "    </div>\n",
              "  </div>\n",
              "  "
            ]
          },
          "metadata": {},
          "execution_count": 6
        }
      ]
    },
    {
      "cell_type": "code",
      "source": [
        "# how does the test set looks like ?\n",
        "test_df.head()"
      ],
      "metadata": {
        "colab": {
          "base_uri": "https://localhost:8080/",
          "height": 206
        },
        "id": "P0I_-hG1YYwu",
        "outputId": "0751f247-a75b-44cc-84af-061d85418de9"
      },
      "execution_count": 7,
      "outputs": [
        {
          "output_type": "execute_result",
          "data": {
            "text/plain": [
              "   id keyword location                                               text\n",
              "0   0     NaN      NaN                 Just happened a terrible car crash\n",
              "1   2     NaN      NaN  Heard about #earthquake is different cities, s...\n",
              "2   3     NaN      NaN  there is a forest fire at spot pond, geese are...\n",
              "3   9     NaN      NaN           Apocalypse lighting. #Spokane #wildfires\n",
              "4  11     NaN      NaN      Typhoon Soudelor kills 28 in China and Taiwan"
            ],
            "text/html": [
              "\n",
              "  <div id=\"df-8fcfc8b2-0065-4cf8-8ac3-4e738da8847a\">\n",
              "    <div class=\"colab-df-container\">\n",
              "      <div>\n",
              "<style scoped>\n",
              "    .dataframe tbody tr th:only-of-type {\n",
              "        vertical-align: middle;\n",
              "    }\n",
              "\n",
              "    .dataframe tbody tr th {\n",
              "        vertical-align: top;\n",
              "    }\n",
              "\n",
              "    .dataframe thead th {\n",
              "        text-align: right;\n",
              "    }\n",
              "</style>\n",
              "<table border=\"1\" class=\"dataframe\">\n",
              "  <thead>\n",
              "    <tr style=\"text-align: right;\">\n",
              "      <th></th>\n",
              "      <th>id</th>\n",
              "      <th>keyword</th>\n",
              "      <th>location</th>\n",
              "      <th>text</th>\n",
              "    </tr>\n",
              "  </thead>\n",
              "  <tbody>\n",
              "    <tr>\n",
              "      <th>0</th>\n",
              "      <td>0</td>\n",
              "      <td>NaN</td>\n",
              "      <td>NaN</td>\n",
              "      <td>Just happened a terrible car crash</td>\n",
              "    </tr>\n",
              "    <tr>\n",
              "      <th>1</th>\n",
              "      <td>2</td>\n",
              "      <td>NaN</td>\n",
              "      <td>NaN</td>\n",
              "      <td>Heard about #earthquake is different cities, s...</td>\n",
              "    </tr>\n",
              "    <tr>\n",
              "      <th>2</th>\n",
              "      <td>3</td>\n",
              "      <td>NaN</td>\n",
              "      <td>NaN</td>\n",
              "      <td>there is a forest fire at spot pond, geese are...</td>\n",
              "    </tr>\n",
              "    <tr>\n",
              "      <th>3</th>\n",
              "      <td>9</td>\n",
              "      <td>NaN</td>\n",
              "      <td>NaN</td>\n",
              "      <td>Apocalypse lighting. #Spokane #wildfires</td>\n",
              "    </tr>\n",
              "    <tr>\n",
              "      <th>4</th>\n",
              "      <td>11</td>\n",
              "      <td>NaN</td>\n",
              "      <td>NaN</td>\n",
              "      <td>Typhoon Soudelor kills 28 in China and Taiwan</td>\n",
              "    </tr>\n",
              "  </tbody>\n",
              "</table>\n",
              "</div>\n",
              "      <button class=\"colab-df-convert\" onclick=\"convertToInteractive('df-8fcfc8b2-0065-4cf8-8ac3-4e738da8847a')\"\n",
              "              title=\"Convert this dataframe to an interactive table.\"\n",
              "              style=\"display:none;\">\n",
              "        \n",
              "  <svg xmlns=\"http://www.w3.org/2000/svg\" height=\"24px\"viewBox=\"0 0 24 24\"\n",
              "       width=\"24px\">\n",
              "    <path d=\"M0 0h24v24H0V0z\" fill=\"none\"/>\n",
              "    <path d=\"M18.56 5.44l.94 2.06.94-2.06 2.06-.94-2.06-.94-.94-2.06-.94 2.06-2.06.94zm-11 1L8.5 8.5l.94-2.06 2.06-.94-2.06-.94L8.5 2.5l-.94 2.06-2.06.94zm10 10l.94 2.06.94-2.06 2.06-.94-2.06-.94-.94-2.06-.94 2.06-2.06.94z\"/><path d=\"M17.41 7.96l-1.37-1.37c-.4-.4-.92-.59-1.43-.59-.52 0-1.04.2-1.43.59L10.3 9.45l-7.72 7.72c-.78.78-.78 2.05 0 2.83L4 21.41c.39.39.9.59 1.41.59.51 0 1.02-.2 1.41-.59l7.78-7.78 2.81-2.81c.8-.78.8-2.07 0-2.86zM5.41 20L4 18.59l7.72-7.72 1.47 1.35L5.41 20z\"/>\n",
              "  </svg>\n",
              "      </button>\n",
              "      \n",
              "  <style>\n",
              "    .colab-df-container {\n",
              "      display:flex;\n",
              "      flex-wrap:wrap;\n",
              "      gap: 12px;\n",
              "    }\n",
              "\n",
              "    .colab-df-convert {\n",
              "      background-color: #E8F0FE;\n",
              "      border: none;\n",
              "      border-radius: 50%;\n",
              "      cursor: pointer;\n",
              "      display: none;\n",
              "      fill: #1967D2;\n",
              "      height: 32px;\n",
              "      padding: 0 0 0 0;\n",
              "      width: 32px;\n",
              "    }\n",
              "\n",
              "    .colab-df-convert:hover {\n",
              "      background-color: #E2EBFA;\n",
              "      box-shadow: 0px 1px 2px rgba(60, 64, 67, 0.3), 0px 1px 3px 1px rgba(60, 64, 67, 0.15);\n",
              "      fill: #174EA6;\n",
              "    }\n",
              "\n",
              "    [theme=dark] .colab-df-convert {\n",
              "      background-color: #3B4455;\n",
              "      fill: #D2E3FC;\n",
              "    }\n",
              "\n",
              "    [theme=dark] .colab-df-convert:hover {\n",
              "      background-color: #434B5C;\n",
              "      box-shadow: 0px 1px 3px 1px rgba(0, 0, 0, 0.15);\n",
              "      filter: drop-shadow(0px 1px 2px rgba(0, 0, 0, 0.3));\n",
              "      fill: #FFFFFF;\n",
              "    }\n",
              "  </style>\n",
              "\n",
              "      <script>\n",
              "        const buttonEl =\n",
              "          document.querySelector('#df-8fcfc8b2-0065-4cf8-8ac3-4e738da8847a button.colab-df-convert');\n",
              "        buttonEl.style.display =\n",
              "          google.colab.kernel.accessAllowed ? 'block' : 'none';\n",
              "\n",
              "        async function convertToInteractive(key) {\n",
              "          const element = document.querySelector('#df-8fcfc8b2-0065-4cf8-8ac3-4e738da8847a');\n",
              "          const dataTable =\n",
              "            await google.colab.kernel.invokeFunction('convertToInteractive',\n",
              "                                                     [key], {});\n",
              "          if (!dataTable) return;\n",
              "\n",
              "          const docLinkHtml = 'Like what you see? Visit the ' +\n",
              "            '<a target=\"_blank\" href=https://colab.research.google.com/notebooks/data_table.ipynb>data table notebook</a>'\n",
              "            + ' to learn more about interactive tables.';\n",
              "          element.innerHTML = '';\n",
              "          dataTable['output_type'] = 'display_data';\n",
              "          await google.colab.output.renderOutput(dataTable, element);\n",
              "          const docLink = document.createElement('div');\n",
              "          docLink.innerHTML = docLinkHtml;\n",
              "          element.appendChild(docLink);\n",
              "        }\n",
              "      </script>\n",
              "    </div>\n",
              "  </div>\n",
              "  "
            ]
          },
          "metadata": {},
          "execution_count": 7
        }
      ]
    },
    {
      "cell_type": "code",
      "source": [
        "# How many examples of each class ?\n",
        "train_df['target'].value_counts()"
      ],
      "metadata": {
        "colab": {
          "base_uri": "https://localhost:8080/"
        },
        "id": "Q9FJ8OerYhVh",
        "outputId": "75ee5c6f-31af-41af-f2d5-fa4faf7dcb62"
      },
      "execution_count": 8,
      "outputs": [
        {
          "output_type": "execute_result",
          "data": {
            "text/plain": [
              "0    4342\n",
              "1    3271\n",
              "Name: target, dtype: int64"
            ]
          },
          "metadata": {},
          "execution_count": 8
        }
      ]
    },
    {
      "cell_type": "code",
      "source": [
        "# Let's visualize some random samples\n",
        "\n",
        "import random\n",
        "random_index = random.randint(0, len(train_df_shuffled)-5)\n",
        "for row in train_df_shuffled[[\"text\", \"target\"]][random_index:random_index+5].itertuples():\n",
        "  _, text, target = row\n",
        "  print(f\"Target: {target}\", \"(disaster)\" if target > 0 else \"(not a disaster)\")\n",
        "  print(f\"Text:\\n{text}\\n\")\n",
        "  print(\"----------\\n\")"
      ],
      "metadata": {
        "colab": {
          "base_uri": "https://localhost:8080/"
        },
        "id": "JgQTdLVzYtcu",
        "outputId": "67ff82d1-bc9f-47f1-8856-111b6cbb94a0"
      },
      "execution_count": 9,
      "outputs": [
        {
          "output_type": "stream",
          "name": "stdout",
          "text": [
            "Target: 0 (not a disaster)\n",
            "Text:\n",
            "He just wrecked all of you http://t.co/y46isyZkC8\n",
            "\n",
            "----------\n",
            "\n",
            "Target: 0 (not a disaster)\n",
            "Text:\n",
            "I hope they fall off a cliff.\n",
            "\n",
            "----------\n",
            "\n",
            "Target: 1 (disaster)\n",
            "Text:\n",
            "Police Officer Wounded Suspect Dead After Exchanging Shots - http://t.co/iPHaZV47g7\n",
            "\n",
            "----------\n",
            "\n",
            "Target: 0 (not a disaster)\n",
            "Text:\n",
            "New post from @SeismicSoftware: 3 Major Challenges of Channel Sales Enablement http://t.co/kWMRCEkVTF\n",
            "\n",
            "----------\n",
            "\n",
            "Target: 0 (not a disaster)\n",
            "Text:\n",
            "You are listening to LLEGASTE TU - TWISTER EL REY\n",
            "\n",
            "----------\n",
            "\n"
          ]
        }
      ]
    },
    {
      "cell_type": "markdown",
      "source": [
        "## Split dataset into Train and Validation sets\n",
        "\n",
        "Since the test set doesn't contain the target variable so we might need some unseen data for model to be validated after training, so how about splitting our training set for validating purpose with some amount.\n"
      ],
      "metadata": {
        "id": "WmmI2TzZZa1q"
      }
    },
    {
      "cell_type": "code",
      "source": [
        "from sklearn.model_selection import train_test_split\n",
        "\n",
        "train_sentences, val_sentences, train_labels, val_labels = train_test_split(train_df_shuffled[\"text\"].to_numpy(),\n",
        "                                                                            train_df_shuffled[\"target\"].to_numpy(),\n",
        "                                                                            test_size=0.1,\n",
        "                                                                            random_state=17)"
      ],
      "metadata": {
        "id": "jEgDccMKTYSx"
      },
      "execution_count": 10,
      "outputs": []
    },
    {
      "cell_type": "markdown",
      "source": [
        "## Converting Text into Numbers\n",
        "\n",
        "Our labels are in numerical form (0 and 1) but our tweets are in string form.\n",
        "\n",
        "But machine learning algorithm learns only through numbers so we have to convert those tweets/texts into numbers.\n",
        "\n",
        "In NLP, there are two main concepts for turning text into numbers,\n",
        "- **Tokenization** : A straight mapping from **word**(known as *word-level tokenization*) or character(which is *character-level tokenization*) or sub-word(*sub-word tokenization*) to a numerical value. Just like One hot encoding, suppose we have a sentence as \"My name is Alpha\", then if we are mapping according to word, \"My\" would `0`, \"name\" as `1`, \"is\" as `2` and \"Alpha\" as `3`.\n",
        "- **Embeddings** : An embedding is a representation of natural language which can be learned. Representation comes in the form of **feature-vector**. For example the word \"Alpha\" could be represented by 5-D vector `[0.564, 0.897, 0.456, -0.987, 0.15]`. The size of the feature vector is tuneable. There are two ways to use embeddings:\n",
        "\n",
        "    - **Create your own embedding** - Once your text has been turned into numbers (required for an embedding), you can put them through an embedding layer (such as `tf.keras.layers.Embedding`) and an embedding representation will be learned during model training.\n",
        "    - **Reuse a pre-learned embedding** - Many pre-trained embeddings exist online. These pre-trained embeddings have often been learned on large corpuses of text (such as all of Wikipedia) and thus have a good underlying representation of natural language. You can use a pre-trained embedding to initialize your model and fine-tune it to your own specific task.\n",
        "\n",
        "\n",
        "Simply, \n",
        "\n",
        "**Tokenization** : Straight mapping from word to number.\n",
        "\n",
        "**Embedding** : Richer representation of relationships between tokens.\n",
        "\n",
        "It depends on your problem. You could try character-level tokenization/embeddings and word-level tokenization/embeddings and see which perform best. You might even want to try stacking them (e.g. combining the outputs of your embedding layers using [tf.keras.layers.concatenate](https://www.tensorflow.org/api_docs/python/tf/keras/layers/concatenate)).\n",
        "\n",
        "If you're looking for pre-trained word embeddings, [Word2vec embeddings](https://jalammar.github.io/illustrated-word2vec/), [GloVe embeddings](https://nlp.stanford.edu/projects/glove/) and many of the options available on TensorFlow Hub are great places to start.\n",
        "\n",
        "Much like searching for a pre-trained computer vision model, we can search for pre-trained word embedding to use for your problem. Try searching for something like \"use pre-trained word embeddings in TensorFlow\"."
      ],
      "metadata": {
        "id": "MitNUg-uTxx9"
      }
    },
    {
      "cell_type": "markdown",
      "source": [
        "### Text Vectorization\n",
        "\n",
        "Mapping words to numbers.\n",
        "\n",
        "To tokenize our words, we'll use the preprocessing layer,\n",
        "`tf.keras.layers.preprocessing.TextVectorization`"
      ],
      "metadata": {
        "id": "oyTzuPa0V5bO"
      }
    },
    {
      "cell_type": "code",
      "source": [
        "import tensorflow as tf\n",
        "from tensorflow.keras.layers.experimental.preprocessing import TextVectorization\n",
        "\n",
        "# Using the default TextVectorization variables\n",
        "text_vectorizer = TextVectorization(max_tokens=None, # how many words in the vocabulary (all of the different words in your text)\n",
        "                                 standardize=\"lower_and_strip_punctuation\", # how to process the text\n",
        "                                 split=\"whitespace\", # how to split the text\n",
        "                                 ngrams=None, # create groups of n-words\n",
        "                                 output_mode='int', # how to map tokens to numbers\n",
        "                                 output_sequence_length=None) # How long should the output sequence of tokens be?"
      ],
      "metadata": {
        "id": "k6z0y1iEIEs5"
      },
      "execution_count": 11,
      "outputs": []
    },
    {
      "cell_type": "markdown",
      "source": [
        "About the above params,\n",
        "\n",
        "- `max_tokens` : The maximum number of words in your vocabulary (e.g 20000 or the number of unique words in your text), includes a value for OOV(out of vocabulary) tokens\n",
        "- `standardize` : Methods for standardizing text\n",
        "- `split`: split the text\n",
        "- `ngrams`: how many words to contain per token split, for example if 2, it splits tokens into continous sequences of 2\n",
        "- `output_mode`: How to output tokens can be `int`(integer mapping), `binary`(OHE), `count` or `tf-idf`\n",
        "- `output_sequence_length`: Length of tokenized sequence to output, For example if set to 150, all tokenized sequences will be 150 tokens long.\n",
        "\n",
        "In the above cell, we have initialized the object with the default settings but let's customize it a little bit for our own use case.\n",
        "\n",
        "In particular, let's set values for `max_tokens` and `output_sequence_length`.\n",
        "\n",
        "For `max_tokens`(the number of words in the vocabulary), multiples of 10,000(`10,000`, `20,000`, `30,000`) or the exact number of unqiue words in your text(e.g `32,179`) are common values.\n",
        "\n",
        "For our use case, `10,000`\n",
        "\n",
        "And for the `output_sequence_length` we'll use the average number of tokens per Tweet in the training set. But first, we'll need to find it."
      ],
      "metadata": {
        "id": "CgAnhcS2KVIC"
      }
    },
    {
      "cell_type": "code",
      "source": [
        "# Find average number of tokens (words) in training tweets\n",
        "round(sum([len(i.split()) for i in train_sentences])/len(train_sentences))"
      ],
      "metadata": {
        "id": "c4ysmlUhLX6M",
        "colab": {
          "base_uri": "https://localhost:8080/"
        },
        "outputId": "4fd51f8a-4073-4afb-871f-0671cc34f39f"
      },
      "execution_count": 12,
      "outputs": [
        {
          "output_type": "execute_result",
          "data": {
            "text/plain": [
              "15"
            ]
          },
          "metadata": {},
          "execution_count": 12
        }
      ]
    },
    {
      "cell_type": "code",
      "source": [
        "# Setup text vectorization with custom variables\n",
        "max_vocab_length = 10000\n",
        "max_length = 15\n",
        "\n",
        "text_vectorizer = TextVectorization(max_tokens=max_vocab_length,\n",
        "                                    output_mode='int',\n",
        "                                    output_sequence_length=max_length)"
      ],
      "metadata": {
        "id": "KA553WXeaU4a"
      },
      "execution_count": 13,
      "outputs": []
    },
    {
      "cell_type": "markdown",
      "source": [
        "To map our `TextVectorization` instance `text_vectorizer` to our data, we can call the `adapt()` method on it whilst passing it our training set."
      ],
      "metadata": {
        "id": "KJZbqKiobF3q"
      }
    },
    {
      "cell_type": "code",
      "source": [
        "# fit the text vectorizer to the training text\n",
        "text_vectorizer.adapt(train_sentences)"
      ],
      "metadata": {
        "id": "OOfO1BecbdMe"
      },
      "execution_count": 14,
      "outputs": []
    },
    {
      "cell_type": "markdown",
      "source": [
        "Training data mapped! Let's try our `text_vectorizer` on a custom sentence."
      ],
      "metadata": {
        "id": "h0hxXVglbj3h"
      }
    },
    {
      "cell_type": "code",
      "source": [
        "# create a sample sentence\n",
        "sample_sentence = \"There's a flood in my village!\"\n",
        "text_vectorizer([sample_sentence])"
      ],
      "metadata": {
        "colab": {
          "base_uri": "https://localhost:8080/"
        },
        "id": "uGCO1vkUb3eW",
        "outputId": "0b32f6ba-e079-4856-e4ad-0049c13815b8"
      },
      "execution_count": 15,
      "outputs": [
        {
          "output_type": "execute_result",
          "data": {
            "text/plain": [
              "<tf.Tensor: shape=(1, 15), dtype=int64, numpy=\n",
              "array([[281,   3, 214,   4,  13, 881,   0,   0,   0,   0,   0,   0,   0,\n",
              "          0,   0]])>"
            ]
          },
          "metadata": {},
          "execution_count": 15
        }
      ]
    },
    {
      "cell_type": "markdown",
      "source": [
        "Try our `text_vectorizer` on a few random sentences ?"
      ],
      "metadata": {
        "id": "LC1QnE2WcBfi"
      }
    },
    {
      "cell_type": "code",
      "source": [
        "import random\n",
        "random_sentence = random.choice(train_sentences)\n",
        "print(f'Original Text: \\n{random_sentence}\\\n",
        "        \\n\\n Vectorized Text:')\n",
        "text_vectorizer([random_sentence])"
      ],
      "metadata": {
        "colab": {
          "base_uri": "https://localhost:8080/"
        },
        "id": "cYj-_VcNcP7u",
        "outputId": "0391f759-fb9c-4e98-dc57-e25ed1e9f37b"
      },
      "execution_count": 16,
      "outputs": [
        {
          "output_type": "stream",
          "name": "stdout",
          "text": [
            "Original Text: \n",
            "#Tampa: Super Freestyle Explosion Live in Concert at Amalie Arena - Sep  19\n",
            "? Ticket Info: http://t.co/ooGotO76uZ        \n",
            "\n",
            " Vectorized Text:\n"
          ]
        },
        {
          "output_type": "execute_result",
          "data": {
            "text/plain": [
              "<tf.Tensor: shape=(1, 15), dtype=int64, numpy=\n",
              "array([[2665, 1035,    1,  383,  206,    4, 1896,   17,    1,    1, 4653,\n",
              "        1158, 3335, 1210,    1]])>"
            ]
          },
          "metadata": {},
          "execution_count": 16
        }
      ]
    },
    {
      "cell_type": "markdown",
      "source": [
        "We can also check the unique tokens in our vocabulary using the `get_vocabulary()` method"
      ],
      "metadata": {
        "id": "ZrtMKcpgcfcT"
      }
    },
    {
      "cell_type": "code",
      "source": [
        "# get the unique words in the vocabulary\n",
        "words_in_vocab = text_vectorizer.get_vocabulary()\n",
        "top_5_words = words_in_vocab[:5] # most common tokens (notice the [UNK] token for \"unknown\" words)\n",
        "bottom_5_words = words_in_vocab[-5:] # least common tokens\n",
        "\n",
        "print(f\"Number of words in Vocab:{len(words_in_vocab)}\")\n",
        "print(f\"Top 5 most common words:{top_5_words}\")\n",
        "print(f\"Bottom 5 least common words:{bottom_5_words}\")"
      ],
      "metadata": {
        "colab": {
          "base_uri": "https://localhost:8080/"
        },
        "id": "xJLbch5kcuc5",
        "outputId": "a0f171b5-dc88-4e22-d7b7-943fb2be8426"
      },
      "execution_count": 17,
      "outputs": [
        {
          "output_type": "stream",
          "name": "stdout",
          "text": [
            "Number of words in Vocab:10000\n",
            "Top 5 most common words:['', '[UNK]', 'the', 'a', 'in']\n",
            "Bottom 5 least common words:['ovo', 'overåÊhostages', 'overzero', 'overwatch', 'overturns']\n"
          ]
        }
      ]
    },
    {
      "cell_type": "markdown",
      "source": [
        "### Embedding\n",
        "\n",
        "**Create an Embedding using Embedding Layer**\n",
        "\n",
        "We've got a way to map our text to numbers. How about we go a step further and turn those numbers into an embedding?\n",
        "\n",
        "The powerful thing about an embedding is it can be learned during training. This means rather that just be static, a word's numeric representation can be improved as a model goes through data samples.\n",
        "\n",
        "We can see what an embedding of a word looks like by using the `tf.keras.layers.Embedding` layer.\n",
        "\n"
      ],
      "metadata": {
        "id": "rnhKQAUFdRqB"
      }
    },
    {
      "cell_type": "code",
      "source": [
        "tf.random.set_seed(17)\n",
        "from tensorflow.keras import layers\n",
        "\n",
        "embedding = layers.Embedding(input_dim=max_vocab_length,\n",
        "                             output_dim=128,\n",
        "                             embeddings_initializer=\"uniform\",\n",
        "                             input_length=max_length,\n",
        "                             name=\"embedding_1\")\n",
        "embedding"
      ],
      "metadata": {
        "colab": {
          "base_uri": "https://localhost:8080/"
        },
        "id": "d4AxkJ4teKHO",
        "outputId": "99800cd8-9092-422f-9970-0e73360c6b20"
      },
      "execution_count": 18,
      "outputs": [
        {
          "output_type": "execute_result",
          "data": {
            "text/plain": [
              "<keras.layers.core.embedding.Embedding at 0x7f2b705b7760>"
            ]
          },
          "metadata": {},
          "execution_count": 18
        }
      ]
    },
    {
      "cell_type": "markdown",
      "source": [
        "`embedding` is a TensorFlow Layer, so that we can use it as part of a model, meaning its parameters(word representations) can be updated and improved as the model learns.\n",
        "\n"
      ],
      "metadata": {
        "id": "Wd2p3RPvevde"
      }
    },
    {
      "cell_type": "code",
      "source": [
        "# Get a random sentence from training set\n",
        "random_sentence = random.choice(train_sentences)\n",
        "print(f\"Original text: \\n{random_sentence}\")\n",
        "print(\"\\n\\nEmbedded version:\")\n",
        "\n",
        "# embed the random sentence\n",
        "sample_embed = embedding(text_vectorizer([random_sentence]))\n",
        "sample_embed"
      ],
      "metadata": {
        "colab": {
          "base_uri": "https://localhost:8080/"
        },
        "id": "GseLqO74tWkN",
        "outputId": "42f4e3ab-9e93-4c93-fa08-07e7fa656aaa"
      },
      "execution_count": 19,
      "outputs": [
        {
          "output_type": "stream",
          "name": "stdout",
          "text": [
            "Original text: \n",
            "Does anyone know why #murfreesboro #walmart was evacuated this evening? @dnj_com\n",
            "\n",
            "\n",
            "Embedded version:\n"
          ]
        },
        {
          "output_type": "execute_result",
          "data": {
            "text/plain": [
              "<tf.Tensor: shape=(1, 15, 128), dtype=float32, numpy=\n",
              "array([[[ 0.0256331 ,  0.03744579,  0.01614494, ...,  0.03304393,\n",
              "          0.02807939,  0.01946756],\n",
              "        [ 0.04895592,  0.00866304, -0.03608847, ...,  0.01149271,\n",
              "         -0.04934025,  0.04239353],\n",
              "        [-0.04007417, -0.00953885, -0.04488143, ..., -0.03326275,\n",
              "         -0.03895334, -0.0359932 ],\n",
              "        ...,\n",
              "        [-0.04305307, -0.04987746, -0.0366137 , ...,  0.01739735,\n",
              "          0.00826229,  0.04193049],\n",
              "        [-0.04305307, -0.04987746, -0.0366137 , ...,  0.01739735,\n",
              "          0.00826229,  0.04193049],\n",
              "        [-0.04305307, -0.04987746, -0.0366137 , ...,  0.01739735,\n",
              "          0.00826229,  0.04193049]]], dtype=float32)>"
            ]
          },
          "metadata": {},
          "execution_count": 19
        }
      ]
    },
    {
      "cell_type": "markdown",
      "source": [
        "These values might not mean much to us but they're what our computer sees each word as. When our model looks for patterns in different samples, these values will be updated as necessary.\n",
        "\n",
        "If we review the shape of Embedded Version Tensor it is, `(1, 15, 128)`, it means that,\n",
        "- 1: Is the quantity of sequences(sentences) we passed\n",
        "- 15: is the `max_length` that we decided to normalize every sentence, if greater than 15 tokens/words then trim extra tokens or if less than 15 then pad it.\n",
        "- 128: is the array size of each words, for example above sentence as `Now`, for this token the embedding tensor will look like,"
      ],
      "metadata": {
        "id": "9Kp2cu1Dt4sd"
      }
    },
    {
      "cell_type": "code",
      "source": [
        "sample_embed[0][0]"
      ],
      "metadata": {
        "colab": {
          "base_uri": "https://localhost:8080/"
        },
        "id": "yW7O7e1UDyKn",
        "outputId": "2608ae17-7392-42b3-ddda-52e2b0ee3405"
      },
      "execution_count": 20,
      "outputs": [
        {
          "output_type": "execute_result",
          "data": {
            "text/plain": [
              "<tf.Tensor: shape=(128,), dtype=float32, numpy=\n",
              "array([ 2.5633100e-02,  3.7445787e-02,  1.6144942e-02, -1.7866421e-02,\n",
              "       -8.2955509e-04,  4.0926602e-02,  1.8598661e-03,  1.9636359e-02,\n",
              "        4.7246207e-02, -1.2394834e-02,  3.3825804e-02,  1.0652147e-02,\n",
              "       -3.6363374e-02,  3.5562981e-02, -8.8627711e-03, -1.7674305e-02,\n",
              "       -4.6674158e-02, -2.0577395e-02,  4.7166098e-02,  3.6671232e-02,\n",
              "       -3.5737611e-02, -1.9922828e-02,  3.8463440e-02,  3.6760569e-03,\n",
              "       -1.2186907e-02, -4.7768153e-02, -5.4156780e-04, -4.4431090e-03,\n",
              "       -3.8443375e-02, -3.0310441e-02, -4.1851975e-02,  1.2147427e-03,\n",
              "        2.5584508e-02,  1.0067448e-03,  4.1332688e-02,  1.5695360e-02,\n",
              "        4.0390160e-02, -9.1355927e-03, -2.0383179e-02, -8.6928383e-03,\n",
              "       -3.0447340e-02, -4.0137090e-02, -3.3477068e-02, -1.8019736e-02,\n",
              "        1.2825798e-02,  3.4661476e-02,  3.5838295e-02,  2.8555524e-02,\n",
              "        3.0117955e-02,  4.5272652e-02, -2.6998771e-02,  3.3932064e-02,\n",
              "       -3.8907230e-02,  2.5658082e-02, -4.9485516e-02, -3.5871841e-02,\n",
              "       -1.6418919e-03,  2.2339705e-02, -1.4190484e-02,  1.3450097e-02,\n",
              "       -2.2715688e-02, -4.5316674e-02,  4.4976506e-02,  3.0137073e-02,\n",
              "       -4.8263073e-02, -3.8899980e-02,  4.3921199e-02,  1.1500407e-02,\n",
              "        8.3018094e-05, -3.9438784e-02,  2.8803084e-02,  1.0861866e-03,\n",
              "        7.1354881e-03, -2.1707976e-02, -4.4804908e-02, -4.4022836e-02,\n",
              "       -4.5254685e-02, -3.7571322e-02,  2.4930205e-02,  4.3739069e-02,\n",
              "        3.3671085e-02,  3.1840470e-02, -4.6559643e-02,  6.7364052e-04,\n",
              "        3.4850869e-02, -1.8548071e-02, -2.0900583e-02, -1.1466779e-02,\n",
              "       -1.7550658e-02, -4.8944294e-02,  2.3703352e-03, -4.0503167e-02,\n",
              "       -3.0213272e-02,  3.9231982e-02, -1.3961434e-02,  2.5993362e-03,\n",
              "       -4.8865058e-02,  1.6703907e-02,  1.3545457e-02, -4.6565689e-02,\n",
              "       -3.6114156e-02,  2.2352602e-02, -3.6503673e-03, -2.3461783e-02,\n",
              "       -2.0849396e-02, -2.6105762e-02,  3.2181989e-02, -4.0009357e-02,\n",
              "       -2.1085322e-02, -2.0633209e-02, -3.2080997e-02,  2.6393939e-02,\n",
              "       -4.3020893e-02, -3.3922568e-02, -4.5516491e-03,  4.9835298e-02,\n",
              "       -8.9362152e-03,  2.7948264e-02,  3.3139292e-02, -4.3268871e-02,\n",
              "        2.9614452e-02,  2.5872793e-02,  1.7485548e-02, -2.4322212e-02,\n",
              "        2.9359486e-02,  3.3043932e-02,  2.8079394e-02,  1.9467559e-02],\n",
              "      dtype=float32)>"
            ]
          },
          "metadata": {},
          "execution_count": 20
        }
      ]
    },
    {
      "cell_type": "markdown",
      "source": [
        "## Evaluation function for our Model Experiments\n",
        "\n",
        "Since we're going to perform multiple experiments by creating deeplearning models and scikit learn algorithms, so to track them we should create a common function for comparison.\n",
        "\n",
        "There are various metrics to evaluate the classification models like precision, f1-score, recall. So let's look at them through a function altogether."
      ],
      "metadata": {
        "id": "dbKbKEU5Fxy6"
      }
    },
    {
      "cell_type": "code",
      "source": [
        "from sklearn.metrics import accuracy_score, precision_recall_fscore_support\n",
        "def calculate_results(y_true, y_pred):\n",
        "  \"\"\"\n",
        "  Calculates Model accuracy, precision, recall and f1-score for a binary classification model\n",
        "  \"\"\"\n",
        "  # calculate the model accuracy\n",
        "  model_accuracy = accuracy_score(y_true, y_pred)\n",
        "  # calculate precision, recall, f1-score using \"weighted\" average\n",
        "  model_precision, model_recall, model_f1, _ = precision_recall_fscore_support(y_true, y_pred, average=\"weighted\")\n",
        "  model_results = {\"accuracy\": model_accuracy * 100,\n",
        "                   \"precision\":model_precision,\n",
        "                   \"recall\": model_recall,\n",
        "                   \"f1-score\": model_f1}\n",
        "                  \n",
        "  return model_results"
      ],
      "metadata": {
        "id": "bcwg-4J5GKUj"
      },
      "execution_count": 21,
      "outputs": []
    },
    {
      "cell_type": "markdown",
      "source": [
        "## Modelling a Text Dataset\n",
        "\n",
        "For experiments with various machine learning model for text classifier we will be considering below experiments:\n",
        "- **Model 0** : Naive Bayes (baseline)\n",
        "- **Model 1** : Feed-forward neural network (dense model) \n",
        "- **Model 2** : LSTM Model (RNN)\n",
        "- **Model 3** : GRU (RNN)\n",
        "- **Model 4** : Bidirectional-LSTM (RNN)\n",
        "- **Model 5** : 1D CNN\n",
        "- **Model 6** : TF Hub Pre-trained Feature Extractor\n",
        "- **Model 7** : Same as model 6 with 10% of training samples"
      ],
      "metadata": {
        "id": "LUy8YjJ2EWQx"
      }
    },
    {
      "cell_type": "markdown",
      "source": [
        "### Model 0 : Getting a baseline\n",
        "\n",
        "We'll use `scikit-learn` library for building this model, and create a Scikit-Learn Pipeline using the TF-IDF (term frequency-inverse document frequency) formula to convert words into numbers and then model them using Multinomial Naive Bayes Algorithm.\n",
        "\n",
        "> 📖 **Reading**: About TF-IDF on [Scikit-learn documentation](https://scikit-learn.org/stable/modules/feature_extraction.html#tfidf-term-weighting)"
      ],
      "metadata": {
        "id": "72x7n-xuFM8C"
      }
    },
    {
      "cell_type": "code",
      "source": [
        "from sklearn.feature_extraction.text import TfidfVectorizer\n",
        "from sklearn.naive_bayes import MultinomialNB\n",
        "from sklearn.pipeline import Pipeline\n",
        "\n",
        "# Create tokenization and modelling pipeline\n",
        "model_0 = Pipeline([\n",
        "    (\"tfidf\", TfidfVectorizer()),\n",
        "    (\"clf\", MultinomialNB())\n",
        "])\n",
        "\n",
        "# Fit the pipeline to the training data\n",
        "model_0.fit(train_sentences, train_labels)"
      ],
      "metadata": {
        "colab": {
          "base_uri": "https://localhost:8080/"
        },
        "id": "-IkZ6K-UF1j2",
        "outputId": "cd1aaea9-bc0d-4725-f2f3-e837d7cf29ee"
      },
      "execution_count": 22,
      "outputs": [
        {
          "output_type": "execute_result",
          "data": {
            "text/plain": [
              "Pipeline(steps=[('tfidf', TfidfVectorizer()), ('clf', MultinomialNB())])"
            ]
          },
          "metadata": {},
          "execution_count": 22
        }
      ]
    },
    {
      "cell_type": "markdown",
      "source": [
        "Multinomial Naive Bayes model is kind of shallow model which trains faster."
      ],
      "metadata": {
        "id": "gLex6UKjGaDS"
      }
    },
    {
      "cell_type": "code",
      "source": [
        "# evaluate the model\n",
        "baseline_score = model_0.score(val_sentences, val_labels)\n",
        "print(f\"Our baseline model achieves an accuracy of: {baseline_score*100:.2f}%\")"
      ],
      "metadata": {
        "colab": {
          "base_uri": "https://localhost:8080/"
        },
        "id": "zihkmgPZGkfC",
        "outputId": "f340e65c-d8b0-4b61-e30e-c5709e59f348"
      },
      "execution_count": 23,
      "outputs": [
        {
          "output_type": "stream",
          "name": "stdout",
          "text": [
            "Our baseline model achieves an accuracy of: 80.18%\n"
          ]
        }
      ]
    },
    {
      "cell_type": "code",
      "source": [
        "# let's make some predictions\n",
        "baseline_preds = model_0.predict(val_sentences)\n",
        "baseline_preds[:10]"
      ],
      "metadata": {
        "colab": {
          "base_uri": "https://localhost:8080/"
        },
        "id": "FZtZ-lodG0ii",
        "outputId": "76c1d3ec-984b-400b-a51d-46eb984133f3"
      },
      "execution_count": 24,
      "outputs": [
        {
          "output_type": "execute_result",
          "data": {
            "text/plain": [
              "array([0, 0, 0, 0, 1, 1, 0, 1, 0, 0])"
            ]
          },
          "metadata": {},
          "execution_count": 24
        }
      ]
    },
    {
      "cell_type": "code",
      "source": [
        "# it is similar to our labels\n",
        "val_labels[:10]"
      ],
      "metadata": {
        "colab": {
          "base_uri": "https://localhost:8080/"
        },
        "id": "3uWMFYvAG-qx",
        "outputId": "419bad06-b93e-4796-9161-8ec38f6cb4bd"
      },
      "execution_count": 25,
      "outputs": [
        {
          "output_type": "execute_result",
          "data": {
            "text/plain": [
              "array([0, 0, 0, 0, 1, 1, 0, 1, 0, 1])"
            ]
          },
          "metadata": {},
          "execution_count": 25
        }
      ]
    },
    {
      "cell_type": "code",
      "source": [
        "# get the results\n",
        "baseline_results = calculate_results(y_true=val_labels,\n",
        "                                     y_pred=baseline_preds)\n",
        "baseline_results"
      ],
      "metadata": {
        "colab": {
          "base_uri": "https://localhost:8080/"
        },
        "id": "gbG9m6vqJhGL",
        "outputId": "a1f9fc9c-9170-4017-c518-8eae71d8b991"
      },
      "execution_count": 26,
      "outputs": [
        {
          "output_type": "execute_result",
          "data": {
            "text/plain": [
              "{'accuracy': 80.18372703412074,\n",
              " 'precision': 0.8125567744156732,\n",
              " 'recall': 0.8018372703412073,\n",
              " 'f1-score': 0.7968681002825004}"
            ]
          },
          "metadata": {},
          "execution_count": 26
        }
      ]
    },
    {
      "cell_type": "markdown",
      "source": [
        "### Model 1 : A Simple Dense Model\n",
        "\n",
        "The first \"deep\" model we're going to build is a single layer dense model."
      ],
      "metadata": {
        "id": "qZJjPR31JqYI"
      }
    },
    {
      "cell_type": "code",
      "source": [
        "from tensorflow.keras import layers\n",
        "\n",
        "# Create directory to save Tensorboard logs\n",
        "SAVE_DIR = \"model_logs\"\n",
        "\n",
        "# Build model with functional API\n",
        "inputs = layers.Input(shape=(1,), dtype=tf.string) # inputs are 1-dimensional strings\n",
        "x = text_vectorizer(inputs) # turn text inputs into numbers using text_vectorizer\n",
        "x = embedding(x) # create an embedding of the numerized numbers\n",
        "x = layers.GlobalAveragePooling1D()(x) # lower the dimensionality of the embedding\n",
        "outputs = layers.Dense(1, activation=\"sigmoid\")(x) # create the output layer\n",
        "model_1 = tf.keras.Model(inputs, outputs, name=\"model_1_dense\") # construct the model\n",
        "\n",
        "# compile the model\n",
        "model_1.compile(loss='binary_crossentropy',\n",
        "                optimizer=tf.keras.optimizers.Adam(),\n",
        "                metrics=[\"accuracy\"])\n",
        "\n",
        "# fit the model\n",
        "history_model_1 = model_1.fit(x=train_sentences,\n",
        "                              y=train_labels,\n",
        "                              epochs=5,\n",
        "                              validation_data=(val_sentences, val_labels),\n",
        "                              callbacks=[create_tensorboard_callback(dir_name=SAVE_DIR,\n",
        "                                                                     experiment_name=\"simple_dense_model\")])"
      ],
      "metadata": {
        "colab": {
          "base_uri": "https://localhost:8080/"
        },
        "id": "Yh4r0AfCHfnh",
        "outputId": "9037eada-70e6-41d1-df35-562ab9c9dbcd"
      },
      "execution_count": 27,
      "outputs": [
        {
          "output_type": "stream",
          "name": "stdout",
          "text": [
            "Saving Tensorboard log files to: model_logs/simple_dense_model/20230204-035205\n",
            "Epoch 1/5\n",
            "215/215 [==============================] - 4s 5ms/step - loss: 0.6152 - accuracy: 0.6854 - val_loss: 0.5256 - val_accuracy: 0.7638\n",
            "Epoch 2/5\n",
            "215/215 [==============================] - 2s 7ms/step - loss: 0.4439 - accuracy: 0.8167 - val_loss: 0.4640 - val_accuracy: 0.7874\n",
            "Epoch 3/5\n",
            "215/215 [==============================] - 1s 7ms/step - loss: 0.3478 - accuracy: 0.8616 - val_loss: 0.4596 - val_accuracy: 0.7927\n",
            "Epoch 4/5\n",
            "215/215 [==============================] - 2s 7ms/step - loss: 0.2846 - accuracy: 0.8864 - val_loss: 0.4721 - val_accuracy: 0.7979\n",
            "Epoch 5/5\n",
            "215/215 [==============================] - 2s 10ms/step - loss: 0.2380 - accuracy: 0.9101 - val_loss: 0.4938 - val_accuracy: 0.7953\n"
          ]
        }
      ]
    },
    {
      "cell_type": "code",
      "source": [
        "# evaluate the results\n",
        "model_1.evaluate(val_sentences, val_labels)"
      ],
      "metadata": {
        "colab": {
          "base_uri": "https://localhost:8080/"
        },
        "id": "ixLdaS-DJiv7",
        "outputId": "4cdfde4b-4dbf-4493-9b49-2b3dc1ab73f7"
      },
      "execution_count": 28,
      "outputs": [
        {
          "output_type": "stream",
          "name": "stdout",
          "text": [
            "24/24 [==============================] - 0s 6ms/step - loss: 0.4938 - accuracy: 0.7953\n"
          ]
        },
        {
          "output_type": "execute_result",
          "data": {
            "text/plain": [
              "[0.4938335716724396, 0.7952755689620972]"
            ]
          },
          "metadata": {},
          "execution_count": 28
        }
      ]
    },
    {
      "cell_type": "code",
      "source": [
        "# make some predictions\n",
        "model_1_pred_probs = model_1.predict(val_sentences)\n",
        "model_1_pred_probs[:10]"
      ],
      "metadata": {
        "colab": {
          "base_uri": "https://localhost:8080/"
        },
        "id": "eFZ35FbBJrW-",
        "outputId": "6456ea44-c33c-49df-c1e1-53c5fc231eaa"
      },
      "execution_count": 29,
      "outputs": [
        {
          "output_type": "stream",
          "name": "stdout",
          "text": [
            "24/24 [==============================] - 0s 3ms/step\n"
          ]
        },
        {
          "output_type": "execute_result",
          "data": {
            "text/plain": [
              "array([[0.12096813],\n",
              "       [0.00963379],\n",
              "       [0.07517964],\n",
              "       [0.43156   ],\n",
              "       [0.9998043 ],\n",
              "       [0.8580827 ],\n",
              "       [0.13515036],\n",
              "       [0.894733  ],\n",
              "       [0.58565694],\n",
              "       [0.08657645]], dtype=float32)"
            ]
          },
          "metadata": {},
          "execution_count": 29
        }
      ]
    },
    {
      "cell_type": "markdown",
      "source": [
        "Alright ! Let's some more evaluations by using our common function for evaluation."
      ],
      "metadata": {
        "id": "SrsxhgWcKgH1"
      }
    },
    {
      "cell_type": "code",
      "source": [
        "# for the evaluation we have to make it similar to our val_labels which is in 0 and 1\n",
        "model_1_preds = tf.squeeze(tf.round(model_1_pred_probs))\n",
        "model_1_preds[:10]"
      ],
      "metadata": {
        "colab": {
          "base_uri": "https://localhost:8080/"
        },
        "id": "191_2ce5K5hV",
        "outputId": "3922970d-822a-4be1-f40d-533d34cb234f"
      },
      "execution_count": 30,
      "outputs": [
        {
          "output_type": "execute_result",
          "data": {
            "text/plain": [
              "<tf.Tensor: shape=(10,), dtype=float32, numpy=array([0., 0., 0., 0., 1., 1., 0., 1., 1., 0.], dtype=float32)>"
            ]
          },
          "metadata": {},
          "execution_count": 30
        }
      ]
    },
    {
      "cell_type": "code",
      "source": [
        "simple_dense_results = calculate_results(y_true=val_labels,\n",
        "                                         y_pred=model_1_preds)\n",
        "\n",
        "simple_dense_results"
      ],
      "metadata": {
        "colab": {
          "base_uri": "https://localhost:8080/"
        },
        "id": "W_qe3BuhKpa8",
        "outputId": "423cafbe-de18-4883-eb62-74f3fae6aa1f"
      },
      "execution_count": 31,
      "outputs": [
        {
          "output_type": "execute_result",
          "data": {
            "text/plain": [
              "{'accuracy': 79.52755905511812,\n",
              " 'precision': 0.7966788703003602,\n",
              " 'recall': 0.7952755905511811,\n",
              " 'f1-score': 0.7932321923411083}"
            ]
          },
          "metadata": {},
          "execution_count": 31
        }
      ]
    },
    {
      "cell_type": "markdown",
      "source": [
        "For comparing the results like these between two models, let's create a helper function"
      ],
      "metadata": {
        "id": "WBvkM6hNLKma"
      }
    },
    {
      "cell_type": "code",
      "source": [
        "def compare_baseline_to_new_results(baseline_results, new_model_results):\n",
        "  for k,v in baseline_results.items():\n",
        "    print(f\"Baseline {k}: {v:.2f}, New {k}: {new_model_results[k]:.2f}, Difference: {new_model_results[k] - v:.3f}\")"
      ],
      "metadata": {
        "id": "-lpajBzWLZ2b"
      },
      "execution_count": 32,
      "outputs": []
    },
    {
      "cell_type": "code",
      "source": [
        "compare_baseline_to_new_results(baseline_results, simple_dense_results)"
      ],
      "metadata": {
        "colab": {
          "base_uri": "https://localhost:8080/"
        },
        "id": "usjwQEZSMA9v",
        "outputId": "8b391375-abc7-4b51-ea45-08359fab12a9"
      },
      "execution_count": 33,
      "outputs": [
        {
          "output_type": "stream",
          "name": "stdout",
          "text": [
            "Baseline accuracy: 80.18, New accuracy: 79.53, Difference: -0.656\n",
            "Baseline precision: 0.81, New precision: 0.80, Difference: -0.016\n",
            "Baseline recall: 0.80, New recall: 0.80, Difference: -0.007\n",
            "Baseline f1-score: 0.80, New f1-score: 0.79, Difference: -0.004\n"
          ]
        }
      ]
    },
    {
      "cell_type": "markdown",
      "source": [
        "## Visualizing Learned Embeddings\n",
        "\n",
        "Our first model (`model_1`) contained an embedding layer (`embedding`) which learned a way of representing words as feature vectors by passing over the training data.\n",
        "\n",
        "To understand what a text embedding is, let's visualize the embedding our model learned."
      ],
      "metadata": {
        "id": "Hysy96wpMGLD"
      }
    },
    {
      "cell_type": "code",
      "source": [
        "# get the vocabulary from the text vectorization layer\n",
        "words_in_vocab = text_vectorizer.get_vocabulary()\n",
        "len(words_in_vocab), words_in_vocab[:10]"
      ],
      "metadata": {
        "colab": {
          "base_uri": "https://localhost:8080/"
        },
        "id": "lp7kot3HIkVN",
        "outputId": "bd1a497e-7fb0-4f16-f3ab-b3a374d1d2ad"
      },
      "execution_count": 34,
      "outputs": [
        {
          "output_type": "execute_result",
          "data": {
            "text/plain": [
              "(10000, ['', '[UNK]', 'the', 'a', 'in', 'to', 'of', 'and', 'i', 'is'])"
            ]
          },
          "metadata": {},
          "execution_count": 34
        }
      ]
    },
    {
      "cell_type": "markdown",
      "source": [
        "And now let's get our embedding layer's weights (these are the numerical representations of each word)."
      ],
      "metadata": {
        "id": "ObaHI9rrIujy"
      }
    },
    {
      "cell_type": "code",
      "source": [
        "model_1.summary()"
      ],
      "metadata": {
        "colab": {
          "base_uri": "https://localhost:8080/"
        },
        "id": "Cc39TunRJDn-",
        "outputId": "befee411-a9f2-4c6d-bc26-204fd2dac582"
      },
      "execution_count": 35,
      "outputs": [
        {
          "output_type": "stream",
          "name": "stdout",
          "text": [
            "Model: \"model_1_dense\"\n",
            "_________________________________________________________________\n",
            " Layer (type)                Output Shape              Param #   \n",
            "=================================================================\n",
            " input_1 (InputLayer)        [(None, 1)]               0         \n",
            "                                                                 \n",
            " text_vectorization_1 (TextV  (None, 15)               0         \n",
            " ectorization)                                                   \n",
            "                                                                 \n",
            " embedding_1 (Embedding)     (None, 15, 128)           1280000   \n",
            "                                                                 \n",
            " global_average_pooling1d (G  (None, 128)              0         \n",
            " lobalAveragePooling1D)                                          \n",
            "                                                                 \n",
            " dense (Dense)               (None, 1)                 129       \n",
            "                                                                 \n",
            "=================================================================\n",
            "Total params: 1,280,129\n",
            "Trainable params: 1,280,129\n",
            "Non-trainable params: 0\n",
            "_________________________________________________________________\n"
          ]
        }
      ]
    },
    {
      "cell_type": "code",
      "source": [
        "# get the weight matrix of embedding layer\n",
        "embed_weights = model_1.layers[2].get_weights()[0] \n",
        "print(embed_weights.shape) # same size as vocab size and embedding_dim (each word is a embedding_dim size vector)"
      ],
      "metadata": {
        "colab": {
          "base_uri": "https://localhost:8080/"
        },
        "id": "2cnOYapAJFQ-",
        "outputId": "d2b6f26a-ef7b-4957-c33c-30c7c62f244f"
      },
      "execution_count": 36,
      "outputs": [
        {
          "output_type": "stream",
          "name": "stdout",
          "text": [
            "(10000, 128)\n"
          ]
        }
      ]
    },
    {
      "cell_type": "code",
      "source": [
        "embed_weights[0]"
      ],
      "metadata": {
        "colab": {
          "base_uri": "https://localhost:8080/"
        },
        "id": "6JDpi0keJaKg",
        "outputId": "3067888e-f6ee-48b5-80b3-09265d323f31"
      },
      "execution_count": 37,
      "outputs": [
        {
          "output_type": "execute_result",
          "data": {
            "text/plain": [
              "array([-0.05793183, -0.03914464, -0.02473383, -0.0040093 ,  0.02946341,\n",
              "       -0.01301203,  0.05229729,  0.04887476,  0.06025089,  0.00805068,\n",
              "        0.06344495,  0.06382315,  0.03528398, -0.0243746 , -0.03784521,\n",
              "       -0.00860966, -0.029973  , -0.00939367,  0.05955042, -0.06665283,\n",
              "       -0.01535041,  0.01206796,  0.0132463 ,  0.00885768, -0.03989456,\n",
              "        0.00598109, -0.05867312,  0.01391944, -0.01342947, -0.03151253,\n",
              "       -0.01170613, -0.01470301,  0.05553513,  0.06478364, -0.0330559 ,\n",
              "        0.00180236,  0.03188962, -0.01603711,  0.0065343 , -0.0136434 ,\n",
              "       -0.01092492,  0.03955517, -0.00912937, -0.04180072, -0.01730739,\n",
              "       -0.00267582, -0.05257864, -0.0059381 , -0.00243136, -0.00406671,\n",
              "        0.05934992,  0.00771909, -0.00551351, -0.03471248, -0.02665267,\n",
              "       -0.01058052,  0.01899303, -0.05025221, -0.01186905, -0.00643936,\n",
              "       -0.03974138, -0.02110856, -0.00443363, -0.0067405 ,  0.02272332,\n",
              "        0.02054   , -0.01021376, -0.03714587,  0.03495811, -0.00551941,\n",
              "       -0.0540294 ,  0.05673278, -0.02860851,  0.0593399 ,  0.04321823,\n",
              "       -0.03300177, -0.01398475,  0.00378327,  0.05658955,  0.06639098,\n",
              "        0.04891374, -0.03926002,  0.02138169, -0.05530745,  0.03143607,\n",
              "       -0.00662654,  0.02964568, -0.05007803, -0.04113482,  0.01724832,\n",
              "        0.00210687,  0.01717915,  0.02345618,  0.04754275, -0.02072727,\n",
              "        0.02285103,  0.03893686,  0.0365902 ,  0.03092392, -0.05657144,\n",
              "       -0.00815742, -0.03492343, -0.05708262, -0.01064815, -0.04797028,\n",
              "       -0.01948297, -0.03375854, -0.01503074, -0.02164165,  0.00636745,\n",
              "        0.03055429,  0.06135833, -0.01142474, -0.02363289,  0.01905319,\n",
              "       -0.01181162, -0.03480679, -0.03662143,  0.03230288, -0.05484905,\n",
              "       -0.01756293,  0.03628295,  0.02103202,  0.03848092,  0.05498388,\n",
              "        0.00409454,  0.02326122, -0.00015125], dtype=float32)"
            ]
          },
          "metadata": {},
          "execution_count": 37
        }
      ]
    },
    {
      "cell_type": "markdown",
      "source": [
        "Now we've got these two objects, we can use the [Embedding Projector Tool](http://projector.tensorflow.org/) to visualize our embedding.\n",
        "\n",
        "To use the embedding projector tool, we need two files,\n",
        "- the embedding vectors (same as embedding weights)\n",
        "- the metadata of the embedding vectors (the words they represent - our vocabulary)"
      ],
      "metadata": {
        "id": "v8q7clW_JvQ4"
      }
    },
    {
      "cell_type": "code",
      "source": [
        "# import io\n",
        "\n",
        "# # Create output writers\n",
        "# out_v = io.open(\"embedding_vectors.tsv\", \"w\", encoding=\"utf-8\")\n",
        "# out_m = io.open(\"embedding_metadata.tsv\", \"w\", encoding=\"utf-8\")\n",
        "\n",
        "# # Write embedding vectors and words to file\n",
        "# for num, word in enumerate(words_in_vocab):\n",
        "#   if num==0:\n",
        "#     continue # skip padding token\n",
        "#   vec = embed_weights[num]\n",
        "#   out_m.write(word + \"\\n\") # write words to file\n",
        "#   out_v.write(\"\\t\".join([str(x) for x in vec]) + \"\\n\") # write corresponding word vector to file\n",
        "\n",
        "# out_v.close()\n",
        "# out_m.close()\n",
        "\n",
        "\n",
        "# # Download files locally to upload to Embedding projector\n",
        "\n",
        "# try:\n",
        "#   from google.colab import files\n",
        "# except ImportError:\n",
        "#   pass\n",
        "# else:\n",
        "#   files.download(\"embedding_vectors.tsv\")\n",
        "#   files.download(\"embedding_metadata.tsv\")"
      ],
      "metadata": {
        "id": "k_6Mx76TL1rT"
      },
      "execution_count": 38,
      "outputs": []
    },
    {
      "cell_type": "markdown",
      "source": [
        "## Recurrent Neural Networks(RNN's)\n",
        "\n",
        "For further experimentations we're going to use special kind of neural networks used for sequence data such as to predict the next location based on the prior location or may be to generate a new sequence based on the past sequences which is done through **Recurrent Neural Networks (RNN)**.\n",
        "\n",
        "Recurrent Neural Networks can be used for a number of sequence-based problems:\n",
        "- **One to One:** one input, one output, such as image classification\n",
        "- **One to many:** one input, many output, such as image captioning\n",
        "- **Many to one:** many inputs, one outputs, such as text classification\n",
        "- **Many to Many:** many inputs, many outputs, such as machine translation (translating English to Spanish) or speech to text\n",
        "\n",
        "Most commong RNN cell or layers used for designing the network are:\n",
        "- LSTM (Long Short Term Memory)\n",
        "- GRU (Gates Recurrent Unit)\n",
        "- Bidirectional RNNs (passes forward and backward along a sequence, left to right and right to left)\n",
        "\n",
        "The architecture of the RNNs would be,\n",
        "\n",
        "      Input(text) -> Tokenize -> Embedding -> Layers -> Output (label probability)"
      ],
      "metadata": {
        "id": "DteZn62KNfRI"
      }
    },
    {
      "cell_type": "markdown",
      "source": [
        "### Model 2 : LSTM\n",
        "\n",
        "> **Note**: For a best practice when we are comparing different models then embedding layer should be different because embedding layer is a learned representation of words, if we were to use the same embedding layer for each model, we'd be mixing what one model has learned with the next. "
      ],
      "metadata": {
        "id": "uEYEHgyjmVl0"
      }
    },
    {
      "cell_type": "code",
      "source": [
        "# set random seed and creating embedding layer (new embedding layer for each model)\n",
        "tf.random.set_seed(17)\n",
        "from tensorflow.keras import layers\n",
        "\n",
        "model_2_embedding = layers.Embedding(input_dim=max_vocab_length,\n",
        "                                           output_dim=128,\n",
        "                                           embeddings_initializer=\"uniform\",\n",
        "                                           input_length=max_length,\n",
        "                                           name=\"embedding_2\")\n",
        "\n",
        "# Create LSTM model\n",
        "input = layers.Input(shape=(1,), dtype=\"string\")\n",
        "x = text_vectorizer(input)\n",
        "x = model_2_embedding(x)\n",
        "#print(x.shape)\n",
        "#x = layers.LSTM(64, return_sequences=True)(x) # return vector for each word in the Tweet (if we want to stack RNN cells as long as return_sequences=True)\n",
        "x = layers.LSTM(64)(x)\n",
        "output = layers.Dense(1, activation='sigmoid')(x)\n",
        "model_2 = tf.keras.Model(input, output, name=\"model_2_LSTM\")"
      ],
      "metadata": {
        "id": "0SjUQmhdmdth"
      },
      "execution_count": 39,
      "outputs": []
    },
    {
      "cell_type": "markdown",
      "source": [
        "According to the Tensorflow documentation on LSTM, it accepts 3D input tensor as [batch, timestamp, feature_vector] so when we stack one more cell of LSTM, then we must set `return_sequences=True` so that when next LSTM cell is stacked will be inject with 3D input or else it would through error of \"expecting 3D tensor but received 2D\""
      ],
      "metadata": {
        "id": "hPDrDQwSqlso"
      }
    },
    {
      "cell_type": "markdown",
      "source": [
        "### Helper Function for Compiling and Fitting the Model"
      ],
      "metadata": {
        "id": "XWRxF6ChsAew"
      }
    },
    {
      "cell_type": "code",
      "source": [
        "# for compiling and fitting the model let's create a helper function\n",
        "\n",
        "def compile_fit_RNNs(model, dir_name, experiment_name):\n",
        "  \"\"\"\n",
        "  Function used for compiling and fitting the model and save the \n",
        "  tensorboard experiment as well on the passed directory\n",
        "\n",
        "  Returns the model history\n",
        "  \"\"\"\n",
        "  model.compile(loss='binary_crossentropy',\n",
        "                optimizer=tf.keras.optimizers.Adam(),\n",
        "                metrics=['accuracy'])\n",
        "\n",
        "  # fit the model\n",
        "  history = model.fit(train_sentences,\n",
        "                      train_labels,\n",
        "                      epochs=5,\n",
        "                      validation_data=(val_sentences, val_labels),\n",
        "                      callbacks=[create_tensorboard_callback(dir_name, experiment_name)])\n",
        "  \n",
        "  return history"
      ],
      "metadata": {
        "id": "t2esO0x8qZfU"
      },
      "execution_count": 40,
      "outputs": []
    },
    {
      "cell_type": "code",
      "source": [
        "model_2_history = compile_fit_RNNs(model=model_2, dir_name=SAVE_DIR, experiment_name=\"model_2_LSTM\")"
      ],
      "metadata": {
        "colab": {
          "base_uri": "https://localhost:8080/"
        },
        "id": "Vw7zOCCtr90b",
        "outputId": "bdb7d003-c211-4024-ae9a-54d52fd6f920"
      },
      "execution_count": 41,
      "outputs": [
        {
          "output_type": "stream",
          "name": "stdout",
          "text": [
            "Saving Tensorboard log files to: model_logs/model_2_LSTM/20230204-035217\n",
            "Epoch 1/5\n",
            "215/215 [==============================] - 10s 18ms/step - loss: 0.5133 - accuracy: 0.7434 - val_loss: 0.4492 - val_accuracy: 0.7979\n",
            "Epoch 2/5\n",
            "215/215 [==============================] - 3s 12ms/step - loss: 0.3184 - accuracy: 0.8695 - val_loss: 0.4724 - val_accuracy: 0.7966\n",
            "Epoch 3/5\n",
            "215/215 [==============================] - 2s 9ms/step - loss: 0.2199 - accuracy: 0.9204 - val_loss: 0.5474 - val_accuracy: 0.7874\n",
            "Epoch 4/5\n",
            "215/215 [==============================] - 2s 9ms/step - loss: 0.1537 - accuracy: 0.9456 - val_loss: 0.6827 - val_accuracy: 0.7782\n",
            "Epoch 5/5\n",
            "215/215 [==============================] - 2s 9ms/step - loss: 0.1108 - accuracy: 0.9603 - val_loss: 0.8267 - val_accuracy: 0.7664\n"
          ]
        }
      ]
    },
    {
      "cell_type": "markdown",
      "source": [
        "If we check the summary of the LSTM Model"
      ],
      "metadata": {
        "id": "ENi7wJatsq18"
      }
    },
    {
      "cell_type": "code",
      "source": [
        "model_2.summary()"
      ],
      "metadata": {
        "colab": {
          "base_uri": "https://localhost:8080/"
        },
        "id": "CMvUY6bgsuW3",
        "outputId": "1ef3e07b-b3c6-4ca5-e70e-bf8b15304bf9"
      },
      "execution_count": 42,
      "outputs": [
        {
          "output_type": "stream",
          "name": "stdout",
          "text": [
            "Model: \"model_2_LSTM\"\n",
            "_________________________________________________________________\n",
            " Layer (type)                Output Shape              Param #   \n",
            "=================================================================\n",
            " input_2 (InputLayer)        [(None, 1)]               0         \n",
            "                                                                 \n",
            " text_vectorization_1 (TextV  (None, 15)               0         \n",
            " ectorization)                                                   \n",
            "                                                                 \n",
            " embedding_2 (Embedding)     (None, 15, 128)           1280000   \n",
            "                                                                 \n",
            " lstm (LSTM)                 (None, 64)                49408     \n",
            "                                                                 \n",
            " dense_1 (Dense)             (None, 1)                 65        \n",
            "                                                                 \n",
            "=================================================================\n",
            "Total params: 1,329,473\n",
            "Trainable params: 1,329,473\n",
            "Non-trainable params: 0\n",
            "_________________________________________________________________\n"
          ]
        }
      ]
    },
    {
      "cell_type": "code",
      "source": [
        "# make some predictions\n",
        "model_2_pred_probs = model_2.predict(val_sentences)\n",
        "model_2_pred_probs[:10]"
      ],
      "metadata": {
        "colab": {
          "base_uri": "https://localhost:8080/"
        },
        "id": "rsvQ90rasR-m",
        "outputId": "6ffa89e1-9155-431f-83ef-5bdac84ea3bb"
      },
      "execution_count": 43,
      "outputs": [
        {
          "output_type": "stream",
          "name": "stdout",
          "text": [
            "24/24 [==============================] - 1s 4ms/step\n"
          ]
        },
        {
          "output_type": "execute_result",
          "data": {
            "text/plain": [
              "array([[0.02115482],\n",
              "       [0.00182996],\n",
              "       [0.01620475],\n",
              "       [0.16472113],\n",
              "       [0.9998977 ],\n",
              "       [0.99410546],\n",
              "       [0.01473758],\n",
              "       [0.7996621 ],\n",
              "       [0.8936984 ],\n",
              "       [0.54785365]], dtype=float32)"
            ]
          },
          "metadata": {},
          "execution_count": 43
        }
      ]
    },
    {
      "cell_type": "code",
      "source": [
        "# convert them to compare with labels\n",
        "model_2_preds = tf.squeeze(tf.round(model_2_pred_probs))\n",
        "model_2_preds[:10]"
      ],
      "metadata": {
        "colab": {
          "base_uri": "https://localhost:8080/"
        },
        "id": "idYU2tb9sbcV",
        "outputId": "46cd818b-a10e-4c95-c241-0c158e6fee74"
      },
      "execution_count": 44,
      "outputs": [
        {
          "output_type": "execute_result",
          "data": {
            "text/plain": [
              "<tf.Tensor: shape=(10,), dtype=float32, numpy=array([0., 0., 0., 0., 1., 1., 0., 1., 1., 1.], dtype=float32)>"
            ]
          },
          "metadata": {},
          "execution_count": 44
        }
      ]
    },
    {
      "cell_type": "code",
      "source": [
        "# Let's calculate the results\n",
        "model_2_results = calculate_results(y_true=val_labels,\n",
        "                                    y_pred=model_2_preds)\n",
        "model_2_results"
      ],
      "metadata": {
        "colab": {
          "base_uri": "https://localhost:8080/"
        },
        "id": "BC0KzqZpsnJ6",
        "outputId": "7a9b64c7-7f50-4015-d4d7-ccd725d813d8"
      },
      "execution_count": 45,
      "outputs": [
        {
          "output_type": "execute_result",
          "data": {
            "text/plain": [
              "{'accuracy': 76.64041994750657,\n",
              " 'precision': 0.7659025055163764,\n",
              " 'recall': 0.7664041994750657,\n",
              " 'f1-score': 0.7660201893659146}"
            ]
          },
          "metadata": {},
          "execution_count": 45
        }
      ]
    },
    {
      "cell_type": "code",
      "source": [
        "# compare the baseline results with model_2\n",
        "compare_baseline_to_new_results(baseline_results, model_2_results)"
      ],
      "metadata": {
        "colab": {
          "base_uri": "https://localhost:8080/"
        },
        "id": "_0QZl372tc4T",
        "outputId": "a799aeb1-cdd4-4626-9ee2-95e1d6003ffe"
      },
      "execution_count": 46,
      "outputs": [
        {
          "output_type": "stream",
          "name": "stdout",
          "text": [
            "Baseline accuracy: 80.18, New accuracy: 76.64, Difference: -3.543\n",
            "Baseline precision: 0.81, New precision: 0.77, Difference: -0.047\n",
            "Baseline recall: 0.80, New recall: 0.77, Difference: -0.035\n",
            "Baseline f1-score: 0.80, New f1-score: 0.77, Difference: -0.031\n"
          ]
        }
      ]
    },
    {
      "cell_type": "markdown",
      "source": [
        "### Model 3 : GRU\n",
        "\n",
        "The GRU cell has similar features to an LSTM cell but has less parameters."
      ],
      "metadata": {
        "id": "Qx7XI2aKt-10"
      }
    },
    {
      "cell_type": "code",
      "source": [
        "# set the random seed and create new embedding layer\n",
        "tf.random.set_seed(17)\n",
        "\n",
        "model_3_embedding = layers.Embedding(input_dim=max_vocab_length,\n",
        "                                     output_dim=128,\n",
        "                                     embeddings_initializer='uniform',\n",
        "                                     input_length=max_length,\n",
        "                                     name=\"embedding_3\")\n",
        "\n",
        "# Build GRU model\n",
        "inputs = layers.Input(shape=(1,), dtype='string')\n",
        "x = text_vectorizer(inputs)\n",
        "x = model_3_embedding(x)\n",
        "x = layers.GRU(64)(x)\n",
        "outputs = layers.Dense(1, activation='sigmoid')(x)\n",
        "model_3 = tf.keras.Model(inputs, outputs, name='model_3_GRU')\n"
      ],
      "metadata": {
        "id": "4tnDsQXHuIgS"
      },
      "execution_count": 47,
      "outputs": []
    },
    {
      "cell_type": "code",
      "source": [
        "# let's see the summary\n",
        "model_3.summary()"
      ],
      "metadata": {
        "colab": {
          "base_uri": "https://localhost:8080/"
        },
        "id": "6NyQL49vvR7y",
        "outputId": "45c349f8-c0a2-4a93-faaa-a3ad566540c0"
      },
      "execution_count": 48,
      "outputs": [
        {
          "output_type": "stream",
          "name": "stdout",
          "text": [
            "Model: \"model_3_GRU\"\n",
            "_________________________________________________________________\n",
            " Layer (type)                Output Shape              Param #   \n",
            "=================================================================\n",
            " input_3 (InputLayer)        [(None, 1)]               0         \n",
            "                                                                 \n",
            " text_vectorization_1 (TextV  (None, 15)               0         \n",
            " ectorization)                                                   \n",
            "                                                                 \n",
            " embedding_3 (Embedding)     (None, 15, 128)           1280000   \n",
            "                                                                 \n",
            " gru (GRU)                   (None, 64)                37248     \n",
            "                                                                 \n",
            " dense_2 (Dense)             (None, 1)                 65        \n",
            "                                                                 \n",
            "=================================================================\n",
            "Total params: 1,317,313\n",
            "Trainable params: 1,317,313\n",
            "Non-trainable params: 0\n",
            "_________________________________________________________________\n"
          ]
        }
      ]
    },
    {
      "cell_type": "markdown",
      "source": [
        "It's the same as LSTM model but with less params"
      ],
      "metadata": {
        "id": "DfdhvEYwveuf"
      }
    },
    {
      "cell_type": "code",
      "source": [
        "# compile and fit the model\n",
        "model_3_history = compile_fit_RNNs(model_3, SAVE_DIR, \"model_3_GRU\")"
      ],
      "metadata": {
        "colab": {
          "base_uri": "https://localhost:8080/"
        },
        "id": "O5dlJVK3vlXw",
        "outputId": "0b8dee3e-3881-4517-9a5e-afd749ef06a7"
      },
      "execution_count": 49,
      "outputs": [
        {
          "output_type": "stream",
          "name": "stdout",
          "text": [
            "Saving Tensorboard log files to: model_logs/model_3_GRU/20230204-035238\n",
            "Epoch 1/5\n",
            "215/215 [==============================] - 5s 12ms/step - loss: 0.5328 - accuracy: 0.7219 - val_loss: 0.4518 - val_accuracy: 0.8045\n",
            "Epoch 2/5\n",
            "215/215 [==============================] - 2s 8ms/step - loss: 0.3221 - accuracy: 0.8641 - val_loss: 0.4690 - val_accuracy: 0.8018\n",
            "Epoch 3/5\n",
            "215/215 [==============================] - 1s 6ms/step - loss: 0.2178 - accuracy: 0.9181 - val_loss: 0.5357 - val_accuracy: 0.7848\n",
            "Epoch 4/5\n",
            "215/215 [==============================] - 2s 8ms/step - loss: 0.1489 - accuracy: 0.9499 - val_loss: 0.6772 - val_accuracy: 0.7703\n",
            "Epoch 5/5\n",
            "215/215 [==============================] - 2s 9ms/step - loss: 0.1122 - accuracy: 0.9625 - val_loss: 0.6983 - val_accuracy: 0.7559\n"
          ]
        }
      ]
    },
    {
      "cell_type": "code",
      "source": [
        "# make predictions\n",
        "model_3_pred_probs = model_3.predict(val_sentences)\n",
        "# convert them into labels\n",
        "model_3_preds = tf.squeeze(tf.round(model_3_pred_probs)) \n",
        "model_3_preds[:10]"
      ],
      "metadata": {
        "colab": {
          "base_uri": "https://localhost:8080/"
        },
        "id": "Ax7jpoHjvwRR",
        "outputId": "ea748b94-5415-4b85-cb99-212d65eb63b7"
      },
      "execution_count": 50,
      "outputs": [
        {
          "output_type": "stream",
          "name": "stdout",
          "text": [
            "24/24 [==============================] - 1s 4ms/step\n"
          ]
        },
        {
          "output_type": "execute_result",
          "data": {
            "text/plain": [
              "<tf.Tensor: shape=(10,), dtype=float32, numpy=array([0., 0., 0., 0., 1., 1., 0., 1., 1., 0.], dtype=float32)>"
            ]
          },
          "metadata": {},
          "execution_count": 50
        }
      ]
    },
    {
      "cell_type": "code",
      "source": [
        "# calculate the result\n",
        "model_3_results = calculate_results(y_true=val_labels,\n",
        "                                   y_pred=model_3_preds)\n",
        "model_3_results"
      ],
      "metadata": {
        "colab": {
          "base_uri": "https://localhost:8080/"
        },
        "id": "F9FOAOdQwE2b",
        "outputId": "4720d6c6-5929-4b50-a50e-29118e561ced"
      },
      "execution_count": 51,
      "outputs": [
        {
          "output_type": "execute_result",
          "data": {
            "text/plain": [
              "{'accuracy': 75.59055118110236,\n",
              " 'precision': 0.7551876442680979,\n",
              " 'recall': 0.7559055118110236,\n",
              " 'f1-score': 0.7551196015270819}"
            ]
          },
          "metadata": {},
          "execution_count": 51
        }
      ]
    },
    {
      "cell_type": "code",
      "source": [
        "# compare with baseline score\n",
        "compare_baseline_to_new_results(baseline_results, model_3_results)"
      ],
      "metadata": {
        "colab": {
          "base_uri": "https://localhost:8080/"
        },
        "id": "cuuFbg8-wOo1",
        "outputId": "0fbc4b1d-e2fe-4b57-b7f6-383142f3661f"
      },
      "execution_count": 52,
      "outputs": [
        {
          "output_type": "stream",
          "name": "stdout",
          "text": [
            "Baseline accuracy: 80.18, New accuracy: 75.59, Difference: -4.593\n",
            "Baseline precision: 0.81, New precision: 0.76, Difference: -0.057\n",
            "Baseline recall: 0.80, New recall: 0.76, Difference: -0.046\n",
            "Baseline f1-score: 0.80, New f1-score: 0.76, Difference: -0.042\n"
          ]
        }
      ]
    },
    {
      "cell_type": "markdown",
      "source": [
        "It's looks like Baseline is still outperforming dense models, let's see one more model"
      ],
      "metadata": {
        "id": "_yuiOQbYwXjs"
      }
    },
    {
      "cell_type": "markdown",
      "source": [
        "### Model 4 : Bidirectional RNNs\n",
        "\n",
        "A standard RNN will process a sequence from left to right, where as a bidirectional RNN will process the sequence from left to right and then again from right to left."
      ],
      "metadata": {
        "id": "_VJlzkRkwhIp"
      }
    },
    {
      "cell_type": "code",
      "source": [
        "tf.random.set_seed(17)\n",
        "model_4_embedding = layers.Embedding(input_dim = max_vocab_length,\n",
        "                                     output_dim=128,\n",
        "                                     embeddings_initializer='uniform',\n",
        "                                     input_length=max_length,\n",
        "                                     name=\"embedding_4\")\n",
        "\n",
        "# Build the Bidirectional Model\n",
        "inputs = layers.Input(shape=(1,), dtype='string')\n",
        "x = text_vectorizer(inputs)\n",
        "x = model_4_embedding(x)\n",
        "x = layers.Bidirectional(layers.LSTM(64))(x)\n",
        "outputs = layers.Dense(1, activation='sigmoid')(x)\n",
        "model_4 = tf.keras.Model(inputs, outputs, name='model_4_Bidirectional')"
      ],
      "metadata": {
        "id": "uqprPWR_wlLZ"
      },
      "execution_count": 53,
      "outputs": []
    },
    {
      "cell_type": "code",
      "source": [
        "# see the summary\n",
        "model_4.summary()"
      ],
      "metadata": {
        "colab": {
          "base_uri": "https://localhost:8080/"
        },
        "id": "1wHIKZp3xitb",
        "outputId": "5d6fd7bd-89f9-40d8-e43e-ce3c6a08c8d6"
      },
      "execution_count": 54,
      "outputs": [
        {
          "output_type": "stream",
          "name": "stdout",
          "text": [
            "Model: \"model_4_Bidirectional\"\n",
            "_________________________________________________________________\n",
            " Layer (type)                Output Shape              Param #   \n",
            "=================================================================\n",
            " input_4 (InputLayer)        [(None, 1)]               0         \n",
            "                                                                 \n",
            " text_vectorization_1 (TextV  (None, 15)               0         \n",
            " ectorization)                                                   \n",
            "                                                                 \n",
            " embedding_4 (Embedding)     (None, 15, 128)           1280000   \n",
            "                                                                 \n",
            " bidirectional (Bidirectiona  (None, 128)              98816     \n",
            " l)                                                              \n",
            "                                                                 \n",
            " dense_3 (Dense)             (None, 1)                 129       \n",
            "                                                                 \n",
            "=================================================================\n",
            "Total params: 1,378,945\n",
            "Trainable params: 1,378,945\n",
            "Non-trainable params: 0\n",
            "_________________________________________________________________\n"
          ]
        }
      ]
    },
    {
      "cell_type": "markdown",
      "source": [
        "Notice the parameters of the Bidirectional layer get doubled."
      ],
      "metadata": {
        "id": "hEAbh_vcxnqq"
      }
    },
    {
      "cell_type": "code",
      "source": [
        "# compile and fit\n",
        "model_4_history = compile_fit_RNNs(model_4, SAVE_DIR, \"model_4_Bidirectional\")"
      ],
      "metadata": {
        "colab": {
          "base_uri": "https://localhost:8080/"
        },
        "id": "xxIMSyXOxtKd",
        "outputId": "e9449dda-6284-4fa5-fc50-b7bbb39847f3"
      },
      "execution_count": 55,
      "outputs": [
        {
          "output_type": "stream",
          "name": "stdout",
          "text": [
            "Saving Tensorboard log files to: model_logs/model_4_Bidirectional/20230204-035252\n",
            "Epoch 1/5\n",
            "215/215 [==============================] - 7s 13ms/step - loss: 0.5140 - accuracy: 0.7427 - val_loss: 0.4542 - val_accuracy: 0.8018\n",
            "Epoch 2/5\n",
            "215/215 [==============================] - 2s 11ms/step - loss: 0.3149 - accuracy: 0.8691 - val_loss: 0.4835 - val_accuracy: 0.7900\n",
            "Epoch 3/5\n",
            "215/215 [==============================] - 2s 12ms/step - loss: 0.2171 - accuracy: 0.9202 - val_loss: 0.5680 - val_accuracy: 0.7795\n",
            "Epoch 4/5\n",
            "215/215 [==============================] - 3s 13ms/step - loss: 0.1469 - accuracy: 0.9520 - val_loss: 0.6563 - val_accuracy: 0.7612\n",
            "Epoch 5/5\n",
            "215/215 [==============================] - 2s 10ms/step - loss: 0.1036 - accuracy: 0.9641 - val_loss: 0.7833 - val_accuracy: 0.7598\n"
          ]
        }
      ]
    },
    {
      "cell_type": "code",
      "source": [
        "# make predictions\n",
        "model_4_pred_probs = model_4.predict(val_sentences)"
      ],
      "metadata": {
        "colab": {
          "base_uri": "https://localhost:8080/"
        },
        "id": "js6QrUtEx1t8",
        "outputId": "28841a2a-89bb-4114-e25e-464e952dc801"
      },
      "execution_count": 56,
      "outputs": [
        {
          "output_type": "stream",
          "name": "stdout",
          "text": [
            "24/24 [==============================] - 1s 4ms/step\n"
          ]
        }
      ]
    },
    {
      "cell_type": "code",
      "source": [
        "# convert them into labels\n",
        "model_4_preds = tf.squeeze(tf.round(model_4_pred_probs))\n",
        "model_4_preds[:10]"
      ],
      "metadata": {
        "colab": {
          "base_uri": "https://localhost:8080/"
        },
        "id": "_uo1RB9Lx5yk",
        "outputId": "8e99750e-1587-4655-db6e-7945be7128ca"
      },
      "execution_count": 57,
      "outputs": [
        {
          "output_type": "execute_result",
          "data": {
            "text/plain": [
              "<tf.Tensor: shape=(10,), dtype=float32, numpy=array([0., 0., 0., 0., 1., 1., 0., 1., 1., 0.], dtype=float32)>"
            ]
          },
          "metadata": {},
          "execution_count": 57
        }
      ]
    },
    {
      "cell_type": "code",
      "source": [
        "# calculate the result\n",
        "model_4_results = calculate_results(y_true = val_labels,\n",
        "                                    y_pred = model_4_preds)\n",
        "model_4_results"
      ],
      "metadata": {
        "colab": {
          "base_uri": "https://localhost:8080/"
        },
        "id": "iXe4FqILyEfc",
        "outputId": "0b9e5205-37d3-430c-de8a-215274e059a2"
      },
      "execution_count": 58,
      "outputs": [
        {
          "output_type": "execute_result",
          "data": {
            "text/plain": [
              "{'accuracy': 75.98425196850394,\n",
              " 'precision': 0.7600694650010854,\n",
              " 'recall': 0.7598425196850394,\n",
              " 'f1-score': 0.7599441744417845}"
            ]
          },
          "metadata": {},
          "execution_count": 58
        }
      ]
    },
    {
      "cell_type": "code",
      "source": [
        "# compare with baseline scores\n",
        "compare_baseline_to_new_results(baseline_results, model_4_results)"
      ],
      "metadata": {
        "colab": {
          "base_uri": "https://localhost:8080/"
        },
        "id": "9UJ2lQftyQvP",
        "outputId": "517de5a6-c6fc-4bf7-d50a-a6989dae4986"
      },
      "execution_count": 59,
      "outputs": [
        {
          "output_type": "stream",
          "name": "stdout",
          "text": [
            "Baseline accuracy: 80.18, New accuracy: 75.98, Difference: -4.199\n",
            "Baseline precision: 0.81, New precision: 0.76, Difference: -0.052\n",
            "Baseline recall: 0.80, New recall: 0.76, Difference: -0.042\n",
            "Baseline f1-score: 0.80, New f1-score: 0.76, Difference: -0.037\n"
          ]
        }
      ]
    },
    {
      "cell_type": "markdown",
      "source": [
        "## Convolution Neural Networks for Text\n",
        "\n",
        "CNNs can be used to train Text inputs by using the 1-Dimension layers instead of 2-Dimensional convolution like did with Images.\n",
        "\n",
        "A Typical CNN architecture for sequences will look like the following:\n",
        "\n",
        "```\n",
        "Inputs (text) -> Tokenization -> Embedding -> Layers -> Outputs (class probabilities)\n",
        "```\n",
        "\n",
        "The main difference would be to use `tf.keras.layers.Conv1D()` instead of LSTM, GRU or Bidirectional cell in the layers, rest will be same."
      ],
      "metadata": {
        "id": "lyGbW4SxjYpL"
      }
    },
    {
      "cell_type": "markdown",
      "source": [
        "### Model 5 : Conv1D \n",
        "\n",
        "Let's see first 1-dimensional convolutional layer (also called a temporal convolution), temporal means the data in timestamp sequences."
      ],
      "metadata": {
        "id": "HBf2K7hbj0sY"
      }
    },
    {
      "cell_type": "code",
      "source": [
        "# Test our embedding, 1D convolutional and max pooling\n",
        "embedding_test = embedding(text_vectorizer(['This is a test for conv layer'])) \n",
        "conv_1d = layers.Conv1D(filters=32, kernel_size=5, strides=1, activation=\"relu\", padding=\"valid\")\n",
        "conv_1d_output = conv_1d(embedding_test)\n",
        "max_pool = layers.GlobalMaxPool1D()\n",
        "max_pool_output = max_pool(conv_1d_output)\n",
        "embedding_test.shape, conv_1d_output.shape, max_pool_output.shape"
      ],
      "metadata": {
        "colab": {
          "base_uri": "https://localhost:8080/"
        },
        "id": "IyN-Ks1bkVHI",
        "outputId": "ca5e2c43-7764-457a-ff48-49bb89445b94"
      },
      "execution_count": 60,
      "outputs": [
        {
          "output_type": "execute_result",
          "data": {
            "text/plain": [
              "(TensorShape([1, 15, 128]), TensorShape([1, 11, 32]), TensorShape([1, 32]))"
            ]
          },
          "metadata": {},
          "execution_count": 60
        }
      ]
    },
    {
      "cell_type": "markdown",
      "source": [
        "The output shape of `conv_1d_output` is `[1,11,32]`, here the input length was `15` and output_dim - `128` of sequences in the embedding layer.\n",
        "\n",
        "The 1-D conv layer compressed inline with its parameters. And the same goes for max pooling layer output.\n",
        "\n",
        "Our text starts out as a string but gets converted to a feature vector of length 32 through various transformation steps(from tokenization to embedding to 1-Dimensional convolution to max pool)."
      ],
      "metadata": {
        "id": "l-nT5bXOk63W"
      }
    },
    {
      "cell_type": "code",
      "source": [
        "## see the outputs of each layer\n",
        "embedding_test[:1], conv_1d_output[:1], max_pool_output[:1]"
      ],
      "metadata": {
        "colab": {
          "base_uri": "https://localhost:8080/"
        },
        "id": "vu8uiayyn79s",
        "outputId": "a238f0b9-47cc-42a9-fecc-9b64c91eeb6d"
      },
      "execution_count": 61,
      "outputs": [
        {
          "output_type": "execute_result",
          "data": {
            "text/plain": [
              "(<tf.Tensor: shape=(1, 15, 128), dtype=float32, numpy=\n",
              " array([[[ 0.00563604,  0.00831303, -0.03987605, ..., -0.00901501,\n",
              "          -0.02458371, -0.00313252],\n",
              "         [ 0.01050905,  0.07342832, -0.02361131, ..., -0.01137419,\n",
              "           0.03161565,  0.01970429],\n",
              "         [-0.03601195,  0.00866883, -0.04841169, ..., -0.04186256,\n",
              "           0.03951383, -0.02277594],\n",
              "         ...,\n",
              "         [-0.05793183, -0.03914464, -0.02473383, ...,  0.00409454,\n",
              "           0.02326122, -0.00015125],\n",
              "         [-0.05793183, -0.03914464, -0.02473383, ...,  0.00409454,\n",
              "           0.02326122, -0.00015125],\n",
              "         [-0.05793183, -0.03914464, -0.02473383, ...,  0.00409454,\n",
              "           0.02326122, -0.00015125]]], dtype=float32)>,\n",
              " <tf.Tensor: shape=(1, 11, 32), dtype=float32, numpy=\n",
              " array([[[0.        , 0.03461807, 0.04056317, 0.03943497, 0.03135176,\n",
              "          0.00109527, 0.00164499, 0.02065373, 0.03384817, 0.06376338,\n",
              "          0.        , 0.        , 0.        , 0.        , 0.02814319,\n",
              "          0.        , 0.02335806, 0.        , 0.        , 0.08719778,\n",
              "          0.09039336, 0.        , 0.03038758, 0.        , 0.        ,\n",
              "          0.        , 0.01343112, 0.        , 0.06609242, 0.        ,\n",
              "          0.        , 0.        ],\n",
              "         [0.0764782 , 0.        , 0.01919917, 0.        , 0.03547234,\n",
              "          0.08662464, 0.        , 0.        , 0.        , 0.08428137,\n",
              "          0.05702462, 0.02060773, 0.        , 0.        , 0.        ,\n",
              "          0.02598081, 0.        , 0.        , 0.01701437, 0.        ,\n",
              "          0.        , 0.08233303, 0.        , 0.        , 0.        ,\n",
              "          0.        , 0.00827228, 0.04662845, 0.02168217, 0.04228195,\n",
              "          0.08170679, 0.00100025],\n",
              "         [0.        , 0.05717973, 0.        , 0.        , 0.        ,\n",
              "          0.07495081, 0.        , 0.02048969, 0.        , 0.05699942,\n",
              "          0.1102318 , 0.05702515, 0.        , 0.02310777, 0.        ,\n",
              "          0.        , 0.00686767, 0.        , 0.00701855, 0.08093305,\n",
              "          0.10979287, 0.1302534 , 0.        , 0.03066098, 0.        ,\n",
              "          0.        , 0.        , 0.        , 0.        , 0.        ,\n",
              "          0.        , 0.01952723],\n",
              "         [0.0264098 , 0.01735175, 0.01103687, 0.0851098 , 0.01400455,\n",
              "          0.05367159, 0.04072632, 0.01060582, 0.        , 0.06676358,\n",
              "          0.        , 0.08392848, 0.04772656, 0.        , 0.        ,\n",
              "          0.        , 0.        , 0.03650603, 0.        , 0.03884184,\n",
              "          0.        , 0.06922229, 0.09860664, 0.        , 0.        ,\n",
              "          0.06090888, 0.        , 0.00417483, 0.0210652 , 0.09397036,\n",
              "          0.0667627 , 0.        ],\n",
              "         [0.0155859 , 0.        , 0.02263873, 0.00055924, 0.00456195,\n",
              "          0.0150536 , 0.0377702 , 0.        , 0.        , 0.05350941,\n",
              "          0.01694097, 0.00364914, 0.01459737, 0.        , 0.        ,\n",
              "          0.        , 0.        , 0.        , 0.        , 0.        ,\n",
              "          0.00986611, 0.06423344, 0.07255762, 0.        , 0.        ,\n",
              "          0.        , 0.04436695, 0.        , 0.02071761, 0.04013616,\n",
              "          0.05641007, 0.        ],\n",
              "         [0.        , 0.03461328, 0.05225422, 0.01082176, 0.0211474 ,\n",
              "          0.        , 0.        , 0.        , 0.        , 0.03142165,\n",
              "          0.02482252, 0.        , 0.02933148, 0.01765052, 0.        ,\n",
              "          0.        , 0.01048656, 0.05598031, 0.        , 0.        ,\n",
              "          0.        , 0.02534767, 0.05644293, 0.        , 0.        ,\n",
              "          0.        , 0.07428715, 0.        , 0.        , 0.        ,\n",
              "          0.00819661, 0.        ],\n",
              "         [0.        , 0.07465488, 0.        , 0.        , 0.03011662,\n",
              "          0.        , 0.        , 0.        , 0.        , 0.08046453,\n",
              "          0.06392573, 0.03816448, 0.05070101, 0.        , 0.        ,\n",
              "          0.        , 0.02316467, 0.02950872, 0.        , 0.00791348,\n",
              "          0.        , 0.00830844, 0.05342646, 0.03598182, 0.        ,\n",
              "          0.        , 0.0642715 , 0.        , 0.        , 0.        ,\n",
              "          0.01793887, 0.        ],\n",
              "         [0.        , 0.06735587, 0.        , 0.        , 0.04449608,\n",
              "          0.00111308, 0.        , 0.        , 0.        , 0.06157278,\n",
              "          0.11221665, 0.01950592, 0.03782239, 0.00625204, 0.        ,\n",
              "          0.        , 0.02321805, 0.        , 0.        , 0.        ,\n",
              "          0.01971478, 0.00913369, 0.02561829, 0.05068117, 0.00621182,\n",
              "          0.        , 0.08538772, 0.        , 0.        , 0.        ,\n",
              "          0.04578616, 0.        ],\n",
              "         [0.        , 0.06735587, 0.        , 0.        , 0.04449607,\n",
              "          0.00111307, 0.        , 0.        , 0.        , 0.06157279,\n",
              "          0.11221667, 0.01950593, 0.03782239, 0.00625204, 0.        ,\n",
              "          0.        , 0.02321807, 0.        , 0.        , 0.        ,\n",
              "          0.01971479, 0.00913369, 0.02561829, 0.05068117, 0.00621182,\n",
              "          0.        , 0.08538773, 0.        , 0.        , 0.        ,\n",
              "          0.04578616, 0.        ],\n",
              "         [0.        , 0.06735586, 0.        , 0.        , 0.04449607,\n",
              "          0.00111308, 0.        , 0.        , 0.        , 0.06157279,\n",
              "          0.11221667, 0.01950592, 0.03782238, 0.00625204, 0.        ,\n",
              "          0.        , 0.02321807, 0.        , 0.        , 0.        ,\n",
              "          0.01971478, 0.00913369, 0.02561828, 0.05068117, 0.0062118 ,\n",
              "          0.        , 0.08538772, 0.        , 0.        , 0.        ,\n",
              "          0.04578616, 0.        ],\n",
              "         [0.        , 0.06735586, 0.        , 0.        , 0.04449607,\n",
              "          0.00111308, 0.        , 0.        , 0.        , 0.06157278,\n",
              "          0.11221667, 0.01950593, 0.03782238, 0.00625205, 0.        ,\n",
              "          0.        , 0.02321807, 0.        , 0.        , 0.        ,\n",
              "          0.01971478, 0.0091337 , 0.02561828, 0.05068118, 0.00621181,\n",
              "          0.        , 0.08538772, 0.        , 0.        , 0.        ,\n",
              "          0.04578615, 0.        ]]], dtype=float32)>,\n",
              " <tf.Tensor: shape=(1, 32), dtype=float32, numpy=\n",
              " array([[0.0764782 , 0.07465488, 0.05225422, 0.0851098 , 0.04449608,\n",
              "         0.08662464, 0.04072632, 0.02065373, 0.03384817, 0.08428137,\n",
              "         0.11221667, 0.08392848, 0.05070101, 0.02310777, 0.02814319,\n",
              "         0.02598081, 0.02335806, 0.05598031, 0.01701437, 0.08719778,\n",
              "         0.10979287, 0.1302534 , 0.09860664, 0.05068118, 0.00621182,\n",
              "         0.06090888, 0.08538773, 0.04662845, 0.06609242, 0.09397036,\n",
              "         0.08170679, 0.01952723]], dtype=float32)>)"
            ]
          },
          "metadata": {},
          "execution_count": 61
        }
      ]
    },
    {
      "cell_type": "markdown",
      "source": [
        "Let's build the model"
      ],
      "metadata": {
        "id": "IeqGZ-isoDro"
      }
    },
    {
      "cell_type": "code",
      "source": [
        "tf.random.set_seed(17)\n",
        "from tensorflow.keras import layers\n",
        "\n",
        "model_5_embedding = layers.Embedding(input_dim=max_vocab_length,\n",
        "                                     output_dim=128,\n",
        "                                     embeddings_initializer='uniform',\n",
        "                                     input_length=max_length,\n",
        "                                     name='embedding_5')\n",
        "\n",
        "# Create 1-D conv layer\n",
        "inputs = layers.Input(shape=(1,), dtype='string')\n",
        "x = text_vectorizer(inputs)\n",
        "x = model_5_embedding(x)\n",
        "x = layers.Conv1D(filters=64, kernel_size=5, activation='relu')(x)\n",
        "x = layers.GlobalMaxPool1D()(x)\n",
        "outputs = layers.Dense(1, activation='sigmoid')(x)\n",
        "model_5 = tf.keras.Model(inputs, outputs, name='model_5_Conv1D')\n",
        "\n",
        "# see the summary of the model\n",
        "model_5.summary()"
      ],
      "metadata": {
        "colab": {
          "base_uri": "https://localhost:8080/"
        },
        "id": "oI9CIi6AoKca",
        "outputId": "7eec128a-e397-4e01-a262-80c146743092"
      },
      "execution_count": 64,
      "outputs": [
        {
          "output_type": "stream",
          "name": "stdout",
          "text": [
            "Model: \"model_5_Conv1D\"\n",
            "_________________________________________________________________\n",
            " Layer (type)                Output Shape              Param #   \n",
            "=================================================================\n",
            " input_7 (InputLayer)        [(None, 1)]               0         \n",
            "                                                                 \n",
            " text_vectorization_1 (TextV  (None, 15)               0         \n",
            " ectorization)                                                   \n",
            "                                                                 \n",
            " embedding_5 (Embedding)     (None, 15, 128)           1280000   \n",
            "                                                                 \n",
            " conv1d_2 (Conv1D)           (None, 11, 64)            41024     \n",
            "                                                                 \n",
            " global_max_pooling1d_2 (Glo  (None, 64)               0         \n",
            " balMaxPooling1D)                                                \n",
            "                                                                 \n",
            " dense_4 (Dense)             (None, 1)                 65        \n",
            "                                                                 \n",
            "=================================================================\n",
            "Total params: 1,321,089\n",
            "Trainable params: 1,321,089\n",
            "Non-trainable params: 0\n",
            "_________________________________________________________________\n"
          ]
        }
      ]
    },
    {
      "cell_type": "code",
      "source": [
        "# compile and fit the model\n",
        "model_5_history = compile_fit_RNNs(model_5, SAVE_DIR, \"Conv1D_model_5\")"
      ],
      "metadata": {
        "colab": {
          "base_uri": "https://localhost:8080/"
        },
        "id": "VxAmZLe8pPmy",
        "outputId": "03067a3f-9f49-4c99-fae9-895c7885b0ba"
      },
      "execution_count": 65,
      "outputs": [
        {
          "output_type": "stream",
          "name": "stdout",
          "text": [
            "Saving Tensorboard log files to: model_logs/Conv1D_model_5/20230204-041923\n",
            "Epoch 1/5\n",
            "215/215 [==============================] - 4s 10ms/step - loss: 0.5492 - accuracy: 0.7230 - val_loss: 0.4671 - val_accuracy: 0.7979\n",
            "Epoch 2/5\n",
            "215/215 [==============================] - 2s 7ms/step - loss: 0.3318 - accuracy: 0.8628 - val_loss: 0.4971 - val_accuracy: 0.7795\n",
            "Epoch 3/5\n",
            "215/215 [==============================] - 2s 7ms/step - loss: 0.1983 - accuracy: 0.9295 - val_loss: 0.5832 - val_accuracy: 0.7808\n",
            "Epoch 4/5\n",
            "215/215 [==============================] - 1s 7ms/step - loss: 0.1230 - accuracy: 0.9580 - val_loss: 0.7008 - val_accuracy: 0.7717\n",
            "Epoch 5/5\n",
            "215/215 [==============================] - 1s 5ms/step - loss: 0.0889 - accuracy: 0.9715 - val_loss: 0.7734 - val_accuracy: 0.7598\n"
          ]
        }
      ]
    },
    {
      "cell_type": "code",
      "source": [
        "# make some predictions\n",
        "model_5_pred_probs = model_5.predict(val_sentences)\n",
        "# convert them into labels\n",
        "model_5_preds = tf.squeeze(tf.round(model_5_pred_probs))\n",
        "\n",
        "model_5_preds[:10]"
      ],
      "metadata": {
        "colab": {
          "base_uri": "https://localhost:8080/"
        },
        "id": "A6jw6OhNpndy",
        "outputId": "aac60701-9ff5-4bae-c457-4ffefe3b9269"
      },
      "execution_count": 67,
      "outputs": [
        {
          "output_type": "stream",
          "name": "stdout",
          "text": [
            "24/24 [==============================] - 0s 4ms/step\n"
          ]
        },
        {
          "output_type": "execute_result",
          "data": {
            "text/plain": [
              "<tf.Tensor: shape=(10,), dtype=float32, numpy=array([0., 0., 0., 0., 1., 1., 0., 1., 1., 0.], dtype=float32)>"
            ]
          },
          "metadata": {},
          "execution_count": 67
        }
      ]
    },
    {
      "cell_type": "code",
      "source": [
        "# calculate the results\n",
        "model_5_results = calculate_results(y_true=val_labels,\n",
        "                                    y_pred=model_5_preds)\n",
        "model_5_results"
      ],
      "metadata": {
        "colab": {
          "base_uri": "https://localhost:8080/"
        },
        "id": "CDaJpYHpp6rU",
        "outputId": "9b0eebf5-58c9-44f9-e121-05bc10e4b16a"
      },
      "execution_count": 68,
      "outputs": [
        {
          "output_type": "execute_result",
          "data": {
            "text/plain": [
              "{'accuracy': 75.98425196850394,\n",
              " 'precision': 0.759153894646392,\n",
              " 'recall': 0.7598425196850394,\n",
              " 'f1-score': 0.7589128680335064}"
            ]
          },
          "metadata": {},
          "execution_count": 68
        }
      ]
    },
    {
      "cell_type": "code",
      "source": [
        "# compare with baseline\n",
        "compare_baseline_to_new_results(baseline_results, model_5_results)"
      ],
      "metadata": {
        "colab": {
          "base_uri": "https://localhost:8080/"
        },
        "id": "A5BqqHSjqHUW",
        "outputId": "f4497593-1e95-4cd7-fb9a-a5c709f2ecb4"
      },
      "execution_count": 69,
      "outputs": [
        {
          "output_type": "stream",
          "name": "stdout",
          "text": [
            "Baseline accuracy: 80.18, New accuracy: 75.98, Difference: -4.199\n",
            "Baseline precision: 0.81, New precision: 0.76, Difference: -0.053\n",
            "Baseline recall: 0.80, New recall: 0.76, Difference: -0.042\n",
            "Baseline f1-score: 0.80, New f1-score: 0.76, Difference: -0.038\n"
          ]
        }
      ]
    },
    {
      "cell_type": "code",
      "source": [],
      "metadata": {
        "id": "Wf8VdQUsqNuj"
      },
      "execution_count": null,
      "outputs": []
    }
  ]
}