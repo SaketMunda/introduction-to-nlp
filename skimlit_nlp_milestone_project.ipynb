{
  "nbformat": 4,
  "nbformat_minor": 0,
  "metadata": {
    "colab": {
      "provenance": [],
      "authorship_tag": "ABX9TyNA/FTgDDW0w8N7edlQfMJD",
      "include_colab_link": true
    },
    "kernelspec": {
      "name": "python3",
      "display_name": "Python 3"
    },
    "language_info": {
      "name": "python"
    },
    "accelerator": "GPU",
    "gpuClass": "standard"
  },
  "cells": [
    {
      "cell_type": "markdown",
      "metadata": {
        "id": "view-in-github",
        "colab_type": "text"
      },
      "source": [
        "<a href=\"https://colab.research.google.com/github/SaketMunda/introduction-to-nlp/blob/master/skimlit_nlp_milestone_project.ipynb\" target=\"_parent\"><img src=\"https://colab.research.google.com/assets/colab-badge.svg\" alt=\"Open In Colab\"/></a>"
      ]
    },
    {
      "cell_type": "markdown",
      "source": [
        "# NLP Milestone Project : SkimLit 🗒 🔥\n",
        "\n",
        "In this project, we're going to be putting what we've learned during the `introduction_to_nlp` notebook.\n",
        "\n",
        "We're going to be replicating the deep learning model behind the 2017 paper [PubMed 200K RCT : a Dataset for Sequential Sentence Classification in Medical Abstracts](https://arxiv.org/abs/1710.06071)\n",
        "\n",
        "RCT : Randomized Controlled Trial abstracts\n",
        "\n",
        "The goal of the dataset was to explore the ability for NLP models to classify sentences which appear in sequential order.\n",
        "\n",
        "Input : an abstract of a RCT\n",
        "\n",
        "Output : What role does each sentence serve in the abstract ?\n",
        "\n",
        "**Problem**:\n",
        "\n",
        "The number of RCT papers released is continuing to increase, those without structured abstracts can be hard to read and in turn slow down researchers moving through the literature.\n",
        "\n",
        "**Solution**:\n",
        "\n",
        "Create an NLP model to classify abstract sentences into the role they play (e.g objective, methods, results, etc) to enable researchers to skim through the literature (hence SkimLit) and dive deeper when necessary.\n",
        "\n",
        "**Dataset**:\n",
        "\n",
        "[PubMed RCT200k from Github](https://github.com/Franck-Dernoncourt/pubmed-rct)\n",
        "\n",
        "\n",
        "**Replicating Model Architecture**:\n",
        "\n",
        "[Neural Networks for joint sentence classification in medical paper abstracts](https://arxiv.org/pdf/1612.05251.pdf)\n",
        "\n"
      ],
      "metadata": {
        "id": "PRL9QZPUU-Wy"
      }
    },
    {
      "cell_type": "code",
      "source": [
        "# check the gpu\n",
        "!nvidia-smi -L"
      ],
      "metadata": {
        "id": "8-JE17ywboJC",
        "colab": {
          "base_uri": "https://localhost:8080/"
        },
        "outputId": "e98889b9-e923-4b33-d9f6-c1ae5028c341"
      },
      "execution_count": 1,
      "outputs": [
        {
          "output_type": "stream",
          "name": "stdout",
          "text": [
            "GPU 0: Tesla T4 (UUID: GPU-f4b2c583-d025-5440-69be-6306adb3ef5c)\n"
          ]
        }
      ]
    },
    {
      "cell_type": "markdown",
      "source": [
        "## Get the Data"
      ],
      "metadata": {
        "id": "OWGFr7wtbvWn"
      }
    },
    {
      "cell_type": "code",
      "source": [
        "!git clone https://github.com/Franck-Dernoncourt/pubmed-rct\n",
        "!ls pubmed-rct"
      ],
      "metadata": {
        "id": "TsN8g6Vfbxqo",
        "colab": {
          "base_uri": "https://localhost:8080/"
        },
        "outputId": "a343afc3-f2ce-4155-e40d-50c3be1c10c1"
      },
      "execution_count": 2,
      "outputs": [
        {
          "output_type": "stream",
          "name": "stdout",
          "text": [
            "Cloning into 'pubmed-rct'...\n",
            "remote: Enumerating objects: 33, done.\u001b[K\n",
            "remote: Counting objects: 100% (8/8), done.\u001b[K\n",
            "remote: Compressing objects: 100% (3/3), done.\u001b[K\n",
            "remote: Total 33 (delta 5), reused 5 (delta 5), pack-reused 25\u001b[K\n",
            "Unpacking objects: 100% (33/33), 177.08 MiB | 10.32 MiB/s, done.\n",
            "PubMed_200k_RCT\n",
            "PubMed_200k_RCT_numbers_replaced_with_at_sign\n",
            "PubMed_20k_RCT\n",
            "PubMed_20k_RCT_numbers_replaced_with_at_sign\n",
            "README.md\n"
          ]
        }
      ]
    },
    {
      "cell_type": "markdown",
      "source": [
        "So we have 4 major directories and each folder contain some txt files, let's check one of it,"
      ],
      "metadata": {
        "id": "vsjrw3VjkXIa"
      }
    },
    {
      "cell_type": "code",
      "source": [
        "!ls pubmed-rct/PubMed_20k_RCT_numbers_replaced_with_at_sign"
      ],
      "metadata": {
        "colab": {
          "base_uri": "https://localhost:8080/"
        },
        "id": "e7mwa5Q1kr0j",
        "outputId": "dc41b145-781c-4e9e-bfb0-c7c2d512eb45"
      },
      "execution_count": 3,
      "outputs": [
        {
          "output_type": "stream",
          "name": "stdout",
          "text": [
            "dev.txt  test.txt  train.txt\n"
          ]
        }
      ]
    },
    {
      "cell_type": "markdown",
      "source": [
        "- `dev.txt` contains the abstracts for validation set\n",
        "- `test.txt` is for testing\n",
        "- `train.txt` is for the training the model"
      ],
      "metadata": {
        "id": "k5Ylr1PGkzgM"
      }
    },
    {
      "cell_type": "markdown",
      "source": [
        "For the baseline and experiment purpose we can start with 20K data in which the numbers are replaces with @ sign, so basically we will use folder `PubMed_20k_RCT_numbers_replaced_with_at_sign`"
      ],
      "metadata": {
        "id": "unLo4Sdpk_az"
      }
    },
    {
      "cell_type": "code",
      "source": [
        "data_dir = 'pubmed-rct/PubMed_20k_RCT_numbers_replaced_with_at_sign/'\n",
        "\n",
        "import os\n",
        "filenames = [data_dir + filename for filename in os.listdir(data_dir)]\n",
        "filenames"
      ],
      "metadata": {
        "colab": {
          "base_uri": "https://localhost:8080/"
        },
        "id": "cUuMvUJclRGT",
        "outputId": "ff10041a-fe2b-44f5-fb7a-3a1da0bfaf2b"
      },
      "execution_count": 4,
      "outputs": [
        {
          "output_type": "execute_result",
          "data": {
            "text/plain": [
              "['pubmed-rct/PubMed_20k_RCT_numbers_replaced_with_at_sign/test.txt',\n",
              " 'pubmed-rct/PubMed_20k_RCT_numbers_replaced_with_at_sign/dev.txt',\n",
              " 'pubmed-rct/PubMed_20k_RCT_numbers_replaced_with_at_sign/train.txt']"
            ]
          },
          "metadata": {},
          "execution_count": 4
        }
      ]
    },
    {
      "cell_type": "markdown",
      "source": [
        "## Preprocess data\n",
        "\n",
        "Because our data is in the text files/format, we need to preprocess it first to get ready for the model training and also to get familiar with we need to convert it to something that we will be easy for us to understand.\n",
        "\n",
        "So let's write a function for it to read the text files,"
      ],
      "metadata": {
        "id": "13fLVOS6lwh9"
      }
    },
    {
      "cell_type": "code",
      "source": [
        "def get_lines(filename):\n",
        "  \"\"\"\n",
        "  Reads a filename(.txt) and returns the lines of text as a list\n",
        "  \"\"\"\n",
        "  with open(filename,'r') as f:\n",
        "    return f.readlines()    "
      ],
      "metadata": {
        "id": "9iu1H-W2mLDy"
      },
      "execution_count": 5,
      "outputs": []
    },
    {
      "cell_type": "code",
      "source": [
        "# try with training samples\n",
        "train_lines = get_lines(data_dir+'train.txt')\n",
        "train_lines[:15]"
      ],
      "metadata": {
        "colab": {
          "base_uri": "https://localhost:8080/"
        },
        "id": "HfCNGh9Qmbjp",
        "outputId": "e4d78406-0e8b-4391-aac3-e00882705a2f"
      },
      "execution_count": 7,
      "outputs": [
        {
          "output_type": "execute_result",
          "data": {
            "text/plain": [
              "['###24293578\\n',\n",
              " 'OBJECTIVE\\tTo investigate the efficacy of @ weeks of daily low-dose oral prednisolone in improving pain , mobility , and systemic low-grade inflammation in the short term and whether the effect would be sustained at @ weeks in older adults with moderate to severe knee osteoarthritis ( OA ) .\\n',\n",
              " 'METHODS\\tA total of @ patients with primary knee OA were randomized @:@ ; @ received @ mg/day of prednisolone and @ received placebo for @ weeks .\\n',\n",
              " 'METHODS\\tOutcome measures included pain reduction and improvement in function scores and systemic inflammation markers .\\n',\n",
              " 'METHODS\\tPain was assessed using the visual analog pain scale ( @-@ mm ) .\\n',\n",
              " 'METHODS\\tSecondary outcome measures included the Western Ontario and McMaster Universities Osteoarthritis Index scores , patient global assessment ( PGA ) of the severity of knee OA , and @-min walk distance ( @MWD ) .\\n',\n",
              " 'METHODS\\tSerum levels of interleukin @ ( IL-@ ) , IL-@ , tumor necrosis factor ( TNF ) - , and high-sensitivity C-reactive protein ( hsCRP ) were measured .\\n',\n",
              " 'RESULTS\\tThere was a clinically relevant reduction in the intervention group compared to the placebo group for knee pain , physical function , PGA , and @MWD at @ weeks .\\n',\n",
              " 'RESULTS\\tThe mean difference between treatment arms ( @ % CI ) was @ ( @-@ @ ) , p < @ ; @ ( @-@ @ ) , p < @ ; @ ( @-@ @ ) , p < @ ; and @ ( @-@ @ ) , p < @ , respectively .\\n',\n",
              " 'RESULTS\\tFurther , there was a clinically relevant reduction in the serum levels of IL-@ , IL-@ , TNF - , and hsCRP at @ weeks in the intervention group when compared to the placebo group .\\n',\n",
              " 'RESULTS\\tThese differences remained significant at @ weeks .\\n',\n",
              " 'RESULTS\\tThe Outcome Measures in Rheumatology Clinical Trials-Osteoarthritis Research Society International responder rate was @ % in the intervention group and @ % in the placebo group ( p < @ ) .\\n',\n",
              " 'CONCLUSIONS\\tLow-dose oral prednisolone had both a short-term and a longer sustained effect resulting in less knee pain , better physical function , and attenuation of systemic inflammation in older patients with knee OA ( ClinicalTrials.gov identifier NCT@ ) .\\n',\n",
              " '\\n',\n",
              " '###24854809\\n']"
            ]
          },
          "metadata": {},
          "execution_count": 7
        }
      ]
    },
    {
      "cell_type": "markdown",
      "source": [
        "These are the lines of each individual abstracts (which are separated using the `###(_id)` at the start and `\\n` in the end) and inside each abstract, there are multiple lines which have labels and texts which are separated with `\\t`.\n",
        "\n",
        "So we need to make this more readable for us and also for the machine. For this we can write a function which will gives us the list of dictionaries in the below format,\n",
        "\n",
        "```\n",
        "[{\n",
        "  'line_number':0,\n",
        "  'target':'OBJECTIVE',\n",
        "  'text':'To investigate the efficacy of @ weeks of daily low-dose oral prednisolone in improving pain , mobility , and systemic low-grade inflammation in the short term and whether the effect would be sustained at @ weeks in older adults with moderate to severe knee osteoarthritis ( OA ) .\\n',\n",
        "  'total_lines':11,\n",
        "}]\n",
        "```\n"
      ],
      "metadata": {
        "id": "9ZbV5RS1moyn"
      }
    },
    {
      "cell_type": "code",
      "source": [
        "def preprocess_text_with_line_numbers(filename):\n",
        "  \"\"\"\n",
        "  Returns the list of dictionaries of abstract line data.\n",
        "\n",
        "  Takes the filename as input, reads its contents and sorts through each line,\n",
        "  extracting things like the target label, text of the sentence, how many lines in\n",
        "  that abstract and what sentence number the target line is.\n",
        "  \"\"\"\n",
        "  input_lines = get_lines(filename)\n",
        "  abstract_lines = \"\"\n",
        "  abstract_samples = []\n",
        "\n",
        "  for line in input_lines:\n",
        "    if line.startswith(\"###\"):\n",
        "      abstract_id = line\n",
        "      abstract_lines = \"\"\n",
        "\n",
        "    elif line.isspace():\n",
        "      abstract_lines_split = abstract_lines.splitlines()\n",
        "\n",
        "      for abstract_line_number, abstract_line in enumerate(abstract_lines_split):\n",
        "        line_data={}\n",
        "        target_text_split = abstract_line.split('\\t')\n",
        "        line_data['target'] = target_text_split[0]\n",
        "        line_data['text'] = target_text_split[1].lower()\n",
        "        line_data['line_number'] = abstract_line_number \n",
        "        line_data['total_lines'] = len(abstract_lines_split) - 1 # total lines, starting from 0\n",
        "        abstract_samples.append(line_data)\n",
        "\n",
        "    else:\n",
        "      abstract_lines+=line\n",
        "  \n",
        "  return abstract_samples"
      ],
      "metadata": {
        "id": "IqwVyHYenoW5"
      },
      "execution_count": 19,
      "outputs": []
    },
    {
      "cell_type": "code",
      "source": [
        "# get data from files and preprocess it\n",
        "%%time\n",
        "\n",
        "train_samples = preprocess_text_with_line_numbers(data_dir+'train.txt')\n",
        "val_samples = preprocess_text_with_line_numbers(data_dir+'dev.txt')\n",
        "test_samples = preprocess_text_with_line_numbers(data_dir+'test.txt')\n",
        "\n",
        "len(train_samples), len(val_samples), len(test_samples)"
      ],
      "metadata": {
        "colab": {
          "base_uri": "https://localhost:8080/"
        },
        "id": "kRfln6_Aqfvb",
        "outputId": "7001e2e0-08a0-4c47-aefd-982bf8ac8aed"
      },
      "execution_count": 20,
      "outputs": [
        {
          "output_type": "stream",
          "name": "stdout",
          "text": [
            "CPU times: user 413 ms, sys: 44.2 ms, total: 457 ms\n",
            "Wall time: 459 ms\n"
          ]
        },
        {
          "output_type": "execute_result",
          "data": {
            "text/plain": [
              "(180040, 30212, 30135)"
            ]
          },
          "metadata": {},
          "execution_count": 20
        }
      ]
    },
    {
      "cell_type": "markdown",
      "source": [
        "Okay now we just created a list of dictionaries for each samples, let's see training samples how it looks"
      ],
      "metadata": {
        "id": "XjO2Q2yuqzRf"
      }
    },
    {
      "cell_type": "code",
      "source": [
        "train_samples[:14]"
      ],
      "metadata": {
        "colab": {
          "base_uri": "https://localhost:8080/"
        },
        "id": "LWyRVzdlq-cb",
        "outputId": "1826e5be-7cbf-46e9-e7c4-00958ef2e33b"
      },
      "execution_count": 21,
      "outputs": [
        {
          "output_type": "execute_result",
          "data": {
            "text/plain": [
              "[{'target': 'OBJECTIVE',\n",
              "  'text': 'to investigate the efficacy of @ weeks of daily low-dose oral prednisolone in improving pain , mobility , and systemic low-grade inflammation in the short term and whether the effect would be sustained at @ weeks in older adults with moderate to severe knee osteoarthritis ( oa ) .',\n",
              "  'line_number': 0,\n",
              "  'total_lines': 11},\n",
              " {'target': 'METHODS',\n",
              "  'text': 'a total of @ patients with primary knee oa were randomized @:@ ; @ received @ mg/day of prednisolone and @ received placebo for @ weeks .',\n",
              "  'line_number': 1,\n",
              "  'total_lines': 11},\n",
              " {'target': 'METHODS',\n",
              "  'text': 'outcome measures included pain reduction and improvement in function scores and systemic inflammation markers .',\n",
              "  'line_number': 2,\n",
              "  'total_lines': 11},\n",
              " {'target': 'METHODS',\n",
              "  'text': 'pain was assessed using the visual analog pain scale ( @-@ mm ) .',\n",
              "  'line_number': 3,\n",
              "  'total_lines': 11},\n",
              " {'target': 'METHODS',\n",
              "  'text': 'secondary outcome measures included the western ontario and mcmaster universities osteoarthritis index scores , patient global assessment ( pga ) of the severity of knee oa , and @-min walk distance ( @mwd ) .',\n",
              "  'line_number': 4,\n",
              "  'total_lines': 11},\n",
              " {'target': 'METHODS',\n",
              "  'text': 'serum levels of interleukin @ ( il-@ ) , il-@ , tumor necrosis factor ( tnf ) - , and high-sensitivity c-reactive protein ( hscrp ) were measured .',\n",
              "  'line_number': 5,\n",
              "  'total_lines': 11},\n",
              " {'target': 'RESULTS',\n",
              "  'text': 'there was a clinically relevant reduction in the intervention group compared to the placebo group for knee pain , physical function , pga , and @mwd at @ weeks .',\n",
              "  'line_number': 6,\n",
              "  'total_lines': 11},\n",
              " {'target': 'RESULTS',\n",
              "  'text': 'the mean difference between treatment arms ( @ % ci ) was @ ( @-@ @ ) , p < @ ; @ ( @-@ @ ) , p < @ ; @ ( @-@ @ ) , p < @ ; and @ ( @-@ @ ) , p < @ , respectively .',\n",
              "  'line_number': 7,\n",
              "  'total_lines': 11},\n",
              " {'target': 'RESULTS',\n",
              "  'text': 'further , there was a clinically relevant reduction in the serum levels of il-@ , il-@ , tnf - , and hscrp at @ weeks in the intervention group when compared to the placebo group .',\n",
              "  'line_number': 8,\n",
              "  'total_lines': 11},\n",
              " {'target': 'RESULTS',\n",
              "  'text': 'these differences remained significant at @ weeks .',\n",
              "  'line_number': 9,\n",
              "  'total_lines': 11},\n",
              " {'target': 'RESULTS',\n",
              "  'text': 'the outcome measures in rheumatology clinical trials-osteoarthritis research society international responder rate was @ % in the intervention group and @ % in the placebo group ( p < @ ) .',\n",
              "  'line_number': 10,\n",
              "  'total_lines': 11},\n",
              " {'target': 'CONCLUSIONS',\n",
              "  'text': 'low-dose oral prednisolone had both a short-term and a longer sustained effect resulting in less knee pain , better physical function , and attenuation of systemic inflammation in older patients with knee oa ( clinicaltrials.gov identifier nct@ ) .',\n",
              "  'line_number': 11,\n",
              "  'total_lines': 11},\n",
              " {'target': 'BACKGROUND',\n",
              "  'text': 'emotional eating is associated with overeating and the development of obesity .',\n",
              "  'line_number': 0,\n",
              "  'total_lines': 10},\n",
              " {'target': 'BACKGROUND',\n",
              "  'text': 'yet , empirical evidence for individual ( trait ) differences in emotional eating and cognitive mechanisms that contribute to eating during sad mood remain equivocal .',\n",
              "  'line_number': 1,\n",
              "  'total_lines': 10}]"
            ]
          },
          "metadata": {},
          "execution_count": 21
        }
      ]
    },
    {
      "cell_type": "markdown",
      "source": [
        "For more visual understanding, let's use `pandas` Dataframe"
      ],
      "metadata": {
        "id": "2UdZDOQ5q_wy"
      }
    },
    {
      "cell_type": "code",
      "source": [
        "import pandas as pd\n",
        "train_df = pd.DataFrame(train_samples)\n",
        "val_df = pd.DataFrame(val_samples)\n",
        "test_df = pd.DataFrame(test_samples)\n",
        "\n",
        "train_df.shape"
      ],
      "metadata": {
        "colab": {
          "base_uri": "https://localhost:8080/"
        },
        "id": "ZQvcD-NprK_L",
        "outputId": "de3bb5b6-b4ea-44cc-e46d-9653e24c3a8d"
      },
      "execution_count": 22,
      "outputs": [
        {
          "output_type": "execute_result",
          "data": {
            "text/plain": [
              "(180040, 4)"
            ]
          },
          "metadata": {},
          "execution_count": 22
        }
      ]
    },
    {
      "cell_type": "code",
      "source": [
        "train_df.shape, val_df.shape, test_df.shape"
      ],
      "metadata": {
        "colab": {
          "base_uri": "https://localhost:8080/"
        },
        "id": "DS2WV2hmrUnU",
        "outputId": "3bfcf4e0-b214-4f76-a105-f354612a887e"
      },
      "execution_count": 12,
      "outputs": [
        {
          "output_type": "execute_result",
          "data": {
            "text/plain": [
              "((180040, 4), (30212, 4), (30135, 4))"
            ]
          },
          "metadata": {},
          "execution_count": 12
        }
      ]
    },
    {
      "cell_type": "code",
      "source": [
        "train_df.head(12)"
      ],
      "metadata": {
        "colab": {
          "base_uri": "https://localhost:8080/",
          "height": 426
        },
        "id": "mhSsAbJ5rYVa",
        "outputId": "60e1d9e5-2563-46d9-e9c8-9ebb97781e3c"
      },
      "execution_count": 23,
      "outputs": [
        {
          "output_type": "execute_result",
          "data": {
            "text/plain": [
              "         target                                               text  \\\n",
              "0     OBJECTIVE  to investigate the efficacy of @ weeks of dail...   \n",
              "1       METHODS  a total of @ patients with primary knee oa wer...   \n",
              "2       METHODS  outcome measures included pain reduction and i...   \n",
              "3       METHODS  pain was assessed using the visual analog pain...   \n",
              "4       METHODS  secondary outcome measures included the wester...   \n",
              "5       METHODS  serum levels of interleukin @ ( il-@ ) , il-@ ...   \n",
              "6       RESULTS  there was a clinically relevant reduction in t...   \n",
              "7       RESULTS  the mean difference between treatment arms ( @...   \n",
              "8       RESULTS  further , there was a clinically relevant redu...   \n",
              "9       RESULTS  these differences remained significant at @ we...   \n",
              "10      RESULTS  the outcome measures in rheumatology clinical ...   \n",
              "11  CONCLUSIONS  low-dose oral prednisolone had both a short-te...   \n",
              "\n",
              "    line_number  total_lines  \n",
              "0             0           11  \n",
              "1             1           11  \n",
              "2             2           11  \n",
              "3             3           11  \n",
              "4             4           11  \n",
              "5             5           11  \n",
              "6             6           11  \n",
              "7             7           11  \n",
              "8             8           11  \n",
              "9             9           11  \n",
              "10           10           11  \n",
              "11           11           11  "
            ],
            "text/html": [
              "\n",
              "  <div id=\"df-764bab42-10dd-4e84-a3e0-b6126a5daa24\">\n",
              "    <div class=\"colab-df-container\">\n",
              "      <div>\n",
              "<style scoped>\n",
              "    .dataframe tbody tr th:only-of-type {\n",
              "        vertical-align: middle;\n",
              "    }\n",
              "\n",
              "    .dataframe tbody tr th {\n",
              "        vertical-align: top;\n",
              "    }\n",
              "\n",
              "    .dataframe thead th {\n",
              "        text-align: right;\n",
              "    }\n",
              "</style>\n",
              "<table border=\"1\" class=\"dataframe\">\n",
              "  <thead>\n",
              "    <tr style=\"text-align: right;\">\n",
              "      <th></th>\n",
              "      <th>target</th>\n",
              "      <th>text</th>\n",
              "      <th>line_number</th>\n",
              "      <th>total_lines</th>\n",
              "    </tr>\n",
              "  </thead>\n",
              "  <tbody>\n",
              "    <tr>\n",
              "      <th>0</th>\n",
              "      <td>OBJECTIVE</td>\n",
              "      <td>to investigate the efficacy of @ weeks of dail...</td>\n",
              "      <td>0</td>\n",
              "      <td>11</td>\n",
              "    </tr>\n",
              "    <tr>\n",
              "      <th>1</th>\n",
              "      <td>METHODS</td>\n",
              "      <td>a total of @ patients with primary knee oa wer...</td>\n",
              "      <td>1</td>\n",
              "      <td>11</td>\n",
              "    </tr>\n",
              "    <tr>\n",
              "      <th>2</th>\n",
              "      <td>METHODS</td>\n",
              "      <td>outcome measures included pain reduction and i...</td>\n",
              "      <td>2</td>\n",
              "      <td>11</td>\n",
              "    </tr>\n",
              "    <tr>\n",
              "      <th>3</th>\n",
              "      <td>METHODS</td>\n",
              "      <td>pain was assessed using the visual analog pain...</td>\n",
              "      <td>3</td>\n",
              "      <td>11</td>\n",
              "    </tr>\n",
              "    <tr>\n",
              "      <th>4</th>\n",
              "      <td>METHODS</td>\n",
              "      <td>secondary outcome measures included the wester...</td>\n",
              "      <td>4</td>\n",
              "      <td>11</td>\n",
              "    </tr>\n",
              "    <tr>\n",
              "      <th>5</th>\n",
              "      <td>METHODS</td>\n",
              "      <td>serum levels of interleukin @ ( il-@ ) , il-@ ...</td>\n",
              "      <td>5</td>\n",
              "      <td>11</td>\n",
              "    </tr>\n",
              "    <tr>\n",
              "      <th>6</th>\n",
              "      <td>RESULTS</td>\n",
              "      <td>there was a clinically relevant reduction in t...</td>\n",
              "      <td>6</td>\n",
              "      <td>11</td>\n",
              "    </tr>\n",
              "    <tr>\n",
              "      <th>7</th>\n",
              "      <td>RESULTS</td>\n",
              "      <td>the mean difference between treatment arms ( @...</td>\n",
              "      <td>7</td>\n",
              "      <td>11</td>\n",
              "    </tr>\n",
              "    <tr>\n",
              "      <th>8</th>\n",
              "      <td>RESULTS</td>\n",
              "      <td>further , there was a clinically relevant redu...</td>\n",
              "      <td>8</td>\n",
              "      <td>11</td>\n",
              "    </tr>\n",
              "    <tr>\n",
              "      <th>9</th>\n",
              "      <td>RESULTS</td>\n",
              "      <td>these differences remained significant at @ we...</td>\n",
              "      <td>9</td>\n",
              "      <td>11</td>\n",
              "    </tr>\n",
              "    <tr>\n",
              "      <th>10</th>\n",
              "      <td>RESULTS</td>\n",
              "      <td>the outcome measures in rheumatology clinical ...</td>\n",
              "      <td>10</td>\n",
              "      <td>11</td>\n",
              "    </tr>\n",
              "    <tr>\n",
              "      <th>11</th>\n",
              "      <td>CONCLUSIONS</td>\n",
              "      <td>low-dose oral prednisolone had both a short-te...</td>\n",
              "      <td>11</td>\n",
              "      <td>11</td>\n",
              "    </tr>\n",
              "  </tbody>\n",
              "</table>\n",
              "</div>\n",
              "      <button class=\"colab-df-convert\" onclick=\"convertToInteractive('df-764bab42-10dd-4e84-a3e0-b6126a5daa24')\"\n",
              "              title=\"Convert this dataframe to an interactive table.\"\n",
              "              style=\"display:none;\">\n",
              "        \n",
              "  <svg xmlns=\"http://www.w3.org/2000/svg\" height=\"24px\"viewBox=\"0 0 24 24\"\n",
              "       width=\"24px\">\n",
              "    <path d=\"M0 0h24v24H0V0z\" fill=\"none\"/>\n",
              "    <path d=\"M18.56 5.44l.94 2.06.94-2.06 2.06-.94-2.06-.94-.94-2.06-.94 2.06-2.06.94zm-11 1L8.5 8.5l.94-2.06 2.06-.94-2.06-.94L8.5 2.5l-.94 2.06-2.06.94zm10 10l.94 2.06.94-2.06 2.06-.94-2.06-.94-.94-2.06-.94 2.06-2.06.94z\"/><path d=\"M17.41 7.96l-1.37-1.37c-.4-.4-.92-.59-1.43-.59-.52 0-1.04.2-1.43.59L10.3 9.45l-7.72 7.72c-.78.78-.78 2.05 0 2.83L4 21.41c.39.39.9.59 1.41.59.51 0 1.02-.2 1.41-.59l7.78-7.78 2.81-2.81c.8-.78.8-2.07 0-2.86zM5.41 20L4 18.59l7.72-7.72 1.47 1.35L5.41 20z\"/>\n",
              "  </svg>\n",
              "      </button>\n",
              "      \n",
              "  <style>\n",
              "    .colab-df-container {\n",
              "      display:flex;\n",
              "      flex-wrap:wrap;\n",
              "      gap: 12px;\n",
              "    }\n",
              "\n",
              "    .colab-df-convert {\n",
              "      background-color: #E8F0FE;\n",
              "      border: none;\n",
              "      border-radius: 50%;\n",
              "      cursor: pointer;\n",
              "      display: none;\n",
              "      fill: #1967D2;\n",
              "      height: 32px;\n",
              "      padding: 0 0 0 0;\n",
              "      width: 32px;\n",
              "    }\n",
              "\n",
              "    .colab-df-convert:hover {\n",
              "      background-color: #E2EBFA;\n",
              "      box-shadow: 0px 1px 2px rgba(60, 64, 67, 0.3), 0px 1px 3px 1px rgba(60, 64, 67, 0.15);\n",
              "      fill: #174EA6;\n",
              "    }\n",
              "\n",
              "    [theme=dark] .colab-df-convert {\n",
              "      background-color: #3B4455;\n",
              "      fill: #D2E3FC;\n",
              "    }\n",
              "\n",
              "    [theme=dark] .colab-df-convert:hover {\n",
              "      background-color: #434B5C;\n",
              "      box-shadow: 0px 1px 3px 1px rgba(0, 0, 0, 0.15);\n",
              "      filter: drop-shadow(0px 1px 2px rgba(0, 0, 0, 0.3));\n",
              "      fill: #FFFFFF;\n",
              "    }\n",
              "  </style>\n",
              "\n",
              "      <script>\n",
              "        const buttonEl =\n",
              "          document.querySelector('#df-764bab42-10dd-4e84-a3e0-b6126a5daa24 button.colab-df-convert');\n",
              "        buttonEl.style.display =\n",
              "          google.colab.kernel.accessAllowed ? 'block' : 'none';\n",
              "\n",
              "        async function convertToInteractive(key) {\n",
              "          const element = document.querySelector('#df-764bab42-10dd-4e84-a3e0-b6126a5daa24');\n",
              "          const dataTable =\n",
              "            await google.colab.kernel.invokeFunction('convertToInteractive',\n",
              "                                                     [key], {});\n",
              "          if (!dataTable) return;\n",
              "\n",
              "          const docLinkHtml = 'Like what you see? Visit the ' +\n",
              "            '<a target=\"_blank\" href=https://colab.research.google.com/notebooks/data_table.ipynb>data table notebook</a>'\n",
              "            + ' to learn more about interactive tables.';\n",
              "          element.innerHTML = '';\n",
              "          dataTable['output_type'] = 'display_data';\n",
              "          await google.colab.output.renderOutput(dataTable, element);\n",
              "          const docLink = document.createElement('div');\n",
              "          docLink.innerHTML = docLinkHtml;\n",
              "          element.appendChild(docLink);\n",
              "        }\n",
              "      </script>\n",
              "    </div>\n",
              "  </div>\n",
              "  "
            ]
          },
          "metadata": {},
          "execution_count": 23
        }
      ]
    },
    {
      "cell_type": "markdown",
      "source": [
        "Now our dataframe is ready, we can use data analysis functions of pandas,"
      ],
      "metadata": {
        "id": "5eN9JbnBrabL"
      }
    },
    {
      "cell_type": "code",
      "source": [
        "train_df.target.value_counts()"
      ],
      "metadata": {
        "colab": {
          "base_uri": "https://localhost:8080/"
        },
        "id": "o5D4uHT-sV92",
        "outputId": "050bc93b-254d-4b67-be11-f5359fc6bb7e"
      },
      "execution_count": 24,
      "outputs": [
        {
          "output_type": "execute_result",
          "data": {
            "text/plain": [
              "METHODS        59353\n",
              "RESULTS        57953\n",
              "CONCLUSIONS    27168\n",
              "BACKGROUND     21727\n",
              "OBJECTIVE      13839\n",
              "Name: target, dtype: int64"
            ]
          },
          "metadata": {},
          "execution_count": 24
        }
      ]
    },
    {
      "cell_type": "code",
      "source": [
        "# check the hist distribution of our abstract lenghts\n",
        "train_df.total_lines.plot.hist();"
      ],
      "metadata": {
        "colab": {
          "base_uri": "https://localhost:8080/",
          "height": 267
        },
        "id": "_vaNel4osYwN",
        "outputId": "8a8826e6-26d9-4130-a483-bd26d51737af"
      },
      "execution_count": 26,
      "outputs": [
        {
          "output_type": "display_data",
          "data": {
            "text/plain": [
              "<Figure size 432x288 with 1 Axes>"
            ],
            "image/png": "[encoded data removed]"
          },
          "metadata": {
            "needs_background": "light"
          }
        }
      ]
    },
    {
      "cell_type": "markdown",
      "source": [
        "Looks like most of the abstracts are around 7 to 15 sentences in length.\n",
        "\n",
        "It's good to check these things out to make sure when we do train a model or test it on unseen samples, our results aren't outlandish."
      ],
      "metadata": {
        "id": "WiqVwHyksj99"
      }
    },
    {
      "cell_type": "markdown",
      "source": [
        "### Get lists of sentences\n",
        "\n",
        "We we build our deep learning models, one of its main inputs will be a list of string (the lines of an abstract)."
      ],
      "metadata": {
        "id": "oFZoeWgks1EH"
      }
    },
    {
      "cell_type": "code",
      "source": [
        "# convert abstract text lines into lists\n",
        "train_sentences = train_df['text'].tolist()\n",
        "val_sentences = val_df['text'].tolist()\n",
        "test_sentences = test_df['text'].tolist()\n",
        "\n",
        "# check first 10 sentences of training set\n",
        "train_sentences[:10]"
      ],
      "metadata": {
        "colab": {
          "base_uri": "https://localhost:8080/"
        },
        "id": "wLQzNE8jtXQC",
        "outputId": "0665feff-59b3-4da5-ea21-8ced794d049b"
      },
      "execution_count": 27,
      "outputs": [
        {
          "output_type": "execute_result",
          "data": {
            "text/plain": [
              "['to investigate the efficacy of @ weeks of daily low-dose oral prednisolone in improving pain , mobility , and systemic low-grade inflammation in the short term and whether the effect would be sustained at @ weeks in older adults with moderate to severe knee osteoarthritis ( oa ) .',\n",
              " 'a total of @ patients with primary knee oa were randomized @:@ ; @ received @ mg/day of prednisolone and @ received placebo for @ weeks .',\n",
              " 'outcome measures included pain reduction and improvement in function scores and systemic inflammation markers .',\n",
              " 'pain was assessed using the visual analog pain scale ( @-@ mm ) .',\n",
              " 'secondary outcome measures included the western ontario and mcmaster universities osteoarthritis index scores , patient global assessment ( pga ) of the severity of knee oa , and @-min walk distance ( @mwd ) .',\n",
              " 'serum levels of interleukin @ ( il-@ ) , il-@ , tumor necrosis factor ( tnf ) - , and high-sensitivity c-reactive protein ( hscrp ) were measured .',\n",
              " 'there was a clinically relevant reduction in the intervention group compared to the placebo group for knee pain , physical function , pga , and @mwd at @ weeks .',\n",
              " 'the mean difference between treatment arms ( @ % ci ) was @ ( @-@ @ ) , p < @ ; @ ( @-@ @ ) , p < @ ; @ ( @-@ @ ) , p < @ ; and @ ( @-@ @ ) , p < @ , respectively .',\n",
              " 'further , there was a clinically relevant reduction in the serum levels of il-@ , il-@ , tnf - , and hscrp at @ weeks in the intervention group when compared to the placebo group .',\n",
              " 'these differences remained significant at @ weeks .']"
            ]
          },
          "metadata": {},
          "execution_count": 27
        }
      ]
    },
    {
      "cell_type": "markdown",
      "source": [
        "## Make numeric labels (ML Models require numeric labels)\n",
        "\n",
        "We're going to create label encoded and one hot encoded labels.\n",
        "\n",
        "Tensorflow CategoriCalCrossEntropy loss function likes to have one hot encoded labels, so we also need one hot encoded labels but for baseline model like Scikit-Learn, label encoded is enough."
      ],
      "metadata": {
        "id": "EjnKVMsNto9z"
      }
    },
    {
      "cell_type": "code",
      "source": [
        "# one hot encoded\n",
        "from sklearn.preprocessing import OneHotEncoder\n",
        "one_hot_encoder = OneHotEncoder(sparse=False)\n",
        "train_labels_one_hot = one_hot_encoder.fit_transform(train_df['target'].to_numpy().reshape(-1,1))\n",
        "val_labels_one_hot = one_hot_encoder.transform(val_df['target'].to_numpy().reshape(-1,1))\n",
        "test_labels_one_hot = one_hot_encoder.transform(test_df['target'].to_numpy().reshape(-1,1))\n",
        "\n",
        "# check what training labels look like\n",
        "train_labels_one_hot"
      ],
      "metadata": {
        "colab": {
          "base_uri": "https://localhost:8080/"
        },
        "id": "SbhJuJEtuKMy",
        "outputId": "9a40813e-7fa3-4cbd-965a-0a3ae0021ebb"
      },
      "execution_count": 31,
      "outputs": [
        {
          "output_type": "execute_result",
          "data": {
            "text/plain": [
              "array([[0., 0., 0., 1., 0.],\n",
              "       [0., 0., 1., 0., 0.],\n",
              "       [0., 0., 1., 0., 0.],\n",
              "       ...,\n",
              "       [0., 0., 0., 0., 1.],\n",
              "       [0., 1., 0., 0., 0.],\n",
              "       [0., 1., 0., 0., 0.]])"
            ]
          },
          "metadata": {},
          "execution_count": 31
        }
      ]
    },
    {
      "cell_type": "code",
      "source": [
        "import tensorflow as tf\n",
        "tf.constant(train_labels_one_hot)"
      ],
      "metadata": {
        "colab": {
          "base_uri": "https://localhost:8080/"
        },
        "id": "etZ-lVKHuw-0",
        "outputId": "b72cde95-449b-4dac-d6b1-a08b490ce811"
      },
      "execution_count": 32,
      "outputs": [
        {
          "output_type": "execute_result",
          "data": {
            "text/plain": [
              "<tf.Tensor: shape=(180040, 5), dtype=float64, numpy=\n",
              "array([[0., 0., 0., 1., 0.],\n",
              "       [0., 0., 1., 0., 0.],\n",
              "       [0., 0., 1., 0., 0.],\n",
              "       ...,\n",
              "       [0., 0., 0., 0., 1.],\n",
              "       [0., 1., 0., 0., 0.],\n",
              "       [0., 1., 0., 0., 0.]])>"
            ]
          },
          "metadata": {},
          "execution_count": 32
        }
      ]
    },
    {
      "cell_type": "markdown",
      "source": [
        "In the above OneHotEncoder method passing `sparse=False` because if don't then tensorflow will throw an error while converting it into tensors.\n",
        "\n",
        "![Screenshot 2023-03-02 at 10.41.57 AM.png](data:image/png;base64,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)"
      ],
      "metadata": {
        "id": "hnaMBsS8u5Fd"
      }
    },
    {
      "cell_type": "markdown",
      "source": [
        "### Label Encoded\n"
      ],
      "metadata": {
        "id": "PLNfqR0AvQSL"
      }
    },
    {
      "cell_type": "code",
      "source": [
        "from sklearn.preprocessing import LabelEncoder\n",
        "label_encoder = LabelEncoder()\n",
        "\n",
        "train_labels_encoded = label_encoder.fit_transform(train_df['target'].to_numpy())\n",
        "val_labels_encoded = label_encoder.transform(val_df['target'].to_numpy())\n",
        "test_labels_encoded = label_encoder.transform(test_df['target'].to_numpy())\n",
        "\n",
        "# check the label encoded train labels\n",
        "train_labels_encoded\n"
      ],
      "metadata": {
        "colab": {
          "base_uri": "https://localhost:8080/"
        },
        "id": "sPqgI5pYvarZ",
        "outputId": "bb836170-9400-420f-da14-ee7807a50290"
      },
      "execution_count": 35,
      "outputs": [
        {
          "output_type": "execute_result",
          "data": {
            "text/plain": [
              "array([3, 2, 2, ..., 4, 1, 1])"
            ]
          },
          "metadata": {},
          "execution_count": 35
        }
      ]
    },
    {
      "cell_type": "markdown",
      "source": [
        "Let's get the classnames from the trained `LabelEncoder` using `classes_` attribute"
      ],
      "metadata": {
        "id": "Ox_xHVd2vwb0"
      }
    },
    {
      "cell_type": "code",
      "source": [
        "# get the class names and number of classes from LabelENcoder instance\n",
        "num_classes = len(label_encoder.classes_)\n",
        "class_names = label_encoder.classes_\n",
        "\n",
        "class_names, num_classes"
      ],
      "metadata": {
        "colab": {
          "base_uri": "https://localhost:8080/"
        },
        "id": "GmIJSabVv5p9",
        "outputId": "2f76d181-f4be-42af-aeae-ddcccadc3c22"
      },
      "execution_count": 36,
      "outputs": [
        {
          "output_type": "execute_result",
          "data": {
            "text/plain": [
              "(array(['BACKGROUND', 'CONCLUSIONS', 'METHODS', 'OBJECTIVE', 'RESULTS'],\n",
              "       dtype=object), 5)"
            ]
          },
          "metadata": {},
          "execution_count": 36
        }
      ]
    },
    {
      "cell_type": "code",
      "source": [],
      "metadata": {
        "id": "3h9m9v6ywLQL"
      },
      "execution_count": null,
      "outputs": []
    }
  ]
}