{
  "cells": [
    {
      "cell_type": "markdown",
      "metadata": {
        "id": "view-in-github",
        "colab_type": "text"
      },
      "source": [
        "<a href=\"https://colab.research.google.com/github/SaketMunda/introduction-to-nlp/blob/master/skimlit_nlp_milestone_project.ipynb\" target=\"_parent\"><img src=\"https://colab.research.google.com/assets/colab-badge.svg\" alt=\"Open In Colab\"/></a>"
      ]
    },
    {
      "cell_type": "markdown",
      "metadata": {
        "id": "PRL9QZPUU-Wy"
      },
      "source": [
        "# NLP Milestone Project : SkimLit 🗒 🔥\n",
        "\n",
        "In this project, we're going to be putting what we've learned during the `introduction_to_nlp` notebook.\n",
        "\n",
        "We're going to be replicating the deep learning model behind the 2017 paper [PubMed 200K RCT : a Dataset for Sequential Sentence Classification in Medical Abstracts](https://arxiv.org/abs/1710.06071)\n",
        "\n",
        "RCT : Randomized Controlled Trial abstracts\n",
        "\n",
        "The goal of the dataset was to explore the ability for NLP models to classify sentences which appear in sequential order.\n",
        "\n",
        "Input : an abstract of a RCT\n",
        "\n",
        "Output : What role does each sentence serve in the abstract ?\n",
        "\n",
        "**Problem**:\n",
        "\n",
        "The number of RCT papers released is continuing to increase, those without structured abstracts can be hard to read and in turn slow down researchers moving through the literature.\n",
        "\n",
        "**Solution**:\n",
        "\n",
        "Create an NLP model to classify abstract sentences into the role they play (e.g objective, methods, results, etc) to enable researchers to skim through the literature (hence SkimLit) and dive deeper when necessary.\n",
        "\n",
        "**Dataset**:\n",
        "\n",
        "[PubMed RCT200k from Github](https://github.com/Franck-Dernoncourt/pubmed-rct)\n",
        "\n",
        "\n",
        "**Replicating Model Architecture**:\n",
        "\n",
        "[Neural Networks for joint sentence classification in medical paper abstracts](https://arxiv.org/pdf/1612.05251.pdf)\n",
        "\n"
      ]
    },
    {
      "cell_type": "code",
      "execution_count": 1,
      "metadata": {
        "colab": {
          "base_uri": "https://localhost:8080/"
        },
        "id": "8-JE17ywboJC",
        "outputId": "b2458fc0-d5f8-433e-e4bf-ccc4fce4982c"
      },
      "outputs": [
        {
          "output_type": "stream",
          "name": "stdout",
          "text": [
            "GPU 0: Tesla T4 (UUID: GPU-551bb471-41f6-316c-1579-dd7006421aaf)\n"
          ]
        }
      ],
      "source": [
        "# check the gpu\n",
        "!nvidia-smi -L"
      ]
    },
    {
      "cell_type": "code",
      "execution_count": 2,
      "metadata": {
        "colab": {
          "base_uri": "https://localhost:8080/"
        },
        "id": "PeVcZSI6vOe_",
        "outputId": "f03854d4-e8a5-4479-87f3-798e5c300602"
      },
      "outputs": [
        {
          "output_type": "stream",
          "name": "stdout",
          "text": [
            "--2023-03-15 02:17:52--  https://raw.githubusercontent.com/SaketMunda/ml-helpers/master/helper_functions.py\n",
            "Resolving raw.githubusercontent.com (raw.githubusercontent.com)... 185.199.108.133, 185.199.109.133, 185.199.110.133, ...\n",
            "Connecting to raw.githubusercontent.com (raw.githubusercontent.com)|185.199.108.133|:443... connected.\n",
            "HTTP request sent, awaiting response... 200 OK\n",
            "Length: 2904 (2.8K) [text/plain]\n",
            "Saving to: ‘helper_functions.py’\n",
            "\n",
            "\rhelper_functions.py   0%[                    ]       0  --.-KB/s               \rhelper_functions.py 100%[===================>]   2.84K  --.-KB/s    in 0s      \n",
            "\n",
            "2023-03-15 02:17:53 (52.2 MB/s) - ‘helper_functions.py’ saved [2904/2904]\n",
            "\n"
          ]
        }
      ],
      "source": [
        "# Import our Helper function\n",
        "!wget https://raw.githubusercontent.com/SaketMunda/ml-helpers/master/helper_functions.py\n",
        "\n",
        "from helper_functions import create_tensorboard_callback"
      ]
    },
    {
      "cell_type": "markdown",
      "metadata": {
        "id": "OWGFr7wtbvWn"
      },
      "source": [
        "## Get the Data"
      ]
    },
    {
      "cell_type": "code",
      "execution_count": 3,
      "metadata": {
        "colab": {
          "base_uri": "https://localhost:8080/"
        },
        "id": "TsN8g6Vfbxqo",
        "outputId": "9fce1cec-c54c-42f4-ff7b-195d7e82f3d4"
      },
      "outputs": [
        {
          "output_type": "stream",
          "name": "stdout",
          "text": [
            "Cloning into 'pubmed-rct'...\n",
            "remote: Enumerating objects: 33, done.\u001b[K\n",
            "remote: Counting objects: 100% (8/8), done.\u001b[K\n",
            "remote: Compressing objects: 100% (3/3), done.\u001b[K\n",
            "remote: Total 33 (delta 5), reused 5 (delta 5), pack-reused 25\u001b[K\n",
            "Unpacking objects: 100% (33/33), 177.08 MiB | 13.34 MiB/s, done.\n",
            "PubMed_200k_RCT\n",
            "PubMed_200k_RCT_numbers_replaced_with_at_sign\n",
            "PubMed_20k_RCT\n",
            "PubMed_20k_RCT_numbers_replaced_with_at_sign\n",
            "README.md\n"
          ]
        }
      ],
      "source": [
        "!git clone https://github.com/Franck-Dernoncourt/pubmed-rct\n",
        "!ls pubmed-rct"
      ]
    },
    {
      "cell_type": "markdown",
      "metadata": {
        "id": "vsjrw3VjkXIa"
      },
      "source": [
        "So we have 4 major directories and each folder contain some txt files, let's check one of it,"
      ]
    },
    {
      "cell_type": "code",
      "execution_count": 4,
      "metadata": {
        "colab": {
          "base_uri": "https://localhost:8080/"
        },
        "id": "e7mwa5Q1kr0j",
        "outputId": "e7480c7f-c6b8-46a9-a3c3-b79e01bcac59"
      },
      "outputs": [
        {
          "output_type": "stream",
          "name": "stdout",
          "text": [
            "dev.txt  test.txt  train.txt\n"
          ]
        }
      ],
      "source": [
        "!ls pubmed-rct/PubMed_20k_RCT_numbers_replaced_with_at_sign"
      ]
    },
    {
      "cell_type": "markdown",
      "metadata": {
        "id": "k5Ylr1PGkzgM"
      },
      "source": [
        "- `dev.txt` contains the abstracts for validation set\n",
        "- `test.txt` is for testing\n",
        "- `train.txt` is for the training the model"
      ]
    },
    {
      "cell_type": "markdown",
      "metadata": {
        "id": "unLo4Sdpk_az"
      },
      "source": [
        "For the baseline and experiment purpose we can start with 20K data in which the numbers are replaces with @ sign, so basically we will use folder `PubMed_20k_RCT_numbers_replaced_with_at_sign`"
      ]
    },
    {
      "cell_type": "code",
      "execution_count": 5,
      "metadata": {
        "colab": {
          "base_uri": "https://localhost:8080/"
        },
        "id": "cUuMvUJclRGT",
        "outputId": "7c6a9788-41ca-49b5-ceda-0a410e9acd59"
      },
      "outputs": [
        {
          "output_type": "execute_result",
          "data": {
            "text/plain": [
              "['pubmed-rct/PubMed_20k_RCT_numbers_replaced_with_at_sign/dev.txt',\n",
              " 'pubmed-rct/PubMed_20k_RCT_numbers_replaced_with_at_sign/test.txt',\n",
              " 'pubmed-rct/PubMed_20k_RCT_numbers_replaced_with_at_sign/train.txt']"
            ]
          },
          "metadata": {},
          "execution_count": 5
        }
      ],
      "source": [
        "data_dir = 'pubmed-rct/PubMed_20k_RCT_numbers_replaced_with_at_sign/'\n",
        "\n",
        "import os\n",
        "filenames = [data_dir + filename for filename in os.listdir(data_dir)]\n",
        "filenames"
      ]
    },
    {
      "cell_type": "markdown",
      "metadata": {
        "id": "13fLVOS6lwh9"
      },
      "source": [
        "## Preprocess data\n",
        "\n",
        "Because our data is in the text files/format, we need to preprocess it first to get ready for the model training and also to get familiar with we need to convert it to something that we will be easy for us to understand.\n",
        "\n",
        "So let's write a function for it to read the text files,"
      ]
    },
    {
      "cell_type": "code",
      "execution_count": 6,
      "metadata": {
        "id": "9iu1H-W2mLDy"
      },
      "outputs": [],
      "source": [
        "def get_lines(filename):\n",
        "  \"\"\"\n",
        "  Reads a filename(.txt) and returns the lines of text as a list\n",
        "  \"\"\"\n",
        "  with open(filename,'r') as f:\n",
        "    return f.readlines()    "
      ]
    },
    {
      "cell_type": "code",
      "execution_count": 7,
      "metadata": {
        "colab": {
          "base_uri": "https://localhost:8080/"
        },
        "id": "HfCNGh9Qmbjp",
        "outputId": "1c6db155-b6ed-45a4-dc8a-e6b25a956ddf"
      },
      "outputs": [
        {
          "output_type": "execute_result",
          "data": {
            "text/plain": [
              "['###24293578\\n',\n",
              " 'OBJECTIVE\\tTo investigate the efficacy of @ weeks of daily low-dose oral prednisolone in improving pain , mobility , and systemic low-grade inflammation in the short term and whether the effect would be sustained at @ weeks in older adults with moderate to severe knee osteoarthritis ( OA ) .\\n',\n",
              " 'METHODS\\tA total of @ patients with primary knee OA were randomized @:@ ; @ received @ mg/day of prednisolone and @ received placebo for @ weeks .\\n',\n",
              " 'METHODS\\tOutcome measures included pain reduction and improvement in function scores and systemic inflammation markers .\\n',\n",
              " 'METHODS\\tPain was assessed using the visual analog pain scale ( @-@ mm ) .\\n',\n",
              " 'METHODS\\tSecondary outcome measures included the Western Ontario and McMaster Universities Osteoarthritis Index scores , patient global assessment ( PGA ) of the severity of knee OA , and @-min walk distance ( @MWD ) .\\n',\n",
              " 'METHODS\\tSerum levels of interleukin @ ( IL-@ ) , IL-@ , tumor necrosis factor ( TNF ) - , and high-sensitivity C-reactive protein ( hsCRP ) were measured .\\n',\n",
              " 'RESULTS\\tThere was a clinically relevant reduction in the intervention group compared to the placebo group for knee pain , physical function , PGA , and @MWD at @ weeks .\\n',\n",
              " 'RESULTS\\tThe mean difference between treatment arms ( @ % CI ) was @ ( @-@ @ ) , p < @ ; @ ( @-@ @ ) , p < @ ; @ ( @-@ @ ) , p < @ ; and @ ( @-@ @ ) , p < @ , respectively .\\n',\n",
              " 'RESULTS\\tFurther , there was a clinically relevant reduction in the serum levels of IL-@ , IL-@ , TNF - , and hsCRP at @ weeks in the intervention group when compared to the placebo group .\\n',\n",
              " 'RESULTS\\tThese differences remained significant at @ weeks .\\n',\n",
              " 'RESULTS\\tThe Outcome Measures in Rheumatology Clinical Trials-Osteoarthritis Research Society International responder rate was @ % in the intervention group and @ % in the placebo group ( p < @ ) .\\n',\n",
              " 'CONCLUSIONS\\tLow-dose oral prednisolone had both a short-term and a longer sustained effect resulting in less knee pain , better physical function , and attenuation of systemic inflammation in older patients with knee OA ( ClinicalTrials.gov identifier NCT@ ) .\\n',\n",
              " '\\n',\n",
              " '###24854809\\n']"
            ]
          },
          "metadata": {},
          "execution_count": 7
        }
      ],
      "source": [
        "# try with training samples\n",
        "train_lines = get_lines(data_dir+'train.txt')\n",
        "train_lines[:15]"
      ]
    },
    {
      "cell_type": "markdown",
      "metadata": {
        "id": "9ZbV5RS1moyn"
      },
      "source": [
        "These are the lines of each individual abstracts (which are separated using the `###(_id)` at the start and `\\n` in the end) and inside each abstract, there are multiple lines which have labels and texts which are separated with `\\t`.\n",
        "\n",
        "So we need to make this more readable for us and also for the machine. For this we can write a function which will gives us the list of dictionaries in the below format,\n",
        "\n",
        "```\n",
        "[{\n",
        "  'line_number':0,\n",
        "  'target':'OBJECTIVE',\n",
        "  'text':'To investigate the efficacy of @ weeks of daily low-dose oral prednisolone in improving pain , mobility , and systemic low-grade inflammation in the short term and whether the effect would be sustained at @ weeks in older adults with moderate to severe knee osteoarthritis ( OA ) .\\n',\n",
        "  'total_lines':11,\n",
        "}]\n",
        "```\n"
      ]
    },
    {
      "cell_type": "code",
      "execution_count": 8,
      "metadata": {
        "id": "IqwVyHYenoW5"
      },
      "outputs": [],
      "source": [
        "def preprocess_text_with_line_numbers(filename):\n",
        "  \"\"\"\n",
        "  Returns the list of dictionaries of abstract line data.\n",
        "\n",
        "  Takes the filename as input, reads its contents and sorts through each line,\n",
        "  extracting things like the target label, text of the sentence, how many lines in\n",
        "  that abstract and what sentence number the target line is.\n",
        "  \"\"\"\n",
        "  input_lines = get_lines(filename)\n",
        "  abstract_lines = \"\"\n",
        "  abstract_samples = []\n",
        "\n",
        "  for line in input_lines:\n",
        "    if line.startswith(\"###\"):\n",
        "      abstract_id = line\n",
        "      abstract_lines = \"\"\n",
        "\n",
        "    elif line.isspace():\n",
        "      abstract_lines_split = abstract_lines.splitlines()\n",
        "\n",
        "      for abstract_line_number, abstract_line in enumerate(abstract_lines_split):\n",
        "        line_data={}\n",
        "        target_text_split = abstract_line.split('\\t')\n",
        "        line_data['target'] = target_text_split[0]\n",
        "        line_data['text'] = target_text_split[1].lower()\n",
        "        line_data['line_number'] = abstract_line_number \n",
        "        line_data['total_lines'] = len(abstract_lines_split) - 1 # total lines, starting from 0\n",
        "        abstract_samples.append(line_data)\n",
        "\n",
        "    else:\n",
        "      abstract_lines+=line\n",
        "  \n",
        "  return abstract_samples"
      ]
    },
    {
      "cell_type": "code",
      "execution_count": 9,
      "metadata": {
        "colab": {
          "base_uri": "https://localhost:8080/"
        },
        "id": "kRfln6_Aqfvb",
        "outputId": "603ff425-cde7-429b-d72e-73cb22e90108"
      },
      "outputs": [
        {
          "output_type": "stream",
          "name": "stdout",
          "text": [
            "CPU times: user 354 ms, sys: 87.2 ms, total: 441 ms\n",
            "Wall time: 441 ms\n"
          ]
        },
        {
          "output_type": "execute_result",
          "data": {
            "text/plain": [
              "(180040, 30212, 30135)"
            ]
          },
          "metadata": {},
          "execution_count": 9
        }
      ],
      "source": [
        "# get data from files and preprocess it\n",
        "%%time\n",
        "\n",
        "train_samples = preprocess_text_with_line_numbers(data_dir+'train.txt')\n",
        "val_samples = preprocess_text_with_line_numbers(data_dir+'dev.txt')\n",
        "test_samples = preprocess_text_with_line_numbers(data_dir+'test.txt')\n",
        "\n",
        "len(train_samples), len(val_samples), len(test_samples)"
      ]
    },
    {
      "cell_type": "markdown",
      "metadata": {
        "id": "XjO2Q2yuqzRf"
      },
      "source": [
        "Okay now we just created a list of dictionaries for each samples, let's see training samples how it looks"
      ]
    },
    {
      "cell_type": "code",
      "execution_count": null,
      "metadata": {
        "colab": {
          "base_uri": "https://localhost:8080/"
        },
        "id": "LWyRVzdlq-cb",
        "outputId": "1e257f92-3f83-4de3-dd81-d4d3c4ab0b2a"
      },
      "outputs": [
        {
          "data": {
            "text/plain": [
              "[{'target': 'OBJECTIVE',\n",
              "  'text': 'to investigate the efficacy of @ weeks of daily low-dose oral prednisolone in improving pain , mobility , and systemic low-grade inflammation in the short term and whether the effect would be sustained at @ weeks in older adults with moderate to severe knee osteoarthritis ( oa ) .',\n",
              "  'line_number': 0,\n",
              "  'total_lines': 11},\n",
              " {'target': 'METHODS',\n",
              "  'text': 'a total of @ patients with primary knee oa were randomized @:@ ; @ received @ mg/day of prednisolone and @ received placebo for @ weeks .',\n",
              "  'line_number': 1,\n",
              "  'total_lines': 11},\n",
              " {'target': 'METHODS',\n",
              "  'text': 'outcome measures included pain reduction and improvement in function scores and systemic inflammation markers .',\n",
              "  'line_number': 2,\n",
              "  'total_lines': 11},\n",
              " {'target': 'METHODS',\n",
              "  'text': 'pain was assessed using the visual analog pain scale ( @-@ mm ) .',\n",
              "  'line_number': 3,\n",
              "  'total_lines': 11},\n",
              " {'target': 'METHODS',\n",
              "  'text': 'secondary outcome measures included the western ontario and mcmaster universities osteoarthritis index scores , patient global assessment ( pga ) of the severity of knee oa , and @-min walk distance ( @mwd ) .',\n",
              "  'line_number': 4,\n",
              "  'total_lines': 11},\n",
              " {'target': 'METHODS',\n",
              "  'text': 'serum levels of interleukin @ ( il-@ ) , il-@ , tumor necrosis factor ( tnf ) - , and high-sensitivity c-reactive protein ( hscrp ) were measured .',\n",
              "  'line_number': 5,\n",
              "  'total_lines': 11},\n",
              " {'target': 'RESULTS',\n",
              "  'text': 'there was a clinically relevant reduction in the intervention group compared to the placebo group for knee pain , physical function , pga , and @mwd at @ weeks .',\n",
              "  'line_number': 6,\n",
              "  'total_lines': 11},\n",
              " {'target': 'RESULTS',\n",
              "  'text': 'the mean difference between treatment arms ( @ % ci ) was @ ( @-@ @ ) , p < @ ; @ ( @-@ @ ) , p < @ ; @ ( @-@ @ ) , p < @ ; and @ ( @-@ @ ) , p < @ , respectively .',\n",
              "  'line_number': 7,\n",
              "  'total_lines': 11},\n",
              " {'target': 'RESULTS',\n",
              "  'text': 'further , there was a clinically relevant reduction in the serum levels of il-@ , il-@ , tnf - , and hscrp at @ weeks in the intervention group when compared to the placebo group .',\n",
              "  'line_number': 8,\n",
              "  'total_lines': 11},\n",
              " {'target': 'RESULTS',\n",
              "  'text': 'these differences remained significant at @ weeks .',\n",
              "  'line_number': 9,\n",
              "  'total_lines': 11},\n",
              " {'target': 'RESULTS',\n",
              "  'text': 'the outcome measures in rheumatology clinical trials-osteoarthritis research society international responder rate was @ % in the intervention group and @ % in the placebo group ( p < @ ) .',\n",
              "  'line_number': 10,\n",
              "  'total_lines': 11},\n",
              " {'target': 'CONCLUSIONS',\n",
              "  'text': 'low-dose oral prednisolone had both a short-term and a longer sustained effect resulting in less knee pain , better physical function , and attenuation of systemic inflammation in older patients with knee oa ( clinicaltrials.gov identifier nct@ ) .',\n",
              "  'line_number': 11,\n",
              "  'total_lines': 11},\n",
              " {'target': 'BACKGROUND',\n",
              "  'text': 'emotional eating is associated with overeating and the development of obesity .',\n",
              "  'line_number': 0,\n",
              "  'total_lines': 10},\n",
              " {'target': 'BACKGROUND',\n",
              "  'text': 'yet , empirical evidence for individual ( trait ) differences in emotional eating and cognitive mechanisms that contribute to eating during sad mood remain equivocal .',\n",
              "  'line_number': 1,\n",
              "  'total_lines': 10}]"
            ]
          },
          "execution_count": 10,
          "metadata": {},
          "output_type": "execute_result"
        }
      ],
      "source": [
        "train_samples[:14]"
      ]
    },
    {
      "cell_type": "markdown",
      "metadata": {
        "id": "2UdZDOQ5q_wy"
      },
      "source": [
        "For more visual understanding, let's use `pandas` Dataframe"
      ]
    },
    {
      "cell_type": "code",
      "execution_count": 10,
      "metadata": {
        "colab": {
          "base_uri": "https://localhost:8080/"
        },
        "id": "ZQvcD-NprK_L",
        "outputId": "58651107-bc67-4609-94fc-91b02d8e966a"
      },
      "outputs": [
        {
          "output_type": "execute_result",
          "data": {
            "text/plain": [
              "(180040, 4)"
            ]
          },
          "metadata": {},
          "execution_count": 10
        }
      ],
      "source": [
        "import pandas as pd\n",
        "train_df = pd.DataFrame(train_samples)\n",
        "val_df = pd.DataFrame(val_samples)\n",
        "test_df = pd.DataFrame(test_samples)\n",
        "\n",
        "train_df.shape"
      ]
    },
    {
      "cell_type": "code",
      "execution_count": null,
      "metadata": {
        "colab": {
          "base_uri": "https://localhost:8080/"
        },
        "id": "DS2WV2hmrUnU",
        "outputId": "1d6af496-0a46-43f1-a380-4a1869725d2d"
      },
      "outputs": [
        {
          "data": {
            "text/plain": [
              "((180040, 4), (30212, 4), (30135, 4))"
            ]
          },
          "execution_count": 12,
          "metadata": {},
          "output_type": "execute_result"
        }
      ],
      "source": [
        "train_df.shape, val_df.shape, test_df.shape"
      ]
    },
    {
      "cell_type": "code",
      "execution_count": null,
      "metadata": {
        "colab": {
          "base_uri": "https://localhost:8080/",
          "height": 426
        },
        "id": "mhSsAbJ5rYVa",
        "outputId": "0a9f85b0-12df-4bcf-f964-0a4242788299"
      },
      "outputs": [
        {
          "data": {
            "text/html": [
              "\n",
              "  <div id=\"df-0944f02d-d142-4c8e-ba00-b50362a3d44c\">\n",
              "    <div class=\"colab-df-container\">\n",
              "      <div>\n",
              "<style scoped>\n",
              "    .dataframe tbody tr th:only-of-type {\n",
              "        vertical-align: middle;\n",
              "    }\n",
              "\n",
              "    .dataframe tbody tr th {\n",
              "        vertical-align: top;\n",
              "    }\n",
              "\n",
              "    .dataframe thead th {\n",
              "        text-align: right;\n",
              "    }\n",
              "</style>\n",
              "<table border=\"1\" class=\"dataframe\">\n",
              "  <thead>\n",
              "    <tr style=\"text-align: right;\">\n",
              "      <th></th>\n",
              "      <th>target</th>\n",
              "      <th>text</th>\n",
              "      <th>line_number</th>\n",
              "      <th>total_lines</th>\n",
              "    </tr>\n",
              "  </thead>\n",
              "  <tbody>\n",
              "    <tr>\n",
              "      <th>0</th>\n",
              "      <td>OBJECTIVE</td>\n",
              "      <td>to investigate the efficacy of @ weeks of dail...</td>\n",
              "      <td>0</td>\n",
              "      <td>11</td>\n",
              "    </tr>\n",
              "    <tr>\n",
              "      <th>1</th>\n",
              "      <td>METHODS</td>\n",
              "      <td>a total of @ patients with primary knee oa wer...</td>\n",
              "      <td>1</td>\n",
              "      <td>11</td>\n",
              "    </tr>\n",
              "    <tr>\n",
              "      <th>2</th>\n",
              "      <td>METHODS</td>\n",
              "      <td>outcome measures included pain reduction and i...</td>\n",
              "      <td>2</td>\n",
              "      <td>11</td>\n",
              "    </tr>\n",
              "    <tr>\n",
              "      <th>3</th>\n",
              "      <td>METHODS</td>\n",
              "      <td>pain was assessed using the visual analog pain...</td>\n",
              "      <td>3</td>\n",
              "      <td>11</td>\n",
              "    </tr>\n",
              "    <tr>\n",
              "      <th>4</th>\n",
              "      <td>METHODS</td>\n",
              "      <td>secondary outcome measures included the wester...</td>\n",
              "      <td>4</td>\n",
              "      <td>11</td>\n",
              "    </tr>\n",
              "    <tr>\n",
              "      <th>5</th>\n",
              "      <td>METHODS</td>\n",
              "      <td>serum levels of interleukin @ ( il-@ ) , il-@ ...</td>\n",
              "      <td>5</td>\n",
              "      <td>11</td>\n",
              "    </tr>\n",
              "    <tr>\n",
              "      <th>6</th>\n",
              "      <td>RESULTS</td>\n",
              "      <td>there was a clinically relevant reduction in t...</td>\n",
              "      <td>6</td>\n",
              "      <td>11</td>\n",
              "    </tr>\n",
              "    <tr>\n",
              "      <th>7</th>\n",
              "      <td>RESULTS</td>\n",
              "      <td>the mean difference between treatment arms ( @...</td>\n",
              "      <td>7</td>\n",
              "      <td>11</td>\n",
              "    </tr>\n",
              "    <tr>\n",
              "      <th>8</th>\n",
              "      <td>RESULTS</td>\n",
              "      <td>further , there was a clinically relevant redu...</td>\n",
              "      <td>8</td>\n",
              "      <td>11</td>\n",
              "    </tr>\n",
              "    <tr>\n",
              "      <th>9</th>\n",
              "      <td>RESULTS</td>\n",
              "      <td>these differences remained significant at @ we...</td>\n",
              "      <td>9</td>\n",
              "      <td>11</td>\n",
              "    </tr>\n",
              "    <tr>\n",
              "      <th>10</th>\n",
              "      <td>RESULTS</td>\n",
              "      <td>the outcome measures in rheumatology clinical ...</td>\n",
              "      <td>10</td>\n",
              "      <td>11</td>\n",
              "    </tr>\n",
              "    <tr>\n",
              "      <th>11</th>\n",
              "      <td>CONCLUSIONS</td>\n",
              "      <td>low-dose oral prednisolone had both a short-te...</td>\n",
              "      <td>11</td>\n",
              "      <td>11</td>\n",
              "    </tr>\n",
              "  </tbody>\n",
              "</table>\n",
              "</div>\n",
              "      <button class=\"colab-df-convert\" onclick=\"convertToInteractive('df-0944f02d-d142-4c8e-ba00-b50362a3d44c')\"\n",
              "              title=\"Convert this dataframe to an interactive table.\"\n",
              "              style=\"display:none;\">\n",
              "        \n",
              "  <svg xmlns=\"http://www.w3.org/2000/svg\" height=\"24px\"viewBox=\"0 0 24 24\"\n",
              "       width=\"24px\">\n",
              "    <path d=\"M0 0h24v24H0V0z\" fill=\"none\"/>\n",
              "    <path d=\"M18.56 5.44l.94 2.06.94-2.06 2.06-.94-2.06-.94-.94-2.06-.94 2.06-2.06.94zm-11 1L8.5 8.5l.94-2.06 2.06-.94-2.06-.94L8.5 2.5l-.94 2.06-2.06.94zm10 10l.94 2.06.94-2.06 2.06-.94-2.06-.94-.94-2.06-.94 2.06-2.06.94z\"/><path d=\"M17.41 7.96l-1.37-1.37c-.4-.4-.92-.59-1.43-.59-.52 0-1.04.2-1.43.59L10.3 9.45l-7.72 7.72c-.78.78-.78 2.05 0 2.83L4 21.41c.39.39.9.59 1.41.59.51 0 1.02-.2 1.41-.59l7.78-7.78 2.81-2.81c.8-.78.8-2.07 0-2.86zM5.41 20L4 18.59l7.72-7.72 1.47 1.35L5.41 20z\"/>\n",
              "  </svg>\n",
              "      </button>\n",
              "      \n",
              "  <style>\n",
              "    .colab-df-container {\n",
              "      display:flex;\n",
              "      flex-wrap:wrap;\n",
              "      gap: 12px;\n",
              "    }\n",
              "\n",
              "    .colab-df-convert {\n",
              "      background-color: #E8F0FE;\n",
              "      border: none;\n",
              "      border-radius: 50%;\n",
              "      cursor: pointer;\n",
              "      display: none;\n",
              "      fill: #1967D2;\n",
              "      height: 32px;\n",
              "      padding: 0 0 0 0;\n",
              "      width: 32px;\n",
              "    }\n",
              "\n",
              "    .colab-df-convert:hover {\n",
              "      background-color: #E2EBFA;\n",
              "      box-shadow: 0px 1px 2px rgba(60, 64, 67, 0.3), 0px 1px 3px 1px rgba(60, 64, 67, 0.15);\n",
              "      fill: #174EA6;\n",
              "    }\n",
              "\n",
              "    [theme=dark] .colab-df-convert {\n",
              "      background-color: #3B4455;\n",
              "      fill: #D2E3FC;\n",
              "    }\n",
              "\n",
              "    [theme=dark] .colab-df-convert:hover {\n",
              "      background-color: #434B5C;\n",
              "      box-shadow: 0px 1px 3px 1px rgba(0, 0, 0, 0.15);\n",
              "      filter: drop-shadow(0px 1px 2px rgba(0, 0, 0, 0.3));\n",
              "      fill: #FFFFFF;\n",
              "    }\n",
              "  </style>\n",
              "\n",
              "      <script>\n",
              "        const buttonEl =\n",
              "          document.querySelector('#df-0944f02d-d142-4c8e-ba00-b50362a3d44c button.colab-df-convert');\n",
              "        buttonEl.style.display =\n",
              "          google.colab.kernel.accessAllowed ? 'block' : 'none';\n",
              "\n",
              "        async function convertToInteractive(key) {\n",
              "          const element = document.querySelector('#df-0944f02d-d142-4c8e-ba00-b50362a3d44c');\n",
              "          const dataTable =\n",
              "            await google.colab.kernel.invokeFunction('convertToInteractive',\n",
              "                                                     [key], {});\n",
              "          if (!dataTable) return;\n",
              "\n",
              "          const docLinkHtml = 'Like what you see? Visit the ' +\n",
              "            '<a target=\"_blank\" href=https://colab.research.google.com/notebooks/data_table.ipynb>data table notebook</a>'\n",
              "            + ' to learn more about interactive tables.';\n",
              "          element.innerHTML = '';\n",
              "          dataTable['output_type'] = 'display_data';\n",
              "          await google.colab.output.renderOutput(dataTable, element);\n",
              "          const docLink = document.createElement('div');\n",
              "          docLink.innerHTML = docLinkHtml;\n",
              "          element.appendChild(docLink);\n",
              "        }\n",
              "      </script>\n",
              "    </div>\n",
              "  </div>\n",
              "  "
            ],
            "text/plain": [
              "         target                                               text  \\\n",
              "0     OBJECTIVE  to investigate the efficacy of @ weeks of dail...   \n",
              "1       METHODS  a total of @ patients with primary knee oa wer...   \n",
              "2       METHODS  outcome measures included pain reduction and i...   \n",
              "3       METHODS  pain was assessed using the visual analog pain...   \n",
              "4       METHODS  secondary outcome measures included the wester...   \n",
              "5       METHODS  serum levels of interleukin @ ( il-@ ) , il-@ ...   \n",
              "6       RESULTS  there was a clinically relevant reduction in t...   \n",
              "7       RESULTS  the mean difference between treatment arms ( @...   \n",
              "8       RESULTS  further , there was a clinically relevant redu...   \n",
              "9       RESULTS  these differences remained significant at @ we...   \n",
              "10      RESULTS  the outcome measures in rheumatology clinical ...   \n",
              "11  CONCLUSIONS  low-dose oral prednisolone had both a short-te...   \n",
              "\n",
              "    line_number  total_lines  \n",
              "0             0           11  \n",
              "1             1           11  \n",
              "2             2           11  \n",
              "3             3           11  \n",
              "4             4           11  \n",
              "5             5           11  \n",
              "6             6           11  \n",
              "7             7           11  \n",
              "8             8           11  \n",
              "9             9           11  \n",
              "10           10           11  \n",
              "11           11           11  "
            ]
          },
          "execution_count": 13,
          "metadata": {},
          "output_type": "execute_result"
        }
      ],
      "source": [
        "train_df.head(12)"
      ]
    },
    {
      "cell_type": "markdown",
      "metadata": {
        "id": "5eN9JbnBrabL"
      },
      "source": [
        "Now our dataframe is ready, we can use data analysis functions of pandas,"
      ]
    },
    {
      "cell_type": "code",
      "execution_count": null,
      "metadata": {
        "colab": {
          "base_uri": "https://localhost:8080/"
        },
        "id": "o5D4uHT-sV92",
        "outputId": "1377cc78-b697-46fe-be88-4bdf76fac3dc"
      },
      "outputs": [
        {
          "data": {
            "text/plain": [
              "METHODS        59353\n",
              "RESULTS        57953\n",
              "CONCLUSIONS    27168\n",
              "BACKGROUND     21727\n",
              "OBJECTIVE      13839\n",
              "Name: target, dtype: int64"
            ]
          },
          "execution_count": 14,
          "metadata": {},
          "output_type": "execute_result"
        }
      ],
      "source": [
        "train_df.target.value_counts()"
      ]
    },
    {
      "cell_type": "code",
      "execution_count": null,
      "metadata": {
        "colab": {
          "base_uri": "https://localhost:8080/",
          "height": 267
        },
        "id": "_vaNel4osYwN",
        "outputId": "6fdf9c0d-65dc-46ea-f379-4a4a32be7347"
      },
      "outputs": [
        {
          "data": {
            "image/png": "[encoded data removed]",
            "text/plain": [
              "<Figure size 432x288 with 1 Axes>"
            ]
          },
          "metadata": {},
          "output_type": "display_data"
        }
      ],
      "source": [
        "# check the hist distribution of our abstract lenghts\n",
        "train_df.total_lines.plot.hist();"
      ]
    },
    {
      "cell_type": "markdown",
      "metadata": {
        "id": "WiqVwHyksj99"
      },
      "source": [
        "Looks like most of the abstracts are around 7 to 15 sentences in length.\n",
        "\n",
        "It's good to check these things out to make sure when we do train a model or test it on unseen samples, our results aren't outlandish."
      ]
    },
    {
      "cell_type": "markdown",
      "metadata": {
        "id": "oFZoeWgks1EH"
      },
      "source": [
        "### Get lists of sentences\n",
        "\n",
        "We we build our deep learning models, one of its main inputs will be a list of string (the lines of an abstract)."
      ]
    },
    {
      "cell_type": "code",
      "execution_count": 11,
      "metadata": {
        "colab": {
          "base_uri": "https://localhost:8080/"
        },
        "id": "wLQzNE8jtXQC",
        "outputId": "bbd7325f-2933-43d5-ee87-c8b0118726a5"
      },
      "outputs": [
        {
          "output_type": "execute_result",
          "data": {
            "text/plain": [
              "['to investigate the efficacy of @ weeks of daily low-dose oral prednisolone in improving pain , mobility , and systemic low-grade inflammation in the short term and whether the effect would be sustained at @ weeks in older adults with moderate to severe knee osteoarthritis ( oa ) .',\n",
              " 'a total of @ patients with primary knee oa were randomized @:@ ; @ received @ mg/day of prednisolone and @ received placebo for @ weeks .',\n",
              " 'outcome measures included pain reduction and improvement in function scores and systemic inflammation markers .',\n",
              " 'pain was assessed using the visual analog pain scale ( @-@ mm ) .',\n",
              " 'secondary outcome measures included the western ontario and mcmaster universities osteoarthritis index scores , patient global assessment ( pga ) of the severity of knee oa , and @-min walk distance ( @mwd ) .',\n",
              " 'serum levels of interleukin @ ( il-@ ) , il-@ , tumor necrosis factor ( tnf ) - , and high-sensitivity c-reactive protein ( hscrp ) were measured .',\n",
              " 'there was a clinically relevant reduction in the intervention group compared to the placebo group for knee pain , physical function , pga , and @mwd at @ weeks .',\n",
              " 'the mean difference between treatment arms ( @ % ci ) was @ ( @-@ @ ) , p < @ ; @ ( @-@ @ ) , p < @ ; @ ( @-@ @ ) , p < @ ; and @ ( @-@ @ ) , p < @ , respectively .',\n",
              " 'further , there was a clinically relevant reduction in the serum levels of il-@ , il-@ , tnf - , and hscrp at @ weeks in the intervention group when compared to the placebo group .',\n",
              " 'these differences remained significant at @ weeks .']"
            ]
          },
          "metadata": {},
          "execution_count": 11
        }
      ],
      "source": [
        "# convert abstract text lines into lists\n",
        "train_sentences = train_df['text'].tolist()\n",
        "val_sentences = val_df['text'].tolist()\n",
        "test_sentences = test_df['text'].tolist()\n",
        "\n",
        "# check first 10 sentences of training set\n",
        "train_sentences[:10]"
      ]
    },
    {
      "cell_type": "markdown",
      "metadata": {
        "id": "EjnKVMsNto9z"
      },
      "source": [
        "## Make numeric labels (ML Models require numeric labels)\n",
        "\n",
        "We're going to create label encoded and one hot encoded labels.\n",
        "\n",
        "Tensorflow CategoriCalCrossEntropy loss function likes to have one hot encoded labels, so we also need one hot encoded labels but for baseline model like Scikit-Learn, label encoded is enough."
      ]
    },
    {
      "cell_type": "markdown",
      "metadata": {
        "id": "134qwuXsdnPB"
      },
      "source": [
        "### One Hot Encoded"
      ]
    },
    {
      "cell_type": "code",
      "execution_count": 12,
      "metadata": {
        "colab": {
          "base_uri": "https://localhost:8080/"
        },
        "id": "SbhJuJEtuKMy",
        "outputId": "dd090581-234c-4ba4-822d-7da83466bed3"
      },
      "outputs": [
        {
          "output_type": "stream",
          "name": "stderr",
          "text": [
            "/usr/local/lib/python3.9/dist-packages/sklearn/preprocessing/_encoders.py:868: FutureWarning: `sparse` was renamed to `sparse_output` in version 1.2 and will be removed in 1.4. `sparse_output` is ignored unless you leave `sparse` to its default value.\n",
            "  warnings.warn(\n"
          ]
        },
        {
          "output_type": "execute_result",
          "data": {
            "text/plain": [
              "array([[0., 0., 0., 1., 0.],\n",
              "       [0., 0., 1., 0., 0.],\n",
              "       [0., 0., 1., 0., 0.],\n",
              "       ...,\n",
              "       [0., 0., 0., 0., 1.],\n",
              "       [0., 1., 0., 0., 0.],\n",
              "       [0., 1., 0., 0., 0.]])"
            ]
          },
          "metadata": {},
          "execution_count": 12
        }
      ],
      "source": [
        "from sklearn.preprocessing import OneHotEncoder\n",
        "one_hot_encoder = OneHotEncoder(sparse=False)\n",
        "train_labels_one_hot = one_hot_encoder.fit_transform(train_df['target'].to_numpy().reshape(-1,1))\n",
        "val_labels_one_hot = one_hot_encoder.transform(val_df['target'].to_numpy().reshape(-1,1))\n",
        "test_labels_one_hot = one_hot_encoder.transform(test_df['target'].to_numpy().reshape(-1,1))\n",
        "\n",
        "# check what training labels look like\n",
        "train_labels_one_hot"
      ]
    },
    {
      "cell_type": "code",
      "execution_count": null,
      "metadata": {
        "colab": {
          "base_uri": "https://localhost:8080/"
        },
        "id": "etZ-lVKHuw-0",
        "outputId": "ad4b6b52-9424-4d9a-f9ee-c268e60a2a8c"
      },
      "outputs": [
        {
          "data": {
            "text/plain": [
              "<tf.Tensor: shape=(180040, 5), dtype=float64, numpy=\n",
              "array([[0., 0., 0., 1., 0.],\n",
              "       [0., 0., 1., 0., 0.],\n",
              "       [0., 0., 1., 0., 0.],\n",
              "       ...,\n",
              "       [0., 0., 0., 0., 1.],\n",
              "       [0., 1., 0., 0., 0.],\n",
              "       [0., 1., 0., 0., 0.]])>"
            ]
          },
          "execution_count": 18,
          "metadata": {},
          "output_type": "execute_result"
        }
      ],
      "source": [
        "import tensorflow as tf\n",
        "tf.constant(train_labels_one_hot)"
      ]
    },
    {
      "cell_type": "markdown",
      "metadata": {
        "id": "hnaMBsS8u5Fd"
      },
      "source": [
        "In the above OneHotEncoder method passing `sparse=False` because if don't then tensorflow will throw an error while converting it into tensors.\n",
        "\n",
        "![Screenshot 2023-03-02 at 10.41.57 AM.png](data:image/png;base64,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)"
      ]
    },
    {
      "cell_type": "markdown",
      "metadata": {
        "id": "PLNfqR0AvQSL"
      },
      "source": [
        "### Label Encoded\n"
      ]
    },
    {
      "cell_type": "code",
      "execution_count": 13,
      "metadata": {
        "colab": {
          "base_uri": "https://localhost:8080/"
        },
        "id": "sPqgI5pYvarZ",
        "outputId": "828d35ab-4586-4806-8294-aaf47f6bfcff"
      },
      "outputs": [
        {
          "output_type": "execute_result",
          "data": {
            "text/plain": [
              "array([3, 2, 2, ..., 4, 1, 1])"
            ]
          },
          "metadata": {},
          "execution_count": 13
        }
      ],
      "source": [
        "from sklearn.preprocessing import LabelEncoder\n",
        "label_encoder = LabelEncoder()\n",
        "\n",
        "train_labels_encoded = label_encoder.fit_transform(train_df['target'].to_numpy())\n",
        "val_labels_encoded = label_encoder.transform(val_df['target'].to_numpy())\n",
        "test_labels_encoded = label_encoder.transform(test_df['target'].to_numpy())\n",
        "\n",
        "# check the label encoded train labels\n",
        "train_labels_encoded\n"
      ]
    },
    {
      "cell_type": "markdown",
      "metadata": {
        "id": "Ox_xHVd2vwb0"
      },
      "source": [
        "Let's get the classnames from the trained `LabelEncoder` using `classes_` attribute"
      ]
    },
    {
      "cell_type": "code",
      "execution_count": 14,
      "metadata": {
        "colab": {
          "base_uri": "https://localhost:8080/"
        },
        "id": "GmIJSabVv5p9",
        "outputId": "a02e29f1-9bab-42a5-f351-33daf93e24b8"
      },
      "outputs": [
        {
          "output_type": "execute_result",
          "data": {
            "text/plain": [
              "(array(['BACKGROUND', 'CONCLUSIONS', 'METHODS', 'OBJECTIVE', 'RESULTS'],\n",
              "       dtype=object), 5)"
            ]
          },
          "metadata": {},
          "execution_count": 14
        }
      ],
      "source": [
        "# get the class names and number of classes from LabelENcoder instance\n",
        "num_classes = len(label_encoder.classes_)\n",
        "class_names = label_encoder.classes_\n",
        "\n",
        "class_names, num_classes"
      ]
    },
    {
      "cell_type": "markdown",
      "metadata": {
        "id": "3h9m9v6ywLQL"
      },
      "source": [
        "## Experiment with Various Models\n",
        "\n",
        "Next we will be going to perform multiple experiments with various models starting from scikit-learn all the way to tensorflow transfer learning.\n",
        "\n",
        "Modelling experiments will be,\n",
        "- `model_0` : TFIDF Vectorizer and Multinomial Naive Bayes (baseline)\n",
        "- `model_1` : Convolutional 1D with token embeddings\n",
        "- `model_2` : TF Hub Pretrained Feature Extractor\n",
        "- `model_3` : Conv1D with character embeddings\n",
        "- `model_4` : Pretrained token embeddings (same as 2) + character embeddings (same as 3)\n",
        "- `model_5` : Pretrained token embeddings + character embeddings + positional embeddings"
      ]
    },
    {
      "cell_type": "markdown",
      "metadata": {
        "id": "bLvHwFyihYDc"
      },
      "source": [
        "### Evaluation Function \n",
        "\n",
        "Before starting with multiple modelling experiments we need to create a function for comparison with different metrics, so let's create it"
      ]
    },
    {
      "cell_type": "code",
      "execution_count": null,
      "metadata": {
        "id": "B1ui_66zhurt"
      },
      "outputs": [],
      "source": [
        "from sklearn.metrics import precision_recall_fscore_support\n",
        "from sklearn.metrics import accuracy_score\n",
        "\n",
        "def calculate_results(model, tf_model=True, prefetching_used=False, val_dataset=None):\n",
        "  '''\n",
        "  Function returns the various metrics results by comparing the \n",
        "  y_true and y_pred of a model\n",
        "\n",
        "  Args:\n",
        "    - model : Trained model    \n",
        "    - tf_model(bool) : If tensorflow model then True else False if Scikit-learn model\n",
        "  \n",
        "  Returns:\n",
        "    Dictionary of metrics which are accuracy, precision, recall\n",
        "    and f1-score    \n",
        "  '''\n",
        "\n",
        "  if tf_model:\n",
        "    if prefetching_used:\n",
        "      y_true = val_labels_encoded\n",
        "      # make prediction\n",
        "      y_pred = model.predict(val_dataset)\n",
        "      y_pred = y_pred.argmax(axis=1)\n",
        "    else:\n",
        "      y_true = val_labels_one_hot.argmax(axis=1)\n",
        "      # make prediction\n",
        "      y_pred = model.predict(val_sentences)\n",
        "      y_pred = y_pred.argmax(axis=1)\n",
        "  else:\n",
        "    y_true = val_labels_encoded # for sklearn \n",
        "    y_pred = model.predict(val_sentences)  \n",
        "  \n",
        "\n",
        "  # measure accuracy\n",
        "  accuracy = accuracy_score(y_true, y_pred)\n",
        "  # measure other metrics\n",
        "  precision, recall, f1, _ = precision_recall_fscore_support(y_true, y_pred, average='weighted')\n",
        "\n",
        "  return {\"accuracy\": accuracy*100,\n",
        "          \"f1\":f1,\n",
        "          \"precision\":precision,\n",
        "          \"recall\":recall}"
      ]
    },
    {
      "cell_type": "markdown",
      "metadata": {
        "id": "fAl5SKjIf9ax"
      },
      "source": [
        "### Model_0 : Getting a baseline"
      ]
    },
    {
      "cell_type": "code",
      "execution_count": null,
      "metadata": {
        "colab": {
          "base_uri": "https://localhost:8080/",
          "height": 126
        },
        "id": "6qyZ8qZlgDDS",
        "outputId": "29d24d9a-17d1-470d-d08c-ff4ce94aea56"
      },
      "outputs": [
        {
          "data": {
            "text/html": [
              "<style>#sk-container-id-1 {color: black;background-color: white;}#sk-container-id-1 pre{padding: 0;}#sk-container-id-1 div.sk-toggleable {background-color: white;}#sk-container-id-1 label.sk-toggleable__label {cursor: pointer;display: block;width: 100%;margin-bottom: 0;padding: 0.3em;box-sizing: border-box;text-align: center;}#sk-container-id-1 label.sk-toggleable__label-arrow:before {content: \"▸\";float: left;margin-right: 0.25em;color: #696969;}#sk-container-id-1 label.sk-toggleable__label-arrow:hover:before {color: black;}#sk-container-id-1 div.sk-estimator:hover label.sk-toggleable__label-arrow:before {color: black;}#sk-container-id-1 div.sk-toggleable__content {max-height: 0;max-width: 0;overflow: hidden;text-align: left;background-color: #f0f8ff;}#sk-container-id-1 div.sk-toggleable__content pre {margin: 0.2em;color: black;border-radius: 0.25em;background-color: #f0f8ff;}#sk-container-id-1 input.sk-toggleable__control:checked~div.sk-toggleable__content {max-height: 200px;max-width: 100%;overflow: auto;}#sk-container-id-1 input.sk-toggleable__control:checked~label.sk-toggleable__label-arrow:before {content: \"▾\";}#sk-container-id-1 div.sk-estimator input.sk-toggleable__control:checked~label.sk-toggleable__label {background-color: #d4ebff;}#sk-container-id-1 div.sk-label input.sk-toggleable__control:checked~label.sk-toggleable__label {background-color: #d4ebff;}#sk-container-id-1 input.sk-hidden--visually {border: 0;clip: rect(1px 1px 1px 1px);clip: rect(1px, 1px, 1px, 1px);height: 1px;margin: -1px;overflow: hidden;padding: 0;position: absolute;width: 1px;}#sk-container-id-1 div.sk-estimator {font-family: monospace;background-color: #f0f8ff;border: 1px dotted black;border-radius: 0.25em;box-sizing: border-box;margin-bottom: 0.5em;}#sk-container-id-1 div.sk-estimator:hover {background-color: #d4ebff;}#sk-container-id-1 div.sk-parallel-item::after {content: \"\";width: 100%;border-bottom: 1px solid gray;flex-grow: 1;}#sk-container-id-1 div.sk-label:hover label.sk-toggleable__label {background-color: #d4ebff;}#sk-container-id-1 div.sk-serial::before {content: \"\";position: absolute;border-left: 1px solid gray;box-sizing: border-box;top: 0;bottom: 0;left: 50%;z-index: 0;}#sk-container-id-1 div.sk-serial {display: flex;flex-direction: column;align-items: center;background-color: white;padding-right: 0.2em;padding-left: 0.2em;position: relative;}#sk-container-id-1 div.sk-item {position: relative;z-index: 1;}#sk-container-id-1 div.sk-parallel {display: flex;align-items: stretch;justify-content: center;background-color: white;position: relative;}#sk-container-id-1 div.sk-item::before, #sk-container-id-1 div.sk-parallel-item::before {content: \"\";position: absolute;border-left: 1px solid gray;box-sizing: border-box;top: 0;bottom: 0;left: 50%;z-index: -1;}#sk-container-id-1 div.sk-parallel-item {display: flex;flex-direction: column;z-index: 1;position: relative;background-color: white;}#sk-container-id-1 div.sk-parallel-item:first-child::after {align-self: flex-end;width: 50%;}#sk-container-id-1 div.sk-parallel-item:last-child::after {align-self: flex-start;width: 50%;}#sk-container-id-1 div.sk-parallel-item:only-child::after {width: 0;}#sk-container-id-1 div.sk-dashed-wrapped {border: 1px dashed gray;margin: 0 0.4em 0.5em 0.4em;box-sizing: border-box;padding-bottom: 0.4em;background-color: white;}#sk-container-id-1 div.sk-label label {font-family: monospace;font-weight: bold;display: inline-block;line-height: 1.2em;}#sk-container-id-1 div.sk-label-container {text-align: center;}#sk-container-id-1 div.sk-container {/* jupyter's `normalize.less` sets `[hidden] { display: none; }` but bootstrap.min.css set `[hidden] { display: none !important; }` so we also need the `!important` here to be able to override the default hidden behavior on the sphinx rendered scikit-learn.org. See: https://github.com/scikit-learn/scikit-learn/issues/21755 */display: inline-block !important;position: relative;}#sk-container-id-1 div.sk-text-repr-fallback {display: none;}</style><div id=\"sk-container-id-1\" class=\"sk-top-container\"><div class=\"sk-text-repr-fallback\"><pre>Pipeline(steps=[(&#x27;tfidf&#x27;, TfidfVectorizer()), (&#x27;clf&#x27;, MultinomialNB())])</pre><b>In a Jupyter environment, please rerun this cell to show the HTML representation or trust the notebook. <br />On GitHub, the HTML representation is unable to render, please try loading this page with nbviewer.org.</b></div><div class=\"sk-container\" hidden><div class=\"sk-item sk-dashed-wrapped\"><div class=\"sk-label-container\"><div class=\"sk-label sk-toggleable\"><input class=\"sk-toggleable__control sk-hidden--visually\" id=\"sk-estimator-id-1\" type=\"checkbox\" ><label for=\"sk-estimator-id-1\" class=\"sk-toggleable__label sk-toggleable__label-arrow\">Pipeline</label><div class=\"sk-toggleable__content\"><pre>Pipeline(steps=[(&#x27;tfidf&#x27;, TfidfVectorizer()), (&#x27;clf&#x27;, MultinomialNB())])</pre></div></div></div><div class=\"sk-serial\"><div class=\"sk-item\"><div class=\"sk-estimator sk-toggleable\"><input class=\"sk-toggleable__control sk-hidden--visually\" id=\"sk-estimator-id-2\" type=\"checkbox\" ><label for=\"sk-estimator-id-2\" class=\"sk-toggleable__label sk-toggleable__label-arrow\">TfidfVectorizer</label><div class=\"sk-toggleable__content\"><pre>TfidfVectorizer()</pre></div></div></div><div class=\"sk-item\"><div class=\"sk-estimator sk-toggleable\"><input class=\"sk-toggleable__control sk-hidden--visually\" id=\"sk-estimator-id-3\" type=\"checkbox\" ><label for=\"sk-estimator-id-3\" class=\"sk-toggleable__label sk-toggleable__label-arrow\">MultinomialNB</label><div class=\"sk-toggleable__content\"><pre>MultinomialNB()</pre></div></div></div></div></div></div></div>"
            ],
            "text/plain": [
              "Pipeline(steps=[('tfidf', TfidfVectorizer()), ('clf', MultinomialNB())])"
            ]
          },
          "execution_count": 22,
          "metadata": {},
          "output_type": "execute_result"
        }
      ],
      "source": [
        "from sklearn.feature_extraction.text import TfidfVectorizer\n",
        "from sklearn.naive_bayes import MultinomialNB\n",
        "from sklearn.pipeline import Pipeline\n",
        "\n",
        "# create a pipeline\n",
        "model_0 = Pipeline([\n",
        "    ('tfidf', TfidfVectorizer()),\n",
        "    ('clf', MultinomialNB())\n",
        "])\n",
        "\n",
        "# fit the training data to the model\n",
        "model_0.fit(X=train_sentences, y=train_labels_encoded)"
      ]
    },
    {
      "cell_type": "code",
      "execution_count": null,
      "metadata": {
        "colab": {
          "base_uri": "https://localhost:8080/"
        },
        "id": "3M4GzhXkgTcR",
        "outputId": "512a5cb6-5beb-4571-d453-21966bdb1113"
      },
      "outputs": [
        {
          "data": {
            "text/plain": [
              "0.7218323844829869"
            ]
          },
          "execution_count": 23,
          "metadata": {},
          "output_type": "execute_result"
        }
      ],
      "source": [
        "# evaluate the model using validation sentences\n",
        "model_0.score(val_sentences, val_labels_encoded)"
      ]
    },
    {
      "cell_type": "code",
      "execution_count": null,
      "metadata": {
        "colab": {
          "base_uri": "https://localhost:8080/"
        },
        "id": "SQE8BZz8hEuI",
        "outputId": "baa7595f-662e-4b61-b304-46a3fa6a18cc"
      },
      "outputs": [
        {
          "data": {
            "text/plain": [
              "array([4, 1, 3, ..., 4, 4, 1])"
            ]
          },
          "execution_count": 24,
          "metadata": {},
          "output_type": "execute_result"
        }
      ],
      "source": [
        "# make some prediction\n",
        "baseline_preds = model_0.predict(val_sentences)\n",
        "baseline_preds"
      ]
    },
    {
      "cell_type": "code",
      "execution_count": null,
      "metadata": {
        "colab": {
          "base_uri": "https://localhost:8080/"
        },
        "id": "weiCHbyuhNyi",
        "outputId": "ebe6874e-259b-409b-a6b3-9b0a55514f7f"
      },
      "outputs": [
        {
          "data": {
            "text/plain": [
              "array([0, 0, 3, ..., 4, 1, 1])"
            ]
          },
          "execution_count": 25,
          "metadata": {},
          "output_type": "execute_result"
        }
      ],
      "source": [
        "val_labels_encoded"
      ]
    },
    {
      "cell_type": "code",
      "execution_count": null,
      "metadata": {
        "colab": {
          "base_uri": "https://localhost:8080/"
        },
        "id": "KWsj_hhwhQGf",
        "outputId": "51a45b1f-34bc-4e45-ea17-8e05a97aecb5"
      },
      "outputs": [
        {
          "data": {
            "text/plain": [
              "{'accuracy': 72.1832384482987,\n",
              " 'f1': 0.6989250353450294,\n",
              " 'precision': 0.7186466952323352,\n",
              " 'recall': 0.7218323844829869}"
            ]
          },
          "execution_count": 26,
          "metadata": {},
          "output_type": "execute_result"
        }
      ],
      "source": [
        "# calculate results of baseline model\n",
        "baseline_results = calculate_results(model_0, tf_model=False)\n",
        "baseline_results"
      ]
    },
    {
      "cell_type": "markdown",
      "metadata": {
        "id": "ackezz4TkudH"
      },
      "source": [
        "## Preparing our data for Deep Learning Models\n",
        "\n",
        "We need to create text vectorization and embedding layers for deep learning models.\n",
        "\n",
        "The vectorization layer convert the text into numbers and embedding layer will capture the relationship betwen those numbers."
      ]
    },
    {
      "cell_type": "code",
      "execution_count": null,
      "metadata": {
        "id": "QBTpcuRIl2aP"
      },
      "outputs": [],
      "source": [
        "import tensorflow as tf\n",
        "import numpy as np\n",
        "from tensorflow.keras import layers"
      ]
    },
    {
      "cell_type": "markdown",
      "metadata": {
        "id": "B5EqU54sl6sd"
      },
      "source": [
        "Since we'll be turning our sentences into numbers, it's a good idea to figure out how many words are in each sentence.\n",
        "\n",
        "When our model goes through our sentences, it works best when they're all the same length (this is important for creating batches of the same size tensors).\n",
        "\n",
        "For example, if one sentence is 8 words long and another is 29 words long then we want to pad the 8 word sentences with zeros so it ends up being the same length as the 29 word sentence."
      ]
    },
    {
      "cell_type": "code",
      "execution_count": null,
      "metadata": {
        "colab": {
          "base_uri": "https://localhost:8080/"
        },
        "id": "_XUnEmMsnaz7",
        "outputId": "ebadc016-6795-4ab5-fd45-ac8291bd6f97"
      },
      "outputs": [
        {
          "data": {
            "text/plain": [
              "26.338269273494777"
            ]
          },
          "execution_count": 28,
          "metadata": {},
          "output_type": "execute_result"
        }
      ],
      "source": [
        "# How long each sentence on average ?\n",
        "sent_lens = [len(sentence.split()) for sentence in train_sentences]\n",
        "average_len = np.mean(sent_lens)\n",
        "average_len"
      ]
    },
    {
      "cell_type": "markdown",
      "metadata": {
        "id": "bfP7m0zgni3D"
      },
      "source": [
        "How about the distribution of sentence lengths ?"
      ]
    },
    {
      "cell_type": "code",
      "execution_count": null,
      "metadata": {
        "colab": {
          "base_uri": "https://localhost:8080/",
          "height": 265
        },
        "id": "FyASHabZoKxe",
        "outputId": "5525e6bb-81c4-4ec3-b30c-915842af3a5c"
      },
      "outputs": [
        {
          "data": {
            "image/png": "[encoded data removed]",
            "text/plain": [
              "<Figure size 432x288 with 1 Axes>"
            ]
          },
          "metadata": {},
          "output_type": "display_data"
        }
      ],
      "source": [
        "import matplotlib.pyplot as plt\n",
        "plt.hist(sent_lens, bins=5);"
      ]
    },
    {
      "cell_type": "markdown",
      "metadata": {
        "id": "DDG1Mf_YoP13"
      },
      "source": [
        "Looks like majority of sentences are between 0 and 50 tokens in length.\n",
        "\n",
        "We can use Numpy's `percentile` to find the value which covers 95% of the sentence lengths."
      ]
    },
    {
      "cell_type": "code",
      "execution_count": null,
      "metadata": {
        "colab": {
          "base_uri": "https://localhost:8080/"
        },
        "id": "xqEMLwR2owu4",
        "outputId": "a3bfad2e-60b2-4bdd-f16c-05c0d1960745"
      },
      "outputs": [
        {
          "data": {
            "text/plain": [
              "55"
            ]
          },
          "execution_count": 30,
          "metadata": {},
          "output_type": "execute_result"
        }
      ],
      "source": [
        "output_seq_len = int(np.percentile(sent_lens, 95))\n",
        "output_seq_len"
      ]
    },
    {
      "cell_type": "markdown",
      "metadata": {
        "id": "cMgYKKCDo4h7"
      },
      "source": [
        "Checking the maximum sentence length,"
      ]
    },
    {
      "cell_type": "code",
      "execution_count": null,
      "metadata": {
        "colab": {
          "base_uri": "https://localhost:8080/"
        },
        "id": "DbLr4J27pNv6",
        "outputId": "c1599d08-4a1d-4fa2-fc1b-843159ad86f8"
      },
      "outputs": [
        {
          "data": {
            "text/plain": [
              "296"
            ]
          },
          "execution_count": 31,
          "metadata": {},
          "output_type": "execute_result"
        }
      ],
      "source": [
        "max(sent_lens)"
      ]
    },
    {
      "cell_type": "markdown",
      "metadata": {
        "id": "cpLffwhTpO1O"
      },
      "source": [
        "### Create Text Vectorizer\n",
        "\n",
        "For converting text into numbers we'll use `TextVectorization` layer from tensorflow.\n",
        "\n",
        "We'll keep the default parameters except for `max_tokens` (the number of unique words in our dataset) and `output_sequence_length` (our desired output length for each vectorized sentence).\n",
        "\n",
        "Section 3.2 of the [PubMed 200K RCT Paper](https://arxiv.org/pdf/1710.06071.pdf) states the vocabulary size of the PubMed 20k dataset as 68,000. So we'll use that as our `max_tokens` parameter."
      ]
    },
    {
      "cell_type": "code",
      "execution_count": null,
      "metadata": {
        "id": "8v61G6LQq53Q"
      },
      "outputs": [],
      "source": [
        "max_tokens = 68000"
      ]
    },
    {
      "cell_type": "code",
      "execution_count": null,
      "metadata": {
        "id": "0AZCHZJaq8yB"
      },
      "outputs": [],
      "source": [
        "# create text vectorizer\n",
        "from tensorflow.keras.layers.experimental.preprocessing import TextVectorization\n",
        "\n",
        "text_vectorizer = TextVectorization(max_tokens=max_tokens,\n",
        "                                           output_sequence_length=output_seq_len)"
      ]
    },
    {
      "cell_type": "code",
      "execution_count": null,
      "metadata": {
        "id": "hVsC_h9ZrZnN"
      },
      "outputs": [],
      "source": [
        "# now need to adapt with training sample\n",
        "text_vectorizer.adapt(train_sentences)"
      ]
    },
    {
      "cell_type": "code",
      "execution_count": null,
      "metadata": {
        "colab": {
          "base_uri": "https://localhost:8080/"
        },
        "id": "VRs9LNMermWh",
        "outputId": "4dac738d-023a-41d0-e722-e4772473de82"
      },
      "outputs": [
        {
          "name": "stdout",
          "output_type": "stream",
          "text": [
            "Text:\n",
            "overall pa ( counts per minute ) and its subcomponents , sedentary time and mvpa , were measured with accelerometry .\n",
            "\n",
            "Length of text:21\n",
            "\n",
            "Vectorized Text:\n",
            "[[  188  1067  1414   160   929     3   308 34064  1751    63     3  4576\n",
            "      9   156     7  9496     0     0     0     0     0     0     0     0\n",
            "      0     0     0     0     0     0     0     0     0     0     0     0\n",
            "      0     0     0     0     0     0     0     0     0     0     0     0\n",
            "      0     0     0     0     0     0     0]]\n"
          ]
        }
      ],
      "source": [
        "# Test out the text vectorizer\n",
        "import random\n",
        "target_sentence = random.choice(train_sentences)\n",
        "print(f'Text:\\n{target_sentence}')\n",
        "print(f'\\nLength of text:{len(target_sentence.split())}')\n",
        "print(f'\\nVectorized Text:\\n{text_vectorizer([target_sentence])}')"
      ]
    },
    {
      "cell_type": "markdown",
      "metadata": {
        "id": "9Knew9bmsJc3"
      },
      "source": [
        "Get more information from our `text_vectorizer` inside the `train_sentences`"
      ]
    },
    {
      "cell_type": "code",
      "execution_count": null,
      "metadata": {
        "colab": {
          "base_uri": "https://localhost:8080/"
        },
        "id": "PWOgDHkKud8V",
        "outputId": "87994204-2fc3-472f-ba28-208ada994456"
      },
      "outputs": [
        {
          "name": "stdout",
          "output_type": "stream",
          "text": [
            "Numbers of vocabulary in train_sentences: 64841\n",
            "Most common words in the vocabulary: ['', '[UNK]', 'the', 'and', 'of']\n",
            "Least common words in the vocabulary: ['aainduced', 'aaigroup', 'aachener', 'aachen', 'aaacp']\n"
          ]
        }
      ],
      "source": [
        "rct_20k_text_vocab = text_vectorizer.get_vocabulary()\n",
        "print(f\"Numbers of vocabulary in train_sentences: {len(rct_20k_text_vocab)}\")\n",
        "print(f'Most common words in the vocabulary: {rct_20k_text_vocab[:5]}')\n",
        "print(f'Least common words in the vocabulary: {rct_20k_text_vocab[-5:]}')"
      ]
    },
    {
      "cell_type": "code",
      "execution_count": null,
      "metadata": {
        "colab": {
          "base_uri": "https://localhost:8080/"
        },
        "id": "qBq-5xCovzY3",
        "outputId": "11bcdcea-bea2-4f1b-c249-f47c4a1958b9"
      },
      "outputs": [
        {
          "data": {
            "text/plain": [
              "{'name': 'text_vectorization',\n",
              " 'trainable': True,\n",
              " 'dtype': 'string',\n",
              " 'batch_input_shape': (None,),\n",
              " 'max_tokens': 68000,\n",
              " 'standardize': 'lower_and_strip_punctuation',\n",
              " 'split': 'whitespace',\n",
              " 'ngrams': None,\n",
              " 'output_mode': 'int',\n",
              " 'output_sequence_length': 55,\n",
              " 'pad_to_max_tokens': False,\n",
              " 'sparse': False,\n",
              " 'ragged': False,\n",
              " 'vocabulary': None,\n",
              " 'idf_weights': None,\n",
              " 'encoding': 'utf-8'}"
            ]
          },
          "execution_count": 37,
          "metadata": {},
          "output_type": "execute_result"
        }
      ],
      "source": [
        "# get the config of our text_vectorizer\n",
        "text_vectorizer.get_config()"
      ]
    },
    {
      "cell_type": "markdown",
      "metadata": {
        "id": "O-LYI3cIv_B5"
      },
      "source": [
        "### Create Custom Embedding\n",
        "\n",
        "Now after creating the vectorization layer, we want to create embedding layer using Tensorflow's `Embedding` layer."
      ]
    },
    {
      "cell_type": "code",
      "execution_count": null,
      "metadata": {
        "colab": {
          "base_uri": "https://localhost:8080/"
        },
        "id": "bPNyQYYLwRL1",
        "outputId": "0bd184c8-ac67-4653-8310-9f3963caa949"
      },
      "outputs": [
        {
          "name": "stdout",
          "output_type": "stream",
          "text": [
            "Sentence before embedding:\n",
            "overall pa ( counts per minute ) and its subcomponents , sedentary time and mvpa , were measured with accelerometry .\n",
            "Sentence after vectorization:\n",
            "[[  188  1067  1414   160   929     3   308 34064  1751    63     3  4576\n",
            "      9   156     7  9496     0     0     0     0     0     0     0     0\n",
            "      0     0     0     0     0     0     0     0     0     0     0     0\n",
            "      0     0     0     0     0     0     0     0     0     0     0     0\n",
            "      0     0     0     0     0     0     0]]\n",
            "Sentence after embedding:\n",
            "[[[ 0.02003479  0.04521585  0.00980983 ...  0.011989    0.03733606\n",
            "   -0.0443692 ]\n",
            "  [-0.04421004  0.03939075 -0.04299101 ...  0.02285654 -0.0319016\n",
            "    0.02766091]\n",
            "  [-0.0264194  -0.01089637  0.02638673 ... -0.00123195 -0.00881873\n",
            "    0.02294343]\n",
            "  ...\n",
            "  [-0.03542522 -0.01578521 -0.02050554 ...  0.02289356  0.03521183\n",
            "    0.02927024]\n",
            "  [-0.03542522 -0.01578521 -0.02050554 ...  0.02289356  0.03521183\n",
            "    0.02927024]\n",
            "  [-0.03542522 -0.01578521 -0.02050554 ...  0.02289356  0.03521183\n",
            "    0.02927024]]]\n",
            "\n",
            "Embedded sentence shape: (1, 55, 128)\n"
          ]
        }
      ],
      "source": [
        "# create token embedding layer\n",
        "token_embed = layers.Embedding(input_dim=len(rct_20k_text_vocab), # length of vocabulary\n",
        "                               output_dim=128,\n",
        "                               #mask_zero=True, # use masking to handle variable sequence length contains zeros\n",
        "                               name=\"token_embedding\")\n",
        "\n",
        "# Show example embedding\n",
        "print(f\"Sentence before embedding:\\n{target_sentence}\")\n",
        "vectorized_sentence = text_vectorizer([target_sentence])\n",
        "print(f'Sentence after vectorization:\\n{vectorized_sentence}')\n",
        "embedded_sentence = token_embed(vectorized_sentence)\n",
        "print(f'Sentence after embedding:\\n{embedded_sentence}\\n')\n",
        "print(f'Embedded sentence shape: {embedded_sentence.shape}')"
      ]
    },
    {
      "cell_type": "markdown",
      "metadata": {
        "id": "EstOxDM13LiJ"
      },
      "source": [
        "### Creating datasets (make sure our data loads as fast as possible)\n",
        "\n",
        "We're going to setup our data to run as fast as possible with the TensorFlow tf.data API, many of the steps here are discussed in the below guides,\n",
        "\n",
        "- https://www.tensorflow.org/guide/data_performance\n",
        "- https://www.tensorflow.org/guide/data\n"
      ]
    },
    {
      "cell_type": "code",
      "execution_count": null,
      "metadata": {
        "colab": {
          "base_uri": "https://localhost:8080/"
        },
        "id": "EJDxhmMn39sD",
        "outputId": "46b1cd5c-c9bf-46d3-ec8e-f4e5492fdcfb"
      },
      "outputs": [
        {
          "data": {
            "text/plain": [
              "<TensorSliceDataset element_spec=(TensorSpec(shape=(), dtype=tf.string, name=None), TensorSpec(shape=(5,), dtype=tf.float64, name=None))>"
            ]
          },
          "execution_count": 39,
          "metadata": {},
          "output_type": "execute_result"
        }
      ],
      "source": [
        "# Turn our data into tensorflow datasets\n",
        "train_dataset = tf.data.Dataset.from_tensor_slices((train_sentences, train_labels_one_hot))\n",
        "valid_dataset = tf.data.Dataset.from_tensor_slices((val_sentences, val_labels_one_hot))\n",
        "test_dataset = tf.data.Dataset.from_tensor_slices((test_sentences, test_labels_one_hot))\n",
        "\n",
        "train_dataset"
      ]
    },
    {
      "cell_type": "code",
      "execution_count": null,
      "metadata": {
        "id": "rVQic4Qq5bKu"
      },
      "outputs": [],
      "source": [
        "# Take the TensorSlicedDataset and turn them into prefetched batch datasets\n",
        "train_dataset = train_dataset.batch(32).prefetch(tf.data.AUTOTUNE)\n",
        "valid_dataset = valid_dataset.batch(32).prefetch(tf.data.AUTOTUNE)\n",
        "test_dataset = test_dataset.batch(32).prefetch(tf.data.AUTOTUNE)"
      ]
    },
    {
      "cell_type": "code",
      "execution_count": null,
      "metadata": {
        "colab": {
          "base_uri": "https://localhost:8080/"
        },
        "id": "fmgylqou6MjK",
        "outputId": "52fd9018-1782-4254-c145-6ea636c69f40"
      },
      "outputs": [
        {
          "data": {
            "text/plain": [
              "<PrefetchDataset element_spec=(TensorSpec(shape=(None,), dtype=tf.string, name=None), TensorSpec(shape=(None, 5), dtype=tf.float64, name=None))>"
            ]
          },
          "execution_count": 41,
          "metadata": {},
          "output_type": "execute_result"
        }
      ],
      "source": [
        "train_dataset"
      ]
    },
    {
      "cell_type": "markdown",
      "metadata": {
        "id": "xvjmnY-qxPkT"
      },
      "source": [
        "So I guess now we are ready to build `model_1` i.e Conv1D with Token Embedding"
      ]
    },
    {
      "cell_type": "markdown",
      "metadata": {
        "id": "_W3-IXZgukg7"
      },
      "source": [
        "## Model_1 : Conv1D with Token Embedding"
      ]
    },
    {
      "cell_type": "code",
      "execution_count": null,
      "metadata": {
        "id": "LwXebMf2xa1d"
      },
      "outputs": [],
      "source": [
        "SAVE_DIR = 'model_logs'"
      ]
    },
    {
      "cell_type": "markdown",
      "metadata": {
        "id": "8xdwztmj6XjF"
      },
      "source": [
        "### model without prefetching"
      ]
    },
    {
      "cell_type": "code",
      "execution_count": null,
      "metadata": {
        "colab": {
          "base_uri": "https://localhost:8080/"
        },
        "id": "0KOyj7puupCr",
        "outputId": "335bedbc-3312-4243-e7dd-4215026b2bd0"
      },
      "outputs": [
        {
          "name": "stdout",
          "output_type": "stream",
          "text": [
            "Saving Tensorboard log files to: model_logs/conv1d_with_token_embeddings/20230314-032340\n",
            "Epoch 1/5\n",
            "5627/5627 [==============================] - 94s 15ms/step - loss: 0.5519 - accuracy: 0.7965 - val_loss: 0.4732 - val_accuracy: 0.8239\n",
            "Epoch 2/5\n",
            "5627/5627 [==============================] - 55s 10ms/step - loss: 0.3561 - accuracy: 0.8736 - val_loss: 0.5021 - val_accuracy: 0.8215\n",
            "Epoch 3/5\n",
            "5627/5627 [==============================] - 50s 9ms/step - loss: 0.2072 - accuracy: 0.9319 - val_loss: 0.5915 - val_accuracy: 0.8078\n",
            "Epoch 4/5\n",
            "5627/5627 [==============================] - 51s 9ms/step - loss: 0.1052 - accuracy: 0.9681 - val_loss: 0.7266 - val_accuracy: 0.7968\n",
            "Epoch 5/5\n",
            "5627/5627 [==============================] - 51s 9ms/step - loss: 0.0562 - accuracy: 0.9835 - val_loss: 0.8660 - val_accuracy: 0.7927\n"
          ]
        }
      ],
      "source": [
        "# create the model using Sequential API (without using prefetch)\n",
        "model_1 = tf.keras.Sequential([\n",
        "    layers.Input(shape=(1,), dtype=tf.string),\n",
        "    text_vectorizer,\n",
        "    token_embed,   \n",
        "    layers.Conv1D(64, kernel_size=5, activation='relu'),\n",
        "    layers.GlobalMaxPool1D(),\n",
        "    layers.Dense(num_classes, activation='softmax')\n",
        "], name='conv1d_with_token_embedding')\n",
        "\n",
        "model_1.compile(loss='categorical_crossentropy',\n",
        "                optimizer=tf.keras.optimizers.Adam(),\n",
        "                metrics=['accuracy'])\n",
        "\n",
        "history_1 = model_1.fit(np.array(train_sentences),\n",
        "                        train_labels_one_hot,\n",
        "                        epochs=5,\n",
        "                        validation_data=(np.array(val_sentences), val_labels_one_hot),\n",
        "                        callbacks=[create_tensorboard_callback(dir_name=SAVE_DIR, experiment_name='conv1d_with_token_embeddings')])"
      ]
    },
    {
      "cell_type": "code",
      "execution_count": null,
      "metadata": {
        "colab": {
          "base_uri": "https://localhost:8080/"
        },
        "id": "9dsw9JRcyf7V",
        "outputId": "e882eecc-0a0e-4256-ac78-6e40eac3b1c5"
      },
      "outputs": [
        {
          "name": "stdout",
          "output_type": "stream",
          "text": [
            "Model: \"conv1d_with_token_embedding\"\n",
            "_________________________________________________________________\n",
            " Layer (type)                Output Shape              Param #   \n",
            "=================================================================\n",
            " text_vectorization (TextVec  (None, 55)               0         \n",
            " torization)                                                     \n",
            "                                                                 \n",
            " token_embedding (Embedding)  (None, 55, 128)          8299648   \n",
            "                                                                 \n",
            " conv1d (Conv1D)             (None, 51, 64)            41024     \n",
            "                                                                 \n",
            " global_max_pooling1d (Globa  (None, 64)               0         \n",
            " lMaxPooling1D)                                                  \n",
            "                                                                 \n",
            " dense (Dense)               (None, 5)                 325       \n",
            "                                                                 \n",
            "=================================================================\n",
            "Total params: 8,340,997\n",
            "Trainable params: 8,340,997\n",
            "Non-trainable params: 0\n",
            "_________________________________________________________________\n"
          ]
        }
      ],
      "source": [
        "model_1.summary()"
      ]
    },
    {
      "cell_type": "code",
      "execution_count": null,
      "metadata": {
        "colab": {
          "base_uri": "https://localhost:8080/"
        },
        "id": "bhEhJxKhy9ej",
        "outputId": "b4617586-3acb-4dd8-a6ca-6ea42f10ded0"
      },
      "outputs": [
        {
          "name": "stdout",
          "output_type": "stream",
          "text": [
            "945/945 [==============================] - 4s 4ms/step\n"
          ]
        },
        {
          "data": {
            "text/plain": [
              "{'accuracy': 79.27313650205217,\n",
              " 'f1': 0.7918375903355036,\n",
              " 'precision': 0.7934848804813787,\n",
              " 'recall': 0.7927313650205217}"
            ]
          },
          "execution_count": 45,
          "metadata": {},
          "output_type": "execute_result"
        }
      ],
      "source": [
        "# view results\n",
        "model_1_results = calculate_results(model_1)\n",
        "model_1_results"
      ]
    },
    {
      "cell_type": "markdown",
      "metadata": {
        "id": "Nw-exKiS6VpO"
      },
      "source": [
        "### model with prefetching"
      ]
    },
    {
      "cell_type": "code",
      "execution_count": null,
      "metadata": {
        "colab": {
          "base_uri": "https://localhost:8080/"
        },
        "id": "4-PBmQ_r6grr",
        "outputId": "0fdf2ea8-7179-4436-a966-6b726e231fe0"
      },
      "outputs": [
        {
          "name": "stdout",
          "output_type": "stream",
          "text": [
            "Model: \"conv1D_with_token_embedding\"\n",
            "_________________________________________________________________\n",
            " Layer (type)                Output Shape              Param #   \n",
            "=================================================================\n",
            " input_2 (InputLayer)        [(None, 1)]               0         \n",
            "                                                                 \n",
            " text_vectorization (TextVec  (None, 55)               0         \n",
            " torization)                                                     \n",
            "                                                                 \n",
            " token_embedding (Embedding)  (None, 55, 128)          8299648   \n",
            "                                                                 \n",
            " conv1d_1 (Conv1D)           (None, 55, 64)            41024     \n",
            "                                                                 \n",
            " global_average_pooling1d (G  (None, 64)               0         \n",
            " lobalAveragePooling1D)                                          \n",
            "                                                                 \n",
            " dense_1 (Dense)             (None, 5)                 325       \n",
            "                                                                 \n",
            "=================================================================\n",
            "Total params: 8,340,997\n",
            "Trainable params: 8,340,997\n",
            "Non-trainable params: 0\n",
            "_________________________________________________________________\n"
          ]
        }
      ],
      "source": [
        "token_embed_1 = layers.Embedding(input_dim=len(rct_20k_text_vocab),\n",
        "                               output_dim=128,\n",
        "                               mask_zero=True,\n",
        "                               name='token_embedding')\n",
        "\n",
        "# creating model using Functional API\n",
        "inputs = layers.Input(shape=(1,), dtype=tf.string)\n",
        "text_vectors = text_vectorizer(inputs) # vectorize text inputs\n",
        "token_embeddings = token_embed_1(text_vectors)\n",
        "x = layers.Conv1D(64, kernel_size=5, padding='same', activation='relu')(token_embeddings)\n",
        "x = layers.GlobalAveragePooling1D()(x)\n",
        "outputs = layers.Dense(num_classes, activation='softmax')(x)\n",
        "model_1_1 = tf.keras.Model(inputs, outputs, name='conv1D_with_token_embedding')\n",
        "\n",
        "\n",
        "# compile the model\n",
        "model_1_1.compile(loss='categorical_crossentropy',\n",
        "                optimizer=tf.keras.optimizers.Adam(),\n",
        "                metrics=['accuracy'])\n",
        "\n",
        "# summary of the model\n",
        "model_1_1.summary()"
      ]
    },
    {
      "cell_type": "code",
      "execution_count": null,
      "metadata": {
        "colab": {
          "base_uri": "https://localhost:8080/"
        },
        "id": "J3pQKXxC71R7",
        "outputId": "7ea3dbf3-b308-447c-e72e-aa4475b30721"
      },
      "outputs": [
        {
          "name": "stdout",
          "output_type": "stream",
          "text": [
            "Saving Tensorboard log files to: model_logs/conv1D_with_token_embeddings_prefetch/20230314-032909\n",
            "Epoch 1/3\n",
            "562/562 [==============================] - 25s 42ms/step - loss: 0.9104 - accuracy: 0.6412 - val_loss: 0.6775 - val_accuracy: 0.7417\n",
            "Epoch 2/3\n",
            "562/562 [==============================] - 6s 11ms/step - loss: 0.6514 - accuracy: 0.7585 - val_loss: 0.6244 - val_accuracy: 0.7733\n",
            "Epoch 3/3\n",
            "562/562 [==============================] - 5s 9ms/step - loss: 0.6130 - accuracy: 0.7767 - val_loss: 0.5941 - val_accuracy: 0.7846\n"
          ]
        }
      ],
      "source": [
        "# fit the model\n",
        "history_1_1 = model_1_1.fit(train_dataset,\n",
        "                            steps_per_epoch=int(0.1 * len(train_dataset)),\n",
        "                            epochs=3,\n",
        "                            validation_data=valid_dataset,\n",
        "                            validation_steps=int(0.1 * len(valid_dataset)),\n",
        "                            callbacks=[create_tensorboard_callback(SAVE_DIR, \"conv1D_with_token_embeddings_prefetch\")])"
      ]
    },
    {
      "cell_type": "code",
      "execution_count": null,
      "metadata": {
        "colab": {
          "base_uri": "https://localhost:8080/"
        },
        "id": "8gCL-k42-bPJ",
        "outputId": "58e3a3c4-af88-4879-aa99-39af428076f2"
      },
      "outputs": [
        {
          "name": "stdout",
          "output_type": "stream",
          "text": [
            "945/945 [==============================] - 3s 3ms/step\n"
          ]
        },
        {
          "data": {
            "text/plain": [
              "array([0, 0, 3, ..., 4, 1, 1])"
            ]
          },
          "execution_count": 48,
          "metadata": {},
          "output_type": "execute_result"
        }
      ],
      "source": [
        "# Make prediction\n",
        "model_1_1_pred_probs = model_1_1.predict(valid_dataset)\n",
        "model_1_1_preds = model_1_1_pred_probs.argmax(axis=1)\n",
        "model_1_1_preds"
      ]
    },
    {
      "cell_type": "code",
      "execution_count": null,
      "metadata": {
        "colab": {
          "base_uri": "https://localhost:8080/"
        },
        "id": "_cUo6ZE-_5ZW",
        "outputId": "405a9655-5d86-4c6e-c8b2-b1dac67ef939"
      },
      "outputs": [
        {
          "name": "stdout",
          "output_type": "stream",
          "text": [
            "945/945 [==============================] - 2s 2ms/step\n"
          ]
        },
        {
          "data": {
            "text/plain": [
              "{'accuracy': 78.60452800211837,\n",
              " 'f1': 0.7834676857355607,\n",
              " 'precision': 0.7825881958246661,\n",
              " 'recall': 0.7860452800211837}"
            ]
          },
          "execution_count": 49,
          "metadata": {},
          "output_type": "execute_result"
        }
      ],
      "source": [
        "# calculate results\n",
        "model_1_1_results = calculate_results(model_1_1, prefetching_used=True, val_dataset=valid_dataset)\n",
        "model_1_1_results"
      ]
    },
    {
      "cell_type": "markdown",
      "metadata": {
        "id": "RBuQnro2A6f9"
      },
      "source": [
        "## Model_2 : TensorFlow Hub Pretrained Feature Extractor\n",
        "\n",
        "First, we would need a feature extractor embedding layer to transform text into numbers, so we are using Universal Sentence Encoder as a feature extraction embedding layer https://tfhub.dev/google/universal-sentence-encoder/4.\n",
        "\n",
        "Then we can build the model and compile."
      ]
    },
    {
      "cell_type": "code",
      "execution_count": null,
      "metadata": {
        "colab": {
          "base_uri": "https://localhost:8080/"
        },
        "id": "aGslhk5iE673",
        "outputId": "82b44adc-4ff2-46df-bcf5-e45c420c82fc"
      },
      "outputs": [
        {
          "name": "stderr",
          "output_type": "stream",
          "text": [
            "WARNING:tensorflow:Please fix your imports. Module tensorflow.python.training.tracking.data_structures has been moved to tensorflow.python.trackable.data_structures. The old module will be deleted in version 2.11.\n"
          ]
        },
        {
          "name": "stdout",
          "output_type": "stream",
          "text": [
            "Random Sentence:\n",
            "both fortified-milk and - juice contained @iu of vitamin d and @mg of calcium per @ml package , whereas supplement contained @iu of vitamin d and @mg of calcium .\n",
            "Sentence after Embedding:\n",
            "[[-0.01992027  0.02218209  0.00043884 -0.00163391  0.01926553 -0.00595836\n",
            "  -0.04564435 -0.00758143  0.03173718 -0.04005193  0.06768288 -0.04729965\n",
            "  -0.06923101  0.06167563 -0.07010862 -0.01013438 -0.0701203   0.02620459\n",
            "   0.06549206 -0.04049841  0.01331161 -0.01633611  0.01845932  0.00734234\n",
            "   0.05115476 -0.04546858  0.05461957 -0.03067526 -0.01097544  0.05732596\n",
            "  -0.03539908  0.07012136  0.06965438 -0.06897086 -0.06421398 -0.04832949\n",
            "   0.02350096  0.01754689 -0.01124159 -0.05616271  0.04078012  0.06961457\n",
            "  -0.05309973  0.00309905  0.06943762 -0.03957679 -0.02816619 -0.06188357\n",
            "   0.01405423  0.04285766  0.00206493  0.02254457 -0.00734855 -0.01998623\n",
            "   0.06881888 -0.00351026 -0.06302107  0.04875892  0.02898336 -0.02553841\n",
            "   0.00760027 -0.05005938 -0.04376448 -0.03951588  0.04966833  0.02389221\n",
            "   0.02278946 -0.05642818 -0.0679208  -0.01845028 -0.04106423  0.01550132\n",
            "  -0.05017365 -0.03977976  0.01561002  0.05919398  0.06107137  0.02338261\n",
            "   0.06707354  0.06370354  0.04582453  0.01190764  0.05021638  0.04055161\n",
            "   0.01219913  0.02639985 -0.00755202 -0.0673239  -0.06073516  0.01980581\n",
            "  -0.05132982  0.03522113  0.03835625  0.0444297  -0.06768677  0.05691843\n",
            "   0.03880524 -0.05440255  0.05408237  0.01795432  0.05838928 -0.05498901\n",
            "   0.06920286  0.03678641 -0.0049981  -0.06396805 -0.06283903  0.05765472\n",
            "  -0.01020347  0.00220912  0.06662909  0.06340139  0.02648477 -0.02628668\n",
            "  -0.04853106 -0.01018715  0.06418452 -0.03031039  0.00016877 -0.0626364\n",
            "  -0.06031078  0.06431022 -0.02022435  0.05932823  0.00483148  0.06607188\n",
            "  -0.04734445  0.04236716 -0.02288512 -0.01301686 -0.02313707  0.07012134\n",
            "   0.00561324  0.06443226  0.01039257 -0.04136124  0.03637334 -0.06811607\n",
            "   0.04412713  0.0688394  -0.04292813  0.06504148  0.03267069 -0.05719038\n",
            "  -0.00674057  0.03697954 -0.03002994 -0.02704846 -0.05295828  0.06574455\n",
            "  -0.05289282 -0.03276068 -0.06578439  0.05608296  0.07011883  0.02771165\n",
            "   0.052879    0.06636528  0.04065459 -0.05789386  0.06164727 -0.05269802\n",
            "  -0.02873528  0.06646804 -0.03387416 -0.0498143   0.02681896 -0.06768565\n",
            "  -0.00629105 -0.03620342 -0.06289688  0.02707984 -0.02300045 -0.01635191\n",
            "   0.02947241 -0.0607999   0.00953044 -0.00555878  0.06771822  0.03529466\n",
            "   0.01952863  0.01838865  0.05494644  0.06861795 -0.03887133 -0.00732801\n",
            "   0.069038   -0.04287429 -0.03822921 -0.04357168 -0.02516916 -0.06877828\n",
            "  -0.06619366  0.05984496  0.00117867 -0.05157745  0.06787214 -0.05010629\n",
            "   0.04566275 -0.02575411 -0.00035429 -0.02240306 -0.02776456  0.01150088\n",
            "  -0.06783684  0.04585571  0.02159108  0.00085751 -0.02046531 -0.02410887\n",
            "   0.05343937  0.03886665 -0.06832702  0.01965773  0.00400565  0.00691073\n",
            "   0.06307656  0.03082587  0.01510936 -0.05290303 -0.04048207  0.03076963\n",
            "   0.02060476 -0.00261783  0.05063284 -0.03595183  0.0494174   0.01721481\n",
            "   0.03846355 -0.0699877  -0.06650475  0.05065525  0.00899596 -0.05423919\n",
            "  -0.06092222  0.02638729  0.00661807  0.03124046  0.01758201  0.04557338\n",
            "  -0.01376651  0.05414007 -0.06398527  0.05943737  0.05134413 -0.03826516\n",
            "  -0.02163936  0.04548086  0.04908558 -0.07011314 -0.00756914  0.04845109\n",
            "  -0.02021151  0.04341395 -0.02029775 -0.01511352 -0.02855405 -0.0453809\n",
            "  -0.03274816 -0.00805931 -0.0559983   0.00850539 -0.06776472 -0.02381091\n",
            "  -0.01920828  0.00036215 -0.04615257  0.00718637 -0.06743214  0.02377897\n",
            "  -0.01587849  0.00707997  0.04907827 -0.05758854 -0.05204054  0.05222678\n",
            "  -0.01527585  0.00977205  0.0116734   0.05634267  0.01270831  0.02874031\n",
            "  -0.06523722  0.00960184 -0.06827571  0.00871126 -0.03225543 -0.05047387\n",
            "  -0.05190501 -0.02654354 -0.02809075 -0.05990691  0.0567284  -0.06064421\n",
            "  -0.0601568  -0.00743246 -0.03897724 -0.02373183 -0.06346325  0.05339506\n",
            "   0.03262829 -0.01809485  0.01466213 -0.05502452  0.00366256 -0.05391878\n",
            "  -0.01703274 -0.0284349  -0.06298213 -0.06100167 -0.04736092  0.01881057\n",
            "   0.06573122  0.03530565  0.06918458  0.06506748  0.00967301 -0.01808118\n",
            "   0.05055039  0.03675988  0.06219382 -0.06749483  0.00169929  0.07010034\n",
            "   0.05035998  0.05406696  0.01231316  0.04065332 -0.06568834  0.06682235\n",
            "  -0.06396495  0.00445134  0.01133407  0.03616686  0.04687803 -0.050359\n",
            "  -0.01292062 -0.00297973  0.04081222  0.02829023 -0.00343433  0.03419449\n",
            "   0.07002886  0.04814444 -0.04190258 -0.07012139  0.00441475 -0.03060248\n",
            "  -0.00984991  0.02852584 -0.02124433 -0.02170207  0.06525595 -0.0512954\n",
            "   0.04492091 -0.03574757 -0.06515792 -0.03774268 -0.05897139 -0.06164201\n",
            "   0.03670808  0.05235365 -0.05596131  0.0010037   0.05138475  0.02346449\n",
            "   0.04054134  0.03053242 -0.0326005   0.06989176  0.06972466  0.00819316\n",
            "   0.03775824 -0.07007181 -0.06128811 -0.00694717  0.05100674 -0.06283287\n",
            "   0.05453472 -0.00087268 -0.04267849 -0.06180805 -0.03677949  0.03409668\n",
            "  -0.01568886  0.01510845 -0.05902129 -0.03460303  0.06929266 -0.05669923\n",
            "  -0.02142452  0.05120482 -0.06822287 -0.02295004  0.04441758  0.00092213\n",
            "   0.06032991  0.0657855  -0.06957042 -0.01338159 -0.00319665  0.052773\n",
            "  -0.02750927  0.05688087  0.00252766 -0.03729822 -0.01220903 -0.05430229\n",
            "   0.03021343  0.06516406 -0.0227036  -0.02241864  0.04427917  0.06034741\n",
            "   0.00073429  0.03137823  0.00101032  0.00042495 -0.0280485   0.02510747\n",
            "  -0.02095569 -0.06004534  0.02826296 -0.06158778 -0.0446802  -0.00515376\n",
            "   0.03227907  0.05188584 -0.00185414 -0.02468416 -0.02328477 -0.04480134\n",
            "  -0.03656114  0.03323585  0.0566505  -0.02768221  0.03427224  0.03437188\n",
            "   0.06520899 -0.01174816 -0.04906539 -0.03396418 -0.02119897 -0.01711132\n",
            "  -0.03341459  0.04852261 -0.06951397  0.03528169  0.04010917  0.06407918\n",
            "  -0.06208593  0.06685287 -0.02683719 -0.00194461  0.00422705 -0.05331641\n",
            "  -0.07003741  0.04368972  0.06900419  0.01494471  0.04173677 -0.0200155\n",
            "   0.00870495  0.02053149  0.06462532 -0.00304097 -0.01561136  0.03797313\n",
            "  -0.06281086  0.06906871  0.0104874  -0.02226572 -0.06218147 -0.04235347\n",
            "   0.00163506  0.0690854   0.04881924 -0.01814618 -0.05572239  0.06718043\n",
            "  -0.0402096   0.02307457 -0.06540845  0.04387746 -0.05779054 -0.02325002\n",
            "  -0.06291948 -0.06073459 -0.06990605 -0.05055009  0.02437833 -0.04049233\n",
            "   0.06232134 -0.03254132  0.01368921  0.0297452   0.05917705  0.01512954\n",
            "  -0.00946686 -0.0403602  -0.05966268  0.02078304  0.05514928 -0.01577125\n",
            "   0.01096082 -0.07011969 -0.00536735  0.04414213  0.06555988  0.06825246\n",
            "  -0.05412348 -0.04661298]]\n",
            "Length of Embedding:\n",
            "512\n"
          ]
        }
      ],
      "source": [
        "import tensorflow_hub as hub\n",
        "\n",
        "use_embedding_layer = hub.KerasLayer(\"https://tfhub.dev/google/universal-sentence-encoder/4\",\n",
        "                                      trainable=False,\n",
        "                                      name='use_embedding_layer')\n",
        "random_sentence = random.choice(train_sentences)\n",
        "print(f\"Random Sentence:\\n{random_sentence}\")\n",
        "use_embedded = use_embedding_layer([random_sentence])\n",
        "print(f\"Sentence after Embedding:\\n{use_embedded}\")\n",
        "print(f\"Length of Embedding:\\n{len(use_embedded[0])}\")"
      ]
    },
    {
      "cell_type": "markdown",
      "metadata": {
        "id": "zrv_XprEG4PD"
      },
      "source": [
        "Outputs of USE Embedding layer is 512 dimensional embedding vector."
      ]
    },
    {
      "cell_type": "markdown",
      "metadata": {
        "id": "8ry9iJYOH798"
      },
      "source": [
        "### Building and Fitting an NLP Feature Extractor model using TensorFlow Hub"
      ]
    },
    {
      "cell_type": "code",
      "execution_count": null,
      "metadata": {
        "colab": {
          "base_uri": "https://localhost:8080/"
        },
        "id": "FCZBmMx_IIC9",
        "outputId": "050eec8e-a697-404f-879c-705ff73427ae"
      },
      "outputs": [
        {
          "name": "stderr",
          "output_type": "stream",
          "text": [
            "WARNING:tensorflow:From /usr/local/lib/python3.9/dist-packages/tensorflow/python/autograph/pyct/static_analysis/liveness.py:83: Analyzer.lamba_check (from tensorflow.python.autograph.pyct.static_analysis.liveness) is deprecated and will be removed after 2023-09-23.\n",
            "Instructions for updating:\n",
            "Lambda fuctions will be no more assumed to be used in the statement where they are used, or at least in the same block. https://github.com/tensorflow/tensorflow/issues/56089\n"
          ]
        },
        {
          "name": "stdout",
          "output_type": "stream",
          "text": [
            "Saving Tensorboard log files to: model_logs/use_feature_extractor_model/20230314-033049\n",
            "Epoch 1/3\n",
            "562/562 [==============================] - 14s 20ms/step - loss: 0.9144 - accuracy: 0.6512 - val_loss: 0.7988 - val_accuracy: 0.6875\n",
            "Epoch 2/3\n",
            "562/562 [==============================] - 8s 14ms/step - loss: 0.7714 - accuracy: 0.6997 - val_loss: 0.7587 - val_accuracy: 0.7041\n",
            "Epoch 3/3\n",
            "562/562 [==============================] - 9s 17ms/step - loss: 0.7561 - accuracy: 0.7111 - val_loss: 0.7446 - val_accuracy: 0.7104\n"
          ]
        }
      ],
      "source": [
        "# define feature extraction model using TF Hub layer\n",
        "inputs = layers.Input(shape=[], dtype=tf.string)\n",
        "pretrained_embedding = use_embedding_layer(inputs) # tokenize text and create embedding\n",
        "x = layers.Dense(128, activation='relu')(pretrained_embedding)\n",
        "outputs = layers.Dense(num_classes, activation='softmax')(x)\n",
        "model_2 = tf.keras.Model(inputs, outputs)\n",
        "\n",
        "# compile the model\n",
        "model_2.compile(loss='categorical_crossentropy',\n",
        "                optimizer='Adam',\n",
        "                metrics=['accuracy'])\n",
        "\n",
        "# fit the model\n",
        "history_2 = model_2.fit(train_dataset,\n",
        "                        epochs=3,\n",
        "                        steps_per_epoch=int(0.1 * len(train_dataset)),\n",
        "                        validation_data=valid_dataset,\n",
        "                        validation_steps=int(0.1 * len(valid_dataset)),\n",
        "                        callbacks=[create_tensorboard_callback(SAVE_DIR, \"use_feature_extractor_model\")])"
      ]
    },
    {
      "cell_type": "markdown",
      "metadata": {
        "id": "0ei3K2kmK_Ux"
      },
      "source": [
        "**Note:** Training is a lot quicker because we haven't set the parameter `trainable=True` while feature extraction."
      ]
    },
    {
      "cell_type": "code",
      "execution_count": null,
      "metadata": {
        "colab": {
          "base_uri": "https://localhost:8080/"
        },
        "id": "ckPyhMhuJZQf",
        "outputId": "4fd46674-31cb-4550-91fd-178c96871419"
      },
      "outputs": [
        {
          "name": "stdout",
          "output_type": "stream",
          "text": [
            "Model: \"model\"\n",
            "_________________________________________________________________\n",
            " Layer (type)                Output Shape              Param #   \n",
            "=================================================================\n",
            " input_3 (InputLayer)        [(None,)]                 0         \n",
            "                                                                 \n",
            " use_embedding_layer (KerasL  (None, 512)              256797824 \n",
            " ayer)                                                           \n",
            "                                                                 \n",
            " dense_2 (Dense)             (None, 128)               65664     \n",
            "                                                                 \n",
            " dense_3 (Dense)             (None, 5)                 645       \n",
            "                                                                 \n",
            "=================================================================\n",
            "Total params: 256,864,133\n",
            "Trainable params: 66,309\n",
            "Non-trainable params: 256,797,824\n",
            "_________________________________________________________________\n"
          ]
        }
      ],
      "source": [
        "# see the summary\n",
        "model_2.summary()"
      ]
    },
    {
      "cell_type": "code",
      "execution_count": null,
      "metadata": {
        "colab": {
          "base_uri": "https://localhost:8080/"
        },
        "id": "ZXRrJhWVKGNh",
        "outputId": "63d2221e-d50b-4d72-ff7e-4e2a36d7b713"
      },
      "outputs": [
        {
          "name": "stdout",
          "output_type": "stream",
          "text": [
            "945/945 [==============================] - 12s 13ms/step - loss: 0.7451 - accuracy: 0.7119\n"
          ]
        },
        {
          "data": {
            "text/plain": [
              "[0.7450690865516663, 0.711869478225708]"
            ]
          },
          "execution_count": 53,
          "metadata": {},
          "output_type": "execute_result"
        }
      ],
      "source": [
        "# evaluate the model\n",
        "model_2.evaluate(valid_dataset)"
      ]
    },
    {
      "cell_type": "code",
      "execution_count": null,
      "metadata": {
        "colab": {
          "base_uri": "https://localhost:8080/"
        },
        "id": "cMxGf69HKOhl",
        "outputId": "affbfb41-21a0-4649-cf5a-e575ffe0a437"
      },
      "outputs": [
        {
          "name": "stdout",
          "output_type": "stream",
          "text": [
            "945/945 [==============================] - 14s 14ms/step\n"
          ]
        },
        {
          "data": {
            "text/plain": [
              "{'accuracy': 71.18694558453595,\n",
              " 'f1': 0.7091327700709494,\n",
              " 'precision': 0.7121877027024622,\n",
              " 'recall': 0.7118694558453594}"
            ]
          },
          "execution_count": 54,
          "metadata": {},
          "output_type": "execute_result"
        }
      ],
      "source": [
        "# calculate results\n",
        "model_2_results = calculate_results(model_2, prefetching_used=True, val_dataset=valid_dataset)\n",
        "model_2_results"
      ]
    },
    {
      "cell_type": "markdown",
      "metadata": {
        "id": "sVsOkIhDKjWe"
      },
      "source": [
        "## Model_3 : Conv1D with Character Embeddings\n",
        "\n",
        "**What is Character Embedding ?**\n",
        "\n",
        "The difference between a character and token embedding is that the **character embedding** is created using sequences split into characters (e.g `tensorflow` -> [`t`,`e`,`n`,`s`,`o`,`r`,`f`,`l`,`o`,`w`]) where as a **token embedding** is created on sequences split into tokens(words).\n",
        "\n",
        "We can create a character-level embedding by first vectorizing our sequences (after they've been split into characters) using the `TextVectorization` class and then passing those vectorized sequences through an `Embedding` layer."
      ]
    },
    {
      "cell_type": "markdown",
      "metadata": {
        "id": "7E4nrG6vV8F9"
      },
      "source": [
        "### Create a Character Level Tokenizer"
      ]
    },
    {
      "cell_type": "code",
      "execution_count": 24,
      "metadata": {
        "id": "LXeJqyQPTgCo"
      },
      "outputs": [],
      "source": [
        "# we need to first split the sentences into chars\n",
        "def split_chars(text):\n",
        "  return \" \".join(list(text))\n",
        "\n",
        "\n",
        "# test splitting non-character level sequence into characters\n",
        "#split_chars(random_sentence)"
      ]
    },
    {
      "cell_type": "code",
      "execution_count": null,
      "metadata": {
        "colab": {
          "base_uri": "https://localhost:8080/",
          "height": 87
        },
        "id": "vRiu07ZUT6Ea",
        "outputId": "29d419c2-d105-42fc-aa0c-2dda11759e0f"
      },
      "outputs": [
        {
          "data": {
            "application/vnd.google.colaboratory.intrinsic+json": {
              "type": "string"
            },
            "text/plain": [
              "'t o   i n v e s t i g a t e   t h e   e f f i c a c y   o f   @   w e e k s   o f   d a i l y   l o w - d o s e   o r a l   p r e d n i s o l o n e   i n   i m p r o v i n g   p a i n   ,   m o b i l i t y   ,   a n d   s y s t e m i c   l o w - g r a d e   i n f l a m m a t i o n   i n   t h e   s h o r t   t e r m   a n d   w h e t h e r   t h e   e f f e c t   w o u l d   b e   s u s t a i n e d   a t   @   w e e k s   i n   o l d e r   a d u l t s   w i t h   m o d e r a t e   t o   s e v e r e   k n e e   o s t e o a r t h r i t i s   (   o a   )   .'"
            ]
          },
          "execution_count": 56,
          "metadata": {},
          "output_type": "execute_result"
        }
      ],
      "source": [
        "# split sequence-level data splits into character-level data splits\n",
        "train_chars = [split_chars(sentence) for sentence in train_sentences]\n",
        "val_chars = [split_chars(sentence) for sentence in val_sentences]\n",
        "test_chars = [split_chars(sentence) for sentence in test_sentences]\n",
        "\n",
        "train_chars[0]"
      ]
    },
    {
      "cell_type": "code",
      "execution_count": null,
      "metadata": {
        "colab": {
          "base_uri": "https://localhost:8080/"
        },
        "id": "iF1rxJGqUTn_",
        "outputId": "9c856b44-f1ab-4eaa-e39b-6db128737afb"
      },
      "outputs": [
        {
          "data": {
            "text/plain": [
              "149.3662574983337"
            ]
          },
          "execution_count": 57,
          "metadata": {},
          "output_type": "execute_result"
        }
      ],
      "source": [
        "# now we need to find the maximum character length in each sentences\n",
        "char_len = [len(sentence) for sentence in train_sentences]\n",
        "mean_char_length = np.mean(char_len)\n",
        "mean_char_length"
      ]
    },
    {
      "cell_type": "code",
      "execution_count": null,
      "metadata": {
        "colab": {
          "base_uri": "https://localhost:8080/",
          "height": 265
        },
        "id": "1tSvwGAeVH6J",
        "outputId": "09734148-7105-47a3-d8f5-6f5eca55d0de"
      },
      "outputs": [
        {
          "data": {
            "image/png": "[encoded data removed]",
            "text/plain": [
              "<Figure size 432x288 with 1 Axes>"
            ]
          },
          "metadata": {},
          "output_type": "display_data"
        }
      ],
      "source": [
        "# check the distribution\n",
        "plt.hist(char_len, bins=7);"
      ]
    },
    {
      "cell_type": "markdown",
      "metadata": {
        "id": "6tVUhkqqVfUa"
      },
      "source": [
        "Looks like most of our sequences are between 0 and 200 characters long.\n",
        "\n",
        "Let's use NumPy percentile to figure out what length covers 95% of our sequences."
      ]
    },
    {
      "cell_type": "code",
      "execution_count": null,
      "metadata": {
        "colab": {
          "base_uri": "https://localhost:8080/"
        },
        "id": "iNBYhMVDVsFD",
        "outputId": "074b8327-ee32-4782-9f4b-c15b74be085a"
      },
      "outputs": [
        {
          "data": {
            "text/plain": [
              "290"
            ]
          },
          "execution_count": 59,
          "metadata": {},
          "output_type": "execute_result"
        }
      ],
      "source": [
        "output_seq_char_len = int(np.percentile(char_len, 95))\n",
        "output_seq_char_len"
      ]
    },
    {
      "cell_type": "markdown",
      "metadata": {
        "id": "Zbv9EICuVznK"
      },
      "source": [
        "We can use `output_seq_char_len` for `output_sequence_length` in `TextVectorization` layer\n",
        "\n",
        "We'll set `max_tokens` (the total number of different characters in our sequences) to 28, in other words, 26 letters of the alphabet + space + OOV (out of vocab or unknown) tokens."
      ]
    },
    {
      "cell_type": "code",
      "execution_count": null,
      "metadata": {
        "colab": {
          "base_uri": "https://localhost:8080/",
          "height": 35
        },
        "id": "lnlKcckdWcHp",
        "outputId": "bff4c315-cf99-4933-8525-1f704c564f53"
      },
      "outputs": [
        {
          "data": {
            "application/vnd.google.colaboratory.intrinsic+json": {
              "type": "string"
            },
            "text/plain": [
              "'abcdefghijklmnopqrstuvwxyz!\"#$%&\\'()*+,-./:;<=>?@[\\\\]^_`{|}~0123456789'"
            ]
          },
          "execution_count": 60,
          "metadata": {},
          "output_type": "execute_result"
        }
      ],
      "source": [
        "import string\n",
        "alphabet = string.ascii_lowercase + string.punctuation + string.digits\n",
        "alphabet"
      ]
    },
    {
      "cell_type": "code",
      "execution_count": null,
      "metadata": {
        "id": "Ek2to6BqWkRG"
      },
      "outputs": [],
      "source": [
        "NUM_CHAR_TOKENS = len(alphabet) + 2\n",
        "\n",
        "char_vectorizer = TextVectorization(max_tokens=NUM_CHAR_TOKENS,\n",
        "                                    output_sequence_length=output_seq_char_len,\n",
        "                                    standardize=\"lower_and_strip_punctuation\", # default setting\n",
        "                                    name='char_vectorizer') \n",
        "\n",
        "# adapt the vectorizer\n",
        "char_vectorizer.adapt(train_chars)"
      ]
    },
    {
      "cell_type": "code",
      "execution_count": null,
      "metadata": {
        "colab": {
          "base_uri": "https://localhost:8080/"
        },
        "id": "DDH75Ax_WqVA",
        "outputId": "54ccfbe6-3ad7-4c0d-d403-2e68168b94ae"
      },
      "outputs": [
        {
          "name": "stdout",
          "output_type": "stream",
          "text": [
            "Number of different characters in the character vocab:28\n",
            "5 Most common characters:['', '[UNK]', 'e', 't', 'i']\n",
            "5 Least common characters:['k', 'x', 'z', 'q', 'j']\n"
          ]
        }
      ],
      "source": [
        "# check the vocabulary characteristics\n",
        "char_vocab = char_vectorizer.get_vocabulary()\n",
        "print(f'Number of different characters in the character vocab:{len(char_vocab)}')\n",
        "print(f'5 Most common characters:{char_vocab[:5]}')\n",
        "print(f'5 Least common characters:{char_vocab[-5:]}')"
      ]
    },
    {
      "cell_type": "markdown",
      "metadata": {
        "id": "ucuSb9K7XnZB"
      },
      "source": [
        "Test on random sentence"
      ]
    },
    {
      "cell_type": "code",
      "execution_count": null,
      "metadata": {
        "colab": {
          "base_uri": "https://localhost:8080/"
        },
        "id": "GO98Dmm9YBuy",
        "outputId": "81dcf2e9-64fc-46ac-cc5b-283cc5b0862f"
      },
      "outputs": [
        {
          "name": "stdout",
          "output_type": "stream",
          "text": [
            "Charified Text:\n",
            " a l t h o u g h   t h i s   i s   a   n o v e l   o b s e r v a t i o n   f o r   r c c   ,   t h e s e   f i n d i n g s   r e q u i r e   v a l i d a t i o n   i n   p a t i e n t s   w i t h   m r c c   w h o   a r e   t r e a t e d   w i t h   o t h e r   t a r g e t e d   a g e n t s   .\n",
            "\n",
            " Length of chars:123\n",
            "\n",
            " Vectorized Chars:\n",
            "[[ 5 12  3 13  7 16 18 13  3 13  4  9  4  9  5  6  7 21  2 12  7 22  9  2\n",
            "   8 21  5  3  4  7  6 17  7  8  8 11 11  3 13  2  9  2 17  4  6 10  4  6\n",
            "  18  9  8  2 26 16  4  8  2 21  5 12  4 10  5  3  4  7  6  4  6 14  5  3\n",
            "   4  2  6  3  9 20  4  3 13 15  8 11 11 20 13  7  5  8  2  3  8  2  5  3\n",
            "   2 10 20  4  3 13  7  3 13  2  8  3  5  8 18  2  3  2 10  5 18  2  6  3\n",
            "   9  0  0  0  0  0  0  0  0  0  0  0  0  0  0  0  0  0  0  0  0  0  0  0\n",
            "   0  0  0  0  0  0  0  0  0  0  0  0  0  0  0  0  0  0  0  0  0  0  0  0\n",
            "   0  0  0  0  0  0  0  0  0  0  0  0  0  0  0  0  0  0  0  0  0  0  0  0\n",
            "   0  0  0  0  0  0  0  0  0  0  0  0  0  0  0  0  0  0  0  0  0  0  0  0\n",
            "   0  0  0  0  0  0  0  0  0  0  0  0  0  0  0  0  0  0  0  0  0  0  0  0\n",
            "   0  0  0  0  0  0  0  0  0  0  0  0  0  0  0  0  0  0  0  0  0  0  0  0\n",
            "   0  0  0  0  0  0  0  0  0  0  0  0  0  0  0  0  0  0  0  0  0  0  0  0\n",
            "   0  0]]\n",
            "\n",
            " Length of vectorized chars:290\n"
          ]
        }
      ],
      "source": [
        "random_train_chars = random.choice(train_chars)\n",
        "print(f'Charified Text:\\n {random_train_chars}')\n",
        "print(f'\\n Length of chars:{len(random_train_chars.split())}')\n",
        "vectorized_chars = char_vectorizer([random_train_chars])\n",
        "print(f'\\n Vectorized Chars:\\n{vectorized_chars}')\n",
        "print(f'\\n Length of vectorized chars:{len(vectorized_chars[0])}')"
      ]
    },
    {
      "cell_type": "markdown",
      "metadata": {
        "id": "F49rGuluYiye"
      },
      "source": [
        "### Create character-level embedding\n",
        "\n",
        "Just like character-level tokenizer, we can create character-level embedding using `tensorflow.keras.layers.Embedding` and setting `input_dim` as the length of different character length i.e `char_vocab` and `output_dim` as 25, mentioned in the paper (Fig 1 https://arxiv.org/pdf/1612.05251.pdf)"
      ]
    },
    {
      "cell_type": "code",
      "execution_count": null,
      "metadata": {
        "colab": {
          "base_uri": "https://localhost:8080/"
        },
        "id": "J5MocNoDZc9a",
        "outputId": "6dd00f7e-9487-4da4-cca5-1dd41e91c3dc"
      },
      "outputs": [
        {
          "name": "stdout",
          "output_type": "stream",
          "text": [
            "Charified Text (before vectorization and embedding):\n",
            "a l t h o u g h   t h i s   i s   a   n o v e l   o b s e r v a t i o n   f o r   r c c   ,   t h e s e   f i n d i n g s   r e q u i r e   v a l i d a t i o n   i n   p a t i e n t s   w i t h   m r c c   w h o   a r e   t r e a t e d   w i t h   o t h e r   t a r g e t e d   a g e n t s   .\n",
            "Embedded Chars:\n",
            "[[[-0.04343532  0.04754268  0.02574823 ... -0.04403349 -0.01620372\n",
            "    0.00551412]\n",
            "  [ 0.0296496  -0.02018762 -0.02581667 ...  0.01099966  0.00945532\n",
            "    0.02471733]\n",
            "  [-0.02830079  0.04579849  0.03751646 ...  0.02230087  0.04303843\n",
            "   -0.02448112]\n",
            "  ...\n",
            "  [ 0.03799814  0.00045107 -0.02319617 ... -0.00092135 -0.00687873\n",
            "   -0.01242889]\n",
            "  [ 0.03799814  0.00045107 -0.02319617 ... -0.00092135 -0.00687873\n",
            "   -0.01242889]\n",
            "  [ 0.03799814  0.00045107 -0.02319617 ... -0.00092135 -0.00687873\n",
            "   -0.01242889]]]\n",
            "Character Embedding Shape:(1, 290, 25)\n"
          ]
        }
      ],
      "source": [
        "# create char level embedding\n",
        "char_embed = layers.Embedding(input_dim = NUM_CHAR_TOKENS,\n",
        "                              output_dim = 25,\n",
        "                              mask_zero = False, # this time setting as False\n",
        "                              name='char_embedding')\n",
        "\n",
        "# test our embedding\n",
        "print(f'Charified Text (before vectorization and embedding):\\n{random_train_chars}')\n",
        "char_embed_example = char_embed(char_vectorizer([random_train_chars]))\n",
        "print(f'Embedded Chars:\\n{char_embed_example}')\n",
        "print(f'Character Embedding Shape:{char_embed_example.shape}')"
      ]
    },
    {
      "cell_type": "markdown",
      "metadata": {
        "id": "w36SWZ3QeZxf"
      },
      "source": [
        "### Create Char Level datasets\n",
        "\n",
        "Same like train_dataset which is created using train_sentences we need to create prefetch dataset for character level data"
      ]
    },
    {
      "cell_type": "code",
      "execution_count": null,
      "metadata": {
        "colab": {
          "base_uri": "https://localhost:8080/"
        },
        "id": "KKfpb660epWa",
        "outputId": "ff3e719f-ec78-4f69-ba87-454324e1cf8f"
      },
      "outputs": [
        {
          "data": {
            "text/plain": [
              "<PrefetchDataset element_spec=(TensorSpec(shape=(None,), dtype=tf.string, name=None), TensorSpec(shape=(None, 5), dtype=tf.float64, name=None))>"
            ]
          },
          "execution_count": 65,
          "metadata": {},
          "output_type": "execute_result"
        }
      ],
      "source": [
        "train_char_dataset = tf.data.Dataset.from_tensor_slices((train_chars, train_labels_one_hot)).batch(32).prefetch(tf.data.AUTOTUNE)\n",
        "val_char_dataset = tf.data.Dataset.from_tensor_slices((val_chars, val_labels_one_hot)).batch(32).prefetch(tf.data.AUTOTUNE)\n",
        "test_char_dataset = tf.data.Dataset.from_tensor_slices((test_chars, test_labels_one_hot)).batch(32).prefetch(tf.data.AUTOTUNE)\n",
        "\n",
        "train_char_dataset"
      ]
    },
    {
      "cell_type": "markdown",
      "metadata": {
        "id": "FqK-S9y0boBr"
      },
      "source": [
        "### Building, fitting and evaluating a Conv1D model on character embeddings"
      ]
    },
    {
      "cell_type": "code",
      "execution_count": null,
      "metadata": {
        "colab": {
          "base_uri": "https://localhost:8080/"
        },
        "id": "iw7ib6VMbyRq",
        "outputId": "fc0b5b76-fb5a-4319-aeff-677fdffb43b5"
      },
      "outputs": [
        {
          "name": "stdout",
          "output_type": "stream",
          "text": [
            "Saving Tensorboard log files to: model_logs/conv1D_with_character_embeddings/20230314-033225\n",
            "Epoch 1/3\n",
            "562/562 [==============================] - 5s 7ms/step - loss: 1.2638 - accuracy: 0.4946 - val_loss: 1.0494 - val_accuracy: 0.5785\n",
            "Epoch 2/3\n",
            "562/562 [==============================] - 3s 6ms/step - loss: 1.0074 - accuracy: 0.5991 - val_loss: 0.9351 - val_accuracy: 0.6307\n",
            "Epoch 3/3\n",
            "562/562 [==============================] - 5s 9ms/step - loss: 0.9278 - accuracy: 0.6341 - val_loss: 0.8630 - val_accuracy: 0.6722\n"
          ]
        }
      ],
      "source": [
        "inputs = layers.Input(shape=(1,), dtype=tf.string)\n",
        "x = char_vectorizer(inputs)\n",
        "x = char_embed(x)\n",
        "x = layers.Conv1D(64, kernel_size=5, padding='same', activation='relu')(x)\n",
        "x = layers.GlobalMaxPool1D()(x)\n",
        "outputs = layers.Dense(num_classes, activation='softmax')(x)\n",
        "model_3 = tf.keras.Model(inputs, outputs, name='model_3_with_character_embeddings')\n",
        "\n",
        "# compile the model\n",
        "model_3.compile(loss='categorical_crossentropy',\n",
        "                optimizer='Adam',\n",
        "                metrics=['accuracy'])\n",
        "\n",
        "# fit the model\n",
        "history_3 = model_3.fit(train_char_dataset,\n",
        "                        steps_per_epoch=int(0.1 * len(train_char_dataset)),\n",
        "                        epochs=3,\n",
        "                        validation_data=val_char_dataset,\n",
        "                        validation_steps=int(0.1 * len(val_char_dataset)),\n",
        "                        callbacks=[create_tensorboard_callback(SAVE_DIR, \"conv1D_with_character_embeddings\")])"
      ]
    },
    {
      "cell_type": "code",
      "execution_count": null,
      "metadata": {
        "colab": {
          "base_uri": "https://localhost:8080/"
        },
        "id": "eWCSFJR7fsAQ",
        "outputId": "ec5e9332-e8a9-4ba0-f049-75f33c61ddf8"
      },
      "outputs": [
        {
          "name": "stdout",
          "output_type": "stream",
          "text": [
            "945/945 [==============================] - 5s 5ms/step - loss: 0.8839 - accuracy: 0.6580\n"
          ]
        },
        {
          "data": {
            "text/plain": [
              "[0.8839402198791504, 0.6580497622489929]"
            ]
          },
          "execution_count": 67,
          "metadata": {},
          "output_type": "execute_result"
        }
      ],
      "source": [
        "# evaluate\n",
        "model_3.evaluate(val_char_dataset)"
      ]
    },
    {
      "cell_type": "code",
      "execution_count": null,
      "metadata": {
        "colab": {
          "base_uri": "https://localhost:8080/"
        },
        "id": "rUsqd5YegVjd",
        "outputId": "8842d5ae-12ae-43df-df71-a3dea8f46f8a"
      },
      "outputs": [
        {
          "name": "stdout",
          "output_type": "stream",
          "text": [
            "945/945 [==============================] - 3s 3ms/step\n"
          ]
        },
        {
          "data": {
            "text/plain": [
              "{'accuracy': 65.80497815437575,\n",
              " 'f1': 0.6476547613072982,\n",
              " 'precision': 0.6502856579303263,\n",
              " 'recall': 0.6580497815437575}"
            ]
          },
          "execution_count": 68,
          "metadata": {},
          "output_type": "execute_result"
        }
      ],
      "source": [
        "# calculate results\n",
        "model_3_results = calculate_results(model=model_3,\n",
        "                                    prefetching_used=True,\n",
        "                                    val_dataset=val_char_dataset)\n",
        "\n",
        "model_3_results"
      ]
    },
    {
      "cell_type": "markdown",
      "metadata": {
        "id": "UfyXrxMggqig"
      },
      "source": [
        "## Model_4 : Pretrained Token Embeddings + Custom Character Embeddings (hybrid embedding layer)\n",
        "\n",
        "In this modelling experiment, we are going to combine pretrained token embeddings and character embeddings into a hybrid embedding layer and concatenate the outputs of them using `layers.Concatenate`\n",
        "\n",
        "To start replicating the model in Figure 1 of the paper, we're going to go through the following steps:\n",
        "\n",
        "1. Create a token-level model (similar to `model_2`)\n",
        "2. Create a character level model(similar to `model_3` with a slight modification to relect the paper)\n",
        "3. Combine (using `layers.Concatenate`) the outputs of 1 and 2\n",
        "4. Build a series of output layers on top of 3 similar to fig 1\n",
        "5. Construct a model which takes token and character-level sequences as input and produces sequence label probabilities as output."
      ]
    },
    {
      "cell_type": "code",
      "execution_count": null,
      "metadata": {
        "colab": {
          "base_uri": "https://localhost:8080/"
        },
        "id": "PvpchtNewNq6",
        "outputId": "01086874-4948-4488-de8d-e97302cb3258"
      },
      "outputs": [
        {
          "name": "stdout",
          "output_type": "stream",
          "text": [
            "Model: \"model_4_token_and_char_embeddings\"\n",
            "__________________________________________________________________________________________________\n",
            " Layer (type)                   Output Shape         Param #     Connected to                     \n",
            "==================================================================================================\n",
            " char_input (InputLayer)        [(None, 1)]          0           []                               \n",
            "                                                                                                  \n",
            " token_input (InputLayer)       [(None,)]            0           []                               \n",
            "                                                                                                  \n",
            " char_vectorizer (TextVectoriza  (None, 290)         0           ['char_input[0][0]']             \n",
            " tion)                                                                                            \n",
            "                                                                                                  \n",
            " use_embedding_layer (KerasLaye  (None, 512)         256797824   ['token_input[0][0]']            \n",
            " r)                                                                                               \n",
            "                                                                                                  \n",
            " char_embedding (Embedding)     (None, 290, 25)      1750        ['char_vectorizer[1][0]']        \n",
            "                                                                                                  \n",
            " dense_5 (Dense)                (None, 128)          65664       ['use_embedding_layer[1][0]']    \n",
            "                                                                                                  \n",
            " bidirectional (Bidirectional)  (None, 48)           9600        ['char_embedding[1][0]']         \n",
            "                                                                                                  \n",
            " token_char_hybrid (Concatenate  (None, 176)         0           ['dense_5[0][0]',                \n",
            " )                                                                'bidirectional[0][0]']          \n",
            "                                                                                                  \n",
            " dropout (Dropout)              (None, 176)          0           ['token_char_hybrid[0][0]']      \n",
            "                                                                                                  \n",
            " dense_6 (Dense)                (None, 200)          35400       ['dropout[0][0]']                \n",
            "                                                                                                  \n",
            " dropout_1 (Dropout)            (None, 200)          0           ['dense_6[0][0]']                \n",
            "                                                                                                  \n",
            " dense_7 (Dense)                (None, 5)            1005        ['dropout_1[0][0]']              \n",
            "                                                                                                  \n",
            "==================================================================================================\n",
            "Total params: 256,911,243\n",
            "Trainable params: 113,419\n",
            "Non-trainable params: 256,797,824\n",
            "__________________________________________________________________________________________________\n"
          ]
        }
      ],
      "source": [
        "# 1. Setup token inputs/model\n",
        "token_inputs = layers.Input(shape=[], dtype=tf.string, name='token_input')\n",
        "token_embeddings = use_embedding_layer(token_inputs)\n",
        "token_output = layers.Dense(128, activation='relu')(token_embeddings)\n",
        "token_model = tf.keras.Model(inputs=token_inputs, \n",
        "                             outputs=token_output)\n",
        "\n",
        "\n",
        "# 2. Setup char inputs/model\n",
        "char_inputs = layers.Input(shape=(1,), dtype=tf.string, name='char_input')\n",
        "char_tokenizer = char_vectorizer(char_inputs)\n",
        "char_embeddings = char_embed(char_tokenizer)\n",
        "char_bi_lstm = layers.Bidirectional(layers.LSTM(24))(char_embeddings)\n",
        "char_model = tf.keras.Model(inputs=char_inputs, \n",
        "                            outputs=char_bi_lstm)\n",
        "\n",
        "\n",
        "# 3. Concatenate token and char inputs (create hybrid token embedding)\n",
        "token_char_concat = layers.Concatenate(name='token_char_hybrid')([token_model.output,\n",
        "                                                                  char_model.output])\n",
        "\n",
        "# 4. Create output layers - addition of dropout discussed in 4.2 of the paper\n",
        "combined_dropout = layers.Dropout(0.5)(token_char_concat)\n",
        "combined_dense = layers.Dense(200, activation='relu')(combined_dropout)\n",
        "final_dropout = layers.Dropout(0.5)(combined_dense)\n",
        "output_layer = layers.Dense(num_classes, activation='softmax')(final_dropout)\n",
        "\n",
        "# 5. Construct a model\n",
        "model_4 = tf.keras.Model(inputs=[token_model.input, char_model.input],\n",
        "                         outputs = output_layer,\n",
        "                         name=\"model_4_token_and_char_embeddings\")\n",
        "\n",
        "\n",
        "# compile the model\n",
        "model_4.compile(loss='categorical_crossentropy',\n",
        "                optimizer='Adam',\n",
        "                metrics=['accuracy'])\n",
        "\n",
        "\n",
        "# view the summary\n",
        "model_4.summary()"
      ]
    },
    {
      "cell_type": "code",
      "execution_count": null,
      "metadata": {
        "colab": {
          "base_uri": "https://localhost:8080/",
          "height": 976
        },
        "id": "czajYif40WYS",
        "outputId": "6bad1bce-3408-456e-8bf0-565485e2d9eb"
      },
      "outputs": [
        {
          "data": {
            "image/png": "[encoded data removed]",
            "text/plain": [
              "<IPython.core.display.Image object>"
            ]
          },
          "execution_count": 70,
          "metadata": {},
          "output_type": "execute_result"
        }
      ],
      "source": [
        "# for more visual view of the model_4 architecture we can use keras utils\n",
        "from tensorflow.keras.utils import plot_model\n",
        "plot_model(model_4, show_shapes=True)"
      ]
    },
    {
      "cell_type": "markdown",
      "metadata": {
        "id": "autwYedZ0koI"
      },
      "source": [
        "### Create Combined dataset of token and characters and prefetch them for model training"
      ]
    },
    {
      "cell_type": "code",
      "execution_count": null,
      "metadata": {
        "id": "MfQKmTms1Ipe"
      },
      "outputs": [],
      "source": [
        "# combine chars and tokens into a dataset\n",
        "train_token_chars_data = tf.data.Dataset.from_tensor_slices((train_sentences, train_chars))\n",
        "train_token_chars_labels = tf.data.Dataset.from_tensor_slices(train_labels_one_hot)\n",
        "train_token_chars_dataset = tf.data.Dataset.zip((train_token_chars_data, train_token_chars_labels))\n",
        "\n",
        "# prefetch and batch the data\n",
        "train_token_chars_dataset = train_token_chars_dataset.batch(32).prefetch(tf.data.AUTOTUNE)"
      ]
    },
    {
      "cell_type": "code",
      "execution_count": null,
      "metadata": {
        "colab": {
          "base_uri": "https://localhost:8080/"
        },
        "id": "Q4K6-beH2YRG",
        "outputId": "36feebed-050a-4e47-b0b2-a74cc624b90e"
      },
      "outputs": [
        {
          "data": {
            "text/plain": [
              "<PrefetchDataset element_spec=((TensorSpec(shape=(None,), dtype=tf.string, name=None), TensorSpec(shape=(None,), dtype=tf.string, name=None)), TensorSpec(shape=(None, 5), dtype=tf.float64, name=None))>"
            ]
          },
          "execution_count": 72,
          "metadata": {},
          "output_type": "execute_result"
        }
      ],
      "source": [
        "train_token_chars_dataset"
      ]
    },
    {
      "cell_type": "code",
      "execution_count": null,
      "metadata": {
        "colab": {
          "base_uri": "https://localhost:8080/"
        },
        "id": "CVJou-792bWV",
        "outputId": "1878f5ef-9b4b-44cd-96b5-74e9abe6ca55"
      },
      "outputs": [
        {
          "data": {
            "text/plain": [
              "<PrefetchDataset element_spec=((TensorSpec(shape=(None,), dtype=tf.string, name=None), TensorSpec(shape=(None,), dtype=tf.string, name=None)), TensorSpec(shape=(None, 5), dtype=tf.float64, name=None))>"
            ]
          },
          "execution_count": 73,
          "metadata": {},
          "output_type": "execute_result"
        }
      ],
      "source": [
        "# same with validation set\n",
        "val_token_chars_data = tf.data.Dataset.from_tensor_slices((val_sentences, val_chars))\n",
        "val_token_chars_labels = tf.data.Dataset.from_tensor_slices(val_labels_one_hot)\n",
        "val_token_chars_dataset = tf.data.Dataset.zip((val_token_chars_data, val_token_chars_labels))\n",
        "\n",
        "\n",
        "val_token_chars_dataset = val_token_chars_dataset.batch(32).prefetch(tf.data.AUTOTUNE)\n",
        "\n",
        "val_token_chars_dataset"
      ]
    },
    {
      "cell_type": "code",
      "execution_count": null,
      "metadata": {
        "colab": {
          "base_uri": "https://localhost:8080/"
        },
        "id": "NXFMshog3CqQ",
        "outputId": "6710edab-4348-44ae-b16c-96312b1793f4"
      },
      "outputs": [
        {
          "name": "stdout",
          "output_type": "stream",
          "text": [
            "Saving Tensorboard log files to: model_logs/model_4_token_char_embeddings/20230314-033250\n",
            "Epoch 1/3\n",
            "562/562 [==============================] - 28s 38ms/step - loss: 0.9692 - accuracy: 0.6124 - val_loss: 0.7816 - val_accuracy: 0.6925\n",
            "Epoch 2/3\n",
            "562/562 [==============================] - 22s 40ms/step - loss: 0.7966 - accuracy: 0.6912 - val_loss: 0.7195 - val_accuracy: 0.7307\n",
            "Epoch 3/3\n",
            "562/562 [==============================] - 20s 36ms/step - loss: 0.7672 - accuracy: 0.7073 - val_loss: 0.6935 - val_accuracy: 0.7384\n"
          ]
        }
      ],
      "source": [
        "# Fit the model\n",
        "history_4 = model_4.fit(train_token_chars_dataset,\n",
        "                        steps_per_epoch=int(0.1 * len(train_token_chars_dataset)),\n",
        "                        epochs=3,\n",
        "                        validation_data=val_token_chars_dataset,\n",
        "                        validation_steps=int(0.1 * len(val_token_chars_dataset)),\n",
        "                        callbacks=[create_tensorboard_callback(SAVE_DIR, \"model_4_token_char_embeddings\")])"
      ]
    },
    {
      "cell_type": "code",
      "execution_count": null,
      "metadata": {
        "colab": {
          "base_uri": "https://localhost:8080/"
        },
        "id": "ZQhY4Dos3gEC",
        "outputId": "fe10c501-b668-46a9-f28a-4b7c73f21706"
      },
      "outputs": [
        {
          "name": "stdout",
          "output_type": "stream",
          "text": [
            "945/945 [==============================] - 21s 22ms/step - loss: 0.6959 - accuracy: 0.7349\n"
          ]
        },
        {
          "data": {
            "text/plain": [
              "[0.6959028840065002, 0.7349066734313965]"
            ]
          },
          "execution_count": 75,
          "metadata": {},
          "output_type": "execute_result"
        }
      ],
      "source": [
        "# evaluate the model\n",
        "model_4.evaluate(val_token_chars_dataset)"
      ]
    },
    {
      "cell_type": "code",
      "execution_count": null,
      "metadata": {
        "colab": {
          "base_uri": "https://localhost:8080/"
        },
        "id": "6zfWSToW3nGK",
        "outputId": "db1aea89-fbc1-4637-d3da-538e70e20ded"
      },
      "outputs": [
        {
          "name": "stdout",
          "output_type": "stream",
          "text": [
            "945/945 [==============================] - 19s 19ms/step\n"
          ]
        },
        {
          "data": {
            "text/plain": [
              "{'accuracy': 73.49066596054547,\n",
              " 'f1': 0.7325834274544754,\n",
              " 'precision': 0.735311607624099,\n",
              " 'recall': 0.7349066596054548}"
            ]
          },
          "execution_count": 76,
          "metadata": {},
          "output_type": "execute_result"
        }
      ],
      "source": [
        "model_4_results = calculate_results(model=model_4, prefetching_used=True, val_dataset=val_token_chars_dataset)\n",
        "model_4_results"
      ]
    },
    {
      "cell_type": "markdown",
      "metadata": {
        "id": "t9DlC6EklxKk"
      },
      "source": [
        "## Model_5 : Transfer Learning with pretrained token embeddings + Character Embeddings + Positional Embeddings\n",
        "\n",
        "\n",
        "The process of applying our own knowledge or understanding of data to build feature as input to a model is called as **feature engineering.**\n",
        "\n",
        "If we look an abstract, would you expect the sentences to appear in order ? or does it make sense if they were to appear sequentially ? For example, sequences labelled `CONCLUSIONS` at the beginning and sequences labelled `OBJECTIVE` at the end ?\n",
        "\n",
        "\n",
        "Abstracts typically come in a sequential order, such as:\n",
        "- `OBJECTIVE`...\n",
        "- `METHODS`...\n",
        "- `METHODS`...\n",
        "- `METHODS`..\n",
        "- `METHODS`..\n",
        "- `RESULTS`...\n",
        "- `CONCLUSION`...\n",
        "\n",
        "Or\n",
        "\n",
        "- `BACKGROUND`...\n",
        "- `OBJECTIVE`...\n",
        "- `METHODS`...\n",
        "- `METHODS`...\n",
        "- `METHODS`..\n",
        "- `METHODS`..\n",
        "- `RESULTS`...\n",
        "- `CONCLUSION`...\n",
        "\n",
        "Of course we can't engineer the sequence labels themselves into the training data (we don't have these at test time), but we can encode the order of a set of sequences in an abstract.\n",
        "\n",
        "for example,\n",
        "\n",
        "- `Sentence 1 of 10`...\n",
        "- `Sentence 2 of 10`...\n",
        "- `Sentence 3 of 10`...\n",
        "- `Sentence 4 of 10`...\n",
        "- ....\n",
        "\n",
        "\n",
        "This type of information we already have through the function `preprocess_text_with_line_numbers()` function. When we read in a text file of abstracts, we counted the number of lines in an abstract as well as the number of each line itself."
      ]
    },
    {
      "cell_type": "code",
      "execution_count": null,
      "metadata": {
        "colab": {
          "base_uri": "https://localhost:8080/",
          "height": 206
        },
        "id": "KelpO5_1oAJB",
        "outputId": "b66249ae-6988-4557-da61-b9c624e16026"
      },
      "outputs": [
        {
          "data": {
            "text/html": [
              "\n",
              "  <div id=\"df-c737bda9-417a-4f64-8937-eb4ea1c0f719\">\n",
              "    <div class=\"colab-df-container\">\n",
              "      <div>\n",
              "<style scoped>\n",
              "    .dataframe tbody tr th:only-of-type {\n",
              "        vertical-align: middle;\n",
              "    }\n",
              "\n",
              "    .dataframe tbody tr th {\n",
              "        vertical-align: top;\n",
              "    }\n",
              "\n",
              "    .dataframe thead th {\n",
              "        text-align: right;\n",
              "    }\n",
              "</style>\n",
              "<table border=\"1\" class=\"dataframe\">\n",
              "  <thead>\n",
              "    <tr style=\"text-align: right;\">\n",
              "      <th></th>\n",
              "      <th>target</th>\n",
              "      <th>text</th>\n",
              "      <th>line_number</th>\n",
              "      <th>total_lines</th>\n",
              "    </tr>\n",
              "  </thead>\n",
              "  <tbody>\n",
              "    <tr>\n",
              "      <th>0</th>\n",
              "      <td>OBJECTIVE</td>\n",
              "      <td>to investigate the efficacy of @ weeks of dail...</td>\n",
              "      <td>0</td>\n",
              "      <td>11</td>\n",
              "    </tr>\n",
              "    <tr>\n",
              "      <th>1</th>\n",
              "      <td>METHODS</td>\n",
              "      <td>a total of @ patients with primary knee oa wer...</td>\n",
              "      <td>1</td>\n",
              "      <td>11</td>\n",
              "    </tr>\n",
              "    <tr>\n",
              "      <th>2</th>\n",
              "      <td>METHODS</td>\n",
              "      <td>outcome measures included pain reduction and i...</td>\n",
              "      <td>2</td>\n",
              "      <td>11</td>\n",
              "    </tr>\n",
              "    <tr>\n",
              "      <th>3</th>\n",
              "      <td>METHODS</td>\n",
              "      <td>pain was assessed using the visual analog pain...</td>\n",
              "      <td>3</td>\n",
              "      <td>11</td>\n",
              "    </tr>\n",
              "    <tr>\n",
              "      <th>4</th>\n",
              "      <td>METHODS</td>\n",
              "      <td>secondary outcome measures included the wester...</td>\n",
              "      <td>4</td>\n",
              "      <td>11</td>\n",
              "    </tr>\n",
              "  </tbody>\n",
              "</table>\n",
              "</div>\n",
              "      <button class=\"colab-df-convert\" onclick=\"convertToInteractive('df-c737bda9-417a-4f64-8937-eb4ea1c0f719')\"\n",
              "              title=\"Convert this dataframe to an interactive table.\"\n",
              "              style=\"display:none;\">\n",
              "        \n",
              "  <svg xmlns=\"http://www.w3.org/2000/svg\" height=\"24px\"viewBox=\"0 0 24 24\"\n",
              "       width=\"24px\">\n",
              "    <path d=\"M0 0h24v24H0V0z\" fill=\"none\"/>\n",
              "    <path d=\"M18.56 5.44l.94 2.06.94-2.06 2.06-.94-2.06-.94-.94-2.06-.94 2.06-2.06.94zm-11 1L8.5 8.5l.94-2.06 2.06-.94-2.06-.94L8.5 2.5l-.94 2.06-2.06.94zm10 10l.94 2.06.94-2.06 2.06-.94-2.06-.94-.94-2.06-.94 2.06-2.06.94z\"/><path d=\"M17.41 7.96l-1.37-1.37c-.4-.4-.92-.59-1.43-.59-.52 0-1.04.2-1.43.59L10.3 9.45l-7.72 7.72c-.78.78-.78 2.05 0 2.83L4 21.41c.39.39.9.59 1.41.59.51 0 1.02-.2 1.41-.59l7.78-7.78 2.81-2.81c.8-.78.8-2.07 0-2.86zM5.41 20L4 18.59l7.72-7.72 1.47 1.35L5.41 20z\"/>\n",
              "  </svg>\n",
              "      </button>\n",
              "      \n",
              "  <style>\n",
              "    .colab-df-container {\n",
              "      display:flex;\n",
              "      flex-wrap:wrap;\n",
              "      gap: 12px;\n",
              "    }\n",
              "\n",
              "    .colab-df-convert {\n",
              "      background-color: #E8F0FE;\n",
              "      border: none;\n",
              "      border-radius: 50%;\n",
              "      cursor: pointer;\n",
              "      display: none;\n",
              "      fill: #1967D2;\n",
              "      height: 32px;\n",
              "      padding: 0 0 0 0;\n",
              "      width: 32px;\n",
              "    }\n",
              "\n",
              "    .colab-df-convert:hover {\n",
              "      background-color: #E2EBFA;\n",
              "      box-shadow: 0px 1px 2px rgba(60, 64, 67, 0.3), 0px 1px 3px 1px rgba(60, 64, 67, 0.15);\n",
              "      fill: #174EA6;\n",
              "    }\n",
              "\n",
              "    [theme=dark] .colab-df-convert {\n",
              "      background-color: #3B4455;\n",
              "      fill: #D2E3FC;\n",
              "    }\n",
              "\n",
              "    [theme=dark] .colab-df-convert:hover {\n",
              "      background-color: #434B5C;\n",
              "      box-shadow: 0px 1px 3px 1px rgba(0, 0, 0, 0.15);\n",
              "      filter: drop-shadow(0px 1px 2px rgba(0, 0, 0, 0.3));\n",
              "      fill: #FFFFFF;\n",
              "    }\n",
              "  </style>\n",
              "\n",
              "      <script>\n",
              "        const buttonEl =\n",
              "          document.querySelector('#df-c737bda9-417a-4f64-8937-eb4ea1c0f719 button.colab-df-convert');\n",
              "        buttonEl.style.display =\n",
              "          google.colab.kernel.accessAllowed ? 'block' : 'none';\n",
              "\n",
              "        async function convertToInteractive(key) {\n",
              "          const element = document.querySelector('#df-c737bda9-417a-4f64-8937-eb4ea1c0f719');\n",
              "          const dataTable =\n",
              "            await google.colab.kernel.invokeFunction('convertToInteractive',\n",
              "                                                     [key], {});\n",
              "          if (!dataTable) return;\n",
              "\n",
              "          const docLinkHtml = 'Like what you see? Visit the ' +\n",
              "            '<a target=\"_blank\" href=https://colab.research.google.com/notebooks/data_table.ipynb>data table notebook</a>'\n",
              "            + ' to learn more about interactive tables.';\n",
              "          element.innerHTML = '';\n",
              "          dataTable['output_type'] = 'display_data';\n",
              "          await google.colab.output.renderOutput(dataTable, element);\n",
              "          const docLink = document.createElement('div');\n",
              "          docLink.innerHTML = docLinkHtml;\n",
              "          element.appendChild(docLink);\n",
              "        }\n",
              "      </script>\n",
              "    </div>\n",
              "  </div>\n",
              "  "
            ],
            "text/plain": [
              "      target                                               text  line_number  \\\n",
              "0  OBJECTIVE  to investigate the efficacy of @ weeks of dail...            0   \n",
              "1    METHODS  a total of @ patients with primary knee oa wer...            1   \n",
              "2    METHODS  outcome measures included pain reduction and i...            2   \n",
              "3    METHODS  pain was assessed using the visual analog pain...            3   \n",
              "4    METHODS  secondary outcome measures included the wester...            4   \n",
              "\n",
              "   total_lines  \n",
              "0           11  \n",
              "1           11  \n",
              "2           11  \n",
              "3           11  \n",
              "4           11  "
            ]
          },
          "execution_count": 77,
          "metadata": {},
          "output_type": "execute_result"
        }
      ],
      "source": [
        "# inspecting training dataframe\n",
        "train_df.head()"
      ]
    },
    {
      "cell_type": "markdown",
      "metadata": {
        "id": "N9zrkgjvoDv9"
      },
      "source": [
        "The `line_number` and `total_lines` columns are features which didn't necessarily come with the training data but can be passed to our model as a **positional embedding**. In other words, the positional embedding is where the sentence appears in an abstract.\n",
        "\n",
        "We can use these features because they will be available at test time."
      ]
    },
    {
      "cell_type": "markdown",
      "metadata": {
        "id": "USKjYVymqTh2"
      },
      "source": [
        "### Create positional embeddings\n",
        "\n",
        "Since our `line_number` and `total_lines` columns are already numerical, we could pass them as they are to our model.\n",
        "\n",
        "But to avoid our model thinking a line with `line_number=5` if five times greater than a line with `line_number=1`, we'll use one-hot-encoding to encode our `line_number` and `total_lines` features."
      ]
    },
    {
      "cell_type": "code",
      "execution_count": null,
      "metadata": {
        "colab": {
          "base_uri": "https://localhost:8080/"
        },
        "id": "R4sqSUgOrG5x",
        "outputId": "c44c1f5e-e04c-4339-8c52-543e0d9259d8"
      },
      "outputs": [
        {
          "data": {
            "text/plain": [
              "0     15000\n",
              "1     15000\n",
              "2     15000\n",
              "3     15000\n",
              "4     14992\n",
              "5     14949\n",
              "6     14758\n",
              "7     14279\n",
              "8     13346\n",
              "9     11981\n",
              "10    10041\n",
              "11     7892\n",
              "12     5853\n",
              "13     4152\n",
              "14     2835\n",
              "15     1861\n",
              "16     1188\n",
              "17      751\n",
              "18      462\n",
              "19      286\n",
              "20      162\n",
              "21      101\n",
              "22       66\n",
              "23       33\n",
              "24       22\n",
              "25       14\n",
              "26        7\n",
              "27        4\n",
              "28        3\n",
              "29        1\n",
              "30        1\n",
              "Name: line_number, dtype: int64"
            ]
          },
          "execution_count": 78,
          "metadata": {},
          "output_type": "execute_result"
        }
      ],
      "source": [
        "train_df['line_number'].value_counts()"
      ]
    },
    {
      "cell_type": "code",
      "execution_count": null,
      "metadata": {
        "colab": {
          "base_uri": "https://localhost:8080/",
          "height": 265
        },
        "id": "QwX1gu_DrKXw",
        "outputId": "dbd84cc6-20f9-47a1-8776-6efc20a46e59"
      },
      "outputs": [
        {
          "data": {
            "image/png": "[encoded data removed]",
            "text/plain": [
              "<Figure size 432x288 with 1 Axes>"
            ]
          },
          "metadata": {},
          "output_type": "display_data"
        }
      ],
      "source": [
        "# check the distribution\n",
        "train_df.line_number.plot.hist();"
      ]
    },
    {
      "cell_type": "markdown",
      "metadata": {
        "id": "hFIp0PV7rSq4"
      },
      "source": [
        "It says the majority distribution area is between 0 and 15 which can cover the most `line_number` in our training dataset. So 15 is our depth while one-hot encoding."
      ]
    },
    {
      "cell_type": "code",
      "execution_count": null,
      "metadata": {
        "colab": {
          "base_uri": "https://localhost:8080/"
        },
        "id": "2kWVySKxrciB",
        "outputId": "d62d63c3-8f85-4885-866c-ade9244bf19e"
      },
      "outputs": [
        {
          "data": {
            "text/plain": [
              "(<tf.Tensor: shape=(10, 15), dtype=float32, numpy=\n",
              " array([[1., 0., 0., 0., 0., 0., 0., 0., 0., 0., 0., 0., 0., 0., 0.],\n",
              "        [0., 1., 0., 0., 0., 0., 0., 0., 0., 0., 0., 0., 0., 0., 0.],\n",
              "        [0., 0., 1., 0., 0., 0., 0., 0., 0., 0., 0., 0., 0., 0., 0.],\n",
              "        [0., 0., 0., 1., 0., 0., 0., 0., 0., 0., 0., 0., 0., 0., 0.],\n",
              "        [0., 0., 0., 0., 1., 0., 0., 0., 0., 0., 0., 0., 0., 0., 0.],\n",
              "        [0., 0., 0., 0., 0., 1., 0., 0., 0., 0., 0., 0., 0., 0., 0.],\n",
              "        [0., 0., 0., 0., 0., 0., 1., 0., 0., 0., 0., 0., 0., 0., 0.],\n",
              "        [0., 0., 0., 0., 0., 0., 0., 1., 0., 0., 0., 0., 0., 0., 0.],\n",
              "        [0., 0., 0., 0., 0., 0., 0., 0., 1., 0., 0., 0., 0., 0., 0.],\n",
              "        [0., 0., 0., 0., 0., 0., 0., 0., 0., 1., 0., 0., 0., 0., 0.]],\n",
              "       dtype=float32)>, TensorShape([180040, 15]))"
            ]
          },
          "execution_count": 80,
          "metadata": {},
          "output_type": "execute_result"
        }
      ],
      "source": [
        "# Use tensorflow to create one-hot encoded tensors\n",
        "train_line_number_one_hot = tf.one_hot(train_df['line_number'].to_numpy(), depth=15)\n",
        "val_line_number_one_hot = tf.one_hot(val_df['line_number'].to_numpy(), depth=15)\n",
        "test_line_number_one_hot = tf.one_hot(test_df['line_number'].to_numpy(), depth=15)\n",
        "\n",
        "train_line_number_one_hot[:10], train_line_number_one_hot.shape"
      ]
    },
    {
      "cell_type": "markdown",
      "metadata": {
        "id": "2jlMfZOUsBkm"
      },
      "source": [
        "Doing the same thing with total lines"
      ]
    },
    {
      "cell_type": "code",
      "execution_count": null,
      "metadata": {
        "colab": {
          "base_uri": "https://localhost:8080/"
        },
        "id": "nGbR3iD4sH28",
        "outputId": "5707912d-2edd-44f5-fd98-c54a1b233e79"
      },
      "outputs": [
        {
          "data": {
            "text/plain": [
              "11    24468\n",
              "10    23639\n",
              "12    22113\n",
              "9     19400\n",
              "13    18438\n",
              "14    14610\n",
              "8     12285\n",
              "15    10768\n",
              "7      7464\n",
              "16     7429\n",
              "17     5202\n",
              "6      3353\n",
              "18     3344\n",
              "19     2480\n",
              "20     1281\n",
              "5      1146\n",
              "21      770\n",
              "22      759\n",
              "23      264\n",
              "4       215\n",
              "24      200\n",
              "25      182\n",
              "26       81\n",
              "28       58\n",
              "3        32\n",
              "30       31\n",
              "27       28\n",
              "Name: total_lines, dtype: int64"
            ]
          },
          "execution_count": 81,
          "metadata": {},
          "output_type": "execute_result"
        }
      ],
      "source": [
        "train_df['total_lines'].value_counts()"
      ]
    },
    {
      "cell_type": "code",
      "execution_count": null,
      "metadata": {
        "colab": {
          "base_uri": "https://localhost:8080/",
          "height": 267
        },
        "id": "Xi37nHJusK9E",
        "outputId": "b07b62e3-5c1e-45d1-d3a4-95344274faf0"
      },
      "outputs": [
        {
          "data": {
            "image/png": "[encoded data removed]",
            "text/plain": [
              "<Figure size 432x288 with 1 Axes>"
            ]
          },
          "metadata": {},
          "output_type": "display_data"
        }
      ],
      "source": [
        "train_df['total_lines'].plot.hist();"
      ]
    },
    {
      "cell_type": "markdown",
      "metadata": {
        "id": "ThSd5KKTsQqV"
      },
      "source": [
        "We can set a depth of 20 to cover majority of values of `total_lines`."
      ]
    },
    {
      "cell_type": "code",
      "execution_count": null,
      "metadata": {
        "colab": {
          "base_uri": "https://localhost:8080/"
        },
        "id": "Hgo1offnsZd5",
        "outputId": "f0583da0-91f8-4d2e-e0fe-96ceee07b80c"
      },
      "outputs": [
        {
          "data": {
            "text/plain": [
              "(<tf.Tensor: shape=(10, 20), dtype=float32, numpy=\n",
              " array([[0., 0., 0., 0., 0., 0., 0., 0., 0., 0., 0., 1., 0., 0., 0., 0.,\n",
              "         0., 0., 0., 0.],\n",
              "        [0., 0., 0., 0., 0., 0., 0., 0., 0., 0., 0., 1., 0., 0., 0., 0.,\n",
              "         0., 0., 0., 0.],\n",
              "        [0., 0., 0., 0., 0., 0., 0., 0., 0., 0., 0., 1., 0., 0., 0., 0.,\n",
              "         0., 0., 0., 0.],\n",
              "        [0., 0., 0., 0., 0., 0., 0., 0., 0., 0., 0., 1., 0., 0., 0., 0.,\n",
              "         0., 0., 0., 0.],\n",
              "        [0., 0., 0., 0., 0., 0., 0., 0., 0., 0., 0., 1., 0., 0., 0., 0.,\n",
              "         0., 0., 0., 0.],\n",
              "        [0., 0., 0., 0., 0., 0., 0., 0., 0., 0., 0., 1., 0., 0., 0., 0.,\n",
              "         0., 0., 0., 0.],\n",
              "        [0., 0., 0., 0., 0., 0., 0., 0., 0., 0., 0., 1., 0., 0., 0., 0.,\n",
              "         0., 0., 0., 0.],\n",
              "        [0., 0., 0., 0., 0., 0., 0., 0., 0., 0., 0., 1., 0., 0., 0., 0.,\n",
              "         0., 0., 0., 0.],\n",
              "        [0., 0., 0., 0., 0., 0., 0., 0., 0., 0., 0., 1., 0., 0., 0., 0.,\n",
              "         0., 0., 0., 0.],\n",
              "        [0., 0., 0., 0., 0., 0., 0., 0., 0., 0., 0., 1., 0., 0., 0., 0.,\n",
              "         0., 0., 0., 0.]], dtype=float32)>, TensorShape([180040, 20]))"
            ]
          },
          "execution_count": 83,
          "metadata": {},
          "output_type": "execute_result"
        }
      ],
      "source": [
        "train_total_lines_one_hot = tf.one_hot(train_df['total_lines'].to_numpy(), depth=20)\n",
        "val_total_lines_one_hot = tf.one_hot(val_df['total_lines'].to_numpy(), depth=20)\n",
        "test_total_lines_one_hot = tf.one_hot(test_df['total_lines'].to_numpy(), depth=20)\n",
        "\n",
        "train_total_lines_one_hot[:10], train_total_lines_one_hot.shape"
      ]
    },
    {
      "cell_type": "markdown",
      "metadata": {
        "id": "aj76h_yLsscN"
      },
      "source": [
        "### Building a tribrid embedding model\n",
        "\n",
        "We're going to go through the following steps:\n",
        "1. Create a token-level embedding model\n",
        "2. Create a char-level embedding model\n",
        "3. Create a `line_number` model\n",
        "4. Create a `total_lines` model\n",
        "5. Combine (using `layers.Concatenate`) the outputs of 1 and 2 into a token-char-hybrid embedding and pass it series of outputs.\n",
        "6. Combine (using `layers.Concatenate`) the outputs of 3, 4 and 5 into a token-char-positional tribrid embedding\n",
        "7. Create an output layer to accept the tribrid embedding and output predicted label probabilities.\n",
        "8. Combine the inputs of 1,2,3,4 and outputs of 7 into a `tf.keras.Model`"
      ]
    },
    {
      "cell_type": "code",
      "execution_count": null,
      "metadata": {
        "id": "nfli1zvds4is"
      },
      "outputs": [],
      "source": [
        "# 1. Token inputs\n",
        "token_inputs = layers.Input(shape=[], dtype=tf.string, name='token_inputs')\n",
        "token_embed = use_embedding_layer(token_inputs)\n",
        "token_outputs = layers.Dense(128, activation='relu')(token_embed)\n",
        "token_model = tf.keras.Model(inputs=token_inputs,\n",
        "                             outputs=token_outputs)\n",
        "# 2. Char inputs\n",
        "char_inputs = layers.Input(shape=(1,), dtype=tf.string, name='char_inputs')\n",
        "char_vectors = char_vectorizer(char_inputs)\n",
        "char_embedded = char_embed(char_vectors)\n",
        "char_bi_lstm = layers.Bidirectional(layers.LSTM(32))(char_embedded)\n",
        "char_model = tf.keras.Model(inputs=char_inputs,\n",
        "                            outputs=char_bi_lstm)\n",
        "\n",
        "# 3. Line number inputs\n",
        "line_number_inputs = layers.Input(shape=(15,), dtype=tf.float32, name='line_number_inputs')\n",
        "x = layers.Dense(32, activation='relu')(line_number_inputs)\n",
        "line_number_model = tf.keras.Model(inputs=line_number_inputs,\n",
        "                                   outputs=x)\n",
        "\n",
        "# 4. Total lines inputs\n",
        "total_lines_inputs = layers.Input(shape=(20,), dtype=tf.float32, name='total_lines_inputs')\n",
        "y = layers.Dense(32, activation='relu')(total_lines_inputs)\n",
        "total_lines_model = tf.keras.Model(inputs=total_lines_inputs,\n",
        "                                   outputs=y)\n",
        "\n",
        "# 5. Combine outputs of 1 and 2\n",
        "combined_embeddings = layers.Concatenate(name='token_char_hybrid_embeddings')([token_model.output,\n",
        "                                                                               char_model.output])\n",
        "z = layers.Dense(256, activation='relu')(combined_embeddings)\n",
        "z = layers.Dropout(0.5)(z)\n",
        "\n",
        "# 6. Combine outputs of 3,4,5\n",
        "z = layers.Concatenate(name='token_char_position_embeddings')([line_number_model.output,\n",
        "                                                                       total_lines_model.output,\n",
        "                                                                       z])\n",
        "\n",
        "# 7. Create an output layer\n",
        "output_layer = layers.Dense(num_classes, activation='softmax', name='output_layer')(z)\n",
        "\n",
        "# 8. Put together Model\n",
        "model_5 = tf.keras.Model(inputs=[line_number_model.input,\n",
        "                                 total_lines_model.input,\n",
        "                                 token_model.input,\n",
        "                                 char_model.input],\n",
        "                         outputs=output_layer,\n",
        "                         name='model_5_tribrid_model')"
      ]
    },
    {
      "cell_type": "code",
      "execution_count": null,
      "metadata": {
        "colab": {
          "base_uri": "https://localhost:8080/"
        },
        "id": "Oy79vwevw9L5",
        "outputId": "93557473-3b8c-4578-c6ca-b94b1b5630d6"
      },
      "outputs": [
        {
          "name": "stdout",
          "output_type": "stream",
          "text": [
            "Model: \"model_5_tribrid_model\"\n",
            "__________________________________________________________________________________________________\n",
            " Layer (type)                   Output Shape         Param #     Connected to                     \n",
            "==================================================================================================\n",
            " char_inputs (InputLayer)       [(None, 1)]          0           []                               \n",
            "                                                                                                  \n",
            " token_inputs (InputLayer)      [(None,)]            0           []                               \n",
            "                                                                                                  \n",
            " char_vectorizer (TextVectoriza  (None, 290)         0           ['char_inputs[0][0]']            \n",
            " tion)                                                                                            \n",
            "                                                                                                  \n",
            " use_embedding_layer (KerasLaye  (None, 512)         256797824   ['token_inputs[0][0]']           \n",
            " r)                                                                                               \n",
            "                                                                                                  \n",
            " char_embedding (Embedding)     (None, 290, 25)      1750        ['char_vectorizer[2][0]']        \n",
            "                                                                                                  \n",
            " dense_8 (Dense)                (None, 128)          65664       ['use_embedding_layer[2][0]']    \n",
            "                                                                                                  \n",
            " bidirectional_1 (Bidirectional  (None, 64)          14848       ['char_embedding[2][0]']         \n",
            " )                                                                                                \n",
            "                                                                                                  \n",
            " token_char_hybrid_embeddings (  (None, 192)         0           ['dense_8[0][0]',                \n",
            " Concatenate)                                                     'bidirectional_1[0][0]']        \n",
            "                                                                                                  \n",
            " line_number_inputs (InputLayer  [(None, 15)]        0           []                               \n",
            " )                                                                                                \n",
            "                                                                                                  \n",
            " total_lines_inputs (InputLayer  [(None, 20)]        0           []                               \n",
            " )                                                                                                \n",
            "                                                                                                  \n",
            " dense_11 (Dense)               (None, 256)          49408       ['token_char_hybrid_embeddings[0]\n",
            "                                                                 [0]']                            \n",
            "                                                                                                  \n",
            " dense_9 (Dense)                (None, 32)           512         ['line_number_inputs[0][0]']     \n",
            "                                                                                                  \n",
            " dense_10 (Dense)               (None, 32)           672         ['total_lines_inputs[0][0]']     \n",
            "                                                                                                  \n",
            " dropout_2 (Dropout)            (None, 256)          0           ['dense_11[0][0]']               \n",
            "                                                                                                  \n",
            " token_char_position_embeddings  (None, 320)         0           ['dense_9[0][0]',                \n",
            "  (Concatenate)                                                   'dense_10[0][0]',               \n",
            "                                                                  'dropout_2[0][0]']              \n",
            "                                                                                                  \n",
            " output_layer (Dense)           (None, 5)            1605        ['token_char_position_embeddings[\n",
            "                                                                 0][0]']                          \n",
            "                                                                                                  \n",
            "==================================================================================================\n",
            "Total params: 256,932,283\n",
            "Trainable params: 134,459\n",
            "Non-trainable params: 256,797,824\n",
            "__________________________________________________________________________________________________\n"
          ]
        }
      ],
      "source": [
        "model_5.summary()"
      ]
    },
    {
      "cell_type": "code",
      "execution_count": null,
      "metadata": {
        "colab": {
          "base_uri": "https://localhost:8080/",
          "height": 976
        },
        "id": "8RWbzxBvw_rT",
        "outputId": "eccc4165-0454-4778-8786-11a9981cc34a"
      },
      "outputs": [
        {
          "data": {
            "image/png": "[encoded data removed]",
            "text/plain": [
              "<IPython.core.display.Image object>"
            ]
          },
          "execution_count": 86,
          "metadata": {},
          "output_type": "execute_result"
        }
      ],
      "source": [
        "# Plot the model architecture\n",
        "from tensorflow.keras.utils import plot_model\n",
        "plot_model(model_5, show_shapes=True)"
      ]
    },
    {
      "cell_type": "code",
      "execution_count": null,
      "metadata": {
        "colab": {
          "base_uri": "https://localhost:8080/"
        },
        "id": "SMLVlgLlxJx3",
        "outputId": "a9b33894-6b6e-47e4-d470-15e88fece330"
      },
      "outputs": [
        {
          "name": "stdout",
          "output_type": "stream",
          "text": [
            "<keras.engine.input_layer.InputLayer object at 0x7fad61d17970> True\n",
            "<keras.engine.input_layer.InputLayer object at 0x7fad61dd34c0> True\n",
            "<keras.layers.preprocessing.text_vectorization.TextVectorization object at 0x7fad684769d0> True\n",
            "<tensorflow_hub.keras_layer.KerasLayer object at 0x7fad6828e370> False\n",
            "<keras.layers.core.embedding.Embedding object at 0x7fad2ec0fb80> True\n",
            "<keras.layers.core.dense.Dense object at 0x7fad61d177f0> True\n",
            "<keras.layers.rnn.bidirectional.Bidirectional object at 0x7fad61c85c10> True\n",
            "<keras.layers.merging.concatenate.Concatenate object at 0x7fad61ba5700> True\n",
            "<keras.engine.input_layer.InputLayer object at 0x7fad61d37970> True\n",
            "<keras.engine.input_layer.InputLayer object at 0x7fad61c36430> True\n",
            "<keras.layers.core.dense.Dense object at 0x7fad61cc13d0> True\n",
            "<keras.layers.core.dense.Dense object at 0x7fad61c836d0> True\n",
            "<keras.layers.core.dense.Dense object at 0x7fad61cd0c40> True\n",
            "<keras.layers.regularization.dropout.Dropout object at 0x7fad61c9f0d0> True\n",
            "<keras.layers.merging.concatenate.Concatenate object at 0x7fad570e0070> True\n",
            "<keras.layers.core.dense.Dense object at 0x7fad61bb1d00> True\n"
          ]
        }
      ],
      "source": [
        "# check how many layers of model is trainable\n",
        "for layer in model_5.layers:\n",
        "  print(layer, layer.trainable)"
      ]
    },
    {
      "cell_type": "markdown",
      "metadata": {
        "id": "rRccoDjDyvMF"
      },
      "source": [
        "This time while compiling the model we will use `label_smoothing` parameter in the loss function to prevent over-fitting the model.\n",
        "\n",
        "Label smoothing helps to regularize our model by making sure it doesn't get too focused on applying one particular label to a sample.\n",
        "\n",
        "For example, instead of having an output prediction of:\n",
        "- `[0.0, 0.0, 1.0, 0.0, 0.0]` for a sample (the model is very confident the right label is index 2)\n",
        "\n",
        "It's predictions will get smoothed to be something like:\n",
        "- `[0.01, 0.01, 0.096, 0.01, 0.01]` giving a small activation to each of the other labels, in turn, hopefully improving generalization.\n",
        "\n",
        "> **Resources:** Blog post by PyImageSearch, [Label smoothing with Keras, TensorFlow, and Deep Learning](https://www.pyimagesearch.com/2019/12/30/label-smoothing-with-keras-tensorflow-and-deep-learning/).\n",
        "\n"
      ]
    },
    {
      "cell_type": "code",
      "execution_count": null,
      "metadata": {
        "id": "hWmDvnlFyQmz"
      },
      "outputs": [],
      "source": [
        "# compile the model\n",
        "model_5.compile(loss=tf.keras.losses.CategoricalCrossentropy(label_smoothing=0.2),\n",
        "                optimizer='Adam',\n",
        "                metrics=['accuracy'])"
      ]
    },
    {
      "cell_type": "markdown",
      "metadata": {
        "id": "4iqDUwyjzGc4"
      },
      "source": [
        "For fitting the model we need to prepare the dataset and prefetch to optimize the training process."
      ]
    },
    {
      "cell_type": "markdown",
      "metadata": {
        "id": "S2zQYQ-FzPJh"
      },
      "source": [
        "### Create tribid embedding datasets and fit tribrid model"
      ]
    },
    {
      "cell_type": "code",
      "execution_count": null,
      "metadata": {
        "colab": {
          "base_uri": "https://localhost:8080/"
        },
        "id": "FFQ4oCV6zUDT",
        "outputId": "317006a3-4a6d-4076-ce85-7184aa1565bd"
      },
      "outputs": [
        {
          "data": {
            "text/plain": [
              "<PrefetchDataset element_spec=((TensorSpec(shape=(None, 15), dtype=tf.float32, name=None), TensorSpec(shape=(None, 20), dtype=tf.float32, name=None), TensorSpec(shape=(None,), dtype=tf.string, name=None), TensorSpec(shape=(None,), dtype=tf.string, name=None)), TensorSpec(shape=(None, 5), dtype=tf.float64, name=None))>"
            ]
          },
          "execution_count": 89,
          "metadata": {},
          "output_type": "execute_result"
        }
      ],
      "source": [
        "# Training dataset\n",
        "train_pos_token_char_data = tf.data.Dataset.from_tensor_slices((train_line_number_one_hot,\n",
        "                                                                train_total_lines_one_hot,\n",
        "                                                                train_sentences,\n",
        "                                                                train_chars))\n",
        "train_pos_token_char_labels = tf.data.Dataset.from_tensor_slices(train_labels_one_hot)\n",
        "\n",
        "train_pos_token_char_dataset = tf.data.Dataset.zip((train_pos_token_char_data, train_pos_token_char_labels)).batch(32).prefetch(tf.data.AUTOTUNE)\n",
        "\n",
        "train_pos_token_char_dataset"
      ]
    },
    {
      "cell_type": "code",
      "execution_count": null,
      "metadata": {
        "id": "UFNUZCY70D53"
      },
      "outputs": [],
      "source": [
        "# Validation\n",
        "val_pos_token_char_data = tf.data.Dataset.from_tensor_slices((val_line_number_one_hot,\n",
        "                                                                val_total_lines_one_hot,\n",
        "                                                                val_sentences,\n",
        "                                                                val_chars))\n",
        "val_pos_token_char_labels = tf.data.Dataset.from_tensor_slices(val_labels_one_hot)\n",
        "\n",
        "val_pos_token_char_dataset = tf.data.Dataset.zip((val_pos_token_char_data, val_pos_token_char_labels)).batch(32).prefetch(tf.data.AUTOTUNE)\n",
        "\n",
        "# Testing\n",
        "test_pos_token_char_data = tf.data.Dataset.from_tensor_slices((test_line_number_one_hot,\n",
        "                                                                test_total_lines_one_hot,\n",
        "                                                                test_sentences,\n",
        "                                                                test_chars))\n",
        "test_pos_token_char_labels = tf.data.Dataset.from_tensor_slices(test_labels_one_hot)\n",
        "\n",
        "test_pos_token_char_dataset = tf.data.Dataset.zip((test_pos_token_char_data, test_pos_token_char_labels)).batch(32).prefetch(tf.data.AUTOTUNE)"
      ]
    },
    {
      "cell_type": "code",
      "execution_count": null,
      "metadata": {
        "colab": {
          "base_uri": "https://localhost:8080/"
        },
        "id": "Ah8oGOjr0ckX",
        "outputId": "2102bcc8-1e23-467a-9f56-3a19e05957e9"
      },
      "outputs": [
        {
          "name": "stdout",
          "output_type": "stream",
          "text": [
            "Saving Tensorboard log files to: model_logs/model_5_tribrid_embeddings/20230314-033522\n",
            "Epoch 1/5\n",
            "562/562 [==============================] - 28s 39ms/step - loss: 1.0959 - accuracy: 0.7238 - val_loss: 0.9865 - val_accuracy: 0.8042\n",
            "Epoch 2/5\n",
            "562/562 [==============================] - 23s 40ms/step - loss: 0.9693 - accuracy: 0.8130 - val_loss: 0.9532 - val_accuracy: 0.8281\n",
            "Epoch 3/5\n",
            "562/562 [==============================] - 21s 38ms/step - loss: 0.9524 - accuracy: 0.8209 - val_loss: 0.9416 - val_accuracy: 0.8291\n",
            "Epoch 4/5\n",
            "562/562 [==============================] - 20s 35ms/step - loss: 0.9414 - accuracy: 0.8321 - val_loss: 0.9292 - val_accuracy: 0.8348\n",
            "Epoch 5/5\n",
            "562/562 [==============================] - 23s 41ms/step - loss: 0.9371 - accuracy: 0.8341 - val_loss: 0.9248 - val_accuracy: 0.8394\n"
          ]
        }
      ],
      "source": [
        "# fit the model\n",
        "history_5 = model_5.fit(train_pos_token_char_dataset,\n",
        "                        epochs=5,\n",
        "                        steps_per_epoch=int(0.1 * len(train_pos_token_char_dataset)),\n",
        "                        validation_data=val_pos_token_char_dataset,\n",
        "                        validation_steps=int(0.1 * len(val_pos_token_char_dataset)),\n",
        "                        callbacks=[create_tensorboard_callback(SAVE_DIR,\"model_5_tribrid_embeddings\")])"
      ]
    },
    {
      "cell_type": "markdown",
      "metadata": {
        "id": "4QVErTCY4zKc"
      },
      "source": [
        "### Evaluation"
      ]
    },
    {
      "cell_type": "code",
      "execution_count": null,
      "metadata": {
        "colab": {
          "base_uri": "https://localhost:8080/"
        },
        "id": "-PmU5YZy07xh",
        "outputId": "e86978b1-12b1-40bc-c2ae-ff27c88503eb"
      },
      "outputs": [
        {
          "name": "stdout",
          "output_type": "stream",
          "text": [
            "945/945 [==============================] - 21s 22ms/step - loss: 0.9233 - accuracy: 0.8417\n"
          ]
        },
        {
          "data": {
            "text/plain": [
              "[0.9232843518257141, 0.8417184948921204]"
            ]
          },
          "execution_count": 92,
          "metadata": {},
          "output_type": "execute_result"
        }
      ],
      "source": [
        "# evaluate the model\n",
        "model_5.evaluate(val_pos_token_char_dataset)"
      ]
    },
    {
      "cell_type": "code",
      "execution_count": null,
      "metadata": {
        "colab": {
          "base_uri": "https://localhost:8080/"
        },
        "id": "tvL--lgP1CRJ",
        "outputId": "1a7a4d77-1ef0-40da-e76b-994d81b87e73"
      },
      "outputs": [
        {
          "name": "stdout",
          "output_type": "stream",
          "text": [
            "945/945 [==============================] - 20s 20ms/step\n"
          ]
        },
        {
          "data": {
            "text/plain": [
              "{'accuracy': 84.1718522441414,\n",
              " 'f1': 0.8376436768759833,\n",
              " 'precision': 0.844755468013988,\n",
              " 'recall': 0.841718522441414}"
            ]
          },
          "execution_count": 93,
          "metadata": {},
          "output_type": "execute_result"
        }
      ],
      "source": [
        "# calculate the results\n",
        "model_5_results = calculate_results(model=model_5,\n",
        "                                    prefetching_used=True,\n",
        "                                    val_dataset=val_pos_token_char_dataset)\n",
        "\n",
        "model_5_results"
      ]
    },
    {
      "cell_type": "markdown",
      "metadata": {
        "id": "PvbDY7RA6KhS"
      },
      "source": [
        "## Compare Results\n",
        "\n",
        "Let's compare all the model results and plot them to experience it visually which model performed best and worse."
      ]
    },
    {
      "cell_type": "code",
      "execution_count": null,
      "metadata": {
        "colab": {
          "base_uri": "https://localhost:8080/",
          "height": 238
        },
        "id": "pMCYK6726sav",
        "outputId": "0bf02f5a-592f-4178-a059-7c924c842be0"
      },
      "outputs": [
        {
          "data": {
            "text/html": [
              "\n",
              "  <div id=\"df-7d0aeb54-dd2b-44ba-be58-dc1a606ca513\">\n",
              "    <div class=\"colab-df-container\">\n",
              "      <div>\n",
              "<style scoped>\n",
              "    .dataframe tbody tr th:only-of-type {\n",
              "        vertical-align: middle;\n",
              "    }\n",
              "\n",
              "    .dataframe tbody tr th {\n",
              "        vertical-align: top;\n",
              "    }\n",
              "\n",
              "    .dataframe thead th {\n",
              "        text-align: right;\n",
              "    }\n",
              "</style>\n",
              "<table border=\"1\" class=\"dataframe\">\n",
              "  <thead>\n",
              "    <tr style=\"text-align: right;\">\n",
              "      <th></th>\n",
              "      <th>accuracy</th>\n",
              "      <th>f1</th>\n",
              "      <th>precision</th>\n",
              "      <th>recall</th>\n",
              "    </tr>\n",
              "  </thead>\n",
              "  <tbody>\n",
              "    <tr>\n",
              "      <th>baseline</th>\n",
              "      <td>72.183238</td>\n",
              "      <td>0.698925</td>\n",
              "      <td>0.718647</td>\n",
              "      <td>0.721832</td>\n",
              "    </tr>\n",
              "    <tr>\n",
              "      <th>custom_token_embed_conv1D</th>\n",
              "      <td>79.273137</td>\n",
              "      <td>0.791838</td>\n",
              "      <td>0.793485</td>\n",
              "      <td>0.792731</td>\n",
              "    </tr>\n",
              "    <tr>\n",
              "      <th>pretrained_token_embed</th>\n",
              "      <td>71.186946</td>\n",
              "      <td>0.709133</td>\n",
              "      <td>0.712188</td>\n",
              "      <td>0.711869</td>\n",
              "    </tr>\n",
              "    <tr>\n",
              "      <th>custom_character_embed_conv1D</th>\n",
              "      <td>65.804978</td>\n",
              "      <td>0.647655</td>\n",
              "      <td>0.650286</td>\n",
              "      <td>0.658050</td>\n",
              "    </tr>\n",
              "    <tr>\n",
              "      <th>hybrid_char_token_embed</th>\n",
              "      <td>73.490666</td>\n",
              "      <td>0.732583</td>\n",
              "      <td>0.735312</td>\n",
              "      <td>0.734907</td>\n",
              "    </tr>\n",
              "    <tr>\n",
              "      <th>tribrid_pos_char_token_embed</th>\n",
              "      <td>84.171852</td>\n",
              "      <td>0.837644</td>\n",
              "      <td>0.844755</td>\n",
              "      <td>0.841719</td>\n",
              "    </tr>\n",
              "  </tbody>\n",
              "</table>\n",
              "</div>\n",
              "      <button class=\"colab-df-convert\" onclick=\"convertToInteractive('df-7d0aeb54-dd2b-44ba-be58-dc1a606ca513')\"\n",
              "              title=\"Convert this dataframe to an interactive table.\"\n",
              "              style=\"display:none;\">\n",
              "        \n",
              "  <svg xmlns=\"http://www.w3.org/2000/svg\" height=\"24px\"viewBox=\"0 0 24 24\"\n",
              "       width=\"24px\">\n",
              "    <path d=\"M0 0h24v24H0V0z\" fill=\"none\"/>\n",
              "    <path d=\"M18.56 5.44l.94 2.06.94-2.06 2.06-.94-2.06-.94-.94-2.06-.94 2.06-2.06.94zm-11 1L8.5 8.5l.94-2.06 2.06-.94-2.06-.94L8.5 2.5l-.94 2.06-2.06.94zm10 10l.94 2.06.94-2.06 2.06-.94-2.06-.94-.94-2.06-.94 2.06-2.06.94z\"/><path d=\"M17.41 7.96l-1.37-1.37c-.4-.4-.92-.59-1.43-.59-.52 0-1.04.2-1.43.59L10.3 9.45l-7.72 7.72c-.78.78-.78 2.05 0 2.83L4 21.41c.39.39.9.59 1.41.59.51 0 1.02-.2 1.41-.59l7.78-7.78 2.81-2.81c.8-.78.8-2.07 0-2.86zM5.41 20L4 18.59l7.72-7.72 1.47 1.35L5.41 20z\"/>\n",
              "  </svg>\n",
              "      </button>\n",
              "      \n",
              "  <style>\n",
              "    .colab-df-container {\n",
              "      display:flex;\n",
              "      flex-wrap:wrap;\n",
              "      gap: 12px;\n",
              "    }\n",
              "\n",
              "    .colab-df-convert {\n",
              "      background-color: #E8F0FE;\n",
              "      border: none;\n",
              "      border-radius: 50%;\n",
              "      cursor: pointer;\n",
              "      display: none;\n",
              "      fill: #1967D2;\n",
              "      height: 32px;\n",
              "      padding: 0 0 0 0;\n",
              "      width: 32px;\n",
              "    }\n",
              "\n",
              "    .colab-df-convert:hover {\n",
              "      background-color: #E2EBFA;\n",
              "      box-shadow: 0px 1px 2px rgba(60, 64, 67, 0.3), 0px 1px 3px 1px rgba(60, 64, 67, 0.15);\n",
              "      fill: #174EA6;\n",
              "    }\n",
              "\n",
              "    [theme=dark] .colab-df-convert {\n",
              "      background-color: #3B4455;\n",
              "      fill: #D2E3FC;\n",
              "    }\n",
              "\n",
              "    [theme=dark] .colab-df-convert:hover {\n",
              "      background-color: #434B5C;\n",
              "      box-shadow: 0px 1px 3px 1px rgba(0, 0, 0, 0.15);\n",
              "      filter: drop-shadow(0px 1px 2px rgba(0, 0, 0, 0.3));\n",
              "      fill: #FFFFFF;\n",
              "    }\n",
              "  </style>\n",
              "\n",
              "      <script>\n",
              "        const buttonEl =\n",
              "          document.querySelector('#df-7d0aeb54-dd2b-44ba-be58-dc1a606ca513 button.colab-df-convert');\n",
              "        buttonEl.style.display =\n",
              "          google.colab.kernel.accessAllowed ? 'block' : 'none';\n",
              "\n",
              "        async function convertToInteractive(key) {\n",
              "          const element = document.querySelector('#df-7d0aeb54-dd2b-44ba-be58-dc1a606ca513');\n",
              "          const dataTable =\n",
              "            await google.colab.kernel.invokeFunction('convertToInteractive',\n",
              "                                                     [key], {});\n",
              "          if (!dataTable) return;\n",
              "\n",
              "          const docLinkHtml = 'Like what you see? Visit the ' +\n",
              "            '<a target=\"_blank\" href=https://colab.research.google.com/notebooks/data_table.ipynb>data table notebook</a>'\n",
              "            + ' to learn more about interactive tables.';\n",
              "          element.innerHTML = '';\n",
              "          dataTable['output_type'] = 'display_data';\n",
              "          await google.colab.output.renderOutput(dataTable, element);\n",
              "          const docLink = document.createElement('div');\n",
              "          docLink.innerHTML = docLinkHtml;\n",
              "          element.appendChild(docLink);\n",
              "        }\n",
              "      </script>\n",
              "    </div>\n",
              "  </div>\n",
              "  "
            ],
            "text/plain": [
              "                                accuracy        f1  precision    recall\n",
              "baseline                       72.183238  0.698925   0.718647  0.721832\n",
              "custom_token_embed_conv1D      79.273137  0.791838   0.793485  0.792731\n",
              "pretrained_token_embed         71.186946  0.709133   0.712188  0.711869\n",
              "custom_character_embed_conv1D  65.804978  0.647655   0.650286  0.658050\n",
              "hybrid_char_token_embed        73.490666  0.732583   0.735312  0.734907\n",
              "tribrid_pos_char_token_embed   84.171852  0.837644   0.844755  0.841719"
            ]
          },
          "execution_count": 94,
          "metadata": {},
          "output_type": "execute_result"
        }
      ],
      "source": [
        "all_model_results = pd.DataFrame({\"baseline\": baseline_results,\n",
        "                                  \"custom_token_embed_conv1D\": model_1_results,\n",
        "                                  \"pretrained_token_embed\": model_2_results,\n",
        "                                  \"custom_character_embed_conv1D\": model_3_results,\n",
        "                                  \"hybrid_char_token_embed\": model_4_results,\n",
        "                                  \"tribrid_pos_char_token_embed\":model_5_results})\n",
        "\n",
        "all_model_results = all_model_results.transpose()\n",
        "\n",
        "all_model_results"
      ]
    },
    {
      "cell_type": "code",
      "execution_count": null,
      "metadata": {
        "id": "UXepiIzi7ZsM"
      },
      "outputs": [],
      "source": [
        "# Reduce the accuracy to same scale as other metrics\n",
        "all_model_results[\"accuracy\"] = all_model_results[\"accuracy\"]/100"
      ]
    },
    {
      "cell_type": "code",
      "execution_count": null,
      "metadata": {
        "colab": {
          "base_uri": "https://localhost:8080/",
          "height": 590
        },
        "id": "_eZV8IX8DelJ",
        "outputId": "d21099dc-844b-4ebb-e86d-6187f42ad347"
      },
      "outputs": [
        {
          "data": {
            "image/png": "[encoded data removed]",
            "text/plain": [
              "<Figure size 720x504 with 1 Axes>"
            ]
          },
          "metadata": {},
          "output_type": "display_data"
        }
      ],
      "source": [
        "# plot the results \n",
        "all_model_results.plot(kind='bar', figsize=(10, 7)).legend(bbox_to_anchor=(1.0, 1.0));"
      ]
    },
    {
      "cell_type": "markdown",
      "metadata": {
        "id": "5gYOODK1DrgJ"
      },
      "source": [
        "Since in the paper [PubMed 200k RCT: a Dataset for Sequential Sentence Classification in Medical Abstracts](https://arxiv.org/pdf/1710.06071.pdf) their tested model's F1-scores on the test dataset, let's take at our model's F1-scores"
      ]
    },
    {
      "cell_type": "code",
      "execution_count": null,
      "metadata": {
        "colab": {
          "base_uri": "https://localhost:8080/",
          "height": 590
        },
        "id": "AQiH0bNsE7l3",
        "outputId": "e6a89e40-0485-49e0-a4b3-8f012f1a586d"
      },
      "outputs": [
        {
          "data": {
            "image/png": "[encoded data removed]",
            "text/plain": [
              "<Figure size 720x504 with 1 Axes>"
            ]
          },
          "metadata": {},
          "output_type": "display_data"
        }
      ],
      "source": [
        "all_model_results.sort_values(by=\"f1\", ascending=False)[\"f1\"].plot(kind='bar', figsize=(10,7));"
      ]
    },
    {
      "cell_type": "markdown",
      "metadata": {
        "id": "vu1yFqEFFHZU"
      },
      "source": [
        "## Save and Load best performing Model"
      ]
    },
    {
      "cell_type": "code",
      "execution_count": null,
      "metadata": {
        "colab": {
          "base_uri": "https://localhost:8080/"
        },
        "id": "74xiwTzJFPLB",
        "outputId": "536696ad-ef95-48e4-8d66-96100baf2347"
      },
      "outputs": [
        {
          "name": "stderr",
          "output_type": "stream",
          "text": [
            "WARNING:absl:Found untraced functions such as lstm_cell_4_layer_call_fn, lstm_cell_4_layer_call_and_return_conditional_losses, lstm_cell_5_layer_call_fn, lstm_cell_5_layer_call_and_return_conditional_losses while saving (showing 4 of 4). These functions will not be directly callable after loading.\n"
          ]
        }
      ],
      "source": [
        "# save the model in SavedModel format\n",
        "model_5.save('drive/MyDrive/Data Science/SkimLit/skimlit_tribrid_model')"
      ]
    },
    {
      "cell_type": "code",
      "execution_count": 15,
      "metadata": {
        "id": "jN6T5-bgFiIx"
      },
      "outputs": [],
      "source": [
        "# Load the model using tf.keras.models.load_model\n",
        "import tensorflow as tf\n",
        "import tensorflow_hub as hub\n",
        "from tensorflow.keras.layers import TextVectorization\n",
        "\n",
        "model_path = \"drive/MyDrive/Data Science/SkimLit/skimlit_tribrid_model\"\n",
        "\n",
        "loaded_model = tf.keras.models.load_model(model_path)"
      ]
    },
    {
      "cell_type": "markdown",
      "metadata": {
        "id": "2zYUku-sGOSl"
      },
      "source": [
        "### Make predictions on Loaded Model and compare them with Trained model\n",
        "\n"
      ]
    },
    {
      "cell_type": "code",
      "execution_count": null,
      "metadata": {
        "colab": {
          "base_uri": "https://localhost:8080/"
        },
        "id": "IgnoicxeGlV1",
        "outputId": "10711357-7164-47d8-b186-20eebd2f2416"
      },
      "outputs": [
        {
          "name": "stdout",
          "output_type": "stream",
          "text": [
            "945/945 [==============================] - 20s 20ms/step\n"
          ]
        },
        {
          "data": {
            "text/plain": [
              "<tf.Tensor: shape=(10,), dtype=int64, numpy=array([0, 0, 0, 2, 2, 4, 4, 4, 4, 1])>"
            ]
          },
          "execution_count": 100,
          "metadata": {},
          "output_type": "execute_result"
        }
      ],
      "source": [
        "# prediction on loaded model\n",
        "loaded_pred_probs = loaded_model.predict(val_pos_token_char_dataset, verbose=1)\n",
        "loaded_preds = tf.argmax(loaded_pred_probs, axis=1)\n",
        "loaded_preds[:10]"
      ]
    },
    {
      "cell_type": "code",
      "execution_count": null,
      "metadata": {
        "colab": {
          "base_uri": "https://localhost:8080/"
        },
        "id": "_cm5n5kYG5Gc",
        "outputId": "ca348845-975d-40d3-b7bd-93f6cee86f0c"
      },
      "outputs": [
        {
          "name": "stdout",
          "output_type": "stream",
          "text": [
            "945/945 [==============================] - 21s 22ms/step\n"
          ]
        },
        {
          "data": {
            "text/plain": [
              "<tf.Tensor: shape=(10,), dtype=int64, numpy=array([0, 0, 0, 2, 2, 4, 4, 4, 4, 1])>"
            ]
          },
          "execution_count": 101,
          "metadata": {},
          "output_type": "execute_result"
        }
      ],
      "source": [
        "# prediction on trained model\n",
        "model_5_pred_probs = model_5.predict(val_pos_token_char_dataset, verbose=1)\n",
        "model_5_preds = tf.argmax(model_5_pred_probs, axis=1)\n",
        "model_5_preds[:10]"
      ]
    },
    {
      "cell_type": "code",
      "execution_count": null,
      "metadata": {
        "colab": {
          "base_uri": "https://localhost:8080/"
        },
        "id": "DmGu7kdEHImX",
        "outputId": "fda6b108-511b-46c6-857e-2d4fd38fc571"
      },
      "outputs": [
        {
          "name": "stdout",
          "output_type": "stream",
          "text": [
            "945/945 [==============================] - 18s 19ms/step\n"
          ]
        },
        {
          "data": {
            "text/plain": [
              "{'accuracy': 84.1718522441414,\n",
              " 'f1': 0.8376436768759833,\n",
              " 'precision': 0.844755468013988,\n",
              " 'recall': 0.841718522441414}"
            ]
          },
          "execution_count": 102,
          "metadata": {},
          "output_type": "execute_result"
        }
      ],
      "source": [
        "# calculate the results of loaded model\n",
        "loaded_model_results = calculate_results(model=loaded_model, prefetching_used=True, val_dataset=val_pos_token_char_dataset)\n",
        "\n",
        "loaded_model_results"
      ]
    },
    {
      "cell_type": "code",
      "execution_count": null,
      "metadata": {
        "colab": {
          "base_uri": "https://localhost:8080/"
        },
        "id": "FVNtONIZHY4H",
        "outputId": "6fb429c6-6a14-4323-924e-a205ba4a46d2"
      },
      "outputs": [
        {
          "data": {
            "text/plain": [
              "array([ True,  True,  True,  True])"
            ]
          },
          "execution_count": 103,
          "metadata": {},
          "output_type": "execute_result"
        }
      ],
      "source": [
        "# compare the results with model_5\n",
        "np.isclose(list(model_5_results.values()), list(loaded_model_results.values()))"
      ]
    },
    {
      "cell_type": "code",
      "execution_count": null,
      "metadata": {
        "colab": {
          "base_uri": "https://localhost:8080/"
        },
        "id": "OTapRoRsHtPP",
        "outputId": "af1f9ee3-0670-4302-a0a2-8c623ac04a60"
      },
      "outputs": [
        {
          "name": "stdout",
          "output_type": "stream",
          "text": [
            "<keras.engine.input_layer.InputLayer object at 0x7fad15fdde80> True\n",
            "<keras.engine.input_layer.InputLayer object at 0x7fad1c0b6760> True\n",
            "<keras.layers.preprocessing.text_vectorization.TextVectorization object at 0x7fad1c0b6b20> True\n",
            "<keras.saving.legacy.saved_model.load.KerasLayer object at 0x7fad5e1edf70> False\n",
            "<keras.layers.core.embedding.Embedding object at 0x7fad5e4683d0> True\n",
            "<keras.layers.core.dense.Dense object at 0x7fad5e4686d0> True\n",
            "<keras.layers.rnn.bidirectional.Bidirectional object at 0x7fad2ee5b0d0> True\n",
            "<keras.layers.merging.concatenate.Concatenate object at 0x7fad1c259850> True\n",
            "<keras.engine.input_layer.InputLayer object at 0x7fad1c29e6a0> True\n",
            "<keras.engine.input_layer.InputLayer object at 0x7fad1c361970> True\n",
            "<keras.layers.core.dense.Dense object at 0x7fad5ef26280> True\n",
            "<keras.layers.core.dense.Dense object at 0x7fad1c3c7e20> True\n",
            "<keras.layers.core.dense.Dense object at 0x7fad1c3c7190> True\n",
            "<keras.layers.regularization.dropout.Dropout object at 0x7fad5eef0a00> True\n",
            "<keras.layers.merging.concatenate.Concatenate object at 0x7fad5ee42a00> True\n",
            "<keras.layers.core.dense.Dense object at 0x7fad5f106af0> True\n"
          ]
        }
      ],
      "source": [
        "for layer in loaded_model.layers:\n",
        "  print(layer, layer.trainable)"
      ]
    },
    {
      "cell_type": "code",
      "execution_count": null,
      "metadata": {
        "colab": {
          "base_uri": "https://localhost:8080/"
        },
        "id": "H1LXqvcwH54P",
        "outputId": "16032d83-93cb-4b58-d386-20a7940f7e42"
      },
      "outputs": [
        {
          "name": "stdout",
          "output_type": "stream",
          "text": [
            "<keras.engine.input_layer.InputLayer object at 0x7fad61d17970> True\n",
            "<keras.engine.input_layer.InputLayer object at 0x7fad61dd34c0> True\n",
            "<keras.layers.preprocessing.text_vectorization.TextVectorization object at 0x7fad684769d0> True\n",
            "<tensorflow_hub.keras_layer.KerasLayer object at 0x7fad6828e370> False\n",
            "<keras.layers.core.embedding.Embedding object at 0x7fad2ec0fb80> True\n",
            "<keras.layers.core.dense.Dense object at 0x7fad61d177f0> True\n",
            "<keras.layers.rnn.bidirectional.Bidirectional object at 0x7fad61c85c10> True\n",
            "<keras.layers.merging.concatenate.Concatenate object at 0x7fad61ba5700> True\n",
            "<keras.engine.input_layer.InputLayer object at 0x7fad61d37970> True\n",
            "<keras.engine.input_layer.InputLayer object at 0x7fad61c36430> True\n",
            "<keras.layers.core.dense.Dense object at 0x7fad61cc13d0> True\n",
            "<keras.layers.core.dense.Dense object at 0x7fad61c836d0> True\n",
            "<keras.layers.core.dense.Dense object at 0x7fad61cd0c40> True\n",
            "<keras.layers.regularization.dropout.Dropout object at 0x7fad61c9f0d0> True\n",
            "<keras.layers.merging.concatenate.Concatenate object at 0x7fad570e0070> True\n",
            "<keras.layers.core.dense.Dense object at 0x7fad61bb1d00> True\n"
          ]
        }
      ],
      "source": [
        "for layer in model_5.layers:\n",
        "  print(layer, layer.trainable)"
      ]
    },
    {
      "cell_type": "markdown",
      "metadata": {
        "id": "OhFLiEzAI3iA"
      },
      "source": [
        "## Evaluate Model on Test dataset\n",
        "\n",
        "We have already created the test dataset above as `test_pos_token_char_dataset`, let's use it for evaluating our best performing model."
      ]
    },
    {
      "cell_type": "code",
      "execution_count": null,
      "metadata": {
        "colab": {
          "base_uri": "https://localhost:8080/"
        },
        "id": "L8l5UgTGJ1-l",
        "outputId": "73231121-0689-421b-fd2c-b45d0553dc5d"
      },
      "outputs": [
        {
          "name": "stdout",
          "output_type": "stream",
          "text": [
            "942/942 [==============================] - 18s 19ms/step\n"
          ]
        },
        {
          "data": {
            "text/plain": [
              "<tf.Tensor: shape=(10,), dtype=int64, numpy=array([3, 2, 2, 2, 4, 4, 2, 1, 4, 0])>"
            ]
          },
          "execution_count": 106,
          "metadata": {},
          "output_type": "execute_result"
        }
      ],
      "source": [
        "test_pred_probs = loaded_model.predict(test_pos_token_char_dataset)\n",
        "test_preds = tf.argmax(test_pred_probs, axis=1)\n",
        "test_preds[:10]"
      ]
    },
    {
      "cell_type": "code",
      "execution_count": null,
      "metadata": {
        "colab": {
          "base_uri": "https://localhost:8080/"
        },
        "id": "0ZfWvrkbKS-4",
        "outputId": "6c308a38-02c8-4180-a3d6-2f367ca05050"
      },
      "outputs": [
        {
          "data": {
            "text/plain": [
              "{'accuracy': 83.66351418616227,\n",
              " 'f1': 0.8326381859625475,\n",
              " 'precision': 0.8395261406971635,\n",
              " 'recall': 0.8366351418616227}"
            ]
          },
          "execution_count": 107,
          "metadata": {},
          "output_type": "execute_result"
        }
      ],
      "source": [
        "# calculate the results\n",
        "from sklearn.metrics import precision_recall_fscore_support\n",
        "from sklearn.metrics import accuracy_score\n",
        "\n",
        "# measure accuracy\n",
        "accuracy = accuracy_score(test_labels_encoded, test_preds)\n",
        "# measure other metrics\n",
        "precision, recall, f1, _ = precision_recall_fscore_support(test_labels_encoded, test_preds, average='weighted')\n",
        "\n",
        "test_results = {\"accuracy\": accuracy*100,\n",
        "                \"f1\":f1,\n",
        "                \"precision\":precision,\n",
        "                \"recall\":recall}\n",
        "\n",
        "test_results"
      ]
    },
    {
      "cell_type": "markdown",
      "metadata": {
        "id": "3xV8atHIKgKP"
      },
      "source": [
        "It seems our best model performing(so far) still has some ways to go since in the paper that we are replicating the architecture of models is producing 90.0 F1-score on the test dataset, where as ours gets ~83 F1-score\n",
        "\n",
        "However, as we discussed before our model has only been trained on 20K out of the total ~180K sequences in the RCT 20K dataset. We also haven't fine-tuned our pretrained embeddings (the paper fine-tunes GloVe embeddings). So there's a couple of extensions we could try to improve our results."
      ]
    },
    {
      "cell_type": "markdown",
      "metadata": {
        "id": "bnSbHuJjMT1N"
      },
      "source": [
        "## Find most wrong\n",
        "\n",
        "One of the best ways to investigate where our model is going wrong (or potentially our data is wrong) is to visualize the \"most wrong\" predictions."
      ]
    },
    {
      "cell_type": "code",
      "execution_count": null,
      "metadata": {
        "colab": {
          "base_uri": "https://localhost:8080/"
        },
        "id": "ciANubcNMYaw",
        "outputId": "6aa6d5d2-f0a8-4b53-ee02-e1b436ba70c2"
      },
      "outputs": [
        {
          "data": {
            "text/plain": [
              "<tf.Tensor: shape=(30135,), dtype=float32, numpy=\n",
              "array([0.4046165 , 0.4182503 , 0.8507006 , ..., 0.68377244, 0.6808784 ,\n",
              "       0.4305441 ], dtype=float32)>"
            ]
          },
          "execution_count": 110,
          "metadata": {},
          "output_type": "execute_result"
        }
      ],
      "source": [
        "pred_probs = tf.reduce_max(test_pred_probs, axis=1)\n",
        "pred_probs"
      ]
    },
    {
      "cell_type": "markdown",
      "source": [
        "Let's update existing pandas dataframe and investigate which are the most wrong predictions"
      ],
      "metadata": {
        "id": "QK8QN2D6PEBZ"
      }
    },
    {
      "cell_type": "code",
      "source": [
        "test_df"
      ],
      "metadata": {
        "colab": {
          "base_uri": "https://localhost:8080/",
          "height": 424
        },
        "id": "Xy04yTTMUmEV",
        "outputId": "dafb4409-e538-4073-bfac-b52ab78a40dd"
      },
      "execution_count": null,
      "outputs": [
        {
          "output_type": "execute_result",
          "data": {
            "text/plain": [
              "            target                                               text  \\\n",
              "0       BACKGROUND  this study analyzed liver function abnormaliti...   \n",
              "1          RESULTS  a post hoc analysis was conducted with the use...   \n",
              "2          RESULTS  liver function tests ( lfts ) were measured at...   \n",
              "3          RESULTS  survival analyses were used to assess the asso...   \n",
              "4          RESULTS  the percentage of patients with abnormal lfts ...   \n",
              "...            ...                                                ...   \n",
              "30130      RESULTS  there was a statistically significant between-...   \n",
              "30131      RESULTS  there were no statistically significant betwee...   \n",
              "30132      RESULTS  there was no significant association between s...   \n",
              "30133      RESULTS                 no adverse effects were reported .   \n",
              "30134  CONCLUSIONS  performing a @-week do-as-tolerated program of...   \n",
              "\n",
              "       line_number  total_lines  \n",
              "0                0            8  \n",
              "1                1            8  \n",
              "2                2            8  \n",
              "3                3            8  \n",
              "4                4            8  \n",
              "...            ...          ...  \n",
              "30130           13           17  \n",
              "30131           14           17  \n",
              "30132           15           17  \n",
              "30133           16           17  \n",
              "30134           17           17  \n",
              "\n",
              "[30135 rows x 4 columns]"
            ],
            "text/html": [
              "\n",
              "  <div id=\"df-f39274a7-471b-444c-907f-556204d206ad\">\n",
              "    <div class=\"colab-df-container\">\n",
              "      <div>\n",
              "<style scoped>\n",
              "    .dataframe tbody tr th:only-of-type {\n",
              "        vertical-align: middle;\n",
              "    }\n",
              "\n",
              "    .dataframe tbody tr th {\n",
              "        vertical-align: top;\n",
              "    }\n",
              "\n",
              "    .dataframe thead th {\n",
              "        text-align: right;\n",
              "    }\n",
              "</style>\n",
              "<table border=\"1\" class=\"dataframe\">\n",
              "  <thead>\n",
              "    <tr style=\"text-align: right;\">\n",
              "      <th></th>\n",
              "      <th>target</th>\n",
              "      <th>text</th>\n",
              "      <th>line_number</th>\n",
              "      <th>total_lines</th>\n",
              "    </tr>\n",
              "  </thead>\n",
              "  <tbody>\n",
              "    <tr>\n",
              "      <th>0</th>\n",
              "      <td>BACKGROUND</td>\n",
              "      <td>this study analyzed liver function abnormaliti...</td>\n",
              "      <td>0</td>\n",
              "      <td>8</td>\n",
              "    </tr>\n",
              "    <tr>\n",
              "      <th>1</th>\n",
              "      <td>RESULTS</td>\n",
              "      <td>a post hoc analysis was conducted with the use...</td>\n",
              "      <td>1</td>\n",
              "      <td>8</td>\n",
              "    </tr>\n",
              "    <tr>\n",
              "      <th>2</th>\n",
              "      <td>RESULTS</td>\n",
              "      <td>liver function tests ( lfts ) were measured at...</td>\n",
              "      <td>2</td>\n",
              "      <td>8</td>\n",
              "    </tr>\n",
              "    <tr>\n",
              "      <th>3</th>\n",
              "      <td>RESULTS</td>\n",
              "      <td>survival analyses were used to assess the asso...</td>\n",
              "      <td>3</td>\n",
              "      <td>8</td>\n",
              "    </tr>\n",
              "    <tr>\n",
              "      <th>4</th>\n",
              "      <td>RESULTS</td>\n",
              "      <td>the percentage of patients with abnormal lfts ...</td>\n",
              "      <td>4</td>\n",
              "      <td>8</td>\n",
              "    </tr>\n",
              "    <tr>\n",
              "      <th>...</th>\n",
              "      <td>...</td>\n",
              "      <td>...</td>\n",
              "      <td>...</td>\n",
              "      <td>...</td>\n",
              "    </tr>\n",
              "    <tr>\n",
              "      <th>30130</th>\n",
              "      <td>RESULTS</td>\n",
              "      <td>there was a statistically significant between-...</td>\n",
              "      <td>13</td>\n",
              "      <td>17</td>\n",
              "    </tr>\n",
              "    <tr>\n",
              "      <th>30131</th>\n",
              "      <td>RESULTS</td>\n",
              "      <td>there were no statistically significant betwee...</td>\n",
              "      <td>14</td>\n",
              "      <td>17</td>\n",
              "    </tr>\n",
              "    <tr>\n",
              "      <th>30132</th>\n",
              "      <td>RESULTS</td>\n",
              "      <td>there was no significant association between s...</td>\n",
              "      <td>15</td>\n",
              "      <td>17</td>\n",
              "    </tr>\n",
              "    <tr>\n",
              "      <th>30133</th>\n",
              "      <td>RESULTS</td>\n",
              "      <td>no adverse effects were reported .</td>\n",
              "      <td>16</td>\n",
              "      <td>17</td>\n",
              "    </tr>\n",
              "    <tr>\n",
              "      <th>30134</th>\n",
              "      <td>CONCLUSIONS</td>\n",
              "      <td>performing a @-week do-as-tolerated program of...</td>\n",
              "      <td>17</td>\n",
              "      <td>17</td>\n",
              "    </tr>\n",
              "  </tbody>\n",
              "</table>\n",
              "<p>30135 rows × 4 columns</p>\n",
              "</div>\n",
              "      <button class=\"colab-df-convert\" onclick=\"convertToInteractive('df-f39274a7-471b-444c-907f-556204d206ad')\"\n",
              "              title=\"Convert this dataframe to an interactive table.\"\n",
              "              style=\"display:none;\">\n",
              "        \n",
              "  <svg xmlns=\"http://www.w3.org/2000/svg\" height=\"24px\"viewBox=\"0 0 24 24\"\n",
              "       width=\"24px\">\n",
              "    <path d=\"M0 0h24v24H0V0z\" fill=\"none\"/>\n",
              "    <path d=\"M18.56 5.44l.94 2.06.94-2.06 2.06-.94-2.06-.94-.94-2.06-.94 2.06-2.06.94zm-11 1L8.5 8.5l.94-2.06 2.06-.94-2.06-.94L8.5 2.5l-.94 2.06-2.06.94zm10 10l.94 2.06.94-2.06 2.06-.94-2.06-.94-.94-2.06-.94 2.06-2.06.94z\"/><path d=\"M17.41 7.96l-1.37-1.37c-.4-.4-.92-.59-1.43-.59-.52 0-1.04.2-1.43.59L10.3 9.45l-7.72 7.72c-.78.78-.78 2.05 0 2.83L4 21.41c.39.39.9.59 1.41.59.51 0 1.02-.2 1.41-.59l7.78-7.78 2.81-2.81c.8-.78.8-2.07 0-2.86zM5.41 20L4 18.59l7.72-7.72 1.47 1.35L5.41 20z\"/>\n",
              "  </svg>\n",
              "      </button>\n",
              "      \n",
              "  <style>\n",
              "    .colab-df-container {\n",
              "      display:flex;\n",
              "      flex-wrap:wrap;\n",
              "      gap: 12px;\n",
              "    }\n",
              "\n",
              "    .colab-df-convert {\n",
              "      background-color: #E8F0FE;\n",
              "      border: none;\n",
              "      border-radius: 50%;\n",
              "      cursor: pointer;\n",
              "      display: none;\n",
              "      fill: #1967D2;\n",
              "      height: 32px;\n",
              "      padding: 0 0 0 0;\n",
              "      width: 32px;\n",
              "    }\n",
              "\n",
              "    .colab-df-convert:hover {\n",
              "      background-color: #E2EBFA;\n",
              "      box-shadow: 0px 1px 2px rgba(60, 64, 67, 0.3), 0px 1px 3px 1px rgba(60, 64, 67, 0.15);\n",
              "      fill: #174EA6;\n",
              "    }\n",
              "\n",
              "    [theme=dark] .colab-df-convert {\n",
              "      background-color: #3B4455;\n",
              "      fill: #D2E3FC;\n",
              "    }\n",
              "\n",
              "    [theme=dark] .colab-df-convert:hover {\n",
              "      background-color: #434B5C;\n",
              "      box-shadow: 0px 1px 3px 1px rgba(0, 0, 0, 0.15);\n",
              "      filter: drop-shadow(0px 1px 2px rgba(0, 0, 0, 0.3));\n",
              "      fill: #FFFFFF;\n",
              "    }\n",
              "  </style>\n",
              "\n",
              "      <script>\n",
              "        const buttonEl =\n",
              "          document.querySelector('#df-f39274a7-471b-444c-907f-556204d206ad button.colab-df-convert');\n",
              "        buttonEl.style.display =\n",
              "          google.colab.kernel.accessAllowed ? 'block' : 'none';\n",
              "\n",
              "        async function convertToInteractive(key) {\n",
              "          const element = document.querySelector('#df-f39274a7-471b-444c-907f-556204d206ad');\n",
              "          const dataTable =\n",
              "            await google.colab.kernel.invokeFunction('convertToInteractive',\n",
              "                                                     [key], {});\n",
              "          if (!dataTable) return;\n",
              "\n",
              "          const docLinkHtml = 'Like what you see? Visit the ' +\n",
              "            '<a target=\"_blank\" href=https://colab.research.google.com/notebooks/data_table.ipynb>data table notebook</a>'\n",
              "            + ' to learn more about interactive tables.';\n",
              "          element.innerHTML = '';\n",
              "          dataTable['output_type'] = 'display_data';\n",
              "          await google.colab.output.renderOutput(dataTable, element);\n",
              "          const docLink = document.createElement('div');\n",
              "          docLink.innerHTML = docLinkHtml;\n",
              "          element.appendChild(docLink);\n",
              "        }\n",
              "      </script>\n",
              "    </div>\n",
              "  </div>\n",
              "  "
            ]
          },
          "metadata": {},
          "execution_count": 123
        }
      ]
    },
    {
      "cell_type": "code",
      "source": [
        "test_df['prediction'] = [label_encoder.classes_[pred] for pred in test_preds]\n",
        "test_df['pred_probs'] = pred_probs\n",
        "test_df['correct'] = test_df['prediction'] == test_df['target']\n",
        "\n",
        "test_df.head(20)"
      ],
      "metadata": {
        "colab": {
          "base_uri": "https://localhost:8080/",
          "height": 677
        },
        "id": "qwfoySMXRefQ",
        "outputId": "50849484-ed61-4616-8795-dc96ba94f36f"
      },
      "execution_count": null,
      "outputs": [
        {
          "output_type": "execute_result",
          "data": {
            "text/plain": [
              "         target                                               text  \\\n",
              "0    BACKGROUND  this study analyzed liver function abnormaliti...   \n",
              "1       RESULTS  a post hoc analysis was conducted with the use...   \n",
              "2       RESULTS  liver function tests ( lfts ) were measured at...   \n",
              "3       RESULTS  survival analyses were used to assess the asso...   \n",
              "4       RESULTS  the percentage of patients with abnormal lfts ...   \n",
              "5       RESULTS  when mean hemodynamic profiles were compared i...   \n",
              "6       RESULTS  multivariable analyses revealed that patients ...   \n",
              "7   CONCLUSIONS  abnormal lfts are common in the adhf populatio...   \n",
              "8   CONCLUSIONS  elevated meld-xi scores are associated with po...   \n",
              "9    BACKGROUND  minimally invasive endovascular aneurysm repai...   \n",
              "10   BACKGROUND  the aim of this study was to analyse the cost-...   \n",
              "11      METHODS  resource use was determined from the amsterdam...   \n",
              "12      METHODS  the analysis was performed from a provider per...   \n",
              "13      METHODS  all costs were calculated as if all patients h...   \n",
              "14      RESULTS            a total of @ patients were randomized .   \n",
              "15      RESULTS  the @-day mortality rate was @ per cent after ...   \n",
              "16      RESULTS  at @months , the total mortality rate for evar...   \n",
              "17      RESULTS  the mean cost difference between evar and or w...   \n",
              "18      RESULTS  the incremental cost-effectiveness ratio per p...   \n",
              "19      RESULTS  there was no significant difference in quality...   \n",
              "\n",
              "    line_number  total_lines   prediction  pred_probs  correct  \n",
              "0             0            8    OBJECTIVE    0.404617    False  \n",
              "1             1            8      METHODS    0.418250    False  \n",
              "2             2            8      METHODS    0.850701    False  \n",
              "3             3            8      METHODS    0.812263    False  \n",
              "4             4            8      RESULTS    0.623403     True  \n",
              "5             5            8      RESULTS    0.791775     True  \n",
              "6             6            8      METHODS    0.487537    False  \n",
              "7             7            8  CONCLUSIONS    0.480508     True  \n",
              "8             8            8      RESULTS    0.470356    False  \n",
              "9             0           12   BACKGROUND    0.603725     True  \n",
              "10            1           12   BACKGROUND    0.445225     True  \n",
              "11            2           12      METHODS    0.778738     True  \n",
              "12            3           12      METHODS    0.904354     True  \n",
              "13            4           12      METHODS    0.720637     True  \n",
              "14            5           12      RESULTS    0.675121     True  \n",
              "15            6           12      RESULTS    0.636461     True  \n",
              "16            7           12      RESULTS    0.884536     True  \n",
              "17            8           12      RESULTS    0.845484     True  \n",
              "18            9           12      RESULTS    0.779666     True  \n",
              "19           10           12      RESULTS    0.764106     True  "
            ],
            "text/html": [
              "\n",
              "  <div id=\"df-055752a2-cc66-4188-8ce5-a2e02a7d02bd\">\n",
              "    <div class=\"colab-df-container\">\n",
              "      <div>\n",
              "<style scoped>\n",
              "    .dataframe tbody tr th:only-of-type {\n",
              "        vertical-align: middle;\n",
              "    }\n",
              "\n",
              "    .dataframe tbody tr th {\n",
              "        vertical-align: top;\n",
              "    }\n",
              "\n",
              "    .dataframe thead th {\n",
              "        text-align: right;\n",
              "    }\n",
              "</style>\n",
              "<table border=\"1\" class=\"dataframe\">\n",
              "  <thead>\n",
              "    <tr style=\"text-align: right;\">\n",
              "      <th></th>\n",
              "      <th>target</th>\n",
              "      <th>text</th>\n",
              "      <th>line_number</th>\n",
              "      <th>total_lines</th>\n",
              "      <th>prediction</th>\n",
              "      <th>pred_probs</th>\n",
              "      <th>correct</th>\n",
              "    </tr>\n",
              "  </thead>\n",
              "  <tbody>\n",
              "    <tr>\n",
              "      <th>0</th>\n",
              "      <td>BACKGROUND</td>\n",
              "      <td>this study analyzed liver function abnormaliti...</td>\n",
              "      <td>0</td>\n",
              "      <td>8</td>\n",
              "      <td>OBJECTIVE</td>\n",
              "      <td>0.404617</td>\n",
              "      <td>False</td>\n",
              "    </tr>\n",
              "    <tr>\n",
              "      <th>1</th>\n",
              "      <td>RESULTS</td>\n",
              "      <td>a post hoc analysis was conducted with the use...</td>\n",
              "      <td>1</td>\n",
              "      <td>8</td>\n",
              "      <td>METHODS</td>\n",
              "      <td>0.418250</td>\n",
              "      <td>False</td>\n",
              "    </tr>\n",
              "    <tr>\n",
              "      <th>2</th>\n",
              "      <td>RESULTS</td>\n",
              "      <td>liver function tests ( lfts ) were measured at...</td>\n",
              "      <td>2</td>\n",
              "      <td>8</td>\n",
              "      <td>METHODS</td>\n",
              "      <td>0.850701</td>\n",
              "      <td>False</td>\n",
              "    </tr>\n",
              "    <tr>\n",
              "      <th>3</th>\n",
              "      <td>RESULTS</td>\n",
              "      <td>survival analyses were used to assess the asso...</td>\n",
              "      <td>3</td>\n",
              "      <td>8</td>\n",
              "      <td>METHODS</td>\n",
              "      <td>0.812263</td>\n",
              "      <td>False</td>\n",
              "    </tr>\n",
              "    <tr>\n",
              "      <th>4</th>\n",
              "      <td>RESULTS</td>\n",
              "      <td>the percentage of patients with abnormal lfts ...</td>\n",
              "      <td>4</td>\n",
              "      <td>8</td>\n",
              "      <td>RESULTS</td>\n",
              "      <td>0.623403</td>\n",
              "      <td>True</td>\n",
              "    </tr>\n",
              "    <tr>\n",
              "      <th>5</th>\n",
              "      <td>RESULTS</td>\n",
              "      <td>when mean hemodynamic profiles were compared i...</td>\n",
              "      <td>5</td>\n",
              "      <td>8</td>\n",
              "      <td>RESULTS</td>\n",
              "      <td>0.791775</td>\n",
              "      <td>True</td>\n",
              "    </tr>\n",
              "    <tr>\n",
              "      <th>6</th>\n",
              "      <td>RESULTS</td>\n",
              "      <td>multivariable analyses revealed that patients ...</td>\n",
              "      <td>6</td>\n",
              "      <td>8</td>\n",
              "      <td>METHODS</td>\n",
              "      <td>0.487537</td>\n",
              "      <td>False</td>\n",
              "    </tr>\n",
              "    <tr>\n",
              "      <th>7</th>\n",
              "      <td>CONCLUSIONS</td>\n",
              "      <td>abnormal lfts are common in the adhf populatio...</td>\n",
              "      <td>7</td>\n",
              "      <td>8</td>\n",
              "      <td>CONCLUSIONS</td>\n",
              "      <td>0.480508</td>\n",
              "      <td>True</td>\n",
              "    </tr>\n",
              "    <tr>\n",
              "      <th>8</th>\n",
              "      <td>CONCLUSIONS</td>\n",
              "      <td>elevated meld-xi scores are associated with po...</td>\n",
              "      <td>8</td>\n",
              "      <td>8</td>\n",
              "      <td>RESULTS</td>\n",
              "      <td>0.470356</td>\n",
              "      <td>False</td>\n",
              "    </tr>\n",
              "    <tr>\n",
              "      <th>9</th>\n",
              "      <td>BACKGROUND</td>\n",
              "      <td>minimally invasive endovascular aneurysm repai...</td>\n",
              "      <td>0</td>\n",
              "      <td>12</td>\n",
              "      <td>BACKGROUND</td>\n",
              "      <td>0.603725</td>\n",
              "      <td>True</td>\n",
              "    </tr>\n",
              "    <tr>\n",
              "      <th>10</th>\n",
              "      <td>BACKGROUND</td>\n",
              "      <td>the aim of this study was to analyse the cost-...</td>\n",
              "      <td>1</td>\n",
              "      <td>12</td>\n",
              "      <td>BACKGROUND</td>\n",
              "      <td>0.445225</td>\n",
              "      <td>True</td>\n",
              "    </tr>\n",
              "    <tr>\n",
              "      <th>11</th>\n",
              "      <td>METHODS</td>\n",
              "      <td>resource use was determined from the amsterdam...</td>\n",
              "      <td>2</td>\n",
              "      <td>12</td>\n",
              "      <td>METHODS</td>\n",
              "      <td>0.778738</td>\n",
              "      <td>True</td>\n",
              "    </tr>\n",
              "    <tr>\n",
              "      <th>12</th>\n",
              "      <td>METHODS</td>\n",
              "      <td>the analysis was performed from a provider per...</td>\n",
              "      <td>3</td>\n",
              "      <td>12</td>\n",
              "      <td>METHODS</td>\n",
              "      <td>0.904354</td>\n",
              "      <td>True</td>\n",
              "    </tr>\n",
              "    <tr>\n",
              "      <th>13</th>\n",
              "      <td>METHODS</td>\n",
              "      <td>all costs were calculated as if all patients h...</td>\n",
              "      <td>4</td>\n",
              "      <td>12</td>\n",
              "      <td>METHODS</td>\n",
              "      <td>0.720637</td>\n",
              "      <td>True</td>\n",
              "    </tr>\n",
              "    <tr>\n",
              "      <th>14</th>\n",
              "      <td>RESULTS</td>\n",
              "      <td>a total of @ patients were randomized .</td>\n",
              "      <td>5</td>\n",
              "      <td>12</td>\n",
              "      <td>RESULTS</td>\n",
              "      <td>0.675121</td>\n",
              "      <td>True</td>\n",
              "    </tr>\n",
              "    <tr>\n",
              "      <th>15</th>\n",
              "      <td>RESULTS</td>\n",
              "      <td>the @-day mortality rate was @ per cent after ...</td>\n",
              "      <td>6</td>\n",
              "      <td>12</td>\n",
              "      <td>RESULTS</td>\n",
              "      <td>0.636461</td>\n",
              "      <td>True</td>\n",
              "    </tr>\n",
              "    <tr>\n",
              "      <th>16</th>\n",
              "      <td>RESULTS</td>\n",
              "      <td>at @months , the total mortality rate for evar...</td>\n",
              "      <td>7</td>\n",
              "      <td>12</td>\n",
              "      <td>RESULTS</td>\n",
              "      <td>0.884536</td>\n",
              "      <td>True</td>\n",
              "    </tr>\n",
              "    <tr>\n",
              "      <th>17</th>\n",
              "      <td>RESULTS</td>\n",
              "      <td>the mean cost difference between evar and or w...</td>\n",
              "      <td>8</td>\n",
              "      <td>12</td>\n",
              "      <td>RESULTS</td>\n",
              "      <td>0.845484</td>\n",
              "      <td>True</td>\n",
              "    </tr>\n",
              "    <tr>\n",
              "      <th>18</th>\n",
              "      <td>RESULTS</td>\n",
              "      <td>the incremental cost-effectiveness ratio per p...</td>\n",
              "      <td>9</td>\n",
              "      <td>12</td>\n",
              "      <td>RESULTS</td>\n",
              "      <td>0.779666</td>\n",
              "      <td>True</td>\n",
              "    </tr>\n",
              "    <tr>\n",
              "      <th>19</th>\n",
              "      <td>RESULTS</td>\n",
              "      <td>there was no significant difference in quality...</td>\n",
              "      <td>10</td>\n",
              "      <td>12</td>\n",
              "      <td>RESULTS</td>\n",
              "      <td>0.764106</td>\n",
              "      <td>True</td>\n",
              "    </tr>\n",
              "  </tbody>\n",
              "</table>\n",
              "</div>\n",
              "      <button class=\"colab-df-convert\" onclick=\"convertToInteractive('df-055752a2-cc66-4188-8ce5-a2e02a7d02bd')\"\n",
              "              title=\"Convert this dataframe to an interactive table.\"\n",
              "              style=\"display:none;\">\n",
              "        \n",
              "  <svg xmlns=\"http://www.w3.org/2000/svg\" height=\"24px\"viewBox=\"0 0 24 24\"\n",
              "       width=\"24px\">\n",
              "    <path d=\"M0 0h24v24H0V0z\" fill=\"none\"/>\n",
              "    <path d=\"M18.56 5.44l.94 2.06.94-2.06 2.06-.94-2.06-.94-.94-2.06-.94 2.06-2.06.94zm-11 1L8.5 8.5l.94-2.06 2.06-.94-2.06-.94L8.5 2.5l-.94 2.06-2.06.94zm10 10l.94 2.06.94-2.06 2.06-.94-2.06-.94-.94-2.06-.94 2.06-2.06.94z\"/><path d=\"M17.41 7.96l-1.37-1.37c-.4-.4-.92-.59-1.43-.59-.52 0-1.04.2-1.43.59L10.3 9.45l-7.72 7.72c-.78.78-.78 2.05 0 2.83L4 21.41c.39.39.9.59 1.41.59.51 0 1.02-.2 1.41-.59l7.78-7.78 2.81-2.81c.8-.78.8-2.07 0-2.86zM5.41 20L4 18.59l7.72-7.72 1.47 1.35L5.41 20z\"/>\n",
              "  </svg>\n",
              "      </button>\n",
              "      \n",
              "  <style>\n",
              "    .colab-df-container {\n",
              "      display:flex;\n",
              "      flex-wrap:wrap;\n",
              "      gap: 12px;\n",
              "    }\n",
              "\n",
              "    .colab-df-convert {\n",
              "      background-color: #E8F0FE;\n",
              "      border: none;\n",
              "      border-radius: 50%;\n",
              "      cursor: pointer;\n",
              "      display: none;\n",
              "      fill: #1967D2;\n",
              "      height: 32px;\n",
              "      padding: 0 0 0 0;\n",
              "      width: 32px;\n",
              "    }\n",
              "\n",
              "    .colab-df-convert:hover {\n",
              "      background-color: #E2EBFA;\n",
              "      box-shadow: 0px 1px 2px rgba(60, 64, 67, 0.3), 0px 1px 3px 1px rgba(60, 64, 67, 0.15);\n",
              "      fill: #174EA6;\n",
              "    }\n",
              "\n",
              "    [theme=dark] .colab-df-convert {\n",
              "      background-color: #3B4455;\n",
              "      fill: #D2E3FC;\n",
              "    }\n",
              "\n",
              "    [theme=dark] .colab-df-convert:hover {\n",
              "      background-color: #434B5C;\n",
              "      box-shadow: 0px 1px 3px 1px rgba(0, 0, 0, 0.15);\n",
              "      filter: drop-shadow(0px 1px 2px rgba(0, 0, 0, 0.3));\n",
              "      fill: #FFFFFF;\n",
              "    }\n",
              "  </style>\n",
              "\n",
              "      <script>\n",
              "        const buttonEl =\n",
              "          document.querySelector('#df-055752a2-cc66-4188-8ce5-a2e02a7d02bd button.colab-df-convert');\n",
              "        buttonEl.style.display =\n",
              "          google.colab.kernel.accessAllowed ? 'block' : 'none';\n",
              "\n",
              "        async function convertToInteractive(key) {\n",
              "          const element = document.querySelector('#df-055752a2-cc66-4188-8ce5-a2e02a7d02bd');\n",
              "          const dataTable =\n",
              "            await google.colab.kernel.invokeFunction('convertToInteractive',\n",
              "                                                     [key], {});\n",
              "          if (!dataTable) return;\n",
              "\n",
              "          const docLinkHtml = 'Like what you see? Visit the ' +\n",
              "            '<a target=\"_blank\" href=https://colab.research.google.com/notebooks/data_table.ipynb>data table notebook</a>'\n",
              "            + ' to learn more about interactive tables.';\n",
              "          element.innerHTML = '';\n",
              "          dataTable['output_type'] = 'display_data';\n",
              "          await google.colab.output.renderOutput(dataTable, element);\n",
              "          const docLink = document.createElement('div');\n",
              "          docLink.innerHTML = docLinkHtml;\n",
              "          element.appendChild(docLink);\n",
              "        }\n",
              "      </script>\n",
              "    </div>\n",
              "  </div>\n",
              "  "
            ]
          },
          "metadata": {},
          "execution_count": 124
        }
      ]
    },
    {
      "cell_type": "code",
      "source": [
        "wrong_prediction_df = test_df[test_df['correct']==False].sort_values(by='pred_probs', ascending=False)\n",
        "\n",
        "wrong_prediction_df"
      ],
      "metadata": {
        "colab": {
          "base_uri": "https://localhost:8080/",
          "height": 424
        },
        "id": "emct0qajRxNY",
        "outputId": "2d001b21-2bd5-4d91-8c8c-208a778977ca"
      },
      "execution_count": null,
      "outputs": [
        {
          "output_type": "execute_result",
          "data": {
            "text/plain": [
              "            target                                               text  \\\n",
              "8545       METHODS                                 pretest-posttest .   \n",
              "13874  CONCLUSIONS  symptom outcomes will be assessed and estimate...   \n",
              "18720      RESULTS                       non-diffuse-trickling '' ) .   \n",
              "2388       RESULTS  the primary endpoint is the cumulative three-y...   \n",
              "6027       RESULTS  patients were randomized in a bayesian respons...   \n",
              "...            ...                                                ...   \n",
              "5409    BACKGROUND  the aim of this randomised controlled trial ( ...   \n",
              "26060      RESULTS  two babies entered the randomised trial ; @ re...   \n",
              "24722      RESULTS  for a given symptom cluster , the majority of ...   \n",
              "6117    BACKGROUND  we set out to determine the optimal intraopera...   \n",
              "19049      RESULTS  the neuroimaging data indicated that long-term...   \n",
              "\n",
              "       line_number  total_lines  prediction  pred_probs  correct  \n",
              "8545             1           11  BACKGROUND    0.957610    False  \n",
              "13874            4            6     METHODS    0.950542    False  \n",
              "18720            8           15  BACKGROUND    0.938968    False  \n",
              "2388             4           13     METHODS    0.933401    False  \n",
              "6027             4           15     METHODS    0.931609    False  \n",
              "...            ...          ...         ...         ...      ...  \n",
              "5409             5           12     METHODS    0.248077    False  \n",
              "26060            2            9     METHODS    0.244861    False  \n",
              "24722            3            9  BACKGROUND    0.243961    False  \n",
              "6117             7           16     METHODS    0.243442    False  \n",
              "19049            4           10     METHODS    0.240590    False  \n",
              "\n",
              "[4923 rows x 7 columns]"
            ],
            "text/html": [
              "\n",
              "  <div id=\"df-06d08b6f-d8e8-4878-b3d1-80d5e6859324\">\n",
              "    <div class=\"colab-df-container\">\n",
              "      <div>\n",
              "<style scoped>\n",
              "    .dataframe tbody tr th:only-of-type {\n",
              "        vertical-align: middle;\n",
              "    }\n",
              "\n",
              "    .dataframe tbody tr th {\n",
              "        vertical-align: top;\n",
              "    }\n",
              "\n",
              "    .dataframe thead th {\n",
              "        text-align: right;\n",
              "    }\n",
              "</style>\n",
              "<table border=\"1\" class=\"dataframe\">\n",
              "  <thead>\n",
              "    <tr style=\"text-align: right;\">\n",
              "      <th></th>\n",
              "      <th>target</th>\n",
              "      <th>text</th>\n",
              "      <th>line_number</th>\n",
              "      <th>total_lines</th>\n",
              "      <th>prediction</th>\n",
              "      <th>pred_probs</th>\n",
              "      <th>correct</th>\n",
              "    </tr>\n",
              "  </thead>\n",
              "  <tbody>\n",
              "    <tr>\n",
              "      <th>8545</th>\n",
              "      <td>METHODS</td>\n",
              "      <td>pretest-posttest .</td>\n",
              "      <td>1</td>\n",
              "      <td>11</td>\n",
              "      <td>BACKGROUND</td>\n",
              "      <td>0.957610</td>\n",
              "      <td>False</td>\n",
              "    </tr>\n",
              "    <tr>\n",
              "      <th>13874</th>\n",
              "      <td>CONCLUSIONS</td>\n",
              "      <td>symptom outcomes will be assessed and estimate...</td>\n",
              "      <td>4</td>\n",
              "      <td>6</td>\n",
              "      <td>METHODS</td>\n",
              "      <td>0.950542</td>\n",
              "      <td>False</td>\n",
              "    </tr>\n",
              "    <tr>\n",
              "      <th>18720</th>\n",
              "      <td>RESULTS</td>\n",
              "      <td>non-diffuse-trickling '' ) .</td>\n",
              "      <td>8</td>\n",
              "      <td>15</td>\n",
              "      <td>BACKGROUND</td>\n",
              "      <td>0.938968</td>\n",
              "      <td>False</td>\n",
              "    </tr>\n",
              "    <tr>\n",
              "      <th>2388</th>\n",
              "      <td>RESULTS</td>\n",
              "      <td>the primary endpoint is the cumulative three-y...</td>\n",
              "      <td>4</td>\n",
              "      <td>13</td>\n",
              "      <td>METHODS</td>\n",
              "      <td>0.933401</td>\n",
              "      <td>False</td>\n",
              "    </tr>\n",
              "    <tr>\n",
              "      <th>6027</th>\n",
              "      <td>RESULTS</td>\n",
              "      <td>patients were randomized in a bayesian respons...</td>\n",
              "      <td>4</td>\n",
              "      <td>15</td>\n",
              "      <td>METHODS</td>\n",
              "      <td>0.931609</td>\n",
              "      <td>False</td>\n",
              "    </tr>\n",
              "    <tr>\n",
              "      <th>...</th>\n",
              "      <td>...</td>\n",
              "      <td>...</td>\n",
              "      <td>...</td>\n",
              "      <td>...</td>\n",
              "      <td>...</td>\n",
              "      <td>...</td>\n",
              "      <td>...</td>\n",
              "    </tr>\n",
              "    <tr>\n",
              "      <th>5409</th>\n",
              "      <td>BACKGROUND</td>\n",
              "      <td>the aim of this randomised controlled trial ( ...</td>\n",
              "      <td>5</td>\n",
              "      <td>12</td>\n",
              "      <td>METHODS</td>\n",
              "      <td>0.248077</td>\n",
              "      <td>False</td>\n",
              "    </tr>\n",
              "    <tr>\n",
              "      <th>26060</th>\n",
              "      <td>RESULTS</td>\n",
              "      <td>two babies entered the randomised trial ; @ re...</td>\n",
              "      <td>2</td>\n",
              "      <td>9</td>\n",
              "      <td>METHODS</td>\n",
              "      <td>0.244861</td>\n",
              "      <td>False</td>\n",
              "    </tr>\n",
              "    <tr>\n",
              "      <th>24722</th>\n",
              "      <td>RESULTS</td>\n",
              "      <td>for a given symptom cluster , the majority of ...</td>\n",
              "      <td>3</td>\n",
              "      <td>9</td>\n",
              "      <td>BACKGROUND</td>\n",
              "      <td>0.243961</td>\n",
              "      <td>False</td>\n",
              "    </tr>\n",
              "    <tr>\n",
              "      <th>6117</th>\n",
              "      <td>BACKGROUND</td>\n",
              "      <td>we set out to determine the optimal intraopera...</td>\n",
              "      <td>7</td>\n",
              "      <td>16</td>\n",
              "      <td>METHODS</td>\n",
              "      <td>0.243442</td>\n",
              "      <td>False</td>\n",
              "    </tr>\n",
              "    <tr>\n",
              "      <th>19049</th>\n",
              "      <td>RESULTS</td>\n",
              "      <td>the neuroimaging data indicated that long-term...</td>\n",
              "      <td>4</td>\n",
              "      <td>10</td>\n",
              "      <td>METHODS</td>\n",
              "      <td>0.240590</td>\n",
              "      <td>False</td>\n",
              "    </tr>\n",
              "  </tbody>\n",
              "</table>\n",
              "<p>4923 rows × 7 columns</p>\n",
              "</div>\n",
              "      <button class=\"colab-df-convert\" onclick=\"convertToInteractive('df-06d08b6f-d8e8-4878-b3d1-80d5e6859324')\"\n",
              "              title=\"Convert this dataframe to an interactive table.\"\n",
              "              style=\"display:none;\">\n",
              "        \n",
              "  <svg xmlns=\"http://www.w3.org/2000/svg\" height=\"24px\"viewBox=\"0 0 24 24\"\n",
              "       width=\"24px\">\n",
              "    <path d=\"M0 0h24v24H0V0z\" fill=\"none\"/>\n",
              "    <path d=\"M18.56 5.44l.94 2.06.94-2.06 2.06-.94-2.06-.94-.94-2.06-.94 2.06-2.06.94zm-11 1L8.5 8.5l.94-2.06 2.06-.94-2.06-.94L8.5 2.5l-.94 2.06-2.06.94zm10 10l.94 2.06.94-2.06 2.06-.94-2.06-.94-.94-2.06-.94 2.06-2.06.94z\"/><path d=\"M17.41 7.96l-1.37-1.37c-.4-.4-.92-.59-1.43-.59-.52 0-1.04.2-1.43.59L10.3 9.45l-7.72 7.72c-.78.78-.78 2.05 0 2.83L4 21.41c.39.39.9.59 1.41.59.51 0 1.02-.2 1.41-.59l7.78-7.78 2.81-2.81c.8-.78.8-2.07 0-2.86zM5.41 20L4 18.59l7.72-7.72 1.47 1.35L5.41 20z\"/>\n",
              "  </svg>\n",
              "      </button>\n",
              "      \n",
              "  <style>\n",
              "    .colab-df-container {\n",
              "      display:flex;\n",
              "      flex-wrap:wrap;\n",
              "      gap: 12px;\n",
              "    }\n",
              "\n",
              "    .colab-df-convert {\n",
              "      background-color: #E8F0FE;\n",
              "      border: none;\n",
              "      border-radius: 50%;\n",
              "      cursor: pointer;\n",
              "      display: none;\n",
              "      fill: #1967D2;\n",
              "      height: 32px;\n",
              "      padding: 0 0 0 0;\n",
              "      width: 32px;\n",
              "    }\n",
              "\n",
              "    .colab-df-convert:hover {\n",
              "      background-color: #E2EBFA;\n",
              "      box-shadow: 0px 1px 2px rgba(60, 64, 67, 0.3), 0px 1px 3px 1px rgba(60, 64, 67, 0.15);\n",
              "      fill: #174EA6;\n",
              "    }\n",
              "\n",
              "    [theme=dark] .colab-df-convert {\n",
              "      background-color: #3B4455;\n",
              "      fill: #D2E3FC;\n",
              "    }\n",
              "\n",
              "    [theme=dark] .colab-df-convert:hover {\n",
              "      background-color: #434B5C;\n",
              "      box-shadow: 0px 1px 3px 1px rgba(0, 0, 0, 0.15);\n",
              "      filter: drop-shadow(0px 1px 2px rgba(0, 0, 0, 0.3));\n",
              "      fill: #FFFFFF;\n",
              "    }\n",
              "  </style>\n",
              "\n",
              "      <script>\n",
              "        const buttonEl =\n",
              "          document.querySelector('#df-06d08b6f-d8e8-4878-b3d1-80d5e6859324 button.colab-df-convert');\n",
              "        buttonEl.style.display =\n",
              "          google.colab.kernel.accessAllowed ? 'block' : 'none';\n",
              "\n",
              "        async function convertToInteractive(key) {\n",
              "          const element = document.querySelector('#df-06d08b6f-d8e8-4878-b3d1-80d5e6859324');\n",
              "          const dataTable =\n",
              "            await google.colab.kernel.invokeFunction('convertToInteractive',\n",
              "                                                     [key], {});\n",
              "          if (!dataTable) return;\n",
              "\n",
              "          const docLinkHtml = 'Like what you see? Visit the ' +\n",
              "            '<a target=\"_blank\" href=https://colab.research.google.com/notebooks/data_table.ipynb>data table notebook</a>'\n",
              "            + ' to learn more about interactive tables.';\n",
              "          element.innerHTML = '';\n",
              "          dataTable['output_type'] = 'display_data';\n",
              "          await google.colab.output.renderOutput(dataTable, element);\n",
              "          const docLink = document.createElement('div');\n",
              "          docLink.innerHTML = docLinkHtml;\n",
              "          element.appendChild(docLink);\n",
              "        }\n",
              "      </script>\n",
              "    </div>\n",
              "  </div>\n",
              "  "
            ]
          },
          "metadata": {},
          "execution_count": 126
        }
      ]
    },
    {
      "cell_type": "code",
      "source": [
        "# view top 10\n",
        "wrong_prediction_df.head(10)"
      ],
      "metadata": {
        "colab": {
          "base_uri": "https://localhost:8080/",
          "height": 363
        },
        "id": "7ofOuKTySuhi",
        "outputId": "825fc8df-0388-4f8a-e2fe-23cb36a007f4"
      },
      "execution_count": null,
      "outputs": [
        {
          "output_type": "execute_result",
          "data": {
            "text/plain": [
              "            target                                               text  \\\n",
              "8545       METHODS                                 pretest-posttest .   \n",
              "13874  CONCLUSIONS  symptom outcomes will be assessed and estimate...   \n",
              "18720      RESULTS                       non-diffuse-trickling '' ) .   \n",
              "2388       RESULTS  the primary endpoint is the cumulative three-y...   \n",
              "6027       RESULTS  patients were randomized in a bayesian respons...   \n",
              "22375      RESULTS  patients were randomly assigned to receive eit...   \n",
              "13490      RESULTS  data were analyzed at baseline and longitudina...   \n",
              "15697      RESULTS  family practices were randomly assigned to rec...   \n",
              "4391   CONCLUSIONS  -lsb- netherlands trial register ( http://www....   \n",
              "23630      RESULTS  the primary outcome was to evaluate changes in...   \n",
              "\n",
              "       line_number  total_lines  prediction  pred_probs  correct  \n",
              "8545             1           11  BACKGROUND    0.957610    False  \n",
              "13874            4            6     METHODS    0.950542    False  \n",
              "18720            8           15  BACKGROUND    0.938968    False  \n",
              "2388             4           13     METHODS    0.933401    False  \n",
              "6027             4           15     METHODS    0.931609    False  \n",
              "22375            4           12     METHODS    0.920129    False  \n",
              "13490            4           14     METHODS    0.919602    False  \n",
              "15697            3           11     METHODS    0.919196    False  \n",
              "4391            15           15  BACKGROUND    0.917213    False  \n",
              "23630            6           14     METHODS    0.916262    False  "
            ],
            "text/html": [
              "\n",
              "  <div id=\"df-5badd2bc-5f60-4523-91f7-9cf9e0c975f4\">\n",
              "    <div class=\"colab-df-container\">\n",
              "      <div>\n",
              "<style scoped>\n",
              "    .dataframe tbody tr th:only-of-type {\n",
              "        vertical-align: middle;\n",
              "    }\n",
              "\n",
              "    .dataframe tbody tr th {\n",
              "        vertical-align: top;\n",
              "    }\n",
              "\n",
              "    .dataframe thead th {\n",
              "        text-align: right;\n",
              "    }\n",
              "</style>\n",
              "<table border=\"1\" class=\"dataframe\">\n",
              "  <thead>\n",
              "    <tr style=\"text-align: right;\">\n",
              "      <th></th>\n",
              "      <th>target</th>\n",
              "      <th>text</th>\n",
              "      <th>line_number</th>\n",
              "      <th>total_lines</th>\n",
              "      <th>prediction</th>\n",
              "      <th>pred_probs</th>\n",
              "      <th>correct</th>\n",
              "    </tr>\n",
              "  </thead>\n",
              "  <tbody>\n",
              "    <tr>\n",
              "      <th>8545</th>\n",
              "      <td>METHODS</td>\n",
              "      <td>pretest-posttest .</td>\n",
              "      <td>1</td>\n",
              "      <td>11</td>\n",
              "      <td>BACKGROUND</td>\n",
              "      <td>0.957610</td>\n",
              "      <td>False</td>\n",
              "    </tr>\n",
              "    <tr>\n",
              "      <th>13874</th>\n",
              "      <td>CONCLUSIONS</td>\n",
              "      <td>symptom outcomes will be assessed and estimate...</td>\n",
              "      <td>4</td>\n",
              "      <td>6</td>\n",
              "      <td>METHODS</td>\n",
              "      <td>0.950542</td>\n",
              "      <td>False</td>\n",
              "    </tr>\n",
              "    <tr>\n",
              "      <th>18720</th>\n",
              "      <td>RESULTS</td>\n",
              "      <td>non-diffuse-trickling '' ) .</td>\n",
              "      <td>8</td>\n",
              "      <td>15</td>\n",
              "      <td>BACKGROUND</td>\n",
              "      <td>0.938968</td>\n",
              "      <td>False</td>\n",
              "    </tr>\n",
              "    <tr>\n",
              "      <th>2388</th>\n",
              "      <td>RESULTS</td>\n",
              "      <td>the primary endpoint is the cumulative three-y...</td>\n",
              "      <td>4</td>\n",
              "      <td>13</td>\n",
              "      <td>METHODS</td>\n",
              "      <td>0.933401</td>\n",
              "      <td>False</td>\n",
              "    </tr>\n",
              "    <tr>\n",
              "      <th>6027</th>\n",
              "      <td>RESULTS</td>\n",
              "      <td>patients were randomized in a bayesian respons...</td>\n",
              "      <td>4</td>\n",
              "      <td>15</td>\n",
              "      <td>METHODS</td>\n",
              "      <td>0.931609</td>\n",
              "      <td>False</td>\n",
              "    </tr>\n",
              "    <tr>\n",
              "      <th>22375</th>\n",
              "      <td>RESULTS</td>\n",
              "      <td>patients were randomly assigned to receive eit...</td>\n",
              "      <td>4</td>\n",
              "      <td>12</td>\n",
              "      <td>METHODS</td>\n",
              "      <td>0.920129</td>\n",
              "      <td>False</td>\n",
              "    </tr>\n",
              "    <tr>\n",
              "      <th>13490</th>\n",
              "      <td>RESULTS</td>\n",
              "      <td>data were analyzed at baseline and longitudina...</td>\n",
              "      <td>4</td>\n",
              "      <td>14</td>\n",
              "      <td>METHODS</td>\n",
              "      <td>0.919602</td>\n",
              "      <td>False</td>\n",
              "    </tr>\n",
              "    <tr>\n",
              "      <th>15697</th>\n",
              "      <td>RESULTS</td>\n",
              "      <td>family practices were randomly assigned to rec...</td>\n",
              "      <td>3</td>\n",
              "      <td>11</td>\n",
              "      <td>METHODS</td>\n",
              "      <td>0.919196</td>\n",
              "      <td>False</td>\n",
              "    </tr>\n",
              "    <tr>\n",
              "      <th>4391</th>\n",
              "      <td>CONCLUSIONS</td>\n",
              "      <td>-lsb- netherlands trial register ( http://www....</td>\n",
              "      <td>15</td>\n",
              "      <td>15</td>\n",
              "      <td>BACKGROUND</td>\n",
              "      <td>0.917213</td>\n",
              "      <td>False</td>\n",
              "    </tr>\n",
              "    <tr>\n",
              "      <th>23630</th>\n",
              "      <td>RESULTS</td>\n",
              "      <td>the primary outcome was to evaluate changes in...</td>\n",
              "      <td>6</td>\n",
              "      <td>14</td>\n",
              "      <td>METHODS</td>\n",
              "      <td>0.916262</td>\n",
              "      <td>False</td>\n",
              "    </tr>\n",
              "  </tbody>\n",
              "</table>\n",
              "</div>\n",
              "      <button class=\"colab-df-convert\" onclick=\"convertToInteractive('df-5badd2bc-5f60-4523-91f7-9cf9e0c975f4')\"\n",
              "              title=\"Convert this dataframe to an interactive table.\"\n",
              "              style=\"display:none;\">\n",
              "        \n",
              "  <svg xmlns=\"http://www.w3.org/2000/svg\" height=\"24px\"viewBox=\"0 0 24 24\"\n",
              "       width=\"24px\">\n",
              "    <path d=\"M0 0h24v24H0V0z\" fill=\"none\"/>\n",
              "    <path d=\"M18.56 5.44l.94 2.06.94-2.06 2.06-.94-2.06-.94-.94-2.06-.94 2.06-2.06.94zm-11 1L8.5 8.5l.94-2.06 2.06-.94-2.06-.94L8.5 2.5l-.94 2.06-2.06.94zm10 10l.94 2.06.94-2.06 2.06-.94-2.06-.94-.94-2.06-.94 2.06-2.06.94z\"/><path d=\"M17.41 7.96l-1.37-1.37c-.4-.4-.92-.59-1.43-.59-.52 0-1.04.2-1.43.59L10.3 9.45l-7.72 7.72c-.78.78-.78 2.05 0 2.83L4 21.41c.39.39.9.59 1.41.59.51 0 1.02-.2 1.41-.59l7.78-7.78 2.81-2.81c.8-.78.8-2.07 0-2.86zM5.41 20L4 18.59l7.72-7.72 1.47 1.35L5.41 20z\"/>\n",
              "  </svg>\n",
              "      </button>\n",
              "      \n",
              "  <style>\n",
              "    .colab-df-container {\n",
              "      display:flex;\n",
              "      flex-wrap:wrap;\n",
              "      gap: 12px;\n",
              "    }\n",
              "\n",
              "    .colab-df-convert {\n",
              "      background-color: #E8F0FE;\n",
              "      border: none;\n",
              "      border-radius: 50%;\n",
              "      cursor: pointer;\n",
              "      display: none;\n",
              "      fill: #1967D2;\n",
              "      height: 32px;\n",
              "      padding: 0 0 0 0;\n",
              "      width: 32px;\n",
              "    }\n",
              "\n",
              "    .colab-df-convert:hover {\n",
              "      background-color: #E2EBFA;\n",
              "      box-shadow: 0px 1px 2px rgba(60, 64, 67, 0.3), 0px 1px 3px 1px rgba(60, 64, 67, 0.15);\n",
              "      fill: #174EA6;\n",
              "    }\n",
              "\n",
              "    [theme=dark] .colab-df-convert {\n",
              "      background-color: #3B4455;\n",
              "      fill: #D2E3FC;\n",
              "    }\n",
              "\n",
              "    [theme=dark] .colab-df-convert:hover {\n",
              "      background-color: #434B5C;\n",
              "      box-shadow: 0px 1px 3px 1px rgba(0, 0, 0, 0.15);\n",
              "      filter: drop-shadow(0px 1px 2px rgba(0, 0, 0, 0.3));\n",
              "      fill: #FFFFFF;\n",
              "    }\n",
              "  </style>\n",
              "\n",
              "      <script>\n",
              "        const buttonEl =\n",
              "          document.querySelector('#df-5badd2bc-5f60-4523-91f7-9cf9e0c975f4 button.colab-df-convert');\n",
              "        buttonEl.style.display =\n",
              "          google.colab.kernel.accessAllowed ? 'block' : 'none';\n",
              "\n",
              "        async function convertToInteractive(key) {\n",
              "          const element = document.querySelector('#df-5badd2bc-5f60-4523-91f7-9cf9e0c975f4');\n",
              "          const dataTable =\n",
              "            await google.colab.kernel.invokeFunction('convertToInteractive',\n",
              "                                                     [key], {});\n",
              "          if (!dataTable) return;\n",
              "\n",
              "          const docLinkHtml = 'Like what you see? Visit the ' +\n",
              "            '<a target=\"_blank\" href=https://colab.research.google.com/notebooks/data_table.ipynb>data table notebook</a>'\n",
              "            + ' to learn more about interactive tables.';\n",
              "          element.innerHTML = '';\n",
              "          dataTable['output_type'] = 'display_data';\n",
              "          await google.colab.output.renderOutput(dataTable, element);\n",
              "          const docLink = document.createElement('div');\n",
              "          docLink.innerHTML = docLinkHtml;\n",
              "          element.appendChild(docLink);\n",
              "        }\n",
              "      </script>\n",
              "    </div>\n",
              "  </div>\n",
              "  "
            ]
          },
          "metadata": {},
          "execution_count": 127
        }
      ]
    },
    {
      "cell_type": "markdown",
      "source": [
        "What do you notice about the wrong predictions? Does the model make silly mistakes? Or are some of the labels incorrect/ambiguous (e.g a line in an abstract could potentially be labelled `OBJECTIVE` or `BACKGROUND` and make sense).\n",
        "\n",
        "A next step here would be if there are a fair few samples with inconsistent labels, you could go through your training dataset, update the labels and then retrain a model. The process of using a model to help improve/investigate your dataset's labels is often referred to as **active learning**."
      ],
      "metadata": {
        "id": "rTtLb5d4UcIz"
      }
    },
    {
      "cell_type": "markdown",
      "source": [
        "## Make Example Prediction\n",
        "\n",
        "So far we've tested our model and made prediction on PubMed20K RCT dataset but now let's try our best performing model on a random abtract which is not formatted from PubMed website.\n",
        "\n"
      ],
      "metadata": {
        "id": "BT7DNjVUXJ2D"
      }
    },
    {
      "cell_type": "code",
      "source": [
        "# Download and open example abstracts\n",
        "!wget https://raw.githubusercontent.com/mrdbourke/tensorflow-deep-learning/main/extras/skimlit_example_abstracts.json\n",
        "\n",
        "import json\n",
        "\n",
        "with open('skimlit_example_abstracts.json','r') as f:\n",
        "  example_abstracts = json.load(f)\n",
        "\n",
        "example_abstracts"
      ],
      "metadata": {
        "colab": {
          "base_uri": "https://localhost:8080/"
        },
        "id": "UXo9luFFZn27",
        "outputId": "282cfead-acd1-4196-c458-3d583f0b5ad3"
      },
      "execution_count": 16,
      "outputs": [
        {
          "output_type": "stream",
          "name": "stdout",
          "text": [
            "--2023-03-15 02:20:59--  https://raw.githubusercontent.com/mrdbourke/tensorflow-deep-learning/main/extras/skimlit_example_abstracts.json\n",
            "Resolving raw.githubusercontent.com (raw.githubusercontent.com)... 185.199.108.133, 185.199.109.133, 185.199.110.133, ...\n",
            "Connecting to raw.githubusercontent.com (raw.githubusercontent.com)|185.199.108.133|:443... connected.\n",
            "HTTP request sent, awaiting response... 200 OK\n",
            "Length: 6737 (6.6K) [text/plain]\n",
            "Saving to: ‘skimlit_example_abstracts.json’\n",
            "\n",
            "\r          skimlit_e   0%[                    ]       0  --.-KB/s               \rskimlit_example_abs 100%[===================>]   6.58K  --.-KB/s    in 0s      \n",
            "\n",
            "2023-03-15 02:20:59 (75.5 MB/s) - ‘skimlit_example_abstracts.json’ saved [6737/6737]\n",
            "\n"
          ]
        },
        {
          "output_type": "execute_result",
          "data": {
            "text/plain": [
              "[{'abstract': 'This RCT examined the efficacy of a manualized social intervention for children with HFASDs. Participants were randomly assigned to treatment or wait-list conditions. Treatment included instruction and therapeutic activities targeting social skills, face-emotion recognition, interest expansion, and interpretation of non-literal language. A response-cost program was applied to reduce problem behaviors and foster skills acquisition. Significant treatment effects were found for five of seven primary outcome measures (parent ratings and direct child measures). Secondary measures based on staff ratings (treatment group only) corroborated gains reported by parents. High levels of parent, child and staff satisfaction were reported, along with high levels of treatment fidelity. Standardized effect size estimates were primarily in the medium and large ranges and favored the treatment group.',\n",
              "  'source': 'https://pubmed.ncbi.nlm.nih.gov/20232240/',\n",
              "  'details': 'RCT of a manualized social treatment for high-functioning autism spectrum disorders'},\n",
              " {'abstract': \"Postpartum depression (PPD) is the most prevalent mood disorder associated with childbirth. No single cause of PPD has been identified, however the increased risk of nutritional deficiencies incurred through the high nutritional requirements of pregnancy may play a role in the pathology of depressive symptoms. Three nutritional interventions have drawn particular interest as possible non-invasive and cost-effective prevention and/or treatment strategies for PPD; omega-3 (n-3) long chain polyunsaturated fatty acids (LCPUFA), vitamin D and overall diet. We searched for meta-analyses of randomised controlled trials (RCT's) of nutritional interventions during the perinatal period with PPD as an outcome, and checked for any trials published subsequently to the meta-analyses. Fish oil: Eleven RCT's of prenatal fish oil supplementation RCT's show null and positive effects on PPD symptoms. Vitamin D: no relevant RCT's were identified, however seven observational studies of maternal vitamin D levels with PPD outcomes showed inconsistent associations. Diet: Two Australian RCT's with dietary advice interventions in pregnancy had a positive and null result on PPD. With the exception of fish oil, few RCT's with nutritional interventions during pregnancy assess PPD. Further research is needed to determine whether nutritional intervention strategies during pregnancy can protect against symptoms of PPD. Given the prevalence of PPD and ease of administering PPD measures, we recommend future prenatal nutritional RCT's include PPD as an outcome.\",\n",
              "  'source': 'https://pubmed.ncbi.nlm.nih.gov/28012571/',\n",
              "  'details': 'Formatting removed (can be used to compare model to actual example)'},\n",
              " {'abstract': 'Mental illness, including depression, anxiety and bipolar disorder, accounts for a significant proportion of global disability and poses a substantial social, economic and heath burden. Treatment is presently dominated by pharmacotherapy, such as antidepressants, and psychotherapy, such as cognitive behavioural therapy; however, such treatments avert less than half of the disease burden, suggesting that additional strategies are needed to prevent and treat mental disorders. There are now consistent mechanistic, observational and interventional data to suggest diet quality may be a modifiable risk factor for mental illness. This review provides an overview of the nutritional psychiatry field. It includes a discussion of the neurobiological mechanisms likely modulated by diet, the use of dietary and nutraceutical interventions in mental disorders, and recommendations for further research. Potential biological pathways related to mental disorders include inflammation, oxidative stress, the gut microbiome, epigenetic modifications and neuroplasticity. Consistent epidemiological evidence, particularly for depression, suggests an association between measures of diet quality and mental health, across multiple populations and age groups; these do not appear to be explained by other demographic, lifestyle factors or reverse causality. Our recently published intervention trial provides preliminary clinical evidence that dietary interventions in clinically diagnosed populations are feasible and can provide significant clinical benefit. Furthermore, nutraceuticals including n-3 fatty acids, folate, S-adenosylmethionine, N-acetyl cysteine and probiotics, among others, are promising avenues for future research. Continued research is now required to investigate the efficacy of intervention studies in large cohorts and within clinically relevant populations, particularly in patients with schizophrenia, bipolar and anxiety disorders.',\n",
              "  'source': 'https://pubmed.ncbi.nlm.nih.gov/28942748/',\n",
              "  'details': 'Effect of nutrition on mental health'},\n",
              " {'abstract': \"Hepatitis C virus (HCV) and alcoholic liver disease (ALD), either alone or in combination, count for more than two thirds of all liver diseases in the Western world. There is no safe level of drinking in HCV-infected patients and the most effective goal for these patients is total abstinence. Baclofen, a GABA(B) receptor agonist, represents a promising pharmacotherapy for alcohol dependence (AD). Previously, we performed a randomized clinical trial (RCT), which demonstrated the safety and efficacy of baclofen in patients affected by AD and cirrhosis. The goal of this post-hoc analysis was to explore baclofen's effect in a subgroup of alcohol-dependent HCV-infected cirrhotic patients. Any patient with HCV infection was selected for this analysis. Among the 84 subjects randomized in the main trial, 24 alcohol-dependent cirrhotic patients had a HCV infection; 12 received baclofen 10mg t.i.d. and 12 received placebo for 12-weeks. With respect to the placebo group (3/12, 25.0%), a significantly higher number of patients who achieved and maintained total alcohol abstinence was found in the baclofen group (10/12, 83.3%; p=0.0123). Furthermore, in the baclofen group, compared to placebo, there was a significantly higher increase in albumin values from baseline (p=0.0132) and a trend toward a significant reduction in INR levels from baseline (p=0.0716). In conclusion, baclofen was safe and significantly more effective than placebo in promoting alcohol abstinence, and improving some Liver Function Tests (LFTs) (i.e. albumin, INR) in alcohol-dependent HCV-infected cirrhotic patients. Baclofen may represent a clinically relevant alcohol pharmacotherapy for these patients.\",\n",
              "  'source': 'https://pubmed.ncbi.nlm.nih.gov/22244707/',\n",
              "  'details': 'Baclofen promotes alcohol abstinence in alcohol dependent cirrhotic patients with hepatitis C virus (HCV) infection'}]"
            ]
          },
          "metadata": {},
          "execution_count": 16
        }
      ]
    },
    {
      "cell_type": "code",
      "source": [
        "## see what our abstracts look like\n",
        "abstracts = pd.DataFrame(example_abstracts)\n",
        "abstracts"
      ],
      "metadata": {
        "colab": {
          "base_uri": "https://localhost:8080/",
          "height": 175
        },
        "id": "0z5gnKnsaB-n",
        "outputId": "1370065b-3150-4c0f-eef8-42e502d17c08"
      },
      "execution_count": 17,
      "outputs": [
        {
          "output_type": "execute_result",
          "data": {
            "text/plain": [
              "                                            abstract  \\\n",
              "0  This RCT examined the efficacy of a manualized...   \n",
              "1  Postpartum depression (PPD) is the most preval...   \n",
              "2  Mental illness, including depression, anxiety ...   \n",
              "3  Hepatitis C virus (HCV) and alcoholic liver di...   \n",
              "\n",
              "                                      source  \\\n",
              "0  https://pubmed.ncbi.nlm.nih.gov/20232240/   \n",
              "1  https://pubmed.ncbi.nlm.nih.gov/28012571/   \n",
              "2  https://pubmed.ncbi.nlm.nih.gov/28942748/   \n",
              "3  https://pubmed.ncbi.nlm.nih.gov/22244707/   \n",
              "\n",
              "                                             details  \n",
              "0  RCT of a manualized social treatment for high-...  \n",
              "1  Formatting removed (can be used to compare mod...  \n",
              "2               Effect of nutrition on mental health  \n",
              "3  Baclofen promotes alcohol abstinence in alcoho...  "
            ],
            "text/html": [
              "\n",
              "  <div id=\"df-daf6c246-ace0-4be9-aecf-7223c2f51e3e\">\n",
              "    <div class=\"colab-df-container\">\n",
              "      <div>\n",
              "<style scoped>\n",
              "    .dataframe tbody tr th:only-of-type {\n",
              "        vertical-align: middle;\n",
              "    }\n",
              "\n",
              "    .dataframe tbody tr th {\n",
              "        vertical-align: top;\n",
              "    }\n",
              "\n",
              "    .dataframe thead th {\n",
              "        text-align: right;\n",
              "    }\n",
              "</style>\n",
              "<table border=\"1\" class=\"dataframe\">\n",
              "  <thead>\n",
              "    <tr style=\"text-align: right;\">\n",
              "      <th></th>\n",
              "      <th>abstract</th>\n",
              "      <th>source</th>\n",
              "      <th>details</th>\n",
              "    </tr>\n",
              "  </thead>\n",
              "  <tbody>\n",
              "    <tr>\n",
              "      <th>0</th>\n",
              "      <td>This RCT examined the efficacy of a manualized...</td>\n",
              "      <td>https://pubmed.ncbi.nlm.nih.gov/20232240/</td>\n",
              "      <td>RCT of a manualized social treatment for high-...</td>\n",
              "    </tr>\n",
              "    <tr>\n",
              "      <th>1</th>\n",
              "      <td>Postpartum depression (PPD) is the most preval...</td>\n",
              "      <td>https://pubmed.ncbi.nlm.nih.gov/28012571/</td>\n",
              "      <td>Formatting removed (can be used to compare mod...</td>\n",
              "    </tr>\n",
              "    <tr>\n",
              "      <th>2</th>\n",
              "      <td>Mental illness, including depression, anxiety ...</td>\n",
              "      <td>https://pubmed.ncbi.nlm.nih.gov/28942748/</td>\n",
              "      <td>Effect of nutrition on mental health</td>\n",
              "    </tr>\n",
              "    <tr>\n",
              "      <th>3</th>\n",
              "      <td>Hepatitis C virus (HCV) and alcoholic liver di...</td>\n",
              "      <td>https://pubmed.ncbi.nlm.nih.gov/22244707/</td>\n",
              "      <td>Baclofen promotes alcohol abstinence in alcoho...</td>\n",
              "    </tr>\n",
              "  </tbody>\n",
              "</table>\n",
              "</div>\n",
              "      <button class=\"colab-df-convert\" onclick=\"convertToInteractive('df-daf6c246-ace0-4be9-aecf-7223c2f51e3e')\"\n",
              "              title=\"Convert this dataframe to an interactive table.\"\n",
              "              style=\"display:none;\">\n",
              "        \n",
              "  <svg xmlns=\"http://www.w3.org/2000/svg\" height=\"24px\"viewBox=\"0 0 24 24\"\n",
              "       width=\"24px\">\n",
              "    <path d=\"M0 0h24v24H0V0z\" fill=\"none\"/>\n",
              "    <path d=\"M18.56 5.44l.94 2.06.94-2.06 2.06-.94-2.06-.94-.94-2.06-.94 2.06-2.06.94zm-11 1L8.5 8.5l.94-2.06 2.06-.94-2.06-.94L8.5 2.5l-.94 2.06-2.06.94zm10 10l.94 2.06.94-2.06 2.06-.94-2.06-.94-.94-2.06-.94 2.06-2.06.94z\"/><path d=\"M17.41 7.96l-1.37-1.37c-.4-.4-.92-.59-1.43-.59-.52 0-1.04.2-1.43.59L10.3 9.45l-7.72 7.72c-.78.78-.78 2.05 0 2.83L4 21.41c.39.39.9.59 1.41.59.51 0 1.02-.2 1.41-.59l7.78-7.78 2.81-2.81c.8-.78.8-2.07 0-2.86zM5.41 20L4 18.59l7.72-7.72 1.47 1.35L5.41 20z\"/>\n",
              "  </svg>\n",
              "      </button>\n",
              "      \n",
              "  <style>\n",
              "    .colab-df-container {\n",
              "      display:flex;\n",
              "      flex-wrap:wrap;\n",
              "      gap: 12px;\n",
              "    }\n",
              "\n",
              "    .colab-df-convert {\n",
              "      background-color: #E8F0FE;\n",
              "      border: none;\n",
              "      border-radius: 50%;\n",
              "      cursor: pointer;\n",
              "      display: none;\n",
              "      fill: #1967D2;\n",
              "      height: 32px;\n",
              "      padding: 0 0 0 0;\n",
              "      width: 32px;\n",
              "    }\n",
              "\n",
              "    .colab-df-convert:hover {\n",
              "      background-color: #E2EBFA;\n",
              "      box-shadow: 0px 1px 2px rgba(60, 64, 67, 0.3), 0px 1px 3px 1px rgba(60, 64, 67, 0.15);\n",
              "      fill: #174EA6;\n",
              "    }\n",
              "\n",
              "    [theme=dark] .colab-df-convert {\n",
              "      background-color: #3B4455;\n",
              "      fill: #D2E3FC;\n",
              "    }\n",
              "\n",
              "    [theme=dark] .colab-df-convert:hover {\n",
              "      background-color: #434B5C;\n",
              "      box-shadow: 0px 1px 3px 1px rgba(0, 0, 0, 0.15);\n",
              "      filter: drop-shadow(0px 1px 2px rgba(0, 0, 0, 0.3));\n",
              "      fill: #FFFFFF;\n",
              "    }\n",
              "  </style>\n",
              "\n",
              "      <script>\n",
              "        const buttonEl =\n",
              "          document.querySelector('#df-daf6c246-ace0-4be9-aecf-7223c2f51e3e button.colab-df-convert');\n",
              "        buttonEl.style.display =\n",
              "          google.colab.kernel.accessAllowed ? 'block' : 'none';\n",
              "\n",
              "        async function convertToInteractive(key) {\n",
              "          const element = document.querySelector('#df-daf6c246-ace0-4be9-aecf-7223c2f51e3e');\n",
              "          const dataTable =\n",
              "            await google.colab.kernel.invokeFunction('convertToInteractive',\n",
              "                                                     [key], {});\n",
              "          if (!dataTable) return;\n",
              "\n",
              "          const docLinkHtml = 'Like what you see? Visit the ' +\n",
              "            '<a target=\"_blank\" href=https://colab.research.google.com/notebooks/data_table.ipynb>data table notebook</a>'\n",
              "            + ' to learn more about interactive tables.';\n",
              "          element.innerHTML = '';\n",
              "          dataTable['output_type'] = 'display_data';\n",
              "          await google.colab.output.renderOutput(dataTable, element);\n",
              "          const docLink = document.createElement('div');\n",
              "          docLink.innerHTML = docLinkHtml;\n",
              "          element.appendChild(docLink);\n",
              "        }\n",
              "      </script>\n",
              "    </div>\n",
              "  </div>\n",
              "  "
            ]
          },
          "metadata": {},
          "execution_count": 17
        }
      ]
    },
    {
      "cell_type": "markdown",
      "source": [
        "First we need to turn the abstract into sentences, and for this we will be using [spaCy's](https://spacy.io/)(a very powerful NLP library) `sentencizer` class. Which is an easy to use sentence splitter based on spacy's English language model."
      ],
      "metadata": {
        "id": "RlgaJX2aaK3P"
      }
    },
    {
      "cell_type": "code",
      "source": [
        "from spacy.lang.en import English\n",
        "nlp = English() # Setup english sentence parser\n",
        "\n",
        "#sentencizer = nlp.create_pipe('sentencizer') # create sentence splitting pipeline object\n",
        "nlp.add_pipe('sentencizer') # add sentence splitting pipeline object to sentence parser\n",
        "doc = nlp(example_abstracts[0]['abstract'])\n",
        "abstract_lines = [str(sent) for sent in list(doc.sents)]\n",
        "abstract_lines"
      ],
      "metadata": {
        "colab": {
          "base_uri": "https://localhost:8080/"
        },
        "id": "kth8KCb-apu8",
        "outputId": "d790ec57-d12a-4c0c-87bf-4eb9523cc2b4"
      },
      "execution_count": 20,
      "outputs": [
        {
          "output_type": "execute_result",
          "data": {
            "text/plain": [
              "['This RCT examined the efficacy of a manualized social intervention for children with HFASDs.',\n",
              " 'Participants were randomly assigned to treatment or wait-list conditions.',\n",
              " 'Treatment included instruction and therapeutic activities targeting social skills, face-emotion recognition, interest expansion, and interpretation of non-literal language.',\n",
              " 'A response-cost program was applied to reduce problem behaviors and foster skills acquisition.',\n",
              " 'Significant treatment effects were found for five of seven primary outcome measures (parent ratings and direct child measures).',\n",
              " 'Secondary measures based on staff ratings (treatment group only) corroborated gains reported by parents.',\n",
              " 'High levels of parent, child and staff satisfaction were reported, along with high levels of treatment fidelity.',\n",
              " 'Standardized effect size estimates were primarily in the medium and large ranges and favored the treatment group.']"
            ]
          },
          "metadata": {},
          "execution_count": 20
        }
      ]
    },
    {
      "cell_type": "markdown",
      "source": [
        "Beautiful ! It looks like spaCy has split the sentences in the abstract correctly. However, it should be noted, there may be more complex abstracts which don't get split perfectly into separate sentences, in such cases we have to make custom splitting techniques would need to investigate.\n",
        "\n",
        "Now let's create the list of dictionary of all the abstracts into sentences which have the details like `line_number`, `total_lines`, `text`."
      ],
      "metadata": {
        "id": "gYC092BPb9CM"
      }
    },
    {
      "cell_type": "code",
      "source": [
        "# get the total number of lines\n",
        "total_lines_in_sample = len(abstract_lines)\n",
        "\n",
        "# go through each line in abstract and create a list of dictionaries containing features of each line\n",
        "sample_lines = []\n",
        "for i,line in enumerate(abstract_lines):\n",
        "  sample_dict={}\n",
        "  sample_dict['line_number'] = i\n",
        "  sample_dict['text'] = str(line)\n",
        "  sample_dict['total_lines'] = total_lines_in_sample-1\n",
        "  sample_lines.append(sample_dict)\n",
        "\n",
        "sample_lines"
      ],
      "metadata": {
        "colab": {
          "base_uri": "https://localhost:8080/"
        },
        "id": "zUZNe2iuHbx1",
        "outputId": "0891c29e-133a-4744-92c0-90f0c3de3a9a"
      },
      "execution_count": 21,
      "outputs": [
        {
          "output_type": "execute_result",
          "data": {
            "text/plain": [
              "[{'line_number': 0,\n",
              "  'text': 'This RCT examined the efficacy of a manualized social intervention for children with HFASDs.',\n",
              "  'total_lines': 7},\n",
              " {'line_number': 1,\n",
              "  'text': 'Participants were randomly assigned to treatment or wait-list conditions.',\n",
              "  'total_lines': 7},\n",
              " {'line_number': 2,\n",
              "  'text': 'Treatment included instruction and therapeutic activities targeting social skills, face-emotion recognition, interest expansion, and interpretation of non-literal language.',\n",
              "  'total_lines': 7},\n",
              " {'line_number': 3,\n",
              "  'text': 'A response-cost program was applied to reduce problem behaviors and foster skills acquisition.',\n",
              "  'total_lines': 7},\n",
              " {'line_number': 4,\n",
              "  'text': 'Significant treatment effects were found for five of seven primary outcome measures (parent ratings and direct child measures).',\n",
              "  'total_lines': 7},\n",
              " {'line_number': 5,\n",
              "  'text': 'Secondary measures based on staff ratings (treatment group only) corroborated gains reported by parents.',\n",
              "  'total_lines': 7},\n",
              " {'line_number': 6,\n",
              "  'text': 'High levels of parent, child and staff satisfaction were reported, along with high levels of treatment fidelity.',\n",
              "  'total_lines': 7},\n",
              " {'line_number': 7,\n",
              "  'text': 'Standardized effect size estimates were primarily in the medium and large ranges and favored the treatment group.',\n",
              "  'total_lines': 7}]"
            ]
          },
          "metadata": {},
          "execution_count": 21
        }
      ]
    },
    {
      "cell_type": "markdown",
      "source": [
        "Now we can create one_hot encoded version of `line_number` and `total_lines` as we did while training the model using tensorflow"
      ],
      "metadata": {
        "id": "iDo36WiAIfI0"
      }
    },
    {
      "cell_type": "code",
      "source": [
        "test_abstract_line_numbers = [line['line_number'] for line in sample_lines]\n",
        "test_abstract_line_numbers_one_hot = tf.one_hot(test_abstract_line_numbers, depth=15) # 15 because we have to keep the shape same as during training\n",
        "\n",
        "test_abstract_total_lines = [line['total_lines'] for line in sample_lines]\n",
        "test_abstract_total_lines_one_hot = tf.one_hot(test_abstract_total_lines, depth=20)\n",
        "\n",
        "test_abstract_line_numbers_one_hot, test_abstract_total_lines_one_hot"
      ],
      "metadata": {
        "colab": {
          "base_uri": "https://localhost:8080/"
        },
        "id": "sFRPW8ycJlVn",
        "outputId": "78d17eeb-d1c1-4365-cdf6-2eb952d1e3a7"
      },
      "execution_count": 23,
      "outputs": [
        {
          "output_type": "execute_result",
          "data": {
            "text/plain": [
              "(<tf.Tensor: shape=(8, 15), dtype=float32, numpy=\n",
              " array([[1., 0., 0., 0., 0., 0., 0., 0., 0., 0., 0., 0., 0., 0., 0.],\n",
              "        [0., 1., 0., 0., 0., 0., 0., 0., 0., 0., 0., 0., 0., 0., 0.],\n",
              "        [0., 0., 1., 0., 0., 0., 0., 0., 0., 0., 0., 0., 0., 0., 0.],\n",
              "        [0., 0., 0., 1., 0., 0., 0., 0., 0., 0., 0., 0., 0., 0., 0.],\n",
              "        [0., 0., 0., 0., 1., 0., 0., 0., 0., 0., 0., 0., 0., 0., 0.],\n",
              "        [0., 0., 0., 0., 0., 1., 0., 0., 0., 0., 0., 0., 0., 0., 0.],\n",
              "        [0., 0., 0., 0., 0., 0., 1., 0., 0., 0., 0., 0., 0., 0., 0.],\n",
              "        [0., 0., 0., 0., 0., 0., 0., 1., 0., 0., 0., 0., 0., 0., 0.]],\n",
              "       dtype=float32)>, <tf.Tensor: shape=(8, 20), dtype=float32, numpy=\n",
              " array([[0., 0., 0., 0., 0., 0., 0., 1., 0., 0., 0., 0., 0., 0., 0., 0.,\n",
              "         0., 0., 0., 0.],\n",
              "        [0., 0., 0., 0., 0., 0., 0., 1., 0., 0., 0., 0., 0., 0., 0., 0.,\n",
              "         0., 0., 0., 0.],\n",
              "        [0., 0., 0., 0., 0., 0., 0., 1., 0., 0., 0., 0., 0., 0., 0., 0.,\n",
              "         0., 0., 0., 0.],\n",
              "        [0., 0., 0., 0., 0., 0., 0., 1., 0., 0., 0., 0., 0., 0., 0., 0.,\n",
              "         0., 0., 0., 0.],\n",
              "        [0., 0., 0., 0., 0., 0., 0., 1., 0., 0., 0., 0., 0., 0., 0., 0.,\n",
              "         0., 0., 0., 0.],\n",
              "        [0., 0., 0., 0., 0., 0., 0., 1., 0., 0., 0., 0., 0., 0., 0., 0.,\n",
              "         0., 0., 0., 0.],\n",
              "        [0., 0., 0., 0., 0., 0., 0., 1., 0., 0., 0., 0., 0., 0., 0., 0.,\n",
              "         0., 0., 0., 0.],\n",
              "        [0., 0., 0., 0., 0., 0., 0., 1., 0., 0., 0., 0., 0., 0., 0., 0.,\n",
              "         0., 0., 0., 0.]], dtype=float32)>)"
            ]
          },
          "metadata": {},
          "execution_count": 23
        }
      ]
    },
    {
      "cell_type": "markdown",
      "source": [
        "Also for making the prediction we have to create a character level input for the sentences, which we can do using `split_chars()` function that we created earlier."
      ],
      "metadata": {
        "id": "YRLsKJnrK0G0"
      }
    },
    {
      "cell_type": "code",
      "source": [
        "abstract_chars = [split_chars(sentence) for sentence in abstract_lines]\n",
        "abstract_chars"
      ],
      "metadata": {
        "colab": {
          "base_uri": "https://localhost:8080/"
        },
        "id": "SDrK33OQLlc5",
        "outputId": "b39e7002-4433-4d38-b921-2a558a9878d2"
      },
      "execution_count": 25,
      "outputs": [
        {
          "output_type": "execute_result",
          "data": {
            "text/plain": [
              "['T h i s   R C T   e x a m i n e d   t h e   e f f i c a c y   o f   a   m a n u a l i z e d   s o c i a l   i n t e r v e n t i o n   f o r   c h i l d r e n   w i t h   H F A S D s .',\n",
              " 'P a r t i c i p a n t s   w e r e   r a n d o m l y   a s s i g n e d   t o   t r e a t m e n t   o r   w a i t - l i s t   c o n d i t i o n s .',\n",
              " 'T r e a t m e n t   i n c l u d e d   i n s t r u c t i o n   a n d   t h e r a p e u t i c   a c t i v i t i e s   t a r g e t i n g   s o c i a l   s k i l l s ,   f a c e - e m o t i o n   r e c o g n i t i o n ,   i n t e r e s t   e x p a n s i o n ,   a n d   i n t e r p r e t a t i o n   o f   n o n - l i t e r a l   l a n g u a g e .',\n",
              " 'A   r e s p o n s e - c o s t   p r o g r a m   w a s   a p p l i e d   t o   r e d u c e   p r o b l e m   b e h a v i o r s   a n d   f o s t e r   s k i l l s   a c q u i s i t i o n .',\n",
              " 'S i g n i f i c a n t   t r e a t m e n t   e f f e c t s   w e r e   f o u n d   f o r   f i v e   o f   s e v e n   p r i m a r y   o u t c o m e   m e a s u r e s   ( p a r e n t   r a t i n g s   a n d   d i r e c t   c h i l d   m e a s u r e s ) .',\n",
              " 'S e c o n d a r y   m e a s u r e s   b a s e d   o n   s t a f f   r a t i n g s   ( t r e a t m e n t   g r o u p   o n l y )   c o r r o b o r a t e d   g a i n s   r e p o r t e d   b y   p a r e n t s .',\n",
              " 'H i g h   l e v e l s   o f   p a r e n t ,   c h i l d   a n d   s t a f f   s a t i s f a c t i o n   w e r e   r e p o r t e d ,   a l o n g   w i t h   h i g h   l e v e l s   o f   t r e a t m e n t   f i d e l i t y .',\n",
              " 'S t a n d a r d i z e d   e f f e c t   s i z e   e s t i m a t e s   w e r e   p r i m a r i l y   i n   t h e   m e d i u m   a n d   l a r g e   r a n g e s   a n d   f a v o r e d   t h e   t r e a t m e n t   g r o u p .']"
            ]
          },
          "metadata": {},
          "execution_count": 25
        }
      ]
    },
    {
      "cell_type": "markdown",
      "source": [
        "By now we are done with preprocessing the random data took from RCT abstract into all of the same features our model was trained on, we can pass these features to our model and make sequence label prediction."
      ],
      "metadata": {
        "id": "ChJF_9m6L2lc"
      }
    },
    {
      "cell_type": "code",
      "source": [
        "%%time\n",
        "\n",
        "test_abstract_pred_probs = loaded_model.predict(x=(test_abstract_line_numbers_one_hot,\n",
        "                                                   test_abstract_total_lines_one_hot,\n",
        "                                                   tf.constant(abstract_lines),\n",
        "                                                   tf.constant(abstract_chars)))\n",
        "\n",
        "test_abstract_pred_probs"
      ],
      "metadata": {
        "colab": {
          "base_uri": "https://localhost:8080/"
        },
        "id": "SL6uEbsxMKM5",
        "outputId": "2b0351bb-66d0-4ec2-938b-908965f8a193"
      },
      "execution_count": 26,
      "outputs": [
        {
          "output_type": "stream",
          "name": "stdout",
          "text": [
            "1/1 [==============================] - 8s 8s/step\n",
            "CPU times: user 3.46 s, sys: 528 ms, total: 3.99 s\n",
            "Wall time: 8 s\n"
          ]
        },
        {
          "output_type": "execute_result",
          "data": {
            "text/plain": [
              "array([[0.3456846 , 0.09908222, 0.03764057, 0.46792185, 0.0496707 ],\n",
              "       [0.06982283, 0.03243677, 0.764544  , 0.08148947, 0.05170694],\n",
              "       [0.10238814, 0.04076983, 0.6751919 , 0.11469958, 0.06695051],\n",
              "       [0.09722325, 0.1368386 , 0.5528428 , 0.06933847, 0.14375688],\n",
              "       [0.04441477, 0.10362911, 0.50050443, 0.04389993, 0.3075518 ],\n",
              "       [0.03594806, 0.10035743, 0.58598465, 0.04114232, 0.2365676 ],\n",
              "       [0.02798825, 0.237341  , 0.11322337, 0.02331263, 0.59813476],\n",
              "       [0.01431818, 0.15276372, 0.26591775, 0.02608281, 0.5409176 ]],\n",
              "      dtype=float32)"
            ]
          },
          "metadata": {},
          "execution_count": 26
        }
      ]
    },
    {
      "cell_type": "code",
      "source": [
        "test_abstract_preds = tf.argmax(test_abstract_pred_probs, axis=1)\n",
        "test_abstract_preds"
      ],
      "metadata": {
        "colab": {
          "base_uri": "https://localhost:8080/"
        },
        "id": "gn3zf-5wMtUu",
        "outputId": "e6091f0b-96a5-44ec-cfb4-965faee49500"
      },
      "execution_count": 27,
      "outputs": [
        {
          "output_type": "execute_result",
          "data": {
            "text/plain": [
              "<tf.Tensor: shape=(8,), dtype=int64, numpy=array([3, 2, 2, 2, 2, 2, 4, 4])>"
            ]
          },
          "metadata": {},
          "execution_count": 27
        }
      ]
    },
    {
      "cell_type": "code",
      "source": [
        "# Turn prediction class integers into labels\n",
        "test_abstract_pred_classes = [label_encoder.classes_[i] for i in test_abstract_preds]\n",
        "test_abstract_pred_classes"
      ],
      "metadata": {
        "colab": {
          "base_uri": "https://localhost:8080/"
        },
        "id": "j5KZMVfcM-6W",
        "outputId": "73b67abc-43ec-43a0-9298-56be61c4ecde"
      },
      "execution_count": 28,
      "outputs": [
        {
          "output_type": "execute_result",
          "data": {
            "text/plain": [
              "['OBJECTIVE',\n",
              " 'METHODS',\n",
              " 'METHODS',\n",
              " 'METHODS',\n",
              " 'METHODS',\n",
              " 'METHODS',\n",
              " 'RESULTS',\n",
              " 'RESULTS']"
            ]
          },
          "metadata": {},
          "execution_count": 28
        }
      ]
    },
    {
      "cell_type": "code",
      "source": [
        "# Visualize abstract lines and predicted sequence labels\n",
        "for i, line in enumerate(abstract_lines):\n",
        "  print(f'{test_abstract_pred_classes[i]}: {line}')"
      ],
      "metadata": {
        "colab": {
          "base_uri": "https://localhost:8080/"
        },
        "id": "mkBuB97ZNNcg",
        "outputId": "9ccb6038-dc37-4efd-a9dc-d65eec78ddfc"
      },
      "execution_count": 29,
      "outputs": [
        {
          "output_type": "stream",
          "name": "stdout",
          "text": [
            "OBJECTIVE: This RCT examined the efficacy of a manualized social intervention for children with HFASDs.\n",
            "METHODS: Participants were randomly assigned to treatment or wait-list conditions.\n",
            "METHODS: Treatment included instruction and therapeutic activities targeting social skills, face-emotion recognition, interest expansion, and interpretation of non-literal language.\n",
            "METHODS: A response-cost program was applied to reduce problem behaviors and foster skills acquisition.\n",
            "METHODS: Significant treatment effects were found for five of seven primary outcome measures (parent ratings and direct child measures).\n",
            "METHODS: Secondary measures based on staff ratings (treatment group only) corroborated gains reported by parents.\n",
            "RESULTS: High levels of parent, child and staff satisfaction were reported, along with high levels of treatment fidelity.\n",
            "RESULTS: Standardized effect size estimates were primarily in the medium and large ranges and favored the treatment group.\n"
          ]
        }
      ]
    },
    {
      "cell_type": "code",
      "source": [],
      "metadata": {
        "id": "JTp0n7a9NnSf"
      },
      "execution_count": null,
      "outputs": []
    }
  ],
  "metadata": {
    "accelerator": "GPU",
    "colab": {
      "toc_visible": true,
      "provenance": [],
      "mount_file_id": "1Ju347YF6TcPtu-tq7GmAo3g5JpMl_r5O",
      "authorship_tag": "ABX9TyP66FRdXWvTgux3hTB3qmGt",
      "include_colab_link": true
    },
    "gpuClass": "standard",
    "kernelspec": {
      "display_name": "Python 3",
      "name": "python3"
    },
    "language_info": {
      "name": "python"
    }
  },
  "nbformat": 4,
  "nbformat_minor": 0
}