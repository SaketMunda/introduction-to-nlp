{
  "nbformat": 4,
  "nbformat_minor": 0,
  "metadata": {
    "colab": {
      "provenance": [],
      "toc_visible": true,
      "authorship_tag": "ABX9TyN50uqohcEdyJWOdPm4JcR1",
      "include_colab_link": true
    },
    "kernelspec": {
      "name": "python3",
      "display_name": "Python 3"
    },
    "language_info": {
      "name": "python"
    },
    "accelerator": "GPU",
    "gpuClass": "standard"
  },
  "cells": [
    {
      "cell_type": "markdown",
      "metadata": {
        "id": "view-in-github",
        "colab_type": "text"
      },
      "source": [
        "<a href=\"https://colab.research.google.com/github/SaketMunda/introduction-to-nlp/blob/master/skimlit_nlp_milestone_project.ipynb\" target=\"_parent\"><img src=\"https://colab.research.google.com/assets/colab-badge.svg\" alt=\"Open In Colab\"/></a>"
      ]
    },
    {
      "cell_type": "markdown",
      "source": [
        "# NLP Milestone Project : SkimLit 🗒 🔥\n",
        "\n",
        "In this project, we're going to be putting what we've learned during the `introduction_to_nlp` notebook.\n",
        "\n",
        "We're going to be replicating the deep learning model behind the 2017 paper [PubMed 200K RCT : a Dataset for Sequential Sentence Classification in Medical Abstracts](https://arxiv.org/abs/1710.06071)\n",
        "\n",
        "RCT : Randomized Controlled Trial abstracts\n",
        "\n",
        "The goal of the dataset was to explore the ability for NLP models to classify sentences which appear in sequential order.\n",
        "\n",
        "Input : an abstract of a RCT\n",
        "\n",
        "Output : What role does each sentence serve in the abstract ?\n",
        "\n",
        "**Problem**:\n",
        "\n",
        "The number of RCT papers released is continuing to increase, those without structured abstracts can be hard to read and in turn slow down researchers moving through the literature.\n",
        "\n",
        "**Solution**:\n",
        "\n",
        "Create an NLP model to classify abstract sentences into the role they play (e.g objective, methods, results, etc) to enable researchers to skim through the literature (hence SkimLit) and dive deeper when necessary.\n",
        "\n",
        "**Dataset**:\n",
        "\n",
        "[PubMed RCT200k from Github](https://github.com/Franck-Dernoncourt/pubmed-rct)\n",
        "\n",
        "\n",
        "**Replicating Model Architecture**:\n",
        "\n",
        "[Neural Networks for joint sentence classification in medical paper abstracts](https://arxiv.org/pdf/1612.05251.pdf)\n",
        "\n"
      ],
      "metadata": {
        "id": "PRL9QZPUU-Wy"
      }
    },
    {
      "cell_type": "code",
      "source": [
        "# check the gpu\n",
        "!nvidia-smi -L"
      ],
      "metadata": {
        "id": "8-JE17ywboJC",
        "colab": {
          "base_uri": "https://localhost:8080/"
        },
        "outputId": "c92b5479-9285-4f86-c523-7c63228d14f3"
      },
      "execution_count": 1,
      "outputs": [
        {
          "output_type": "stream",
          "name": "stdout",
          "text": [
            "GPU 0: Tesla T4 (UUID: GPU-e91adc92-745f-6fe9-27a9-e9f0e08e0371)\n"
          ]
        }
      ]
    },
    {
      "cell_type": "code",
      "source": [
        "# Import our Helper function\n",
        "!wget https://raw.githubusercontent.com/SaketMunda/ml-helpers/master/helper_functions.py\n",
        "\n",
        "from helper_functions import create_tensorboard_callback"
      ],
      "metadata": {
        "colab": {
          "base_uri": "https://localhost:8080/"
        },
        "id": "PeVcZSI6vOe_",
        "outputId": "14228bcd-013a-4c46-8281-c3a37dc9f9aa"
      },
      "execution_count": 2,
      "outputs": [
        {
          "output_type": "stream",
          "name": "stdout",
          "text": [
            "--2023-03-08 04:15:03--  https://raw.githubusercontent.com/SaketMunda/ml-helpers/master/helper_functions.py\n",
            "Resolving raw.githubusercontent.com (raw.githubusercontent.com)... 185.199.108.133, 185.199.109.133, 185.199.110.133, ...\n",
            "Connecting to raw.githubusercontent.com (raw.githubusercontent.com)|185.199.108.133|:443... connected.\n",
            "HTTP request sent, awaiting response... 200 OK\n",
            "Length: 2904 (2.8K) [text/plain]\n",
            "Saving to: ‘helper_functions.py’\n",
            "\n",
            "\rhelper_functions.py   0%[                    ]       0  --.-KB/s               \rhelper_functions.py 100%[===================>]   2.84K  --.-KB/s    in 0s      \n",
            "\n",
            "2023-03-08 04:15:04 (50.0 MB/s) - ‘helper_functions.py’ saved [2904/2904]\n",
            "\n"
          ]
        }
      ]
    },
    {
      "cell_type": "markdown",
      "source": [
        "## Get the Data"
      ],
      "metadata": {
        "id": "OWGFr7wtbvWn"
      }
    },
    {
      "cell_type": "code",
      "source": [
        "!git clone https://github.com/Franck-Dernoncourt/pubmed-rct\n",
        "!ls pubmed-rct"
      ],
      "metadata": {
        "id": "TsN8g6Vfbxqo",
        "colab": {
          "base_uri": "https://localhost:8080/"
        },
        "outputId": "815c0376-48ec-4370-c08a-8c2fad4ce1f1"
      },
      "execution_count": 3,
      "outputs": [
        {
          "output_type": "stream",
          "name": "stdout",
          "text": [
            "Cloning into 'pubmed-rct'...\n",
            "remote: Enumerating objects: 33, done.\u001b[K\n",
            "remote: Counting objects: 100% (8/8), done.\u001b[K\n",
            "remote: Compressing objects: 100% (3/3), done.\u001b[K\n",
            "remote: Total 33 (delta 5), reused 5 (delta 5), pack-reused 25\u001b[K\n",
            "Unpacking objects: 100% (33/33), 177.08 MiB | 7.04 MiB/s, done.\n",
            "Updating files: 100% (13/13), done.\n",
            "PubMed_200k_RCT\n",
            "PubMed_200k_RCT_numbers_replaced_with_at_sign\n",
            "PubMed_20k_RCT\n",
            "PubMed_20k_RCT_numbers_replaced_with_at_sign\n",
            "README.md\n"
          ]
        }
      ]
    },
    {
      "cell_type": "markdown",
      "source": [
        "So we have 4 major directories and each folder contain some txt files, let's check one of it,"
      ],
      "metadata": {
        "id": "vsjrw3VjkXIa"
      }
    },
    {
      "cell_type": "code",
      "source": [
        "!ls pubmed-rct/PubMed_20k_RCT_numbers_replaced_with_at_sign"
      ],
      "metadata": {
        "colab": {
          "base_uri": "https://localhost:8080/"
        },
        "id": "e7mwa5Q1kr0j",
        "outputId": "ae3757fa-ac06-4585-cc05-b0c212c1aee9"
      },
      "execution_count": 4,
      "outputs": [
        {
          "output_type": "stream",
          "name": "stdout",
          "text": [
            "dev.txt  test.txt  train.txt\n"
          ]
        }
      ]
    },
    {
      "cell_type": "markdown",
      "source": [
        "- `dev.txt` contains the abstracts for validation set\n",
        "- `test.txt` is for testing\n",
        "- `train.txt` is for the training the model"
      ],
      "metadata": {
        "id": "k5Ylr1PGkzgM"
      }
    },
    {
      "cell_type": "markdown",
      "source": [
        "For the baseline and experiment purpose we can start with 20K data in which the numbers are replaces with @ sign, so basically we will use folder `PubMed_20k_RCT_numbers_replaced_with_at_sign`"
      ],
      "metadata": {
        "id": "unLo4Sdpk_az"
      }
    },
    {
      "cell_type": "code",
      "source": [
        "data_dir = 'pubmed-rct/PubMed_20k_RCT_numbers_replaced_with_at_sign/'\n",
        "\n",
        "import os\n",
        "filenames = [data_dir + filename for filename in os.listdir(data_dir)]\n",
        "filenames"
      ],
      "metadata": {
        "colab": {
          "base_uri": "https://localhost:8080/"
        },
        "id": "cUuMvUJclRGT",
        "outputId": "47fe69f8-6d7e-4f92-b9b8-8ab634b1cc7c"
      },
      "execution_count": 5,
      "outputs": [
        {
          "output_type": "execute_result",
          "data": {
            "text/plain": [
              "['pubmed-rct/PubMed_20k_RCT_numbers_replaced_with_at_sign/test.txt',\n",
              " 'pubmed-rct/PubMed_20k_RCT_numbers_replaced_with_at_sign/train.txt',\n",
              " 'pubmed-rct/PubMed_20k_RCT_numbers_replaced_with_at_sign/dev.txt']"
            ]
          },
          "metadata": {},
          "execution_count": 5
        }
      ]
    },
    {
      "cell_type": "markdown",
      "source": [
        "## Preprocess data\n",
        "\n",
        "Because our data is in the text files/format, we need to preprocess it first to get ready for the model training and also to get familiar with we need to convert it to something that we will be easy for us to understand.\n",
        "\n",
        "So let's write a function for it to read the text files,"
      ],
      "metadata": {
        "id": "13fLVOS6lwh9"
      }
    },
    {
      "cell_type": "code",
      "source": [
        "def get_lines(filename):\n",
        "  \"\"\"\n",
        "  Reads a filename(.txt) and returns the lines of text as a list\n",
        "  \"\"\"\n",
        "  with open(filename,'r') as f:\n",
        "    return f.readlines()    "
      ],
      "metadata": {
        "id": "9iu1H-W2mLDy"
      },
      "execution_count": 6,
      "outputs": []
    },
    {
      "cell_type": "code",
      "source": [
        "# try with training samples\n",
        "train_lines = get_lines(data_dir+'train.txt')\n",
        "train_lines[:15]"
      ],
      "metadata": {
        "colab": {
          "base_uri": "https://localhost:8080/"
        },
        "id": "HfCNGh9Qmbjp",
        "outputId": "1d210d49-6226-436c-eb70-884061353c2b"
      },
      "execution_count": 7,
      "outputs": [
        {
          "output_type": "execute_result",
          "data": {
            "text/plain": [
              "['###24293578\\n',\n",
              " 'OBJECTIVE\\tTo investigate the efficacy of @ weeks of daily low-dose oral prednisolone in improving pain , mobility , and systemic low-grade inflammation in the short term and whether the effect would be sustained at @ weeks in older adults with moderate to severe knee osteoarthritis ( OA ) .\\n',\n",
              " 'METHODS\\tA total of @ patients with primary knee OA were randomized @:@ ; @ received @ mg/day of prednisolone and @ received placebo for @ weeks .\\n',\n",
              " 'METHODS\\tOutcome measures included pain reduction and improvement in function scores and systemic inflammation markers .\\n',\n",
              " 'METHODS\\tPain was assessed using the visual analog pain scale ( @-@ mm ) .\\n',\n",
              " 'METHODS\\tSecondary outcome measures included the Western Ontario and McMaster Universities Osteoarthritis Index scores , patient global assessment ( PGA ) of the severity of knee OA , and @-min walk distance ( @MWD ) .\\n',\n",
              " 'METHODS\\tSerum levels of interleukin @ ( IL-@ ) , IL-@ , tumor necrosis factor ( TNF ) - , and high-sensitivity C-reactive protein ( hsCRP ) were measured .\\n',\n",
              " 'RESULTS\\tThere was a clinically relevant reduction in the intervention group compared to the placebo group for knee pain , physical function , PGA , and @MWD at @ weeks .\\n',\n",
              " 'RESULTS\\tThe mean difference between treatment arms ( @ % CI ) was @ ( @-@ @ ) , p < @ ; @ ( @-@ @ ) , p < @ ; @ ( @-@ @ ) , p < @ ; and @ ( @-@ @ ) , p < @ , respectively .\\n',\n",
              " 'RESULTS\\tFurther , there was a clinically relevant reduction in the serum levels of IL-@ , IL-@ , TNF - , and hsCRP at @ weeks in the intervention group when compared to the placebo group .\\n',\n",
              " 'RESULTS\\tThese differences remained significant at @ weeks .\\n',\n",
              " 'RESULTS\\tThe Outcome Measures in Rheumatology Clinical Trials-Osteoarthritis Research Society International responder rate was @ % in the intervention group and @ % in the placebo group ( p < @ ) .\\n',\n",
              " 'CONCLUSIONS\\tLow-dose oral prednisolone had both a short-term and a longer sustained effect resulting in less knee pain , better physical function , and attenuation of systemic inflammation in older patients with knee OA ( ClinicalTrials.gov identifier NCT@ ) .\\n',\n",
              " '\\n',\n",
              " '###24854809\\n']"
            ]
          },
          "metadata": {},
          "execution_count": 7
        }
      ]
    },
    {
      "cell_type": "markdown",
      "source": [
        "These are the lines of each individual abstracts (which are separated using the `###(_id)` at the start and `\\n` in the end) and inside each abstract, there are multiple lines which have labels and texts which are separated with `\\t`.\n",
        "\n",
        "So we need to make this more readable for us and also for the machine. For this we can write a function which will gives us the list of dictionaries in the below format,\n",
        "\n",
        "```\n",
        "[{\n",
        "  'line_number':0,\n",
        "  'target':'OBJECTIVE',\n",
        "  'text':'To investigate the efficacy of @ weeks of daily low-dose oral prednisolone in improving pain , mobility , and systemic low-grade inflammation in the short term and whether the effect would be sustained at @ weeks in older adults with moderate to severe knee osteoarthritis ( OA ) .\\n',\n",
        "  'total_lines':11,\n",
        "}]\n",
        "```\n"
      ],
      "metadata": {
        "id": "9ZbV5RS1moyn"
      }
    },
    {
      "cell_type": "code",
      "source": [
        "def preprocess_text_with_line_numbers(filename):\n",
        "  \"\"\"\n",
        "  Returns the list of dictionaries of abstract line data.\n",
        "\n",
        "  Takes the filename as input, reads its contents and sorts through each line,\n",
        "  extracting things like the target label, text of the sentence, how many lines in\n",
        "  that abstract and what sentence number the target line is.\n",
        "  \"\"\"\n",
        "  input_lines = get_lines(filename)\n",
        "  abstract_lines = \"\"\n",
        "  abstract_samples = []\n",
        "\n",
        "  for line in input_lines:\n",
        "    if line.startswith(\"###\"):\n",
        "      abstract_id = line\n",
        "      abstract_lines = \"\"\n",
        "\n",
        "    elif line.isspace():\n",
        "      abstract_lines_split = abstract_lines.splitlines()\n",
        "\n",
        "      for abstract_line_number, abstract_line in enumerate(abstract_lines_split):\n",
        "        line_data={}\n",
        "        target_text_split = abstract_line.split('\\t')\n",
        "        line_data['target'] = target_text_split[0]\n",
        "        line_data['text'] = target_text_split[1].lower()\n",
        "        line_data['line_number'] = abstract_line_number \n",
        "        line_data['total_lines'] = len(abstract_lines_split) - 1 # total lines, starting from 0\n",
        "        abstract_samples.append(line_data)\n",
        "\n",
        "    else:\n",
        "      abstract_lines+=line\n",
        "  \n",
        "  return abstract_samples"
      ],
      "metadata": {
        "id": "IqwVyHYenoW5"
      },
      "execution_count": 8,
      "outputs": []
    },
    {
      "cell_type": "code",
      "source": [
        "# get data from files and preprocess it\n",
        "%%time\n",
        "\n",
        "train_samples = preprocess_text_with_line_numbers(data_dir+'train.txt')\n",
        "val_samples = preprocess_text_with_line_numbers(data_dir+'dev.txt')\n",
        "test_samples = preprocess_text_with_line_numbers(data_dir+'test.txt')\n",
        "\n",
        "len(train_samples), len(val_samples), len(test_samples)"
      ],
      "metadata": {
        "colab": {
          "base_uri": "https://localhost:8080/"
        },
        "id": "kRfln6_Aqfvb",
        "outputId": "30b6cca9-f18e-4f22-8ae5-bc012bec3c6f"
      },
      "execution_count": 9,
      "outputs": [
        {
          "output_type": "stream",
          "name": "stdout",
          "text": [
            "CPU times: user 574 ms, sys: 101 ms, total: 675 ms\n",
            "Wall time: 1.52 s\n"
          ]
        },
        {
          "output_type": "execute_result",
          "data": {
            "text/plain": [
              "(180040, 30212, 30135)"
            ]
          },
          "metadata": {},
          "execution_count": 9
        }
      ]
    },
    {
      "cell_type": "markdown",
      "source": [
        "Okay now we just created a list of dictionaries for each samples, let's see training samples how it looks"
      ],
      "metadata": {
        "id": "XjO2Q2yuqzRf"
      }
    },
    {
      "cell_type": "code",
      "source": [
        "train_samples[:14]"
      ],
      "metadata": {
        "colab": {
          "base_uri": "https://localhost:8080/"
        },
        "id": "LWyRVzdlq-cb",
        "outputId": "1857d602-639a-4a44-c91c-c357adcf2fd7"
      },
      "execution_count": 10,
      "outputs": [
        {
          "output_type": "execute_result",
          "data": {
            "text/plain": [
              "[{'target': 'OBJECTIVE',\n",
              "  'text': 'to investigate the efficacy of @ weeks of daily low-dose oral prednisolone in improving pain , mobility , and systemic low-grade inflammation in the short term and whether the effect would be sustained at @ weeks in older adults with moderate to severe knee osteoarthritis ( oa ) .',\n",
              "  'line_number': 0,\n",
              "  'total_lines': 11},\n",
              " {'target': 'METHODS',\n",
              "  'text': 'a total of @ patients with primary knee oa were randomized @:@ ; @ received @ mg/day of prednisolone and @ received placebo for @ weeks .',\n",
              "  'line_number': 1,\n",
              "  'total_lines': 11},\n",
              " {'target': 'METHODS',\n",
              "  'text': 'outcome measures included pain reduction and improvement in function scores and systemic inflammation markers .',\n",
              "  'line_number': 2,\n",
              "  'total_lines': 11},\n",
              " {'target': 'METHODS',\n",
              "  'text': 'pain was assessed using the visual analog pain scale ( @-@ mm ) .',\n",
              "  'line_number': 3,\n",
              "  'total_lines': 11},\n",
              " {'target': 'METHODS',\n",
              "  'text': 'secondary outcome measures included the western ontario and mcmaster universities osteoarthritis index scores , patient global assessment ( pga ) of the severity of knee oa , and @-min walk distance ( @mwd ) .',\n",
              "  'line_number': 4,\n",
              "  'total_lines': 11},\n",
              " {'target': 'METHODS',\n",
              "  'text': 'serum levels of interleukin @ ( il-@ ) , il-@ , tumor necrosis factor ( tnf ) - , and high-sensitivity c-reactive protein ( hscrp ) were measured .',\n",
              "  'line_number': 5,\n",
              "  'total_lines': 11},\n",
              " {'target': 'RESULTS',\n",
              "  'text': 'there was a clinically relevant reduction in the intervention group compared to the placebo group for knee pain , physical function , pga , and @mwd at @ weeks .',\n",
              "  'line_number': 6,\n",
              "  'total_lines': 11},\n",
              " {'target': 'RESULTS',\n",
              "  'text': 'the mean difference between treatment arms ( @ % ci ) was @ ( @-@ @ ) , p < @ ; @ ( @-@ @ ) , p < @ ; @ ( @-@ @ ) , p < @ ; and @ ( @-@ @ ) , p < @ , respectively .',\n",
              "  'line_number': 7,\n",
              "  'total_lines': 11},\n",
              " {'target': 'RESULTS',\n",
              "  'text': 'further , there was a clinically relevant reduction in the serum levels of il-@ , il-@ , tnf - , and hscrp at @ weeks in the intervention group when compared to the placebo group .',\n",
              "  'line_number': 8,\n",
              "  'total_lines': 11},\n",
              " {'target': 'RESULTS',\n",
              "  'text': 'these differences remained significant at @ weeks .',\n",
              "  'line_number': 9,\n",
              "  'total_lines': 11},\n",
              " {'target': 'RESULTS',\n",
              "  'text': 'the outcome measures in rheumatology clinical trials-osteoarthritis research society international responder rate was @ % in the intervention group and @ % in the placebo group ( p < @ ) .',\n",
              "  'line_number': 10,\n",
              "  'total_lines': 11},\n",
              " {'target': 'CONCLUSIONS',\n",
              "  'text': 'low-dose oral prednisolone had both a short-term and a longer sustained effect resulting in less knee pain , better physical function , and attenuation of systemic inflammation in older patients with knee oa ( clinicaltrials.gov identifier nct@ ) .',\n",
              "  'line_number': 11,\n",
              "  'total_lines': 11},\n",
              " {'target': 'BACKGROUND',\n",
              "  'text': 'emotional eating is associated with overeating and the development of obesity .',\n",
              "  'line_number': 0,\n",
              "  'total_lines': 10},\n",
              " {'target': 'BACKGROUND',\n",
              "  'text': 'yet , empirical evidence for individual ( trait ) differences in emotional eating and cognitive mechanisms that contribute to eating during sad mood remain equivocal .',\n",
              "  'line_number': 1,\n",
              "  'total_lines': 10}]"
            ]
          },
          "metadata": {},
          "execution_count": 10
        }
      ]
    },
    {
      "cell_type": "markdown",
      "source": [
        "For more visual understanding, let's use `pandas` Dataframe"
      ],
      "metadata": {
        "id": "2UdZDOQ5q_wy"
      }
    },
    {
      "cell_type": "code",
      "source": [
        "import pandas as pd\n",
        "train_df = pd.DataFrame(train_samples)\n",
        "val_df = pd.DataFrame(val_samples)\n",
        "test_df = pd.DataFrame(test_samples)\n",
        "\n",
        "train_df.shape"
      ],
      "metadata": {
        "colab": {
          "base_uri": "https://localhost:8080/"
        },
        "id": "ZQvcD-NprK_L",
        "outputId": "f5b053a3-03a6-4d75-d8ab-98a78c531086"
      },
      "execution_count": 11,
      "outputs": [
        {
          "output_type": "execute_result",
          "data": {
            "text/plain": [
              "(180040, 4)"
            ]
          },
          "metadata": {},
          "execution_count": 11
        }
      ]
    },
    {
      "cell_type": "code",
      "source": [
        "train_df.shape, val_df.shape, test_df.shape"
      ],
      "metadata": {
        "colab": {
          "base_uri": "https://localhost:8080/"
        },
        "id": "DS2WV2hmrUnU",
        "outputId": "3db57943-d6b0-4cba-a9c5-07fc667e5abf"
      },
      "execution_count": 12,
      "outputs": [
        {
          "output_type": "execute_result",
          "data": {
            "text/plain": [
              "((180040, 4), (30212, 4), (30135, 4))"
            ]
          },
          "metadata": {},
          "execution_count": 12
        }
      ]
    },
    {
      "cell_type": "code",
      "source": [
        "train_df.head(12)"
      ],
      "metadata": {
        "colab": {
          "base_uri": "https://localhost:8080/",
          "height": 426
        },
        "id": "mhSsAbJ5rYVa",
        "outputId": "33485b8f-4862-4e9e-c9df-7cf3fad4d100"
      },
      "execution_count": 13,
      "outputs": [
        {
          "output_type": "execute_result",
          "data": {
            "text/plain": [
              "         target                                               text  \\\n",
              "0     OBJECTIVE  to investigate the efficacy of @ weeks of dail...   \n",
              "1       METHODS  a total of @ patients with primary knee oa wer...   \n",
              "2       METHODS  outcome measures included pain reduction and i...   \n",
              "3       METHODS  pain was assessed using the visual analog pain...   \n",
              "4       METHODS  secondary outcome measures included the wester...   \n",
              "5       METHODS  serum levels of interleukin @ ( il-@ ) , il-@ ...   \n",
              "6       RESULTS  there was a clinically relevant reduction in t...   \n",
              "7       RESULTS  the mean difference between treatment arms ( @...   \n",
              "8       RESULTS  further , there was a clinically relevant redu...   \n",
              "9       RESULTS  these differences remained significant at @ we...   \n",
              "10      RESULTS  the outcome measures in rheumatology clinical ...   \n",
              "11  CONCLUSIONS  low-dose oral prednisolone had both a short-te...   \n",
              "\n",
              "    line_number  total_lines  \n",
              "0             0           11  \n",
              "1             1           11  \n",
              "2             2           11  \n",
              "3             3           11  \n",
              "4             4           11  \n",
              "5             5           11  \n",
              "6             6           11  \n",
              "7             7           11  \n",
              "8             8           11  \n",
              "9             9           11  \n",
              "10           10           11  \n",
              "11           11           11  "
            ],
            "text/html": [
              "\n",
              "  <div id=\"df-ae131b03-4aaa-4216-9caa-c8121184c9a7\">\n",
              "    <div class=\"colab-df-container\">\n",
              "      <div>\n",
              "<style scoped>\n",
              "    .dataframe tbody tr th:only-of-type {\n",
              "        vertical-align: middle;\n",
              "    }\n",
              "\n",
              "    .dataframe tbody tr th {\n",
              "        vertical-align: top;\n",
              "    }\n",
              "\n",
              "    .dataframe thead th {\n",
              "        text-align: right;\n",
              "    }\n",
              "</style>\n",
              "<table border=\"1\" class=\"dataframe\">\n",
              "  <thead>\n",
              "    <tr style=\"text-align: right;\">\n",
              "      <th></th>\n",
              "      <th>target</th>\n",
              "      <th>text</th>\n",
              "      <th>line_number</th>\n",
              "      <th>total_lines</th>\n",
              "    </tr>\n",
              "  </thead>\n",
              "  <tbody>\n",
              "    <tr>\n",
              "      <th>0</th>\n",
              "      <td>OBJECTIVE</td>\n",
              "      <td>to investigate the efficacy of @ weeks of dail...</td>\n",
              "      <td>0</td>\n",
              "      <td>11</td>\n",
              "    </tr>\n",
              "    <tr>\n",
              "      <th>1</th>\n",
              "      <td>METHODS</td>\n",
              "      <td>a total of @ patients with primary knee oa wer...</td>\n",
              "      <td>1</td>\n",
              "      <td>11</td>\n",
              "    </tr>\n",
              "    <tr>\n",
              "      <th>2</th>\n",
              "      <td>METHODS</td>\n",
              "      <td>outcome measures included pain reduction and i...</td>\n",
              "      <td>2</td>\n",
              "      <td>11</td>\n",
              "    </tr>\n",
              "    <tr>\n",
              "      <th>3</th>\n",
              "      <td>METHODS</td>\n",
              "      <td>pain was assessed using the visual analog pain...</td>\n",
              "      <td>3</td>\n",
              "      <td>11</td>\n",
              "    </tr>\n",
              "    <tr>\n",
              "      <th>4</th>\n",
              "      <td>METHODS</td>\n",
              "      <td>secondary outcome measures included the wester...</td>\n",
              "      <td>4</td>\n",
              "      <td>11</td>\n",
              "    </tr>\n",
              "    <tr>\n",
              "      <th>5</th>\n",
              "      <td>METHODS</td>\n",
              "      <td>serum levels of interleukin @ ( il-@ ) , il-@ ...</td>\n",
              "      <td>5</td>\n",
              "      <td>11</td>\n",
              "    </tr>\n",
              "    <tr>\n",
              "      <th>6</th>\n",
              "      <td>RESULTS</td>\n",
              "      <td>there was a clinically relevant reduction in t...</td>\n",
              "      <td>6</td>\n",
              "      <td>11</td>\n",
              "    </tr>\n",
              "    <tr>\n",
              "      <th>7</th>\n",
              "      <td>RESULTS</td>\n",
              "      <td>the mean difference between treatment arms ( @...</td>\n",
              "      <td>7</td>\n",
              "      <td>11</td>\n",
              "    </tr>\n",
              "    <tr>\n",
              "      <th>8</th>\n",
              "      <td>RESULTS</td>\n",
              "      <td>further , there was a clinically relevant redu...</td>\n",
              "      <td>8</td>\n",
              "      <td>11</td>\n",
              "    </tr>\n",
              "    <tr>\n",
              "      <th>9</th>\n",
              "      <td>RESULTS</td>\n",
              "      <td>these differences remained significant at @ we...</td>\n",
              "      <td>9</td>\n",
              "      <td>11</td>\n",
              "    </tr>\n",
              "    <tr>\n",
              "      <th>10</th>\n",
              "      <td>RESULTS</td>\n",
              "      <td>the outcome measures in rheumatology clinical ...</td>\n",
              "      <td>10</td>\n",
              "      <td>11</td>\n",
              "    </tr>\n",
              "    <tr>\n",
              "      <th>11</th>\n",
              "      <td>CONCLUSIONS</td>\n",
              "      <td>low-dose oral prednisolone had both a short-te...</td>\n",
              "      <td>11</td>\n",
              "      <td>11</td>\n",
              "    </tr>\n",
              "  </tbody>\n",
              "</table>\n",
              "</div>\n",
              "      <button class=\"colab-df-convert\" onclick=\"convertToInteractive('df-ae131b03-4aaa-4216-9caa-c8121184c9a7')\"\n",
              "              title=\"Convert this dataframe to an interactive table.\"\n",
              "              style=\"display:none;\">\n",
              "        \n",
              "  <svg xmlns=\"http://www.w3.org/2000/svg\" height=\"24px\"viewBox=\"0 0 24 24\"\n",
              "       width=\"24px\">\n",
              "    <path d=\"M0 0h24v24H0V0z\" fill=\"none\"/>\n",
              "    <path d=\"M18.56 5.44l.94 2.06.94-2.06 2.06-.94-2.06-.94-.94-2.06-.94 2.06-2.06.94zm-11 1L8.5 8.5l.94-2.06 2.06-.94-2.06-.94L8.5 2.5l-.94 2.06-2.06.94zm10 10l.94 2.06.94-2.06 2.06-.94-2.06-.94-.94-2.06-.94 2.06-2.06.94z\"/><path d=\"M17.41 7.96l-1.37-1.37c-.4-.4-.92-.59-1.43-.59-.52 0-1.04.2-1.43.59L10.3 9.45l-7.72 7.72c-.78.78-.78 2.05 0 2.83L4 21.41c.39.39.9.59 1.41.59.51 0 1.02-.2 1.41-.59l7.78-7.78 2.81-2.81c.8-.78.8-2.07 0-2.86zM5.41 20L4 18.59l7.72-7.72 1.47 1.35L5.41 20z\"/>\n",
              "  </svg>\n",
              "      </button>\n",
              "      \n",
              "  <style>\n",
              "    .colab-df-container {\n",
              "      display:flex;\n",
              "      flex-wrap:wrap;\n",
              "      gap: 12px;\n",
              "    }\n",
              "\n",
              "    .colab-df-convert {\n",
              "      background-color: #E8F0FE;\n",
              "      border: none;\n",
              "      border-radius: 50%;\n",
              "      cursor: pointer;\n",
              "      display: none;\n",
              "      fill: #1967D2;\n",
              "      height: 32px;\n",
              "      padding: 0 0 0 0;\n",
              "      width: 32px;\n",
              "    }\n",
              "\n",
              "    .colab-df-convert:hover {\n",
              "      background-color: #E2EBFA;\n",
              "      box-shadow: 0px 1px 2px rgba(60, 64, 67, 0.3), 0px 1px 3px 1px rgba(60, 64, 67, 0.15);\n",
              "      fill: #174EA6;\n",
              "    }\n",
              "\n",
              "    [theme=dark] .colab-df-convert {\n",
              "      background-color: #3B4455;\n",
              "      fill: #D2E3FC;\n",
              "    }\n",
              "\n",
              "    [theme=dark] .colab-df-convert:hover {\n",
              "      background-color: #434B5C;\n",
              "      box-shadow: 0px 1px 3px 1px rgba(0, 0, 0, 0.15);\n",
              "      filter: drop-shadow(0px 1px 2px rgba(0, 0, 0, 0.3));\n",
              "      fill: #FFFFFF;\n",
              "    }\n",
              "  </style>\n",
              "\n",
              "      <script>\n",
              "        const buttonEl =\n",
              "          document.querySelector('#df-ae131b03-4aaa-4216-9caa-c8121184c9a7 button.colab-df-convert');\n",
              "        buttonEl.style.display =\n",
              "          google.colab.kernel.accessAllowed ? 'block' : 'none';\n",
              "\n",
              "        async function convertToInteractive(key) {\n",
              "          const element = document.querySelector('#df-ae131b03-4aaa-4216-9caa-c8121184c9a7');\n",
              "          const dataTable =\n",
              "            await google.colab.kernel.invokeFunction('convertToInteractive',\n",
              "                                                     [key], {});\n",
              "          if (!dataTable) return;\n",
              "\n",
              "          const docLinkHtml = 'Like what you see? Visit the ' +\n",
              "            '<a target=\"_blank\" href=https://colab.research.google.com/notebooks/data_table.ipynb>data table notebook</a>'\n",
              "            + ' to learn more about interactive tables.';\n",
              "          element.innerHTML = '';\n",
              "          dataTable['output_type'] = 'display_data';\n",
              "          await google.colab.output.renderOutput(dataTable, element);\n",
              "          const docLink = document.createElement('div');\n",
              "          docLink.innerHTML = docLinkHtml;\n",
              "          element.appendChild(docLink);\n",
              "        }\n",
              "      </script>\n",
              "    </div>\n",
              "  </div>\n",
              "  "
            ]
          },
          "metadata": {},
          "execution_count": 13
        }
      ]
    },
    {
      "cell_type": "markdown",
      "source": [
        "Now our dataframe is ready, we can use data analysis functions of pandas,"
      ],
      "metadata": {
        "id": "5eN9JbnBrabL"
      }
    },
    {
      "cell_type": "code",
      "source": [
        "train_df.target.value_counts()"
      ],
      "metadata": {
        "colab": {
          "base_uri": "https://localhost:8080/"
        },
        "id": "o5D4uHT-sV92",
        "outputId": "544fdd72-933d-47c4-9756-6289e02ddefe"
      },
      "execution_count": 14,
      "outputs": [
        {
          "output_type": "execute_result",
          "data": {
            "text/plain": [
              "METHODS        59353\n",
              "RESULTS        57953\n",
              "CONCLUSIONS    27168\n",
              "BACKGROUND     21727\n",
              "OBJECTIVE      13839\n",
              "Name: target, dtype: int64"
            ]
          },
          "metadata": {},
          "execution_count": 14
        }
      ]
    },
    {
      "cell_type": "code",
      "source": [
        "# check the hist distribution of our abstract lenghts\n",
        "train_df.total_lines.plot.hist();"
      ],
      "metadata": {
        "colab": {
          "base_uri": "https://localhost:8080/",
          "height": 267
        },
        "id": "_vaNel4osYwN",
        "outputId": "c51f5b8f-84dd-4930-f757-4792fe61456b"
      },
      "execution_count": 15,
      "outputs": [
        {
          "output_type": "display_data",
          "data": {
            "text/plain": [
              "<Figure size 432x288 with 1 Axes>"
            ],
            "image/png": "[encoded data removed]"
          },
          "metadata": {
            "needs_background": "light"
          }
        }
      ]
    },
    {
      "cell_type": "markdown",
      "source": [
        "Looks like most of the abstracts are around 7 to 15 sentences in length.\n",
        "\n",
        "It's good to check these things out to make sure when we do train a model or test it on unseen samples, our results aren't outlandish."
      ],
      "metadata": {
        "id": "WiqVwHyksj99"
      }
    },
    {
      "cell_type": "markdown",
      "source": [
        "### Get lists of sentences\n",
        "\n",
        "We we build our deep learning models, one of its main inputs will be a list of string (the lines of an abstract)."
      ],
      "metadata": {
        "id": "oFZoeWgks1EH"
      }
    },
    {
      "cell_type": "code",
      "source": [
        "# convert abstract text lines into lists\n",
        "train_sentences = train_df['text'].tolist()\n",
        "val_sentences = val_df['text'].tolist()\n",
        "test_sentences = test_df['text'].tolist()\n",
        "\n",
        "# check first 10 sentences of training set\n",
        "train_sentences[:10]"
      ],
      "metadata": {
        "colab": {
          "base_uri": "https://localhost:8080/"
        },
        "id": "wLQzNE8jtXQC",
        "outputId": "056bde4b-c8bd-41d1-b026-3e9eca44f6cb"
      },
      "execution_count": 16,
      "outputs": [
        {
          "output_type": "execute_result",
          "data": {
            "text/plain": [
              "['to investigate the efficacy of @ weeks of daily low-dose oral prednisolone in improving pain , mobility , and systemic low-grade inflammation in the short term and whether the effect would be sustained at @ weeks in older adults with moderate to severe knee osteoarthritis ( oa ) .',\n",
              " 'a total of @ patients with primary knee oa were randomized @:@ ; @ received @ mg/day of prednisolone and @ received placebo for @ weeks .',\n",
              " 'outcome measures included pain reduction and improvement in function scores and systemic inflammation markers .',\n",
              " 'pain was assessed using the visual analog pain scale ( @-@ mm ) .',\n",
              " 'secondary outcome measures included the western ontario and mcmaster universities osteoarthritis index scores , patient global assessment ( pga ) of the severity of knee oa , and @-min walk distance ( @mwd ) .',\n",
              " 'serum levels of interleukin @ ( il-@ ) , il-@ , tumor necrosis factor ( tnf ) - , and high-sensitivity c-reactive protein ( hscrp ) were measured .',\n",
              " 'there was a clinically relevant reduction in the intervention group compared to the placebo group for knee pain , physical function , pga , and @mwd at @ weeks .',\n",
              " 'the mean difference between treatment arms ( @ % ci ) was @ ( @-@ @ ) , p < @ ; @ ( @-@ @ ) , p < @ ; @ ( @-@ @ ) , p < @ ; and @ ( @-@ @ ) , p < @ , respectively .',\n",
              " 'further , there was a clinically relevant reduction in the serum levels of il-@ , il-@ , tnf - , and hscrp at @ weeks in the intervention group when compared to the placebo group .',\n",
              " 'these differences remained significant at @ weeks .']"
            ]
          },
          "metadata": {},
          "execution_count": 16
        }
      ]
    },
    {
      "cell_type": "markdown",
      "source": [
        "## Make numeric labels (ML Models require numeric labels)\n",
        "\n",
        "We're going to create label encoded and one hot encoded labels.\n",
        "\n",
        "Tensorflow CategoriCalCrossEntropy loss function likes to have one hot encoded labels, so we also need one hot encoded labels but for baseline model like Scikit-Learn, label encoded is enough."
      ],
      "metadata": {
        "id": "EjnKVMsNto9z"
      }
    },
    {
      "cell_type": "markdown",
      "source": [
        "### One Hot Encoded"
      ],
      "metadata": {
        "id": "134qwuXsdnPB"
      }
    },
    {
      "cell_type": "code",
      "source": [
        "from sklearn.preprocessing import OneHotEncoder\n",
        "one_hot_encoder = OneHotEncoder(sparse=False)\n",
        "train_labels_one_hot = one_hot_encoder.fit_transform(train_df['target'].to_numpy().reshape(-1,1))\n",
        "val_labels_one_hot = one_hot_encoder.transform(val_df['target'].to_numpy().reshape(-1,1))\n",
        "test_labels_one_hot = one_hot_encoder.transform(test_df['target'].to_numpy().reshape(-1,1))\n",
        "\n",
        "# check what training labels look like\n",
        "train_labels_one_hot"
      ],
      "metadata": {
        "colab": {
          "base_uri": "https://localhost:8080/"
        },
        "id": "SbhJuJEtuKMy",
        "outputId": "1bdeb022-ea21-4879-f2ad-52aea333bdfc"
      },
      "execution_count": 17,
      "outputs": [
        {
          "output_type": "stream",
          "name": "stderr",
          "text": [
            "/usr/local/lib/python3.8/dist-packages/sklearn/preprocessing/_encoders.py:828: FutureWarning: `sparse` was renamed to `sparse_output` in version 1.2 and will be removed in 1.4. `sparse_output` is ignored unless you leave `sparse` to its default value.\n",
            "  warnings.warn(\n"
          ]
        },
        {
          "output_type": "execute_result",
          "data": {
            "text/plain": [
              "array([[0., 0., 0., 1., 0.],\n",
              "       [0., 0., 1., 0., 0.],\n",
              "       [0., 0., 1., 0., 0.],\n",
              "       ...,\n",
              "       [0., 0., 0., 0., 1.],\n",
              "       [0., 1., 0., 0., 0.],\n",
              "       [0., 1., 0., 0., 0.]])"
            ]
          },
          "metadata": {},
          "execution_count": 17
        }
      ]
    },
    {
      "cell_type": "code",
      "source": [
        "import tensorflow as tf\n",
        "tf.constant(train_labels_one_hot)"
      ],
      "metadata": {
        "colab": {
          "base_uri": "https://localhost:8080/"
        },
        "id": "etZ-lVKHuw-0",
        "outputId": "3eb1ee34-89df-41ef-e550-3baac33626d2"
      },
      "execution_count": 18,
      "outputs": [
        {
          "output_type": "execute_result",
          "data": {
            "text/plain": [
              "<tf.Tensor: shape=(180040, 5), dtype=float64, numpy=\n",
              "array([[0., 0., 0., 1., 0.],\n",
              "       [0., 0., 1., 0., 0.],\n",
              "       [0., 0., 1., 0., 0.],\n",
              "       ...,\n",
              "       [0., 0., 0., 0., 1.],\n",
              "       [0., 1., 0., 0., 0.],\n",
              "       [0., 1., 0., 0., 0.]])>"
            ]
          },
          "metadata": {},
          "execution_count": 18
        }
      ]
    },
    {
      "cell_type": "markdown",
      "source": [
        "In the above OneHotEncoder method passing `sparse=False` because if don't then tensorflow will throw an error while converting it into tensors.\n",
        "\n",
        "![Screenshot 2023-03-02 at 10.41.57 AM.png](data:image/png;base64,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)"
      ],
      "metadata": {
        "id": "hnaMBsS8u5Fd"
      }
    },
    {
      "cell_type": "markdown",
      "source": [
        "### Label Encoded\n"
      ],
      "metadata": {
        "id": "PLNfqR0AvQSL"
      }
    },
    {
      "cell_type": "code",
      "source": [
        "from sklearn.preprocessing import LabelEncoder\n",
        "label_encoder = LabelEncoder()\n",
        "\n",
        "train_labels_encoded = label_encoder.fit_transform(train_df['target'].to_numpy())\n",
        "val_labels_encoded = label_encoder.transform(val_df['target'].to_numpy())\n",
        "test_labels_encoded = label_encoder.transform(test_df['target'].to_numpy())\n",
        "\n",
        "# check the label encoded train labels\n",
        "train_labels_encoded\n"
      ],
      "metadata": {
        "colab": {
          "base_uri": "https://localhost:8080/"
        },
        "id": "sPqgI5pYvarZ",
        "outputId": "fd4e322e-1517-44c2-8f4e-c48115d9ad64"
      },
      "execution_count": 19,
      "outputs": [
        {
          "output_type": "execute_result",
          "data": {
            "text/plain": [
              "array([3, 2, 2, ..., 4, 1, 1])"
            ]
          },
          "metadata": {},
          "execution_count": 19
        }
      ]
    },
    {
      "cell_type": "markdown",
      "source": [
        "Let's get the classnames from the trained `LabelEncoder` using `classes_` attribute"
      ],
      "metadata": {
        "id": "Ox_xHVd2vwb0"
      }
    },
    {
      "cell_type": "code",
      "source": [
        "# get the class names and number of classes from LabelENcoder instance\n",
        "num_classes = len(label_encoder.classes_)\n",
        "class_names = label_encoder.classes_\n",
        "\n",
        "class_names, num_classes"
      ],
      "metadata": {
        "colab": {
          "base_uri": "https://localhost:8080/"
        },
        "id": "GmIJSabVv5p9",
        "outputId": "9280d51c-792c-4b91-ff2e-acf6f1c16879"
      },
      "execution_count": 20,
      "outputs": [
        {
          "output_type": "execute_result",
          "data": {
            "text/plain": [
              "(array(['BACKGROUND', 'CONCLUSIONS', 'METHODS', 'OBJECTIVE', 'RESULTS'],\n",
              "       dtype=object), 5)"
            ]
          },
          "metadata": {},
          "execution_count": 20
        }
      ]
    },
    {
      "cell_type": "markdown",
      "source": [
        "## Experiment with Various Models\n",
        "\n",
        "Next we will be going to perform multiple experiments with various models starting from scikit-learn all the way to tensorflow transfer learning.\n",
        "\n",
        "Modelling experiments will be,\n",
        "- `model_0` : TFIDF Vectorizer and Multinomial Naive Bayes (baseline)\n",
        "- `model_1` : Convolutional 1D with token embeddings\n",
        "- `model_2` : TF Hub Pretrained Feature Extractor\n",
        "- `model_3` : Conv1D with character embeddings\n",
        "- `model_4` : Pretrained token embeddings (same as 2) + character embeddings (same as 3)\n",
        "- `model_5` : Pretrained token embeddings + character embeddings + positional embeddings"
      ],
      "metadata": {
        "id": "3h9m9v6ywLQL"
      }
    },
    {
      "cell_type": "markdown",
      "source": [
        "### Evaluation Function \n",
        "\n",
        "Before starting with multiple modelling experiments we need to create a function for comparison with different metrics, so let's create it"
      ],
      "metadata": {
        "id": "bLvHwFyihYDc"
      }
    },
    {
      "cell_type": "code",
      "source": [
        "from sklearn.metrics import precision_recall_fscore_support\n",
        "from sklearn.metrics import accuracy_score\n",
        "\n",
        "def calculate_results(model, tf_model=True, prefetching_used=False, val_dataset=None):\n",
        "  '''\n",
        "  Function returns the various metrics results by comparing the \n",
        "  y_true and y_pred of a model\n",
        "\n",
        "  Args:\n",
        "    - model : Trained model    \n",
        "    - tf_model(bool) : If tensorflow model then True else False if Scikit-learn model\n",
        "  \n",
        "  Returns:\n",
        "    Dictionary of metrics which are accuracy, precision, recall\n",
        "    and f1-score    \n",
        "  '''\n",
        "\n",
        "  if tf_model:\n",
        "    if prefetching_used:\n",
        "      y_true = val_labels_encoded\n",
        "      # make prediction\n",
        "      y_pred = model.predict(val_dataset)\n",
        "      y_pred = y_pred.argmax(axis=1)\n",
        "    else:\n",
        "      y_true = val_labels_one_hot.argmax(axis=1)\n",
        "      # make prediction\n",
        "      y_pred = model.predict(val_sentences)\n",
        "      y_pred = y_pred.argmax(axis=1)\n",
        "  else:\n",
        "    y_true = val_labels_encoded # for sklearn \n",
        "    y_pred = model.predict(val_sentences)  \n",
        "  \n",
        "\n",
        "  # measure accuracy\n",
        "  accuracy = accuracy_score(y_true, y_pred)\n",
        "  # measure other metrics\n",
        "  precision, recall, f1, _ = precision_recall_fscore_support(y_true, y_pred, average='weighted')\n",
        "\n",
        "  return {\"accuracy\": accuracy*100,\n",
        "          \"f1\":f1,\n",
        "          \"precision\":precision,\n",
        "          \"recall\":recall}"
      ],
      "metadata": {
        "id": "B1ui_66zhurt"
      },
      "execution_count": 21,
      "outputs": []
    },
    {
      "cell_type": "markdown",
      "source": [
        "### Model_0 : Getting a baseline"
      ],
      "metadata": {
        "id": "fAl5SKjIf9ax"
      }
    },
    {
      "cell_type": "code",
      "source": [
        "from sklearn.feature_extraction.text import TfidfVectorizer\n",
        "from sklearn.naive_bayes import MultinomialNB\n",
        "from sklearn.pipeline import Pipeline\n",
        "\n",
        "# create a pipeline\n",
        "model_0 = Pipeline([\n",
        "    ('tfidf', TfidfVectorizer()),\n",
        "    ('clf', MultinomialNB())\n",
        "])\n",
        "\n",
        "# fit the training data to the model\n",
        "model_0.fit(X=train_sentences, y=train_labels_encoded)"
      ],
      "metadata": {
        "colab": {
          "base_uri": "https://localhost:8080/",
          "height": 126
        },
        "id": "6qyZ8qZlgDDS",
        "outputId": "1e7b74f4-6bc4-4bc6-e70c-d94feb91fb65"
      },
      "execution_count": 22,
      "outputs": [
        {
          "output_type": "execute_result",
          "data": {
            "text/plain": [
              "Pipeline(steps=[('tfidf', TfidfVectorizer()), ('clf', MultinomialNB())])"
            ],
            "text/html": [
              "<style>#sk-container-id-1 {color: black;background-color: white;}#sk-container-id-1 pre{padding: 0;}#sk-container-id-1 div.sk-toggleable {background-color: white;}#sk-container-id-1 label.sk-toggleable__label {cursor: pointer;display: block;width: 100%;margin-bottom: 0;padding: 0.3em;box-sizing: border-box;text-align: center;}#sk-container-id-1 label.sk-toggleable__label-arrow:before {content: \"▸\";float: left;margin-right: 0.25em;color: #696969;}#sk-container-id-1 label.sk-toggleable__label-arrow:hover:before {color: black;}#sk-container-id-1 div.sk-estimator:hover label.sk-toggleable__label-arrow:before {color: black;}#sk-container-id-1 div.sk-toggleable__content {max-height: 0;max-width: 0;overflow: hidden;text-align: left;background-color: #f0f8ff;}#sk-container-id-1 div.sk-toggleable__content pre {margin: 0.2em;color: black;border-radius: 0.25em;background-color: #f0f8ff;}#sk-container-id-1 input.sk-toggleable__control:checked~div.sk-toggleable__content {max-height: 200px;max-width: 100%;overflow: auto;}#sk-container-id-1 input.sk-toggleable__control:checked~label.sk-toggleable__label-arrow:before {content: \"▾\";}#sk-container-id-1 div.sk-estimator input.sk-toggleable__control:checked~label.sk-toggleable__label {background-color: #d4ebff;}#sk-container-id-1 div.sk-label input.sk-toggleable__control:checked~label.sk-toggleable__label {background-color: #d4ebff;}#sk-container-id-1 input.sk-hidden--visually {border: 0;clip: rect(1px 1px 1px 1px);clip: rect(1px, 1px, 1px, 1px);height: 1px;margin: -1px;overflow: hidden;padding: 0;position: absolute;width: 1px;}#sk-container-id-1 div.sk-estimator {font-family: monospace;background-color: #f0f8ff;border: 1px dotted black;border-radius: 0.25em;box-sizing: border-box;margin-bottom: 0.5em;}#sk-container-id-1 div.sk-estimator:hover {background-color: #d4ebff;}#sk-container-id-1 div.sk-parallel-item::after {content: \"\";width: 100%;border-bottom: 1px solid gray;flex-grow: 1;}#sk-container-id-1 div.sk-label:hover label.sk-toggleable__label {background-color: #d4ebff;}#sk-container-id-1 div.sk-serial::before {content: \"\";position: absolute;border-left: 1px solid gray;box-sizing: border-box;top: 0;bottom: 0;left: 50%;z-index: 0;}#sk-container-id-1 div.sk-serial {display: flex;flex-direction: column;align-items: center;background-color: white;padding-right: 0.2em;padding-left: 0.2em;position: relative;}#sk-container-id-1 div.sk-item {position: relative;z-index: 1;}#sk-container-id-1 div.sk-parallel {display: flex;align-items: stretch;justify-content: center;background-color: white;position: relative;}#sk-container-id-1 div.sk-item::before, #sk-container-id-1 div.sk-parallel-item::before {content: \"\";position: absolute;border-left: 1px solid gray;box-sizing: border-box;top: 0;bottom: 0;left: 50%;z-index: -1;}#sk-container-id-1 div.sk-parallel-item {display: flex;flex-direction: column;z-index: 1;position: relative;background-color: white;}#sk-container-id-1 div.sk-parallel-item:first-child::after {align-self: flex-end;width: 50%;}#sk-container-id-1 div.sk-parallel-item:last-child::after {align-self: flex-start;width: 50%;}#sk-container-id-1 div.sk-parallel-item:only-child::after {width: 0;}#sk-container-id-1 div.sk-dashed-wrapped {border: 1px dashed gray;margin: 0 0.4em 0.5em 0.4em;box-sizing: border-box;padding-bottom: 0.4em;background-color: white;}#sk-container-id-1 div.sk-label label {font-family: monospace;font-weight: bold;display: inline-block;line-height: 1.2em;}#sk-container-id-1 div.sk-label-container {text-align: center;}#sk-container-id-1 div.sk-container {/* jupyter's `normalize.less` sets `[hidden] { display: none; }` but bootstrap.min.css set `[hidden] { display: none !important; }` so we also need the `!important` here to be able to override the default hidden behavior on the sphinx rendered scikit-learn.org. See: https://github.com/scikit-learn/scikit-learn/issues/21755 */display: inline-block !important;position: relative;}#sk-container-id-1 div.sk-text-repr-fallback {display: none;}</style><div id=\"sk-container-id-1\" class=\"sk-top-container\"><div class=\"sk-text-repr-fallback\"><pre>Pipeline(steps=[(&#x27;tfidf&#x27;, TfidfVectorizer()), (&#x27;clf&#x27;, MultinomialNB())])</pre><b>In a Jupyter environment, please rerun this cell to show the HTML representation or trust the notebook. <br />On GitHub, the HTML representation is unable to render, please try loading this page with nbviewer.org.</b></div><div class=\"sk-container\" hidden><div class=\"sk-item sk-dashed-wrapped\"><div class=\"sk-label-container\"><div class=\"sk-label sk-toggleable\"><input class=\"sk-toggleable__control sk-hidden--visually\" id=\"sk-estimator-id-1\" type=\"checkbox\" ><label for=\"sk-estimator-id-1\" class=\"sk-toggleable__label sk-toggleable__label-arrow\">Pipeline</label><div class=\"sk-toggleable__content\"><pre>Pipeline(steps=[(&#x27;tfidf&#x27;, TfidfVectorizer()), (&#x27;clf&#x27;, MultinomialNB())])</pre></div></div></div><div class=\"sk-serial\"><div class=\"sk-item\"><div class=\"sk-estimator sk-toggleable\"><input class=\"sk-toggleable__control sk-hidden--visually\" id=\"sk-estimator-id-2\" type=\"checkbox\" ><label for=\"sk-estimator-id-2\" class=\"sk-toggleable__label sk-toggleable__label-arrow\">TfidfVectorizer</label><div class=\"sk-toggleable__content\"><pre>TfidfVectorizer()</pre></div></div></div><div class=\"sk-item\"><div class=\"sk-estimator sk-toggleable\"><input class=\"sk-toggleable__control sk-hidden--visually\" id=\"sk-estimator-id-3\" type=\"checkbox\" ><label for=\"sk-estimator-id-3\" class=\"sk-toggleable__label sk-toggleable__label-arrow\">MultinomialNB</label><div class=\"sk-toggleable__content\"><pre>MultinomialNB()</pre></div></div></div></div></div></div></div>"
            ]
          },
          "metadata": {},
          "execution_count": 22
        }
      ]
    },
    {
      "cell_type": "code",
      "source": [
        "# evaluate the model using validation sentences\n",
        "model_0.score(val_sentences, val_labels_encoded)"
      ],
      "metadata": {
        "colab": {
          "base_uri": "https://localhost:8080/"
        },
        "id": "3M4GzhXkgTcR",
        "outputId": "06da3019-b280-426e-f340-67c411ef88c4"
      },
      "execution_count": 23,
      "outputs": [
        {
          "output_type": "execute_result",
          "data": {
            "text/plain": [
              "0.7218323844829869"
            ]
          },
          "metadata": {},
          "execution_count": 23
        }
      ]
    },
    {
      "cell_type": "code",
      "source": [
        "# make some prediction\n",
        "baseline_preds = model_0.predict(val_sentences)\n",
        "baseline_preds"
      ],
      "metadata": {
        "colab": {
          "base_uri": "https://localhost:8080/"
        },
        "id": "SQE8BZz8hEuI",
        "outputId": "438d4efc-c340-422a-cb99-42918cae30f3"
      },
      "execution_count": 24,
      "outputs": [
        {
          "output_type": "execute_result",
          "data": {
            "text/plain": [
              "array([4, 1, 3, ..., 4, 4, 1])"
            ]
          },
          "metadata": {},
          "execution_count": 24
        }
      ]
    },
    {
      "cell_type": "code",
      "source": [
        "val_labels_encoded"
      ],
      "metadata": {
        "colab": {
          "base_uri": "https://localhost:8080/"
        },
        "id": "weiCHbyuhNyi",
        "outputId": "4f7d0ca3-7185-4c1c-a973-00395ab91f0a"
      },
      "execution_count": 25,
      "outputs": [
        {
          "output_type": "execute_result",
          "data": {
            "text/plain": [
              "array([0, 0, 3, ..., 4, 1, 1])"
            ]
          },
          "metadata": {},
          "execution_count": 25
        }
      ]
    },
    {
      "cell_type": "code",
      "source": [
        "# calculate results of baseline model\n",
        "baseline_results = calculate_results(model_0, tf_model=False)\n",
        "baseline_results"
      ],
      "metadata": {
        "colab": {
          "base_uri": "https://localhost:8080/"
        },
        "id": "KWsj_hhwhQGf",
        "outputId": "67bda1ca-ff70-4b3b-d7f5-7af3c6221ce1"
      },
      "execution_count": 26,
      "outputs": [
        {
          "output_type": "execute_result",
          "data": {
            "text/plain": [
              "{'accuracy': 72.1832384482987,\n",
              " 'f1': 0.6989250353450294,\n",
              " 'precision': 0.7186466952323352,\n",
              " 'recall': 0.7218323844829869}"
            ]
          },
          "metadata": {},
          "execution_count": 26
        }
      ]
    },
    {
      "cell_type": "markdown",
      "source": [
        "## Preparing our data for Deep Learning Models\n",
        "\n",
        "We need to create text vectorization and embedding layers for deep learning models.\n",
        "\n",
        "The vectorization layer convert the text into numbers and embedding layer will capture the relationship betwen those numbers."
      ],
      "metadata": {
        "id": "ackezz4TkudH"
      }
    },
    {
      "cell_type": "code",
      "source": [
        "import tensorflow as tf\n",
        "import numpy as np\n",
        "from tensorflow.keras import layers"
      ],
      "metadata": {
        "id": "QBTpcuRIl2aP"
      },
      "execution_count": 27,
      "outputs": []
    },
    {
      "cell_type": "markdown",
      "source": [
        "Since we'll be turning our sentences into numbers, it's a good idea to figure out how many words are in each sentence.\n",
        "\n",
        "When our model goes through our sentences, it works best when they're all the same length (this is important for creating batches of the same size tensors).\n",
        "\n",
        "For example, if one sentence is 8 words long and another is 29 words long then we want to pad the 8 word sentences with zeros so it ends up being the same length as the 29 word sentence."
      ],
      "metadata": {
        "id": "B5EqU54sl6sd"
      }
    },
    {
      "cell_type": "code",
      "source": [
        "# How long each sentence on average ?\n",
        "sent_lens = [len(sentence.split()) for sentence in train_sentences]\n",
        "average_len = np.mean(sent_lens)\n",
        "average_len"
      ],
      "metadata": {
        "colab": {
          "base_uri": "https://localhost:8080/"
        },
        "id": "_XUnEmMsnaz7",
        "outputId": "98fc9ac3-34f9-4574-8d9e-00fe488bddae"
      },
      "execution_count": 28,
      "outputs": [
        {
          "output_type": "execute_result",
          "data": {
            "text/plain": [
              "26.338269273494777"
            ]
          },
          "metadata": {},
          "execution_count": 28
        }
      ]
    },
    {
      "cell_type": "markdown",
      "source": [
        "How about the distribution of sentence lengths ?"
      ],
      "metadata": {
        "id": "bfP7m0zgni3D"
      }
    },
    {
      "cell_type": "code",
      "source": [
        "import matplotlib.pyplot as plt\n",
        "plt.hist(sent_lens, bins=5);"
      ],
      "metadata": {
        "colab": {
          "base_uri": "https://localhost:8080/",
          "height": 265
        },
        "id": "FyASHabZoKxe",
        "outputId": "46c3b419-3e45-4a6e-f67f-f8895719d741"
      },
      "execution_count": 29,
      "outputs": [
        {
          "output_type": "display_data",
          "data": {
            "text/plain": [
              "<Figure size 432x288 with 1 Axes>"
            ],
            "image/png": "[encoded data removed]"
          },
          "metadata": {
            "needs_background": "light"
          }
        }
      ]
    },
    {
      "cell_type": "markdown",
      "source": [
        "Looks like majority of sentences are between 0 and 50 tokens in length.\n",
        "\n",
        "We can use Numpy's `percentile` to find the value which covers 95% of the sentence lengths."
      ],
      "metadata": {
        "id": "DDG1Mf_YoP13"
      }
    },
    {
      "cell_type": "code",
      "source": [
        "output_seq_len = int(np.percentile(sent_lens, 95))\n",
        "output_seq_len"
      ],
      "metadata": {
        "colab": {
          "base_uri": "https://localhost:8080/"
        },
        "id": "xqEMLwR2owu4",
        "outputId": "e2c424e2-c311-4faf-b101-3cc4745f9a76"
      },
      "execution_count": 30,
      "outputs": [
        {
          "output_type": "execute_result",
          "data": {
            "text/plain": [
              "55"
            ]
          },
          "metadata": {},
          "execution_count": 30
        }
      ]
    },
    {
      "cell_type": "markdown",
      "source": [
        "Checking the maximum sentence length,"
      ],
      "metadata": {
        "id": "cMgYKKCDo4h7"
      }
    },
    {
      "cell_type": "code",
      "source": [
        "max(sent_lens)"
      ],
      "metadata": {
        "colab": {
          "base_uri": "https://localhost:8080/"
        },
        "id": "DbLr4J27pNv6",
        "outputId": "10fa9f77-4734-4f96-b33f-49a1e8e09939"
      },
      "execution_count": 31,
      "outputs": [
        {
          "output_type": "execute_result",
          "data": {
            "text/plain": [
              "296"
            ]
          },
          "metadata": {},
          "execution_count": 31
        }
      ]
    },
    {
      "cell_type": "markdown",
      "source": [
        "### Create Text Vectorizer\n",
        "\n",
        "For converting text into numbers we'll use `TextVectorization` layer from tensorflow.\n",
        "\n",
        "We'll keep the default parameters except for `max_tokens` (the number of unique words in our dataset) and `output_sequence_length` (our desired output length for each vectorized sentence).\n",
        "\n",
        "Section 3.2 of the [PubMed 200K RCT Paper](https://arxiv.org/pdf/1710.06071.pdf) states the vocabulary size of the PubMed 20k dataset as 68,000. So we'll use that as our `max_tokens` parameter."
      ],
      "metadata": {
        "id": "cpLffwhTpO1O"
      }
    },
    {
      "cell_type": "code",
      "source": [
        "max_tokens = 68000"
      ],
      "metadata": {
        "id": "8v61G6LQq53Q"
      },
      "execution_count": 32,
      "outputs": []
    },
    {
      "cell_type": "code",
      "source": [
        "# create text vectorizer\n",
        "from tensorflow.keras.layers.experimental.preprocessing import TextVectorization\n",
        "\n",
        "text_vectorizer = TextVectorization(max_tokens=max_tokens,\n",
        "                                           output_sequence_length=output_seq_len)"
      ],
      "metadata": {
        "id": "0AZCHZJaq8yB"
      },
      "execution_count": 33,
      "outputs": []
    },
    {
      "cell_type": "code",
      "source": [
        "# now need to adapt with training sample\n",
        "text_vectorizer.adapt(train_sentences)"
      ],
      "metadata": {
        "id": "hVsC_h9ZrZnN"
      },
      "execution_count": 34,
      "outputs": []
    },
    {
      "cell_type": "code",
      "source": [
        "# Test out the text vectorizer\n",
        "import random\n",
        "target_sentence = random.choice(train_sentences)\n",
        "print(f'Text:\\n{target_sentence}')\n",
        "print(f'\\nLength of text:{len(target_sentence.split())}')\n",
        "print(f'\\nVectorized Text:\\n{text_vectorizer([target_sentence])}')"
      ],
      "metadata": {
        "colab": {
          "base_uri": "https://localhost:8080/"
        },
        "id": "VRs9LNMermWh",
        "outputId": "5d0331f4-f765-401a-910c-1d0745f2ccfc"
      },
      "execution_count": 35,
      "outputs": [
        {
          "output_type": "stream",
          "name": "stdout",
          "text": [
            "Text:\n",
            "a @-day antibiotic regimen of oral ciprofloxacin and metronidazole is as effective as a @-day regimenin the prevention of infective complications following transrectalprostate biopsy .\n",
            "\n",
            "Length of text:25\n",
            "\n",
            "Vectorized Text:\n",
            "[[    8   108  1274   576     4   217 11699     3  4883    20    25   137\n",
            "     25     8   108 47009     2   403     4 15880   296   240 43354  1220\n",
            "      0     0     0     0     0     0     0     0     0     0     0     0\n",
            "      0     0     0     0     0     0     0     0     0     0     0     0\n",
            "      0     0     0     0     0     0     0]]\n"
          ]
        }
      ]
    },
    {
      "cell_type": "markdown",
      "source": [
        "Get more information from our `text_vectorizer` inside the `train_sentences`"
      ],
      "metadata": {
        "id": "9Knew9bmsJc3"
      }
    },
    {
      "cell_type": "code",
      "source": [
        "rct_20k_text_vocab = text_vectorizer.get_vocabulary()\n",
        "print(f\"Numbers of vocabulary in train_sentences: {len(rct_20k_text_vocab)}\")\n",
        "print(f'Most common words in the vocabulary: {rct_20k_text_vocab[:5]}')\n",
        "print(f'Least common words in the vocabulary: {rct_20k_text_vocab[-5:]}')"
      ],
      "metadata": {
        "colab": {
          "base_uri": "https://localhost:8080/"
        },
        "id": "PWOgDHkKud8V",
        "outputId": "e32af38f-c3b1-43dd-97e9-2dd485f1d418"
      },
      "execution_count": 36,
      "outputs": [
        {
          "output_type": "stream",
          "name": "stdout",
          "text": [
            "Numbers of vocabulary in train_sentences: 64841\n",
            "Most common words in the vocabulary: ['', '[UNK]', 'the', 'and', 'of']\n",
            "Least common words in the vocabulary: ['aainduced', 'aaigroup', 'aachener', 'aachen', 'aaacp']\n"
          ]
        }
      ]
    },
    {
      "cell_type": "code",
      "source": [
        "# get the config of our text_vectorizer\n",
        "text_vectorizer.get_config()"
      ],
      "metadata": {
        "colab": {
          "base_uri": "https://localhost:8080/"
        },
        "id": "qBq-5xCovzY3",
        "outputId": "31c682e1-c33c-4408-872f-e60e7f8a82cc"
      },
      "execution_count": 37,
      "outputs": [
        {
          "output_type": "execute_result",
          "data": {
            "text/plain": [
              "{'name': 'text_vectorization',\n",
              " 'trainable': True,\n",
              " 'dtype': 'string',\n",
              " 'batch_input_shape': (None,),\n",
              " 'max_tokens': 68000,\n",
              " 'standardize': 'lower_and_strip_punctuation',\n",
              " 'split': 'whitespace',\n",
              " 'ngrams': None,\n",
              " 'output_mode': 'int',\n",
              " 'output_sequence_length': 55,\n",
              " 'pad_to_max_tokens': False,\n",
              " 'sparse': False,\n",
              " 'ragged': False,\n",
              " 'vocabulary': None,\n",
              " 'idf_weights': None,\n",
              " 'encoding': 'utf-8'}"
            ]
          },
          "metadata": {},
          "execution_count": 37
        }
      ]
    },
    {
      "cell_type": "markdown",
      "source": [
        "### Create Custom Embedding\n",
        "\n",
        "Now after creating the vectorization layer, we want to create embedding layer using Tensorflow's `Embedding` layer."
      ],
      "metadata": {
        "id": "O-LYI3cIv_B5"
      }
    },
    {
      "cell_type": "code",
      "source": [
        "# create token embedding layer\n",
        "token_embed = layers.Embedding(input_dim=len(rct_20k_text_vocab), # length of vocabulary\n",
        "                               output_dim=128,\n",
        "                               #mask_zero=True, # use masking to handle variable sequence length contains zeros\n",
        "                               name=\"token_embedding\")\n",
        "\n",
        "# Show example embedding\n",
        "print(f\"Sentence before embedding:\\n{target_sentence}\")\n",
        "vectorized_sentence = text_vectorizer([target_sentence])\n",
        "print(f'Sentence after vectorization:\\n{vectorized_sentence}')\n",
        "embedded_sentence = token_embed(vectorized_sentence)\n",
        "print(f'Sentence after embedding:\\n{embedded_sentence}\\n')\n",
        "print(f'Embedded sentence shape: {embedded_sentence.shape}')"
      ],
      "metadata": {
        "colab": {
          "base_uri": "https://localhost:8080/"
        },
        "id": "bPNyQYYLwRL1",
        "outputId": "0231b971-17a7-45ca-ad2e-cebc94ba55b4"
      },
      "execution_count": 38,
      "outputs": [
        {
          "output_type": "stream",
          "name": "stdout",
          "text": [
            "Sentence before embedding:\n",
            "a @-day antibiotic regimen of oral ciprofloxacin and metronidazole is as effective as a @-day regimenin the prevention of infective complications following transrectalprostate biopsy .\n",
            "Sentence after vectorization:\n",
            "[[    8   108  1274   576     4   217 11699     3  4883    20    25   137\n",
            "     25     8   108 47009     2   403     4 15880   296   240 43354  1220\n",
            "      0     0     0     0     0     0     0     0     0     0     0     0\n",
            "      0     0     0     0     0     0     0     0     0     0     0     0\n",
            "      0     0     0     0     0     0     0]]\n",
            "Sentence after embedding:\n",
            "[[[-0.02558423  0.03257177 -0.01878533 ...  0.03826909  0.01442715\n",
            "   -0.04268723]\n",
            "  [-0.00936756 -0.04977662  0.01859546 ...  0.04753859 -0.03843747\n",
            "    0.00478116]\n",
            "  [-0.03503411 -0.02659943 -0.00258841 ... -0.00191174 -0.0042525\n",
            "    0.02603542]\n",
            "  ...\n",
            "  [ 0.04756131 -0.04023252 -0.00901216 ...  0.03599645 -0.04280417\n",
            "    0.01265134]\n",
            "  [ 0.04756131 -0.04023252 -0.00901216 ...  0.03599645 -0.04280417\n",
            "    0.01265134]\n",
            "  [ 0.04756131 -0.04023252 -0.00901216 ...  0.03599645 -0.04280417\n",
            "    0.01265134]]]\n",
            "\n",
            "Embedded sentence shape: (1, 55, 128)\n"
          ]
        }
      ]
    },
    {
      "cell_type": "markdown",
      "source": [
        "### Creating datasets (make sure our data loads as fast as possible)\n",
        "\n",
        "We're going to setup our data to run as fast as possible with the TensorFlow tf.data API, many of the steps here are discussed in the below guides,\n",
        "\n",
        "- https://www.tensorflow.org/guide/data_performance\n",
        "- https://www.tensorflow.org/guide/data\n"
      ],
      "metadata": {
        "id": "EstOxDM13LiJ"
      }
    },
    {
      "cell_type": "code",
      "source": [
        "# Turn our data into tensorflow datasets\n",
        "train_dataset = tf.data.Dataset.from_tensor_slices((train_sentences, train_labels_one_hot))\n",
        "valid_dataset = tf.data.Dataset.from_tensor_slices((val_sentences, val_labels_one_hot))\n",
        "test_dataset = tf.data.Dataset.from_tensor_slices((test_sentences, test_labels_one_hot))\n",
        "\n",
        "train_dataset"
      ],
      "metadata": {
        "colab": {
          "base_uri": "https://localhost:8080/"
        },
        "id": "EJDxhmMn39sD",
        "outputId": "63b13f44-873c-4b19-9611-a99fcdd4ae12"
      },
      "execution_count": 39,
      "outputs": [
        {
          "output_type": "execute_result",
          "data": {
            "text/plain": [
              "<TensorSliceDataset element_spec=(TensorSpec(shape=(), dtype=tf.string, name=None), TensorSpec(shape=(5,), dtype=tf.float64, name=None))>"
            ]
          },
          "metadata": {},
          "execution_count": 39
        }
      ]
    },
    {
      "cell_type": "code",
      "source": [
        "# Take the TensorSlicedDataset and turn them into prefetched batch datasets\n",
        "train_dataset = train_dataset.batch(32).prefetch(tf.data.AUTOTUNE)\n",
        "valid_dataset = valid_dataset.batch(32).prefetch(tf.data.AUTOTUNE)\n",
        "test_dataset = test_dataset.batch(32).prefetch(tf.data.AUTOTUNE)"
      ],
      "metadata": {
        "id": "rVQic4Qq5bKu"
      },
      "execution_count": 40,
      "outputs": []
    },
    {
      "cell_type": "code",
      "source": [
        "train_dataset"
      ],
      "metadata": {
        "colab": {
          "base_uri": "https://localhost:8080/"
        },
        "id": "fmgylqou6MjK",
        "outputId": "001a67b3-ae10-4e69-9e39-36fd3fee05e3"
      },
      "execution_count": 41,
      "outputs": [
        {
          "output_type": "execute_result",
          "data": {
            "text/plain": [
              "<PrefetchDataset element_spec=(TensorSpec(shape=(None,), dtype=tf.string, name=None), TensorSpec(shape=(None, 5), dtype=tf.float64, name=None))>"
            ]
          },
          "metadata": {},
          "execution_count": 41
        }
      ]
    },
    {
      "cell_type": "markdown",
      "source": [
        "So I guess now we are ready to build `model_1` i.e Conv1D with Token Embedding"
      ],
      "metadata": {
        "id": "xvjmnY-qxPkT"
      }
    },
    {
      "cell_type": "markdown",
      "source": [
        "## Model_1 : Conv1D with Token Embedding"
      ],
      "metadata": {
        "id": "_W3-IXZgukg7"
      }
    },
    {
      "cell_type": "code",
      "source": [
        "SAVE_DIR = 'model_logs'"
      ],
      "metadata": {
        "id": "LwXebMf2xa1d"
      },
      "execution_count": 42,
      "outputs": []
    },
    {
      "cell_type": "markdown",
      "source": [
        "### model without prefetching"
      ],
      "metadata": {
        "id": "8xdwztmj6XjF"
      }
    },
    {
      "cell_type": "code",
      "source": [
        "# create the model using Sequential API (without using prefetch)\n",
        "model_1 = tf.keras.Sequential([\n",
        "    layers.Input(shape=(1,), dtype=tf.string),\n",
        "    text_vectorizer,\n",
        "    token_embed,   \n",
        "    layers.Conv1D(64, kernel_size=5, activation='relu'),\n",
        "    layers.GlobalMaxPool1D(),\n",
        "    layers.Dense(num_classes, activation='softmax')\n",
        "], name='conv1d_with_token_embedding')\n",
        "\n",
        "model_1.compile(loss='categorical_crossentropy',\n",
        "                optimizer=tf.keras.optimizers.Adam(),\n",
        "                metrics=['accuracy'])\n",
        "\n",
        "history_1 = model_1.fit(np.array(train_sentences),\n",
        "                        train_labels_one_hot,\n",
        "                        epochs=5,\n",
        "                        validation_data=(np.array(val_sentences), val_labels_one_hot),\n",
        "                        callbacks=[create_tensorboard_callback(dir_name=SAVE_DIR, experiment_name='conv1d_with_token_embeddings')])"
      ],
      "metadata": {
        "colab": {
          "base_uri": "https://localhost:8080/"
        },
        "id": "0KOyj7puupCr",
        "outputId": "f8fc9840-4f1d-4835-9c46-99da123955c6"
      },
      "execution_count": 43,
      "outputs": [
        {
          "output_type": "stream",
          "name": "stdout",
          "text": [
            "Saving Tensorboard log files to: model_logs/conv1d_with_token_embeddings/20230308-041618\n",
            "Epoch 1/5\n",
            "5627/5627 [==============================] - 118s 19ms/step - loss: 0.5535 - accuracy: 0.7964 - val_loss: 0.4831 - val_accuracy: 0.8218\n",
            "Epoch 2/5\n",
            "5627/5627 [==============================] - 60s 11ms/step - loss: 0.3596 - accuracy: 0.8718 - val_loss: 0.5126 - val_accuracy: 0.8149\n",
            "Epoch 3/5\n",
            "5627/5627 [==============================] - 65s 11ms/step - loss: 0.2135 - accuracy: 0.9298 - val_loss: 0.5827 - val_accuracy: 0.8091\n",
            "Epoch 4/5\n",
            "5627/5627 [==============================] - 47s 8ms/step - loss: 0.1099 - accuracy: 0.9666 - val_loss: 0.7160 - val_accuracy: 0.7995\n",
            "Epoch 5/5\n",
            "5627/5627 [==============================] - 59s 10ms/step - loss: 0.0584 - accuracy: 0.9831 - val_loss: 0.8627 - val_accuracy: 0.7940\n"
          ]
        }
      ]
    },
    {
      "cell_type": "code",
      "source": [
        "model_1.summary()"
      ],
      "metadata": {
        "colab": {
          "base_uri": "https://localhost:8080/"
        },
        "id": "9dsw9JRcyf7V",
        "outputId": "8dcf1ed2-d81e-454a-a1a5-7a0b4ad9d582"
      },
      "execution_count": 44,
      "outputs": [
        {
          "output_type": "stream",
          "name": "stdout",
          "text": [
            "Model: \"conv1d_with_token_embedding\"\n",
            "_________________________________________________________________\n",
            " Layer (type)                Output Shape              Param #   \n",
            "=================================================================\n",
            " text_vectorization (TextVec  (None, 55)               0         \n",
            " torization)                                                     \n",
            "                                                                 \n",
            " token_embedding (Embedding)  (None, 55, 128)          8299648   \n",
            "                                                                 \n",
            " conv1d (Conv1D)             (None, 51, 64)            41024     \n",
            "                                                                 \n",
            " global_max_pooling1d (Globa  (None, 64)               0         \n",
            " lMaxPooling1D)                                                  \n",
            "                                                                 \n",
            " dense (Dense)               (None, 5)                 325       \n",
            "                                                                 \n",
            "=================================================================\n",
            "Total params: 8,340,997\n",
            "Trainable params: 8,340,997\n",
            "Non-trainable params: 0\n",
            "_________________________________________________________________\n"
          ]
        }
      ]
    },
    {
      "cell_type": "code",
      "source": [
        "# view results\n",
        "model_1_results = calculate_results(model_1)\n",
        "model_1_results"
      ],
      "metadata": {
        "colab": {
          "base_uri": "https://localhost:8080/"
        },
        "id": "bhEhJxKhy9ej",
        "outputId": "6e6897b4-6211-4320-c1e2-81b6e3a622c8"
      },
      "execution_count": 45,
      "outputs": [
        {
          "output_type": "stream",
          "name": "stdout",
          "text": [
            "945/945 [==============================] - 5s 5ms/step\n"
          ]
        },
        {
          "output_type": "execute_result",
          "data": {
            "text/plain": [
              "{'accuracy': 79.40222428174235,\n",
              " 'f1': 0.7934856505522715,\n",
              " 'precision': 0.7933068239918648,\n",
              " 'recall': 0.7940222428174235}"
            ]
          },
          "metadata": {},
          "execution_count": 45
        }
      ]
    },
    {
      "cell_type": "markdown",
      "source": [
        "### model with prefetching"
      ],
      "metadata": {
        "id": "Nw-exKiS6VpO"
      }
    },
    {
      "cell_type": "code",
      "source": [
        "token_embed_1 = layers.Embedding(input_dim=len(rct_20k_text_vocab),\n",
        "                               output_dim=128,\n",
        "                               mask_zero=True,\n",
        "                               name='token_embedding')\n",
        "\n",
        "# creating model using Functional API\n",
        "inputs = layers.Input(shape=(1,), dtype=tf.string)\n",
        "text_vectors = text_vectorizer(inputs) # vectorize text inputs\n",
        "token_embeddings = token_embed_1(text_vectors)\n",
        "x = layers.Conv1D(64, kernel_size=5, padding='same', activation='relu')(token_embeddings)\n",
        "x = layers.GlobalAveragePooling1D()(x)\n",
        "outputs = layers.Dense(num_classes, activation='softmax')(x)\n",
        "model_1_1 = tf.keras.Model(inputs, outputs, name='conv1D_with_token_embedding')\n",
        "\n",
        "\n",
        "# compile the model\n",
        "model_1_1.compile(loss='categorical_crossentropy',\n",
        "                optimizer=tf.keras.optimizers.Adam(),\n",
        "                metrics=['accuracy'])\n",
        "\n",
        "# summary of the model\n",
        "model_1_1.summary()"
      ],
      "metadata": {
        "colab": {
          "base_uri": "https://localhost:8080/"
        },
        "id": "4-PBmQ_r6grr",
        "outputId": "50f201d5-ce53-4ba4-84ef-8325299bb652"
      },
      "execution_count": 46,
      "outputs": [
        {
          "output_type": "stream",
          "name": "stdout",
          "text": [
            "Model: \"conv1D_with_token_embedding\"\n",
            "_________________________________________________________________\n",
            " Layer (type)                Output Shape              Param #   \n",
            "=================================================================\n",
            " input_2 (InputLayer)        [(None, 1)]               0         \n",
            "                                                                 \n",
            " text_vectorization (TextVec  (None, 55)               0         \n",
            " torization)                                                     \n",
            "                                                                 \n",
            " token_embedding (Embedding)  (None, 55, 128)          8299648   \n",
            "                                                                 \n",
            " conv1d_1 (Conv1D)           (None, 55, 64)            41024     \n",
            "                                                                 \n",
            " global_average_pooling1d (G  (None, 64)               0         \n",
            " lobalAveragePooling1D)                                          \n",
            "                                                                 \n",
            " dense_1 (Dense)             (None, 5)                 325       \n",
            "                                                                 \n",
            "=================================================================\n",
            "Total params: 8,340,997\n",
            "Trainable params: 8,340,997\n",
            "Non-trainable params: 0\n",
            "_________________________________________________________________\n"
          ]
        }
      ]
    },
    {
      "cell_type": "code",
      "source": [
        "# fit the model\n",
        "history_1_1 = model_1_1.fit(train_dataset,\n",
        "                            steps_per_epoch=int(0.1 * len(train_dataset)),\n",
        "                            epochs=3,\n",
        "                            validation_data=valid_dataset,\n",
        "                            validation_steps=int(0.1 * len(valid_dataset)),\n",
        "                            callbacks=[create_tensorboard_callback(SAVE_DIR, \"conv1D_with_token_embeddings_prefetch\")])"
      ],
      "metadata": {
        "colab": {
          "base_uri": "https://localhost:8080/"
        },
        "id": "J3pQKXxC71R7",
        "outputId": "dc789bcb-a64b-4f6c-fc93-6c5708ea4232"
      },
      "execution_count": 47,
      "outputs": [
        {
          "output_type": "stream",
          "name": "stdout",
          "text": [
            "Saving Tensorboard log files to: model_logs/conv1D_with_token_embeddings_prefetch/20230308-042248\n",
            "Epoch 1/3\n",
            "562/562 [==============================] - 24s 40ms/step - loss: 0.9223 - accuracy: 0.6374 - val_loss: 0.6853 - val_accuracy: 0.7364\n",
            "Epoch 2/3\n",
            "562/562 [==============================] - 9s 15ms/step - loss: 0.6527 - accuracy: 0.7584 - val_loss: 0.6303 - val_accuracy: 0.7713\n",
            "Epoch 3/3\n",
            "562/562 [==============================] - 6s 11ms/step - loss: 0.6127 - accuracy: 0.7757 - val_loss: 0.5938 - val_accuracy: 0.7866\n"
          ]
        }
      ]
    },
    {
      "cell_type": "code",
      "source": [
        "# Make prediction\n",
        "model_1_1_pred_probs = model_1_1.predict(valid_dataset)\n",
        "model_1_1_preds = model_1_1_pred_probs.argmax(axis=1)\n",
        "model_1_1_preds"
      ],
      "metadata": {
        "colab": {
          "base_uri": "https://localhost:8080/"
        },
        "id": "8gCL-k42-bPJ",
        "outputId": "bebb6527-96de-493b-b592-3b2d2e6008eb"
      },
      "execution_count": 48,
      "outputs": [
        {
          "output_type": "stream",
          "name": "stdout",
          "text": [
            "945/945 [==============================] - 2s 2ms/step\n"
          ]
        },
        {
          "output_type": "execute_result",
          "data": {
            "text/plain": [
              "array([0, 0, 3, ..., 4, 1, 1])"
            ]
          },
          "metadata": {},
          "execution_count": 48
        }
      ]
    },
    {
      "cell_type": "code",
      "source": [
        "# calculate results\n",
        "model_1_1_results = calculate_results(model_1_1, prefetching_used=True, val_dataset=valid_dataset)\n",
        "model_1_1_results"
      ],
      "metadata": {
        "colab": {
          "base_uri": "https://localhost:8080/"
        },
        "id": "_cUo6ZE-_5ZW",
        "outputId": "a2657ffb-fb9a-4aad-e487-254bed76a07f"
      },
      "execution_count": 49,
      "outputs": [
        {
          "output_type": "stream",
          "name": "stdout",
          "text": [
            "945/945 [==============================] - 2s 2ms/step\n"
          ]
        },
        {
          "output_type": "execute_result",
          "data": {
            "text/plain": [
              "{'accuracy': 78.8560836753608,\n",
              " 'f1': 0.7863097361066143,\n",
              " 'precision': 0.7856749863676958,\n",
              " 'recall': 0.7885608367536079}"
            ]
          },
          "metadata": {},
          "execution_count": 49
        }
      ]
    },
    {
      "cell_type": "markdown",
      "source": [
        "## Model_2 : TensorFlow Hub Pretrained Feature Extractor\n",
        "\n",
        "First, we would need a feature extractor embedding layer to transform text into numbers, so we are using Universal Sentence Encoder as a feature extraction embedding layer https://tfhub.dev/google/universal-sentence-encoder/4.\n",
        "\n",
        "Then we can build the model and compile."
      ],
      "metadata": {
        "id": "RBuQnro2A6f9"
      }
    },
    {
      "cell_type": "code",
      "source": [
        "import tensorflow_hub as hub\n",
        "\n",
        "use_embedding_layer = hub.KerasLayer(\"https://tfhub.dev/google/universal-sentence-encoder/4\",\n",
        "                                      trainable=False,\n",
        "                                      name='use_embedding_layer')\n",
        "random_sentence = random.choice(train_sentences)\n",
        "print(f\"Random Sentence:\\n{random_sentence}\")\n",
        "use_embedded = use_embedding_layer([random_sentence])\n",
        "print(f\"Sentence after Embedding:\\n{use_embedded}\")\n",
        "print(f\"Length of Embedding:\\n{len(use_embedded[0])}\")"
      ],
      "metadata": {
        "colab": {
          "base_uri": "https://localhost:8080/"
        },
        "id": "aGslhk5iE673",
        "outputId": "57c1d623-0f18-417c-f0b5-d0d8cf310a7a"
      },
      "execution_count": 50,
      "outputs": [
        {
          "output_type": "stream",
          "name": "stderr",
          "text": [
            "WARNING:tensorflow:Please fix your imports. Module tensorflow.python.training.tracking.data_structures has been moved to tensorflow.python.trackable.data_structures. The old module will be deleted in version 2.11.\n"
          ]
        },
        {
          "output_type": "stream",
          "name": "stdout",
          "text": [
            "Random Sentence:\n",
            "ondansetrone is believed to be more reliable agent than metoclopramide when used with mivacurium .\n",
            "Sentence after Embedding:\n",
            "[[-0.01112025 -0.00616183 -0.01910535 -0.01196342 -0.00559546  0.04449072\n",
            "   0.04751996 -0.08424371  0.0601467   0.02296652  0.02488031  0.00982544\n",
            "  -0.00258122 -0.02021801  0.03207814 -0.015805    0.05680793 -0.0219287\n",
            "   0.02638036  0.07688747  0.04860816 -0.04694863 -0.05997981 -0.03719705\n",
            "   0.07361884  0.01949852 -0.03652497 -0.01142965  0.00019885 -0.00215625\n",
            "  -0.05598839 -0.01318798 -0.0720252   0.0348883  -0.03455585 -0.0543695\n",
            "  -0.04218865 -0.05881535  0.00900961  0.01900303  0.02586853 -0.03031651\n",
            "   0.08628123  0.01572537 -0.04100651  0.02177223  0.00279711  0.03825638\n",
            "   0.01214645  0.04771207  0.03044163 -0.05524098  0.09248377 -0.06147088\n",
            "  -0.05464523  0.01053124 -0.08936495 -0.04072406  0.03300691  0.00197693\n",
            "  -0.06227347  0.03264912 -0.01740522 -0.01553322  0.00629764 -0.05643559\n",
            "   0.01201596 -0.01061582  0.00219596 -0.0049671   0.03399362 -0.03434321\n",
            "   0.03178034  0.04321233 -0.064116   -0.06832135 -0.0255368  -0.03388739\n",
            "  -0.05289159  0.06657778  0.0122015   0.02667387  0.06613081 -0.00307456\n",
            "   0.00402904 -0.05070293  0.01650419  0.02082577 -0.01312365  0.04864281\n",
            "   0.03793963 -0.01849297 -0.09141105 -0.07199005  0.01952177 -0.02072947\n",
            "   0.0068572  -0.07192058 -0.03220626 -0.06095853  0.04119039  0.05318761\n",
            "   0.06404589  0.0146114   0.01269587 -0.04102788  0.05949473  0.05795377\n",
            "  -0.00910092 -0.01696135 -0.01780969 -0.0065928  -0.05318668  0.01279376\n",
            "   0.0432298   0.00256794  0.00905313  0.08191134 -0.03942657 -0.0676535\n",
            "  -0.04519001  0.04811374 -0.00647392 -0.01351566  0.04771285 -0.04141916\n",
            "   0.01363007  0.02148493  0.04620299 -0.05886842 -0.06403964  0.01635369\n",
            "   0.03099084  0.01968551 -0.06108801  0.06078152  0.0483642  -0.04023103\n",
            "  -0.01790202 -0.00702354  0.010572    0.07941157  0.00330685 -0.01368448\n",
            "   0.07378998 -0.02630014 -0.0487696  -0.09054309  0.0263307   0.04912323\n",
            "  -0.0288325   0.03218435 -0.06321539 -0.02486774  0.02937785  0.00205909\n",
            "   0.05344751 -0.0878491   0.00798694  0.0418314   0.05942252 -0.04245804\n",
            "  -0.00994823 -0.05952858 -0.0264897   0.02229202 -0.06298615  0.07022578\n",
            "  -0.0558371   0.01838448  0.07112781 -0.066204    0.02610035 -0.05835759\n",
            "   0.04188228  0.07791752  0.04062663  0.01809171  0.04732345 -0.0083961\n",
            "   0.01446472 -0.02365243 -0.01056077  0.04831763  0.07405899 -0.03771603\n",
            "   0.01497029 -0.01213422 -0.06634099 -0.01367194  0.03855311 -0.00328196\n",
            "  -0.04360993  0.03182604 -0.02825199  0.08013243 -0.05367272 -0.03437078\n",
            "   0.03009134 -0.00920635 -0.02185626  0.01033699 -0.01719341 -0.09205919\n",
            "  -0.00366718  0.02555322 -0.0536631   0.02896398 -0.03385648 -0.01580401\n",
            "  -0.02259218 -0.02097722  0.02121056  0.06503643 -0.05738977 -0.02567548\n",
            "  -0.07636746  0.02111279 -0.04048537 -0.08306928  0.01595322  0.03792248\n",
            "   0.0010124   0.03006093  0.01158487  0.03724894  0.06350107 -0.04810681\n",
            "   0.01115311 -0.05045127  0.05237583 -0.05442244  0.02073382 -0.08911734\n",
            "   0.00158217 -0.05477967  0.05693221 -0.07500396 -0.03628845 -0.03048836\n",
            "  -0.09049703 -0.02508961 -0.09694269 -0.03187535  0.02138411 -0.07715244\n",
            "  -0.01167684  0.0019852  -0.07547276  0.00245684 -0.0777551  -0.0667152\n",
            "  -0.0132325   0.08944508  0.01005593 -0.0709419   0.01697873  0.07325453\n",
            "  -0.03983382  0.00291799  0.01871503 -0.05285693  0.06964625 -0.02772073\n",
            "  -0.02353483  0.02793623 -0.02026392 -0.04496147  0.06362851 -0.0302757\n",
            "  -0.07500052 -0.06057671 -0.07041633 -0.07427954 -0.03159874  0.07456087\n",
            "  -0.01025796 -0.07332128 -0.06689771 -0.03395715 -0.06974336  0.07934152\n",
            "  -0.02157995  0.00393161  0.00894966 -0.04174042  0.02798121 -0.05710934\n",
            "  -0.04132835 -0.0067086  -0.03897574  0.03575388 -0.04000672  0.0590372\n",
            "   0.03538086 -0.01270593 -0.04584397 -0.05031251  0.02526549 -0.05289031\n",
            "  -0.00457727  0.01338856 -0.03940241 -0.02825543  0.02847019  0.0464001\n",
            "  -0.00949854 -0.01560626  0.07436077  0.03179432  0.04550409 -0.02784831\n",
            "   0.01154145 -0.06119051  0.10086457  0.01218988  0.00767831  0.01936249\n",
            "   0.04965767  0.00936871 -0.05751352  0.01341712 -0.07701167 -0.05227654\n",
            "   0.08403914  0.03224394 -0.00316341  0.01405942 -0.00266227 -0.01396495\n",
            "  -0.02463061 -0.03478117 -0.02726872  0.00505225 -0.05768472  0.04345148\n",
            "  -0.04561662  0.05064301  0.04069348  0.04063943 -0.000941   -0.07282129\n",
            "  -0.04963103  0.05576409 -0.05288482 -0.05806127  0.06968728  0.05097642\n",
            "   0.01344829 -0.05443059 -0.03091368  0.00543078 -0.07446417 -0.07066551\n",
            "  -0.05858211  0.03990861 -0.0968231  -0.00021347  0.03084968 -0.00173503\n",
            "  -0.08349156  0.00290425  0.02055756  0.01260616 -0.0660565  -0.08326311\n",
            "  -0.02972794  0.01724735 -0.00868034 -0.02682731  0.00152793  0.0042919\n",
            "  -0.05207696 -0.05074837  0.08053833 -0.0097879  -0.0372481  -0.08096752\n",
            "  -0.01588221 -0.01562988 -0.02533699  0.04519488 -0.01716486  0.04250018\n",
            "   0.04402706 -0.00226133  0.07535626  0.01536087  0.03614738 -0.01413371\n",
            "   0.0236921  -0.02595136  0.04838786  0.00999083  0.03441009 -0.05119523\n",
            "   0.07749428 -0.00771339 -0.04477751  0.04306078  0.09734698  0.04096012\n",
            "   0.00752979 -0.01588521  0.02116328 -0.01756402  0.03408342  0.05399923\n",
            "  -0.05620154 -0.01509918  0.0494141  -0.08345094 -0.05533777 -0.0454505\n",
            "   0.03360987  0.01700508  0.07284018  0.03018667  0.05039132 -0.03145292\n",
            "  -0.02533493 -0.01645079  0.00248183 -0.00265551  0.06143394  0.03288807\n",
            "  -0.03054355 -0.05029077  0.03859016  0.00014694 -0.04291867  0.03769896\n",
            "  -0.09632758 -0.0156977  -0.06632746 -0.01534812 -0.04197444  0.04688605\n",
            "   0.05033001 -0.00614755  0.04298663 -0.03595538  0.03418292 -0.05077992\n",
            "   0.08022341 -0.04468262 -0.00146898  0.04301604  0.04845175  0.04979223\n",
            "   0.01706909  0.01067385  0.01988691 -0.0111253  -0.01073062 -0.06509423\n",
            "  -0.0170243   0.05022256 -0.07680052  0.05445199  0.03091998 -0.03068976\n",
            "   0.04951911 -0.00633058  0.00951019 -0.06505138 -0.01599889  0.05350124\n",
            "  -0.00441462  0.01178707  0.06546818 -0.09737599  0.01314972 -0.0384215\n",
            "  -0.04436958 -0.02999166  0.01356656 -0.0128247   0.09755439  0.00249113\n",
            "   0.0478774  -0.04542749  0.01373104 -0.04687791 -0.01536961  0.04712844\n",
            "   0.01776096  0.03827315  0.03007468 -0.0416714  -0.0024438   0.03179983\n",
            "  -0.05208176 -0.07375216 -0.03116897  0.00283828 -0.00866493  0.06978758\n",
            "   0.01245502  0.00831583  0.02569208  0.00708287 -0.00594588  0.05321869\n",
            "   0.00999894 -0.01388849  0.0374332  -0.01565063 -0.02169026 -0.01268016\n",
            "   0.0154407  -0.00367744]]\n",
            "Length of Embedding:\n",
            "512\n"
          ]
        }
      ]
    },
    {
      "cell_type": "markdown",
      "source": [
        "Outputs of USE Embedding layer is 512 dimensional embedding vector."
      ],
      "metadata": {
        "id": "zrv_XprEG4PD"
      }
    },
    {
      "cell_type": "markdown",
      "source": [
        "### Building and Fitting an NLP Feature Extractor model using TensorFlow Hub"
      ],
      "metadata": {
        "id": "8ry9iJYOH798"
      }
    },
    {
      "cell_type": "code",
      "source": [
        "# define feature extraction model using TF Hub layer\n",
        "inputs = layers.Input(shape=[], dtype=tf.string)\n",
        "pretrained_embedding = use_embedding_layer(inputs) # tokenize text and create embedding\n",
        "x = layers.Dense(128, activation='relu')(pretrained_embedding)\n",
        "outputs = layers.Dense(num_classes, activation='softmax')(x)\n",
        "model_2 = tf.keras.Model(inputs, outputs)\n",
        "\n",
        "# compile the model\n",
        "model_2.compile(loss='categorical_crossentropy',\n",
        "                optimizer='Adam',\n",
        "                metrics=['accuracy'])\n",
        "\n",
        "# fit the model\n",
        "history_2 = model_2.fit(train_dataset,\n",
        "                        epochs=3,\n",
        "                        steps_per_epoch=int(0.1 * len(train_dataset)),\n",
        "                        validation_data=valid_dataset,\n",
        "                        validation_steps=int(0.1 * len(valid_dataset)),\n",
        "                        callbacks=[create_tensorboard_callback(SAVE_DIR, \"use_feature_extractor_model\")])"
      ],
      "metadata": {
        "colab": {
          "base_uri": "https://localhost:8080/"
        },
        "id": "FCZBmMx_IIC9",
        "outputId": "bd76dade-cb66-45b3-de97-0086a4b918e3"
      },
      "execution_count": 51,
      "outputs": [
        {
          "output_type": "stream",
          "name": "stderr",
          "text": [
            "WARNING:tensorflow:From /usr/local/lib/python3.8/dist-packages/tensorflow/python/autograph/pyct/static_analysis/liveness.py:83: Analyzer.lamba_check (from tensorflow.python.autograph.pyct.static_analysis.liveness) is deprecated and will be removed after 2023-09-23.\n",
            "Instructions for updating:\n",
            "Lambda fuctions will be no more assumed to be used in the statement where they are used, or at least in the same block. https://github.com/tensorflow/tensorflow/issues/56089\n"
          ]
        },
        {
          "output_type": "stream",
          "name": "stdout",
          "text": [
            "Saving Tensorboard log files to: model_logs/use_feature_extractor_model/20230308-042401\n",
            "Epoch 1/3\n",
            "562/562 [==============================] - 19s 24ms/step - loss: 0.9157 - accuracy: 0.6510 - val_loss: 0.7949 - val_accuracy: 0.6905\n",
            "Epoch 2/3\n",
            "562/562 [==============================] - 11s 20ms/step - loss: 0.7690 - accuracy: 0.7012 - val_loss: 0.7557 - val_accuracy: 0.7045\n",
            "Epoch 3/3\n",
            "562/562 [==============================] - 14s 26ms/step - loss: 0.7531 - accuracy: 0.7125 - val_loss: 0.7385 - val_accuracy: 0.7144\n"
          ]
        }
      ]
    },
    {
      "cell_type": "markdown",
      "source": [
        "**Note:** Training is a lot quicker because we haven't set the parameter `trainable=True` while feature extraction."
      ],
      "metadata": {
        "id": "0ei3K2kmK_Ux"
      }
    },
    {
      "cell_type": "code",
      "source": [
        "# see the summary\n",
        "model_2.summary()"
      ],
      "metadata": {
        "colab": {
          "base_uri": "https://localhost:8080/"
        },
        "id": "ckPyhMhuJZQf",
        "outputId": "35002e90-ae53-4bd0-eb4c-20054fc8cfc9"
      },
      "execution_count": 52,
      "outputs": [
        {
          "output_type": "stream",
          "name": "stdout",
          "text": [
            "Model: \"model\"\n",
            "_________________________________________________________________\n",
            " Layer (type)                Output Shape              Param #   \n",
            "=================================================================\n",
            " input_3 (InputLayer)        [(None,)]                 0         \n",
            "                                                                 \n",
            " use_embedding_layer (KerasL  (None, 512)              256797824 \n",
            " ayer)                                                           \n",
            "                                                                 \n",
            " dense_2 (Dense)             (None, 128)               65664     \n",
            "                                                                 \n",
            " dense_3 (Dense)             (None, 5)                 645       \n",
            "                                                                 \n",
            "=================================================================\n",
            "Total params: 256,864,133\n",
            "Trainable params: 66,309\n",
            "Non-trainable params: 256,797,824\n",
            "_________________________________________________________________\n"
          ]
        }
      ]
    },
    {
      "cell_type": "code",
      "source": [
        "# evaluate the model\n",
        "model_2.evaluate(valid_dataset)"
      ],
      "metadata": {
        "colab": {
          "base_uri": "https://localhost:8080/"
        },
        "id": "ZXRrJhWVKGNh",
        "outputId": "853d52b9-a40a-4d2a-8a07-0d2b73508b93"
      },
      "execution_count": 53,
      "outputs": [
        {
          "output_type": "stream",
          "name": "stdout",
          "text": [
            "945/945 [==============================] - 13s 14ms/step - loss: 0.7413 - accuracy: 0.7145\n"
          ]
        },
        {
          "output_type": "execute_result",
          "data": {
            "text/plain": [
              "[0.7413012385368347, 0.7144843339920044]"
            ]
          },
          "metadata": {},
          "execution_count": 53
        }
      ]
    },
    {
      "cell_type": "code",
      "source": [
        "# calculate results\n",
        "model_2_results = calculate_results(model_2, prefetching_used=True, val_dataset=valid_dataset)\n",
        "model_2_results"
      ],
      "metadata": {
        "colab": {
          "base_uri": "https://localhost:8080/"
        },
        "id": "cMxGf69HKOhl",
        "outputId": "4eb4d850-2b30-482e-bd21-bba530c9272a"
      },
      "execution_count": 54,
      "outputs": [
        {
          "output_type": "stream",
          "name": "stdout",
          "text": [
            "945/945 [==============================] - 20s 20ms/step\n"
          ]
        },
        {
          "output_type": "execute_result",
          "data": {
            "text/plain": [
              "{'accuracy': 71.44843108698531,\n",
              " 'f1': 0.7115587434802126,\n",
              " 'precision': 0.7148956385024102,\n",
              " 'recall': 0.7144843108698531}"
            ]
          },
          "metadata": {},
          "execution_count": 54
        }
      ]
    },
    {
      "cell_type": "markdown",
      "source": [
        "## Model_3 : Conv1D with Character Embeddings\n",
        "\n",
        "**What is Character Embedding ?**\n",
        "\n",
        "The difference between a character and token embedding is that the **character embedding** is created using sequences split into characters (e.g `tensorflow` -> [`t`,`e`,`n`,`s`,`o`,`r`,`f`,`l`,`o`,`w`]) where as a **token embedding** is created on sequences split into tokens(words).\n",
        "\n",
        "We can create a character-level embedding by first vectorizing our sequences (after they've been split into characters) using the `TextVectorization` class and then passing those vectorized sequences through an `Embedding` layer."
      ],
      "metadata": {
        "id": "sVsOkIhDKjWe"
      }
    },
    {
      "cell_type": "markdown",
      "source": [
        "### Create a Character Level Tokenizer"
      ],
      "metadata": {
        "id": "7E4nrG6vV8F9"
      }
    },
    {
      "cell_type": "code",
      "source": [
        "# we need to first split the sentences into chars\n",
        "def split_chars(text):\n",
        "  return \" \".join(list(text))\n",
        "\n",
        "\n",
        "# test splitting non-character level sequence into characters\n",
        "split_chars(random_sentence)"
      ],
      "metadata": {
        "colab": {
          "base_uri": "https://localhost:8080/",
          "height": 53
        },
        "id": "LXeJqyQPTgCo",
        "outputId": "53684f1d-faf9-4ad1-af56-c7993617d787"
      },
      "execution_count": 55,
      "outputs": [
        {
          "output_type": "execute_result",
          "data": {
            "text/plain": [
              "'o n d a n s e t r o n e   i s   b e l i e v e d   t o   b e   m o r e   r e l i a b l e   a g e n t   t h a n   m e t o c l o p r a m i d e   w h e n   u s e d   w i t h   m i v a c u r i u m   .'"
            ],
            "application/vnd.google.colaboratory.intrinsic+json": {
              "type": "string"
            }
          },
          "metadata": {},
          "execution_count": 55
        }
      ]
    },
    {
      "cell_type": "code",
      "source": [
        "# split sequence-level data splits into character-level data splits\n",
        "train_chars = [split_chars(sentence) for sentence in train_sentences]\n",
        "val_chars = [split_chars(sentence) for sentence in val_sentences]\n",
        "test_chars = [split_chars(sentence) for sentence in test_sentences]\n",
        "\n",
        "train_chars[0]"
      ],
      "metadata": {
        "colab": {
          "base_uri": "https://localhost:8080/",
          "height": 87
        },
        "id": "vRiu07ZUT6Ea",
        "outputId": "2d1f656d-8240-4308-cb41-1ca2c7103b6a"
      },
      "execution_count": 56,
      "outputs": [
        {
          "output_type": "execute_result",
          "data": {
            "text/plain": [
              "'t o   i n v e s t i g a t e   t h e   e f f i c a c y   o f   @   w e e k s   o f   d a i l y   l o w - d o s e   o r a l   p r e d n i s o l o n e   i n   i m p r o v i n g   p a i n   ,   m o b i l i t y   ,   a n d   s y s t e m i c   l o w - g r a d e   i n f l a m m a t i o n   i n   t h e   s h o r t   t e r m   a n d   w h e t h e r   t h e   e f f e c t   w o u l d   b e   s u s t a i n e d   a t   @   w e e k s   i n   o l d e r   a d u l t s   w i t h   m o d e r a t e   t o   s e v e r e   k n e e   o s t e o a r t h r i t i s   (   o a   )   .'"
            ],
            "application/vnd.google.colaboratory.intrinsic+json": {
              "type": "string"
            }
          },
          "metadata": {},
          "execution_count": 56
        }
      ]
    },
    {
      "cell_type": "code",
      "source": [
        "# now we need to find the maximum character length in each sentences\n",
        "char_len = [len(sentence) for sentence in train_sentences]\n",
        "mean_char_length = np.mean(char_len)\n",
        "mean_char_length"
      ],
      "metadata": {
        "colab": {
          "base_uri": "https://localhost:8080/"
        },
        "id": "iF1rxJGqUTn_",
        "outputId": "64fa1d91-82a8-4df1-ca79-132c447e9c31"
      },
      "execution_count": 57,
      "outputs": [
        {
          "output_type": "execute_result",
          "data": {
            "text/plain": [
              "149.3662574983337"
            ]
          },
          "metadata": {},
          "execution_count": 57
        }
      ]
    },
    {
      "cell_type": "code",
      "source": [
        "# check the distribution\n",
        "plt.hist(char_len, bins=7);"
      ],
      "metadata": {
        "colab": {
          "base_uri": "https://localhost:8080/",
          "height": 265
        },
        "id": "1tSvwGAeVH6J",
        "outputId": "82f0f125-b6fe-464f-c076-a55b66204ae6"
      },
      "execution_count": 58,
      "outputs": [
        {
          "output_type": "display_data",
          "data": {
            "text/plain": [
              "<Figure size 432x288 with 1 Axes>"
            ],
            "image/png": "[encoded data removed]"
          },
          "metadata": {
            "needs_background": "light"
          }
        }
      ]
    },
    {
      "cell_type": "markdown",
      "source": [
        "Looks like most of our sequences are between 0 and 200 characters long.\n",
        "\n",
        "Let's use NumPy percentile to figure out what length covers 95% of our sequences."
      ],
      "metadata": {
        "id": "6tVUhkqqVfUa"
      }
    },
    {
      "cell_type": "code",
      "source": [
        "output_seq_char_len = int(np.percentile(char_len, 95))\n",
        "output_seq_char_len"
      ],
      "metadata": {
        "colab": {
          "base_uri": "https://localhost:8080/"
        },
        "id": "iNBYhMVDVsFD",
        "outputId": "fffe4b13-bb54-480a-ce17-997be071c4b4"
      },
      "execution_count": 59,
      "outputs": [
        {
          "output_type": "execute_result",
          "data": {
            "text/plain": [
              "290"
            ]
          },
          "metadata": {},
          "execution_count": 59
        }
      ]
    },
    {
      "cell_type": "markdown",
      "source": [
        "We can use `output_seq_char_len` for `output_sequence_length` in `TextVectorization` layer\n",
        "\n",
        "We'll set `max_tokens` (the total number of different characters in our sequences) to 28, in other words, 26 letters of the alphabet + space + OOV (out of vocab or unknown) tokens."
      ],
      "metadata": {
        "id": "Zbv9EICuVznK"
      }
    },
    {
      "cell_type": "code",
      "source": [
        "import string\n",
        "alphabet = string.ascii_lowercase + string.punctuation + string.digits\n",
        "alphabet"
      ],
      "metadata": {
        "colab": {
          "base_uri": "https://localhost:8080/",
          "height": 35
        },
        "id": "lnlKcckdWcHp",
        "outputId": "be02e67c-a042-4e5e-dfd5-37ec9145e7cc"
      },
      "execution_count": 60,
      "outputs": [
        {
          "output_type": "execute_result",
          "data": {
            "text/plain": [
              "'abcdefghijklmnopqrstuvwxyz!\"#$%&\\'()*+,-./:;<=>?@[\\\\]^_`{|}~0123456789'"
            ],
            "application/vnd.google.colaboratory.intrinsic+json": {
              "type": "string"
            }
          },
          "metadata": {},
          "execution_count": 60
        }
      ]
    },
    {
      "cell_type": "code",
      "source": [
        "NUM_CHAR_TOKENS = len(alphabet) + 2\n",
        "\n",
        "char_vectorizer = TextVectorization(max_tokens=NUM_CHAR_TOKENS,\n",
        "                                    output_sequence_length=output_seq_char_len,\n",
        "                                    standardize=\"lower_and_strip_punctuation\", # default setting\n",
        "                                    name='char_vectorizer') \n",
        "\n",
        "# adapt the vectorizer\n",
        "char_vectorizer.adapt(train_chars)"
      ],
      "metadata": {
        "id": "Ek2to6BqWkRG"
      },
      "execution_count": 61,
      "outputs": []
    },
    {
      "cell_type": "code",
      "source": [
        "# check the vocabulary characteristics\n",
        "char_vocab = char_vectorizer.get_vocabulary()\n",
        "print(f'Number of different characters in the character vocab:{len(char_vocab)}')\n",
        "print(f'5 Most common characters:{char_vocab[:5]}')\n",
        "print(f'5 Least common characters:{char_vocab[-5:]}')"
      ],
      "metadata": {
        "colab": {
          "base_uri": "https://localhost:8080/"
        },
        "id": "DDH75Ax_WqVA",
        "outputId": "7963fa86-48c9-46c5-d29d-00a4f3d03d99"
      },
      "execution_count": 62,
      "outputs": [
        {
          "output_type": "stream",
          "name": "stdout",
          "text": [
            "Number of different characters in the character vocab:28\n",
            "5 Most common characters:['', '[UNK]', 'e', 't', 'i']\n",
            "5 Least common characters:['k', 'x', 'z', 'q', 'j']\n"
          ]
        }
      ]
    },
    {
      "cell_type": "markdown",
      "source": [
        "Test on random sentence"
      ],
      "metadata": {
        "id": "ucuSb9K7XnZB"
      }
    },
    {
      "cell_type": "code",
      "source": [
        "random_train_chars = random.choice(train_chars)\n",
        "print(f'Charified Text:\\n {random_train_chars}')\n",
        "print(f'\\n Length of chars:{len(random_train_chars.split())}')\n",
        "vectorized_chars = char_vectorizer([random_train_chars])\n",
        "print(f'\\n Vectorized Chars:\\n{vectorized_chars}')\n",
        "print(f'\\n Length of vectorized chars:{len(vectorized_chars[0])}')"
      ],
      "metadata": {
        "colab": {
          "base_uri": "https://localhost:8080/"
        },
        "id": "GO98Dmm9YBuy",
        "outputId": "debc3f4d-7899-4627-8163-0512cfc90217"
      },
      "execution_count": 63,
      "outputs": [
        {
          "output_type": "stream",
          "name": "stdout",
          "text": [
            "Charified Text:\n",
            " w e   c o n d u c t e d   a   p r o s p e c t i v e   ,   r a n d o m i z e d   ,   d o u b l e - b l i n d   s t u d y   a t   @   s i t e s   i n   @   c o u n t r i e s   .\n",
            "\n",
            " Length of chars:73\n",
            "\n",
            " Vectorized Chars:\n",
            "[[20  2 11  7  6 10 16 11  3  2 10  5 14  8  7  9 14  2 11  3  4 21  2  8\n",
            "   5  6 10  7 15  4 25  2 10 10  7 16 22 12  2 22 12  4  6 10  9  3 16 10\n",
            "  19  5  3  9  4  3  2  9  4  6 11  7 16  6  3  8  4  2  9  0  0  0  0  0\n",
            "   0  0  0  0  0  0  0  0  0  0  0  0  0  0  0  0  0  0  0  0  0  0  0  0\n",
            "   0  0  0  0  0  0  0  0  0  0  0  0  0  0  0  0  0  0  0  0  0  0  0  0\n",
            "   0  0  0  0  0  0  0  0  0  0  0  0  0  0  0  0  0  0  0  0  0  0  0  0\n",
            "   0  0  0  0  0  0  0  0  0  0  0  0  0  0  0  0  0  0  0  0  0  0  0  0\n",
            "   0  0  0  0  0  0  0  0  0  0  0  0  0  0  0  0  0  0  0  0  0  0  0  0\n",
            "   0  0  0  0  0  0  0  0  0  0  0  0  0  0  0  0  0  0  0  0  0  0  0  0\n",
            "   0  0  0  0  0  0  0  0  0  0  0  0  0  0  0  0  0  0  0  0  0  0  0  0\n",
            "   0  0  0  0  0  0  0  0  0  0  0  0  0  0  0  0  0  0  0  0  0  0  0  0\n",
            "   0  0  0  0  0  0  0  0  0  0  0  0  0  0  0  0  0  0  0  0  0  0  0  0\n",
            "   0  0]]\n",
            "\n",
            " Length of vectorized chars:290\n"
          ]
        }
      ]
    },
    {
      "cell_type": "markdown",
      "source": [
        "### Create character-level embedding\n",
        "\n",
        "Just like character-level tokenizer, we can create character-level embedding using `tensorflow.keras.layers.Embedding` and setting `input_dim` as the length of different character length i.e `char_vocab` and `output_dim` as 25, mentioned in the paper (Fig 1 https://arxiv.org/pdf/1612.05251.pdf)"
      ],
      "metadata": {
        "id": "F49rGuluYiye"
      }
    },
    {
      "cell_type": "code",
      "source": [
        "# create char level embedding\n",
        "char_embed = layers.Embedding(input_dim = NUM_CHAR_TOKENS,\n",
        "                              output_dim = 25,\n",
        "                              mask_zero = False, # this time setting as False\n",
        "                              name='char_embedding')\n",
        "\n",
        "# test our embedding\n",
        "print(f'Charified Text (before vectorization and embedding):\\n{random_train_chars}')\n",
        "char_embed_example = char_embed(char_vectorizer([random_train_chars]))\n",
        "print(f'Embedded Chars:\\n{char_embed_example}')\n",
        "print(f'Character Embedding Shape:{char_embed_example.shape}')"
      ],
      "metadata": {
        "colab": {
          "base_uri": "https://localhost:8080/"
        },
        "id": "J5MocNoDZc9a",
        "outputId": "9d490abf-cb2c-46bf-ba97-0b7b316c28e8"
      },
      "execution_count": 64,
      "outputs": [
        {
          "output_type": "stream",
          "name": "stdout",
          "text": [
            "Charified Text (before vectorization and embedding):\n",
            "w e   c o n d u c t e d   a   p r o s p e c t i v e   ,   r a n d o m i z e d   ,   d o u b l e - b l i n d   s t u d y   a t   @   s i t e s   i n   @   c o u n t r i e s   .\n",
            "Embedded Chars:\n",
            "[[[ 0.00706972  0.01015954 -0.04930619 ... -0.00880323 -0.01124422\n",
            "    0.00535055]\n",
            "  [ 0.0460924  -0.01188881 -0.04551504 ...  0.02148407 -0.01016424\n",
            "    0.01832933]\n",
            "  [-0.01051811 -0.01192007 -0.02291792 ...  0.01694546  0.02279954\n",
            "    0.02164901]\n",
            "  ...\n",
            "  [-0.04177426 -0.01506365 -0.00190999 ...  0.02117021 -0.04884288\n",
            "   -0.0268286 ]\n",
            "  [-0.04177426 -0.01506365 -0.00190999 ...  0.02117021 -0.04884288\n",
            "   -0.0268286 ]\n",
            "  [-0.04177426 -0.01506365 -0.00190999 ...  0.02117021 -0.04884288\n",
            "   -0.0268286 ]]]\n",
            "Character Embedding Shape:(1, 290, 25)\n"
          ]
        }
      ]
    },
    {
      "cell_type": "markdown",
      "source": [
        "### Create Char Level datasets\n",
        "\n",
        "Same like train_dataset which is created using train_sentences we need to create prefetch dataset for character level data"
      ],
      "metadata": {
        "id": "w36SWZ3QeZxf"
      }
    },
    {
      "cell_type": "code",
      "source": [
        "train_char_dataset = tf.data.Dataset.from_tensor_slices((train_chars, train_labels_one_hot)).batch(32).prefetch(tf.data.AUTOTUNE)\n",
        "val_char_dataset = tf.data.Dataset.from_tensor_slices((val_chars, val_labels_one_hot)).batch(32).prefetch(tf.data.AUTOTUNE)\n",
        "test_char_dataset = tf.data.Dataset.from_tensor_slices((test_chars, test_labels_one_hot)).batch(32).prefetch(tf.data.AUTOTUNE)\n",
        "\n",
        "train_char_dataset"
      ],
      "metadata": {
        "colab": {
          "base_uri": "https://localhost:8080/"
        },
        "id": "KKfpb660epWa",
        "outputId": "7f1f96d4-1cfd-4feb-c953-8250bceb5aa2"
      },
      "execution_count": 66,
      "outputs": [
        {
          "output_type": "execute_result",
          "data": {
            "text/plain": [
              "<PrefetchDataset element_spec=(TensorSpec(shape=(None,), dtype=tf.string, name=None), TensorSpec(shape=(None, 5), dtype=tf.float64, name=None))>"
            ]
          },
          "metadata": {},
          "execution_count": 66
        }
      ]
    },
    {
      "cell_type": "markdown",
      "source": [
        "### Building, fitting and evaluating a Conv1D model on character embeddings"
      ],
      "metadata": {
        "id": "FqK-S9y0boBr"
      }
    },
    {
      "cell_type": "code",
      "source": [
        "inputs = layers.Input(shape=(1,), dtype=tf.string)\n",
        "x = char_vectorizer(inputs)\n",
        "x = char_embed(x)\n",
        "x = layers.Conv1D(64, kernel_size=5, padding='same', activation='relu')(x)\n",
        "x = layers.GlobalMaxPool1D()(x)\n",
        "outputs = layers.Dense(num_classes, activation='softmax')(x)\n",
        "model_3 = tf.keras.Model(inputs, outputs, name='model_3_with_character_embeddings')\n",
        "\n",
        "# compile the model\n",
        "model_3.compile(loss='categorical_crossentropy',\n",
        "                optimizer='Adam',\n",
        "                metrics=['accuracy'])\n",
        "\n",
        "# fit the model\n",
        "history_3 = model_3.fit(train_char_dataset,\n",
        "                        steps_per_epoch=int(0.1 * len(train_char_dataset)),\n",
        "                        epochs=3,\n",
        "                        validation_data=val_char_dataset,\n",
        "                        validation_steps=int(0.1 * len(val_char_dataset)),\n",
        "                        callbacks=[create_tensorboard_callback(SAVE_DIR, \"conv1D_with_character_embeddings\")])"
      ],
      "metadata": {
        "colab": {
          "base_uri": "https://localhost:8080/"
        },
        "id": "iw7ib6VMbyRq",
        "outputId": "ba532720-bae7-4c7f-9fc8-90c6f57cd253"
      },
      "execution_count": 69,
      "outputs": [
        {
          "output_type": "stream",
          "name": "stdout",
          "text": [
            "Saving Tensorboard log files to: model_logs/conv1D_with_character_embeddings/20230308-043522\n",
            "Epoch 1/3\n",
            "562/562 [==============================] - 5s 7ms/step - loss: 1.2625 - accuracy: 0.4801 - val_loss: 1.1372 - val_accuracy: 0.5472\n",
            "Epoch 2/3\n",
            "562/562 [==============================] - 4s 6ms/step - loss: 1.0983 - accuracy: 0.5507 - val_loss: 1.0293 - val_accuracy: 0.5848\n",
            "Epoch 3/3\n",
            "562/562 [==============================] - 3s 6ms/step - loss: 1.0058 - accuracy: 0.5979 - val_loss: 0.9555 - val_accuracy: 0.6300\n"
          ]
        }
      ]
    },
    {
      "cell_type": "code",
      "source": [
        "# evaluate\n",
        "model_3.evaluate(val_char_dataset)"
      ],
      "metadata": {
        "colab": {
          "base_uri": "https://localhost:8080/"
        },
        "id": "eWCSFJR7fsAQ",
        "outputId": "f830dfc7-fff3-44d3-9cff-0e641978ada1"
      },
      "execution_count": 70,
      "outputs": [
        {
          "output_type": "stream",
          "name": "stdout",
          "text": [
            "945/945 [==============================] - 5s 5ms/step - loss: 0.9766 - accuracy: 0.6147\n"
          ]
        },
        {
          "output_type": "execute_result",
          "data": {
            "text/plain": [
              "[0.9766135215759277, 0.6146564483642578]"
            ]
          },
          "metadata": {},
          "execution_count": 70
        }
      ]
    },
    {
      "cell_type": "code",
      "source": [
        "# calculate results\n",
        "model_3_results = calculate_results(model=model_3,\n",
        "                                    prefetching_used=True,\n",
        "                                    val_dataset=val_char_dataset)\n",
        "\n",
        "model_3_results"
      ],
      "metadata": {
        "colab": {
          "base_uri": "https://localhost:8080/"
        },
        "id": "rUsqd5YegVjd",
        "outputId": "2ce8e538-a38f-468e-a288-d1cdbae02c31"
      },
      "execution_count": 72,
      "outputs": [
        {
          "output_type": "stream",
          "name": "stdout",
          "text": [
            "945/945 [==============================] - 4s 4ms/step\n"
          ]
        },
        {
          "output_type": "execute_result",
          "data": {
            "text/plain": [
              "{'accuracy': 61.465642790943996,\n",
              " 'f1': 0.6058633270821686,\n",
              " 'precision': 0.6234891336504191,\n",
              " 'recall': 0.61465642790944}"
            ]
          },
          "metadata": {},
          "execution_count": 72
        }
      ]
    },
    {
      "cell_type": "code",
      "source": [],
      "metadata": {
        "id": "UfyXrxMggqig"
      },
      "execution_count": null,
      "outputs": []
    }
  ]
}